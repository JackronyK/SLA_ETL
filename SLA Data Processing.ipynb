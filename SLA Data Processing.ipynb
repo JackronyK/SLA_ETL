{
 "cells": [
  {
   "cell_type": "markdown",
   "metadata": {},
   "source": [
    "## KRA SLA Data Proessing "
   ]
  },
  {
   "cell_type": "code",
   "execution_count": 8,
   "metadata": {},
   "outputs": [],
   "source": [
    "# Importing the Necessary Libraries\n",
    "import pandas as pd\n",
    "import numpy as np\n",
    "import glob\n",
    "import os\n",
    "import openpyxl"
   ]
  },
  {
   "cell_type": "code",
   "execution_count": 23,
   "metadata": {},
   "outputs": [
    {
     "name": "stdout",
     "output_type": "stream",
     "text": [
      "Processed and Saved: C:\\Users\\USER\\OneDrive\\KRA WORK\\2024 WS\\SLA EDA\\Processsed_Data\\LTK_SLA.csv\n",
      "Processed and Saved: C:\\Users\\USER\\OneDrive\\KRA WORK\\2024 WS\\SLA EDA\\Processsed_Data\\LTK_Invoice.csv\n",
      "Processed and Saved: C:\\Users\\USER\\OneDrive\\KRA WORK\\2024 WS\\SLA EDA\\Processsed_Data\\SAFARICOM_SLA.csv\n",
      "Processed and Saved: C:\\Users\\USER\\OneDrive\\KRA WORK\\2024 WS\\SLA EDA\\Processsed_Data\\SAFARICOM_Invoice.csv\n",
      "Processed and Saved: C:\\Users\\USER\\OneDrive\\KRA WORK\\2024 WS\\SLA EDA\\Processsed_Data\\TELKOM_SLA.csv\n",
      "Processed and Saved: C:\\Users\\USER\\OneDrive\\KRA WORK\\2024 WS\\SLA EDA\\Processsed_Data\\TELKOM_Invoice.csv\n",
      "Processed and Saved: C:\\Users\\USER\\OneDrive\\KRA WORK\\2024 WS\\SLA EDA\\Processsed_Data\\TELKOM_Invoice.csv\n",
      "Processed and Saved: C:\\Users\\USER\\OneDrive\\KRA WORK\\2024 WS\\SLA EDA\\Processsed_Data\\TELKOM_Invoice.csv\n"
     ]
    }
   ],
   "source": [
    "import os\n",
    "import pandas as pd\n",
    "import glob\n",
    "\n",
    "raw_data_folder_path = 'C:\\\\Users\\\\USER\\\\OneDrive\\\\KRA WORK\\\\2024 WS\\\\SLA EDA\\\\Data'\n",
    "processed_data_folder_path = 'C:\\\\Users\\\\USER\\\\OneDrive\\\\KRA WORK\\\\2024 WS\\\\SLA EDA\\\\Processsed_Data'\n",
    "\n",
    "# Ensuring the processed folder exist\n",
    "os.makedirs(processed_data_folder_path, exist_ok=True)\n",
    "\n",
    "excel_files = glob.glob(f\"{raw_data_folder_path}/*.xlsx\")\n",
    "\n",
    "def sla_invoice(sn):\n",
    "    if \"sla\" in sn.lower():\n",
    "        return \"SLA\"\n",
    "    elif \"invoice\" in sn.lower():\n",
    "        return \"Invoice\"\n",
    "    else:\n",
    "        return f\"Unknown\"\n",
    "\n",
    "for excel_file in excel_files:\n",
    "    xls = pd.ExcelFile(excel_file)\n",
    "    workbook_name = os.path.splitext(os.path.basename(excel_file))[0]\n",
    "\n",
    "    for sheet_name in xls.sheet_names:\n",
    "        df = pd.read_excel(excel_file, sheet_name=sheet_name)\n",
    "\n",
    "        # Determine the type of sheet for processing\n",
    "        sheet_type = sla_invoice(sheet_name)\n",
    "\n",
    "        # New files Name\n",
    "        w_b = workbook_name.split(\" \")[0]\n",
    "        new_file_name = f\"{w_b}_{sheet_type}.csv\"\n",
    "        new_file_path = os.path.join(processed_data_folder_path, new_file_name)\n",
    "\n",
    "        # Apply different processing based on sheet type\n",
    "        if sheet_type == \"SLA\":\n",
    "            # Specific processing for SLA sheets\n",
    "            # Example: df_processed = process_sla(df)\n",
    "            df_processed = df  # Placeholder for SLA-specific processing\n",
    "        elif sheet_type == \"Invoice\":\n",
    "            # Specific processing for Invoice sheets\n",
    "            # Example: df_processed = process_invoice(df)\n",
    "            df_processed = df  # Placeholder for Invoice-specific processing\n",
    "        else:\n",
    "            # Default processing or skip\n",
    "            df_processed = df  # Placeholder for default processing or skipping unknown types\n",
    "\n",
    "        # Save the processed DataFrame to a new CSV file\n",
    "        df_processed.to_csv(new_file_path, index=False)\n",
    "        print(f\"Processed and Saved: {new_file_path}\")"
   ]
  },
  {
   "cell_type": "code",
   "execution_count": 19,
   "metadata": {},
   "outputs": [],
   "source": [
    "def sla_invoice(sn):\n",
    "    if \"sla\" in sn.lower():\n",
    "        return \"SLA\"\n",
    "    elif \"invoice\" in sn.lower():\n",
    "        return \"Invoice\"\n",
    "    else:\n",
    "        return f\"Unknown\"\n",
    "\n",
    "    \n",
    "sla_invoice()\n"
   ]
  },
  {
   "cell_type": "code",
   "execution_count": 20,
   "metadata": {},
   "outputs": [
    {
     "name": "stdout",
     "output_type": "stream",
     "text": [
      "Sheet: SLA\n",
      "Sheet: Invoice\n",
      "Sheet: SLA\n",
      "Sheet: Invoice\n",
      "Sheet: SLA\n",
      "Sheet: Invoice\n",
      "Sheet: Invoice\n",
      "Sheet: Invoice\n"
     ]
    }
   ],
   "source": [
    "raw_data_folder_path = 'C:\\\\Users\\\\USER\\\\OneDrive\\\\KRA WORK\\\\2024 WS\\\\SLA EDA\\\\Data'\n",
    "processed_data_folder_path = 'C:\\\\Users\\\\USER\\\\OneDrive\\\\KRA WORK\\\\2024 WS\\\\SLA EDA\\\\Processsed_Data'\n",
    "\n",
    "\n",
    "# Ensuring the processed folder exist\n",
    "os.makedirs(processed_data_folder_path, exist_ok=True)\n",
    "\n",
    "excel_files = glob.glob(f\"{raw_data_folder_path}/*.xlsx\")\n",
    "\n",
    "for excel_file in excel_files:\n",
    "    xls = pd.ExcelFile(excel_file)\n",
    "    workbook_name = os.path.splitext(os.path.basename(excel_file))[0]\n",
    "\n",
    "    for sheet_name in xls.sheet_names:\n",
    "        s_n = sla_invoice(sheet_name)\n",
    "        print(f\"Sheet: {s_n}\")\n",
    "        "
   ]
  },
  {
   "cell_type": "code",
   "execution_count": 18,
   "metadata": {},
   "outputs": [
    {
     "data": {
      "text/plain": [
       "True"
      ]
     },
     "execution_count": 18,
     "metadata": {},
     "output_type": "execute_result"
    }
   ],
   "source": [
    "sn = \"God Love you\"\n",
    "\"god\" in sn.lower()\n"
   ]
  },
  {
   "cell_type": "code",
   "execution_count": null,
   "metadata": {},
   "outputs": [],
   "source": []
  }
 ],
 "metadata": {
  "kernelspec": {
   "display_name": "Python_Dev",
   "language": "python",
   "name": "python3"
  },
  "language_info": {
   "codemirror_mode": {
    "name": "ipython",
    "version": 3
   },
   "file_extension": ".py",
   "mimetype": "text/x-python",
   "name": "python",
   "nbconvert_exporter": "python",
   "pygments_lexer": "ipython3",
   "version": "3.10.13"
  }
 },
 "nbformat": 4,
 "nbformat_minor": 2
}
