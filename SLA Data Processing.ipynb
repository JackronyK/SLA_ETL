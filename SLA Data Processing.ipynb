{
 "cells": [
  {
   "cell_type": "markdown",
   "metadata": {},
   "source": [
    "## KRA SLA Data Proessing "
   ]
  },
  {
   "cell_type": "code",
   "execution_count": 6,
   "metadata": {},
   "outputs": [],
   "source": [
    "# Importing the Necessary Libraries\n",
    "import pandas as pd\n",
    "import numpy as np\n",
    "import glob\n",
    "import os\n",
    "import openpyxl\n",
    "from data_cleaner import DataCleaner"
   ]
  },
  {
   "cell_type": "code",
   "execution_count": 1,
   "metadata": {},
   "outputs": [
    {
     "name": "stdout",
     "output_type": "stream",
     "text": [
      "Processed and Saved: C:\\Users\\USER\\OneDrive\\KRA WORK\\2024 WS\\SLA EDA\\SLA_ETL\\Processsed_Data\\LTK_SLA.csv\n",
      "Processed and Saved: C:\\Users\\USER\\OneDrive\\KRA WORK\\2024 WS\\SLA EDA\\SLA_ETL\\Processsed_Data\\LTK_Invoice.csv\n",
      "Processed and Saved: C:\\Users\\USER\\OneDrive\\KRA WORK\\2024 WS\\SLA EDA\\SLA_ETL\\Processsed_Data\\SAFARICOM_SLA.csv\n",
      "Processed and Saved: C:\\Users\\USER\\OneDrive\\KRA WORK\\2024 WS\\SLA EDA\\SLA_ETL\\Processsed_Data\\SAFARICOM_Invoice.csv\n"
     ]
    }
   ],
   "source": [
    "import os\n",
    "import pandas as pd\n",
    "import glob\n",
    "from data_cleaner import DataCleaner\n",
    "\n",
    "raw_data_folder_path = 'C:\\\\Users\\\\USER\\\\OneDrive\\\\KRA WORK\\\\2024 WS\\\\SLA EDA\\\\SLA_ETL\\\\Data'\n",
    "processed_data_folder_path = 'C:\\\\Users\\\\USER\\\\OneDrive\\\\KRA WORK\\\\2024 WS\\\\SLA EDA\\\\SLA_ETL\\\\Processsed_Data'\n",
    "\n",
    "# Ensuring the processed folder exist\n",
    "os.makedirs(processed_data_folder_path, exist_ok=True)\n",
    "\n",
    "excel_files = glob.glob(f\"{raw_data_folder_path}/*.xlsx\")\n",
    "\n",
    "def sla_invoice(sn):\n",
    "    if \"sla\" in sn.lower():\n",
    "        return \"SLA\"\n",
    "    elif \"invoice\" in sn.lower():\n",
    "        return \"Invoice\"\n",
    "    else:\n",
    "        return f\"Unknown\"\n",
    "\n",
    "for excel_file in excel_files:\n",
    "    xls = pd.ExcelFile(excel_file)\n",
    "    workbook_name = os.path.splitext(os.path.basename(excel_file))[0]\n",
    "\n",
    "    for sheet_name in xls.sheet_names:\n",
    "        df = pd.read_excel(excel_file, sheet_name=sheet_name)\n",
    "\n",
    "        # Determine the type of sheet for processing\n",
    "        sheet_type = sla_invoice(sheet_name)\n",
    "\n",
    "        # New files Name\n",
    "        w_b = workbook_name.split(\" \")[0]\n",
    "        new_file_name = f\"{w_b}_{sheet_type}.csv\"\n",
    "        new_file_path = os.path.join(processed_data_folder_path, new_file_name)\n",
    "\n",
    "        # Apply different processing based on sheet type\n",
    "        if sheet_type == \"SLA\":\n",
    "            # Specific processing for SLA sheets\n",
    "            # Example: df_processed = process_sla(df)\n",
    "            df_processed = df  # Placeholder for SLA-specific processing\n",
    "        elif sheet_type == \"Invoice\":\n",
    "            # Specific processing for Invoice sheets\n",
    "            # Example: df_processed = process_invoice(df)\n",
    "            df_processed = DataCleaner(df).invoice_df()  # Placeholder for Invoice-specific processing\n",
    "        else:\n",
    "            # Default processing or skip\n",
    "            df_processed = df  # Placeholder for default processing or skipping unknown types\n",
    "\n",
    "        # Save the processed DataFrame to a new CSV file\n",
    "        df_processed.to_csv(new_file_path, index=False)\n",
    "        print(f\"Processed and Saved: {new_file_path}\")"
   ]
  },
  {
   "cell_type": "code",
   "execution_count": 19,
   "metadata": {},
   "outputs": [],
   "source": [
    "def sla_invoice(sn):\n",
    "    if \"sla\" in sn.lower():\n",
    "        return \"SLA\"\n",
    "    elif \"invoice\" in sn.lower():\n",
    "        return \"Invoice\"\n",
    "    else:\n",
    "        return f\"Unknown\"\n",
    "\n",
    "    \n",
    "sla_invoice()\n"
   ]
  },
  {
   "cell_type": "code",
   "execution_count": 20,
   "metadata": {},
   "outputs": [
    {
     "name": "stdout",
     "output_type": "stream",
     "text": [
      "Sheet: SLA\n",
      "Sheet: Invoice\n",
      "Sheet: SLA\n",
      "Sheet: Invoice\n",
      "Sheet: SLA\n",
      "Sheet: Invoice\n",
      "Sheet: Invoice\n",
      "Sheet: Invoice\n"
     ]
    }
   ],
   "source": [
    "raw_data_folder_path = 'C:\\\\Users\\\\USER\\\\OneDrive\\\\KRA WORK\\\\2024 WS\\\\SLA EDA\\\\Data'\n",
    "processed_data_folder_path = 'C:\\\\Users\\\\USER\\\\OneDrive\\\\KRA WORK\\\\2024 WS\\\\SLA EDA\\\\Processsed_Data'\n",
    "\n",
    "\n",
    "# Ensuring the processed folder exist\n",
    "os.makedirs(processed_data_folder_path, exist_ok=True)\n",
    "\n",
    "excel_files = glob.glob(f\"{raw_data_folder_path}/*.xlsx\")\n",
    "\n",
    "for excel_file in excel_files:\n",
    "    xls = pd.ExcelFile(excel_file)\n",
    "    workbook_name = os.path.splitext(os.path.basename(excel_file))[0]\n",
    "\n",
    "    for sheet_name in xls.sheet_names:\n",
    "        s_n = sla_invoice(sheet_name)\n",
    "        print(f\"Sheet: {s_n}\")\n",
    "        "
   ]
  },
  {
   "cell_type": "code",
   "execution_count": 18,
   "metadata": {},
   "outputs": [
    {
     "data": {
      "text/plain": [
       "True"
      ]
     },
     "execution_count": 18,
     "metadata": {},
     "output_type": "execute_result"
    }
   ],
   "source": [
    "sn = \"God Love you\"\n",
    "\"god\" in sn.lower()\n"
   ]
  },
  {
   "cell_type": "code",
   "execution_count": null,
   "metadata": {},
   "outputs": [],
   "source": []
  },
  {
   "cell_type": "code",
   "execution_count": 1,
   "metadata": {},
   "outputs": [],
   "source": [
    "import pandas as pd\n",
    "from data_cleaner import DataCleaner\n",
    "df2 = pd.read_csv(\"https://raw.githubusercontent.com/JackronyK/SLA_ETL/main/Processsed_Data/SAFARICOM_Invoice.csv\")\n",
    "df = pd.read_csv(\"https://raw.githubusercontent.com/JackronyK/SLA_ETL/main/Processsed_Data/LTK_Invoice.csv\")\n"
   ]
  },
  {
   "cell_type": "code",
   "execution_count": 2,
   "metadata": {},
   "outputs": [],
   "source": [
    "import pandas as pd\n",
    "from data_cleaner import DataCleaner\n",
    "df_cleaned = DataCleaner(df2).invoice_df()"
   ]
  },
  {
   "cell_type": "code",
   "execution_count": 3,
   "metadata": {},
   "outputs": [
    {
     "data": {
      "text/html": [
       "<div>\n",
       "<style scoped>\n",
       "    .dataframe tbody tr th:only-of-type {\n",
       "        vertical-align: middle;\n",
       "    }\n",
       "\n",
       "    .dataframe tbody tr th {\n",
       "        vertical-align: top;\n",
       "    }\n",
       "\n",
       "    .dataframe thead th {\n",
       "        text-align: right;\n",
       "    }\n",
       "</style>\n",
       "<table border=\"1\" class=\"dataframe\">\n",
       "  <thead>\n",
       "    <tr style=\"text-align: right;\">\n",
       "      <th></th>\n",
       "      <th>Invoice_Data</th>\n",
       "      <th>Link_ID</th>\n",
       "      <th>Invoice_Period</th>\n",
       "      <th>Invoice_Description</th>\n",
       "      <th>Invoice_Reference</th>\n",
       "      <th>Total_QRC</th>\n",
       "    </tr>\n",
       "  </thead>\n",
       "  <tbody>\n",
       "    <tr>\n",
       "      <th>0</th>\n",
       "      <td>2023-10-01</td>\n",
       "      <td>95001135</td>\n",
       "      <td>1st Oct to 31st Dec 2023</td>\n",
       "      <td>CUSTOMS OFFICE MALINDI-WIMAX</td>\n",
       "      <td>B1-10096515502</td>\n",
       "      <td>240145.6128</td>\n",
       "    </tr>\n",
       "    <tr>\n",
       "      <th>1</th>\n",
       "      <td>2023-10-01</td>\n",
       "      <td>95001574</td>\n",
       "      <td>1st Oct to 31st Dec 2023</td>\n",
       "      <td>KRA LOITOKTOK BORDER WIMAX</td>\n",
       "      <td>B1-10096515502</td>\n",
       "      <td>240145.6128</td>\n",
       "    </tr>\n",
       "    <tr>\n",
       "      <th>2</th>\n",
       "      <td>2023-10-01</td>\n",
       "      <td>95001628</td>\n",
       "      <td>1st Oct to 31st Dec 2023</td>\n",
       "      <td>KRA KRATI MOMBASA WIMAX</td>\n",
       "      <td>B1-10096515502</td>\n",
       "      <td>240145.6128</td>\n",
       "    </tr>\n",
       "    <tr>\n",
       "      <th>3</th>\n",
       "      <td>2023-10-01</td>\n",
       "      <td>95004139</td>\n",
       "      <td>1st Oct to 31st Dec 2023</td>\n",
       "      <td>KRA -  MANDERA</td>\n",
       "      <td>B1-10096515502</td>\n",
       "      <td>180078.7944</td>\n",
       "    </tr>\n",
       "    <tr>\n",
       "      <th>4</th>\n",
       "      <td>2023-10-01</td>\n",
       "      <td>95004140</td>\n",
       "      <td>1st Oct to 31st Dec 2023</td>\n",
       "      <td>KRA -  Moyale</td>\n",
       "      <td>B1-10096515502</td>\n",
       "      <td>240145.6128</td>\n",
       "    </tr>\n",
       "  </tbody>\n",
       "</table>\n",
       "</div>"
      ],
      "text/plain": [
       "  Invoice_Data   Link_ID            Invoice_Period  \\\n",
       "0   2023-10-01  95001135  1st Oct to 31st Dec 2023   \n",
       "1   2023-10-01  95001574  1st Oct to 31st Dec 2023   \n",
       "2   2023-10-01  95001628  1st Oct to 31st Dec 2023   \n",
       "3   2023-10-01  95004139  1st Oct to 31st Dec 2023   \n",
       "4   2023-10-01  95004140  1st Oct to 31st Dec 2023   \n",
       "\n",
       "             Invoice_Description Invoice_Reference    Total_QRC  \n",
       "0   CUSTOMS OFFICE MALINDI-WIMAX    B1-10096515502  240145.6128  \n",
       "1     KRA LOITOKTOK BORDER WIMAX    B1-10096515502  240145.6128  \n",
       "2        KRA KRATI MOMBASA WIMAX    B1-10096515502  240145.6128  \n",
       "3                 KRA -  MANDERA    B1-10096515502  180078.7944  \n",
       "4                  KRA -  Moyale    B1-10096515502  240145.6128  "
      ]
     },
     "execution_count": 3,
     "metadata": {},
     "output_type": "execute_result"
    }
   ],
   "source": [
    "df_cleaned.head()"
   ]
  },
  {
   "cell_type": "code",
   "execution_count": 4,
   "metadata": {},
   "outputs": [
    {
     "name": "stdout",
     "output_type": "stream",
     "text": [
      "<class 'pandas.core.frame.DataFrame'>\n",
      "RangeIndex: 58 entries, 0 to 57\n",
      "Data columns (total 6 columns):\n",
      " #   Column               Non-Null Count  Dtype  \n",
      "---  ------               --------------  -----  \n",
      " 0   Invoice_Data         58 non-null     object \n",
      " 1   Link_ID              58 non-null     object \n",
      " 2   Invoice_Period       58 non-null     object \n",
      " 3   Invoice_Description  58 non-null     object \n",
      " 4   Invoice_Reference    58 non-null     object \n",
      " 5   Total_QRC            58 non-null     float64\n",
      "dtypes: float64(1), object(5)\n",
      "memory usage: 2.8+ KB\n"
     ]
    }
   ],
   "source": [
    "df_cleaned.info()"
   ]
  },
  {
   "cell_type": "code",
   "execution_count": null,
   "metadata": {},
   "outputs": [],
   "source": []
  }
 ],
 "metadata": {
  "kernelspec": {
   "display_name": "Python_Dev",
   "language": "python",
   "name": "python3"
  },
  "language_info": {
   "codemirror_mode": {
    "name": "ipython",
    "version": 3
   },
   "file_extension": ".py",
   "mimetype": "text/x-python",
   "name": "python",
   "nbconvert_exporter": "python",
   "pygments_lexer": "ipython3",
   "version": "3.10.13"
  }
 },
 "nbformat": 4,
 "nbformat_minor": 2
}
