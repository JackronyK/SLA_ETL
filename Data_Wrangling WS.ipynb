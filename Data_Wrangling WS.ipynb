{
 "cells": [
  {
   "cell_type": "code",
   "execution_count": 3,
   "metadata": {},
   "outputs": [],
   "source": [
    "import pandas as pd\n",
    "import numpy as np\n"
   ]
  },
  {
   "cell_type": "code",
   "execution_count": 8,
   "metadata": {},
   "outputs": [],
   "source": [
    "df2 = pd.read_csv(\"https://raw.githubusercontent.com/JackronyK/SLA_ETL/main/Processsed_Data/SAFARICOM_Invoice.csv\")\n",
    "df = pd.read_csv(\"https://raw.githubusercontent.com/JackronyK/SLA_ETL/main/Processsed_Data/LTK_Invoice.csv\")"
   ]
  },
  {
   "cell_type": "code",
   "execution_count": 9,
   "metadata": {},
   "outputs": [
    {
     "data": {
      "text/html": [
       "<div>\n",
       "<style scoped>\n",
       "    .dataframe tbody tr th:only-of-type {\n",
       "        vertical-align: middle;\n",
       "    }\n",
       "\n",
       "    .dataframe tbody tr th {\n",
       "        vertical-align: top;\n",
       "    }\n",
       "\n",
       "    .dataframe thead th {\n",
       "        text-align: right;\n",
       "    }\n",
       "</style>\n",
       "<table border=\"1\" class=\"dataframe\">\n",
       "  <thead>\n",
       "    <tr style=\"text-align: right;\">\n",
       "      <th></th>\n",
       "      <th>Invoice Date</th>\n",
       "      <th>Invoice No</th>\n",
       "      <th>Invoice Period</th>\n",
       "      <th>Link ID</th>\n",
       "      <th>Invoice Description</th>\n",
       "      <th>QRC (EX TAX)</th>\n",
       "      <th>Excise (15%)</th>\n",
       "      <th>VAT (16%)</th>\n",
       "      <th>Invoice Total</th>\n",
       "    </tr>\n",
       "  </thead>\n",
       "  <tbody>\n",
       "    <tr>\n",
       "      <th>0</th>\n",
       "      <td>2023-10-13</td>\n",
       "      <td>CRN-15473</td>\n",
       "      <td>01-Oct-2023 to 31-Dec-2023</td>\n",
       "      <td>26046</td>\n",
       "      <td>26046 National MPLS KRA MBITA TO VRF (INS-57)</td>\n",
       "      <td>-48264.0</td>\n",
       "      <td>0</td>\n",
       "      <td>-7722.24</td>\n",
       "      <td>-55986.24</td>\n",
       "    </tr>\n",
       "    <tr>\n",
       "      <th>1</th>\n",
       "      <td>2023-10-06</td>\n",
       "      <td>116426</td>\n",
       "      <td>01-Oct-2023 to 31-Dec-2023</td>\n",
       "      <td>C-00159-0087</td>\n",
       "      <td>C-00159-0087 EPL Connection charge 80MBPS-&gt;SAM...</td>\n",
       "      <td>360000.0</td>\n",
       "      <td>0</td>\n",
       "      <td>57600.00</td>\n",
       "      <td>417600.00</td>\n",
       "    </tr>\n",
       "    <tr>\n",
       "      <th>2</th>\n",
       "      <td>2023-10-06</td>\n",
       "      <td>116426</td>\n",
       "      <td>01-Oct-2023 to 31-Dec-2023</td>\n",
       "      <td>1750</td>\n",
       "      <td>01750 National MPLS KRA - TIMES TOWERS TO VRF</td>\n",
       "      <td>810000.0</td>\n",
       "      <td>0</td>\n",
       "      <td>129600.00</td>\n",
       "      <td>939600.00</td>\n",
       "    </tr>\n",
       "    <tr>\n",
       "      <th>3</th>\n",
       "      <td>2023-10-06</td>\n",
       "      <td>116426</td>\n",
       "      <td>01-Oct-2023 to 31-Dec-2023</td>\n",
       "      <td>5611</td>\n",
       "      <td>05611 National MPLS Msa link vlan 460 customs</td>\n",
       "      <td>61927.5</td>\n",
       "      <td>0</td>\n",
       "      <td>9908.40</td>\n",
       "      <td>71835.90</td>\n",
       "    </tr>\n",
       "    <tr>\n",
       "      <th>4</th>\n",
       "      <td>2023-10-06</td>\n",
       "      <td>116426</td>\n",
       "      <td>01-Oct-2023 to 31-Dec-2023</td>\n",
       "      <td>20103</td>\n",
       "      <td>20103 Leased_Circuits_Naticnal KRA WILSON AIRP...</td>\n",
       "      <td>68850.0</td>\n",
       "      <td>0</td>\n",
       "      <td>11016.00</td>\n",
       "      <td>79866.00</td>\n",
       "    </tr>\n",
       "  </tbody>\n",
       "</table>\n",
       "</div>"
      ],
      "text/plain": [
       "  Invoice Date Invoice No              Invoice Period       Link ID  \\\n",
       "0   2023-10-13  CRN-15473  01-Oct-2023 to 31-Dec-2023         26046   \n",
       "1   2023-10-06     116426  01-Oct-2023 to 31-Dec-2023  C-00159-0087   \n",
       "2   2023-10-06     116426  01-Oct-2023 to 31-Dec-2023          1750   \n",
       "3   2023-10-06     116426  01-Oct-2023 to 31-Dec-2023          5611   \n",
       "4   2023-10-06     116426  01-Oct-2023 to 31-Dec-2023         20103   \n",
       "\n",
       "                                 Invoice Description  QRC (EX TAX)  \\\n",
       "0      26046 National MPLS KRA MBITA TO VRF (INS-57)      -48264.0   \n",
       "1  C-00159-0087 EPL Connection charge 80MBPS->SAM...      360000.0   \n",
       "2      01750 National MPLS KRA - TIMES TOWERS TO VRF      810000.0   \n",
       "3      05611 National MPLS Msa link vlan 460 customs       61927.5   \n",
       "4  20103 Leased_Circuits_Naticnal KRA WILSON AIRP...       68850.0   \n",
       "\n",
       "   Excise (15%)  VAT (16%)  Invoice Total  \n",
       "0             0   -7722.24      -55986.24  \n",
       "1             0   57600.00      417600.00  \n",
       "2             0  129600.00      939600.00  \n",
       "3             0    9908.40       71835.90  \n",
       "4             0   11016.00       79866.00  "
      ]
     },
     "execution_count": 9,
     "metadata": {},
     "output_type": "execute_result"
    }
   ],
   "source": [
    "df.head()"
   ]
  },
  {
   "cell_type": "code",
   "execution_count": 8,
   "metadata": {},
   "outputs": [
    {
     "data": {
      "text/html": [
       "<div>\n",
       "<style scoped>\n",
       "    .dataframe tbody tr th:only-of-type {\n",
       "        vertical-align: middle;\n",
       "    }\n",
       "\n",
       "    .dataframe tbody tr th {\n",
       "        vertical-align: top;\n",
       "    }\n",
       "\n",
       "    .dataframe thead th {\n",
       "        text-align: right;\n",
       "    }\n",
       "</style>\n",
       "<table border=\"1\" class=\"dataframe\">\n",
       "  <thead>\n",
       "    <tr style=\"text-align: right;\">\n",
       "      <th></th>\n",
       "      <th>No.</th>\n",
       "      <th>Invoice Date</th>\n",
       "      <th>Invoice Ref.</th>\n",
       "      <th>Invoice Period</th>\n",
       "      <th>Link ID</th>\n",
       "      <th>Invoice Description</th>\n",
       "      <th>Net billed(Exc. Taxes)</th>\n",
       "      <th>VAT</th>\n",
       "      <th>Excise</th>\n",
       "      <th>Monthly Total Billed</th>\n",
       "      <th>Period(Months)</th>\n",
       "      <th>Total Billed for the Period</th>\n",
       "      <th>Amount Including Excise</th>\n",
       "    </tr>\n",
       "  </thead>\n",
       "  <tbody>\n",
       "    <tr>\n",
       "      <th>54</th>\n",
       "      <td>55</td>\n",
       "      <td>2023-10-01</td>\n",
       "      <td>B1-10096515502</td>\n",
       "      <td>1st Oct to 31st Dec 2023</td>\n",
       "      <td>95096538.0</td>\n",
       "      <td>KRA BUSIA-WIMAX</td>\n",
       "      <td>7.000830e+04</td>\n",
       "      <td>12881.527200</td>\n",
       "      <td>10501.24500</td>\n",
       "      <td>9.339107e+04</td>\n",
       "      <td>3.0</td>\n",
       "      <td>280173.2166</td>\n",
       "      <td>8.050954e+04</td>\n",
       "    </tr>\n",
       "    <tr>\n",
       "      <th>55</th>\n",
       "      <td>56</td>\n",
       "      <td>2023-10-01</td>\n",
       "      <td>B1-10096515502</td>\n",
       "      <td>1st Oct to 31st Dec 2023</td>\n",
       "      <td>95096687.0</td>\n",
       "      <td>KRA CUSTOMS OFFICE-  NAIROBI-NAMANGA WIMAX</td>\n",
       "      <td>6.999750e+04</td>\n",
       "      <td>12879.540000</td>\n",
       "      <td>10499.62500</td>\n",
       "      <td>9.337666e+04</td>\n",
       "      <td>3.0</td>\n",
       "      <td>280129.9950</td>\n",
       "      <td>8.049712e+04</td>\n",
       "    </tr>\n",
       "    <tr>\n",
       "      <th>56</th>\n",
       "      <td>57</td>\n",
       "      <td>2023-10-01</td>\n",
       "      <td>B1-10096515502</td>\n",
       "      <td>1st Oct to 31st Dec 2023</td>\n",
       "      <td>95096716.0</td>\n",
       "      <td>KRA ISEBANIA-WIMAX</td>\n",
       "      <td>7.368510e+04</td>\n",
       "      <td>13558.058400</td>\n",
       "      <td>11052.76500</td>\n",
       "      <td>9.829592e+04</td>\n",
       "      <td>3.0</td>\n",
       "      <td>294887.7702</td>\n",
       "      <td>8.473787e+04</td>\n",
       "    </tr>\n",
       "    <tr>\n",
       "      <th>57</th>\n",
       "      <td>58</td>\n",
       "      <td>2023-10-01</td>\n",
       "      <td>B1-10096515502</td>\n",
       "      <td>1st Oct to 31st Dec 2023</td>\n",
       "      <td>95096873.0</td>\n",
       "      <td>KRA LUNGA LUNGA WIMAX</td>\n",
       "      <td>6.999750e+04</td>\n",
       "      <td>12879.540000</td>\n",
       "      <td>10499.62500</td>\n",
       "      <td>9.337666e+04</td>\n",
       "      <td>3.0</td>\n",
       "      <td>280129.9950</td>\n",
       "      <td>8.049712e+04</td>\n",
       "    </tr>\n",
       "    <tr>\n",
       "      <th>58</th>\n",
       "      <td>Total</td>\n",
       "      <td>NaN</td>\n",
       "      <td>NaN</td>\n",
       "      <td>NaN</td>\n",
       "      <td>NaN</td>\n",
       "      <td>NaN</td>\n",
       "      <td>2.815170e+06</td>\n",
       "      <td>517991.341566</td>\n",
       "      <td>422275.55019</td>\n",
       "      <td>3.755437e+06</td>\n",
       "      <td>NaN</td>\n",
       "      <td>NaN</td>\n",
       "      <td>3.237446e+06</td>\n",
       "    </tr>\n",
       "  </tbody>\n",
       "</table>\n",
       "</div>"
      ],
      "text/plain": [
       "      No. Invoice Date    Invoice Ref.            Invoice Period     Link ID  \\\n",
       "54     55   2023-10-01  B1-10096515502  1st Oct to 31st Dec 2023  95096538.0   \n",
       "55     56   2023-10-01  B1-10096515502  1st Oct to 31st Dec 2023  95096687.0   \n",
       "56     57   2023-10-01  B1-10096515502  1st Oct to 31st Dec 2023  95096716.0   \n",
       "57     58   2023-10-01  B1-10096515502  1st Oct to 31st Dec 2023  95096873.0   \n",
       "58  Total          NaN             NaN                       NaN         NaN   \n",
       "\n",
       "                           Invoice Description  Net billed(Exc. Taxes)  \\\n",
       "54                             KRA BUSIA-WIMAX            7.000830e+04   \n",
       "55  KRA CUSTOMS OFFICE-  NAIROBI-NAMANGA WIMAX            6.999750e+04   \n",
       "56                          KRA ISEBANIA-WIMAX            7.368510e+04   \n",
       "57                       KRA LUNGA LUNGA WIMAX            6.999750e+04   \n",
       "58                                         NaN            2.815170e+06   \n",
       "\n",
       "              VAT        Excise  Monthly Total Billed  Period(Months)  \\\n",
       "54   12881.527200   10501.24500          9.339107e+04             3.0   \n",
       "55   12879.540000   10499.62500          9.337666e+04             3.0   \n",
       "56   13558.058400   11052.76500          9.829592e+04             3.0   \n",
       "57   12879.540000   10499.62500          9.337666e+04             3.0   \n",
       "58  517991.341566  422275.55019          3.755437e+06             NaN   \n",
       "\n",
       "    Total Billed for the Period  Amount Including Excise  \n",
       "54                  280173.2166             8.050954e+04  \n",
       "55                  280129.9950             8.049712e+04  \n",
       "56                  294887.7702             8.473787e+04  \n",
       "57                  280129.9950             8.049712e+04  \n",
       "58                          NaN             3.237446e+06  "
      ]
     },
     "execution_count": 8,
     "metadata": {},
     "output_type": "execute_result"
    }
   ],
   "source": [
    "df2.tail()"
   ]
  },
  {
   "cell_type": "markdown",
   "metadata": {},
   "source": [
    "### Codeing before transforming them into classes"
   ]
  },
  {
   "cell_type": "code",
   "execution_count": 12,
   "metadata": {},
   "outputs": [],
   "source": [
    "# Dropping rows with null values in all the fields\n",
    "df2.dropna(how='all', inplace = True)\n",
    "\n",
    "#dropping the total row\n",
    "df2.drop(df2[df2[\"No.\"] == \"Total\"].index, inplace= True)\n",
    "\n",
    "##Function to help pick the columns\n",
    "def pick_Invoice_no_column_name(df):\n",
    "    # Loop through the fixed substrings\n",
    "    for substring in ['inveoice no', 'ref']:\n",
    "        # Check if any column contains the substring\n",
    "        matching_columns = [col for col in df.columns if substring.lower() in col.lower()]\n",
    "        # If a matching column is found, return its name\n",
    "        if matching_columns:\n",
    "            return matching_columns[0]\n",
    "        \n",
    "def QRC_Finder(df):\n",
    "    max_value = None\n",
    "    max_col = None\n",
    "    for substring in ['QRC', 'Total', 'Amount']:\n",
    "        #Checking for the matching amount related columns\n",
    "        fields = [col for col in df.columns if substring.lower() in col.lower()]\n",
    "    for field in fields:\n",
    "        # Check if the column exists and has valid values\n",
    "        if field in df.columns and not df[field].isnull().all():\n",
    "            # Finding the maximum value in the first row of the column\n",
    "            first_row_value = df.at[1,field]\n",
    "            if max_value is None or first_row_value > max_value:\n",
    "                max_value = first_row_value\n",
    "                max_col = field\n",
    "    return max_col\n",
    "\n",
    "\n",
    "\n",
    "# Dropping unwanted Columns\n",
    "columns_wanted = {\"Date\": \"Invoice Date\",\n",
    "                  \"ID\": \"Link ID\",\n",
    "                   \"Period\": \"Invoice Period\",\n",
    "                    \"Descriprion\": \"Invoice Description\",\n",
    "                     \"QRC\":QRC_Finder(df2),\n",
    "                      \"Reference/ no\": pick_Invoice_no_column_name(df2)}\n",
    "\n",
    "df_selected = df2.loc[:, [value for value in columns_wanted.values()]]\n",
    "\n"
   ]
  },
  {
   "cell_type": "code",
   "execution_count": 13,
   "metadata": {},
   "outputs": [
    {
     "data": {
      "text/html": [
       "<div>\n",
       "<style scoped>\n",
       "    .dataframe tbody tr th:only-of-type {\n",
       "        vertical-align: middle;\n",
       "    }\n",
       "\n",
       "    .dataframe tbody tr th {\n",
       "        vertical-align: top;\n",
       "    }\n",
       "\n",
       "    .dataframe thead th {\n",
       "        text-align: right;\n",
       "    }\n",
       "</style>\n",
       "<table border=\"1\" class=\"dataframe\">\n",
       "  <thead>\n",
       "    <tr style=\"text-align: right;\">\n",
       "      <th></th>\n",
       "      <th>Invoice Date</th>\n",
       "      <th>Link ID</th>\n",
       "      <th>Invoice Period</th>\n",
       "      <th>Invoice Description</th>\n",
       "      <th>Amount Including Excise</th>\n",
       "      <th>Invoice Ref.</th>\n",
       "    </tr>\n",
       "  </thead>\n",
       "  <tbody>\n",
       "    <tr>\n",
       "      <th>0</th>\n",
       "      <td>2023-10-01</td>\n",
       "      <td>95001135.0</td>\n",
       "      <td>1st Oct to 31st Dec 2023</td>\n",
       "      <td>CUSTOMS OFFICE MALINDI-WIMAX</td>\n",
       "      <td>69007.36</td>\n",
       "      <td>B1-10096515502</td>\n",
       "    </tr>\n",
       "    <tr>\n",
       "      <th>1</th>\n",
       "      <td>2023-10-01</td>\n",
       "      <td>95001574.0</td>\n",
       "      <td>1st Oct to 31st Dec 2023</td>\n",
       "      <td>KRA LOITOKTOK BORDER WIMAX</td>\n",
       "      <td>69007.36</td>\n",
       "      <td>B1-10096515502</td>\n",
       "    </tr>\n",
       "    <tr>\n",
       "      <th>2</th>\n",
       "      <td>2023-10-01</td>\n",
       "      <td>95001628.0</td>\n",
       "      <td>1st Oct to 31st Dec 2023</td>\n",
       "      <td>KRA KRATI MOMBASA WIMAX</td>\n",
       "      <td>69007.36</td>\n",
       "      <td>B1-10096515502</td>\n",
       "    </tr>\n",
       "    <tr>\n",
       "      <th>3</th>\n",
       "      <td>2023-10-01</td>\n",
       "      <td>95004139.0</td>\n",
       "      <td>1st Oct to 31st Dec 2023</td>\n",
       "      <td>KRA -  MANDERA</td>\n",
       "      <td>51746.78</td>\n",
       "      <td>B1-10096515502</td>\n",
       "    </tr>\n",
       "    <tr>\n",
       "      <th>4</th>\n",
       "      <td>2023-10-01</td>\n",
       "      <td>95004140.0</td>\n",
       "      <td>1st Oct to 31st Dec 2023</td>\n",
       "      <td>KRA -  Moyale</td>\n",
       "      <td>69007.36</td>\n",
       "      <td>B1-10096515502</td>\n",
       "    </tr>\n",
       "  </tbody>\n",
       "</table>\n",
       "</div>"
      ],
      "text/plain": [
       "  Invoice Date     Link ID            Invoice Period  \\\n",
       "0   2023-10-01  95001135.0  1st Oct to 31st Dec 2023   \n",
       "1   2023-10-01  95001574.0  1st Oct to 31st Dec 2023   \n",
       "2   2023-10-01  95001628.0  1st Oct to 31st Dec 2023   \n",
       "3   2023-10-01  95004139.0  1st Oct to 31st Dec 2023   \n",
       "4   2023-10-01  95004140.0  1st Oct to 31st Dec 2023   \n",
       "\n",
       "             Invoice Description  Amount Including Excise    Invoice Ref.  \n",
       "0   CUSTOMS OFFICE MALINDI-WIMAX                 69007.36  B1-10096515502  \n",
       "1     KRA LOITOKTOK BORDER WIMAX                 69007.36  B1-10096515502  \n",
       "2        KRA KRATI MOMBASA WIMAX                 69007.36  B1-10096515502  \n",
       "3                 KRA -  MANDERA                 51746.78  B1-10096515502  \n",
       "4                  KRA -  Moyale                 69007.36  B1-10096515502  "
      ]
     },
     "execution_count": 13,
     "metadata": {},
     "output_type": "execute_result"
    }
   ],
   "source": [
    "df_selected.head()"
   ]
  },
  {
   "cell_type": "markdown",
   "metadata": {},
   "source": [
    "#### function Workstation"
   ]
  },
  {
   "cell_type": "code",
   "execution_count": 29,
   "metadata": {},
   "outputs": [
    {
     "data": {
      "text/plain": [
       "['Invoice Date',\n",
       " 'Link ID',\n",
       " 'Invoice Period',\n",
       " 'Invoice Description',\n",
       " 'QRC_Finder(df2)',\n",
       " 'pick_Invoice_no_column_name(df2)']"
      ]
     },
     "execution_count": 29,
     "metadata": {},
     "output_type": "execute_result"
    }
   ],
   "source": [
    "columns_wanted = {\"Date\": \"Invoice Date\",\n",
    "                  \"ID\": \"Link ID\",\n",
    "                   \"Period\": \"Invoice Period\",\n",
    "                    \"Descriprion\": \"Invoice Description\",\n",
    "                     \"QRC\":\"QRC_Finder(df2)\",\n",
    "                      \"Reference/ no\": \"pick_Invoice_no_column_name(df2)\"}\n",
    "list(columns_wanted.values())"
   ]
  },
  {
   "cell_type": "code",
   "execution_count": 24,
   "metadata": {},
   "outputs": [
    {
     "data": {
      "text/plain": [
       "True"
      ]
     },
     "execution_count": 24,
     "metadata": {},
     "output_type": "execute_result"
    }
   ],
   "source": [
    "not df2['Amount Including Excise'].isnull().all()\n"
   ]
  },
  {
   "cell_type": "code",
   "execution_count": 25,
   "metadata": {},
   "outputs": [
    {
     "data": {
      "text/plain": [
       "'2023-10-01'"
      ]
     },
     "execution_count": 25,
     "metadata": {},
     "output_type": "execute_result"
    }
   ],
   "source": [
    "df2.at[0,'Invoice Date']"
   ]
  },
  {
   "cell_type": "code",
   "execution_count": 21,
   "metadata": {},
   "outputs": [
    {
     "name": "stdout",
     "output_type": "stream",
     "text": [
      "Column with largest value: Invoice Amount\n"
     ]
    }
   ],
   "source": [
    "def QRC_Finder(df):\n",
    "    max_value = None\n",
    "    max_column = None\n",
    "    \n",
    "    for substring in ['QRC', 'Total', 'Amount']:\n",
    "        # Checking for the matching amount related columns\n",
    "        fields = [col for col in df.columns if substring.lower() in col.lower()]\n",
    "    \n",
    "    for field in fields:\n",
    "        # Check if the column exists and has valid values\n",
    "        if field in df.columns and not df[field].isnull().all():\n",
    "            # Find the maximum value in the first row of the column\n",
    "            first_row_value = df.at[0, field]\n",
    "            if max_value is None or first_row_value > max_value:\n",
    "                max_value = first_row_value\n",
    "                max_column = field\n",
    "    \n",
    "    return max_column\n",
    "\n",
    "# Example usage\n",
    "df = pd.DataFrame({'Total Amount': [100, 150, 200], 'Invoice Amount': [120, 140, 180]})\n",
    "largest_column = QRC_Finder(df)\n",
    "print(\"Column with largest value:\", largest_column)\n"
   ]
  },
  {
   "cell_type": "code",
   "execution_count": null,
   "metadata": {},
   "outputs": [],
   "source": [
    "df2.tail()"
   ]
  },
  {
   "cell_type": "code",
   "execution_count": 18,
   "metadata": {},
   "outputs": [
    {
     "name": "stdout",
     "output_type": "stream",
     "text": [
      "['Invoice Ref']\n"
     ]
    }
   ],
   "source": [
    "import pandas as pd\n",
    "\n",
    "def pick_column(df, substrings):\n",
    "    # Initialize an empty list to store the filtered columns\n",
    "    wanted_columns = []\n",
    "    \n",
    "    # Loop through each substring and filter columns\n",
    "    for substring in substrings:\n",
    "        # Filter columns containing the current substring\n",
    "        columns = df.columns[df.columns.str.contains(substring, case=False)]\n",
    "        # Extend the list of wanted columns with the filtered columns\n",
    "        wanted_columns.extend(columns)\n",
    "    \n",
    "    # Remove duplicates and return the final list of wanted columns\n",
    "    return list(set(wanted_columns))\n",
    "\n",
    "# Example usage\n",
    "df = pd.DataFrame({'Invoice Ref': [1, 2, 3], 'Invoice Kenya.': [4, 5, 6]})\n",
    "wanted_columns = pick_column(df, ['no.', 'ref'])\n",
    "print(wanted_columns)\n"
   ]
  },
  {
   "cell_type": "code",
   "execution_count": 20,
   "metadata": {},
   "outputs": [
    {
     "name": "stdout",
     "output_type": "stream",
     "text": [
      "Invoice Ref\n"
     ]
    }
   ],
   "source": [
    "import pandas as pd\n",
    "\n",
    "def pick_column_name(df):\n",
    "    # Loop through the fixed substrings\n",
    "    for substring in ['no.', 'ref']:\n",
    "        # Check if any column contains the substring\n",
    "        matching_columns = [col for col in df.columns if substring.lower() in col.lower()]\n",
    "        # If a matching column is found, return its name\n",
    "        if matching_columns:\n",
    "            return matching_columns[0]\n",
    "\n",
    "# Example usage\n",
    "df = pd.DataFrame({'Invoice Ref': [1, 2, 3], 'Invoice kenya.': [4, 5, 6]})\n",
    "wanted_column = pick_column_name(df)\n",
    "print(wanted_column)\n"
   ]
  },
  {
   "cell_type": "markdown",
   "metadata": {},
   "source": [
    "### Classes"
   ]
  },
  {
   "cell_type": "markdown",
   "metadata": {},
   "source": [
    "### Invoice Cleaner Class"
   ]
  },
  {
   "cell_type": "code",
   "execution_count": 39,
   "metadata": {},
   "outputs": [],
   "source": [
    "import pandas as pd\n",
    "\n",
    "class InvoiceCleaner:\n",
    "    def __init__(self, df):\n",
    "        self.df = df\n",
    "        \n",
    "    def drop_null_rows(self):\n",
    "        self.df.dropna(how='all', inplace=True)\n",
    "        \n",
    "    def drop_total_row(self):\n",
    "        if \"No.\" in self.df.columns:\n",
    "            self.df.drop(self.df[self.df[\"No.\"] == \"Total\"].index, inplace=True)\n",
    "        \n",
    "        \n",
    "    def pick_invoice_no_column_name(self):\n",
    "        for substring in ['invoice no', 'ref']:\n",
    "            matching_columns = [col for col in self.df.columns if substring.lower() in col.lower()]\n",
    "            if matching_columns:\n",
    "                return matching_columns[0]\n",
    "                \n",
    "    def QRC_Finder(self):\n",
    "        max_value = None\n",
    "        max_col = None\n",
    "        for substring in ['QRC', 'Total', 'Amount']:\n",
    "            fields = [col for col in self.df.columns if substring.lower() in col.lower()]\n",
    "            for field in fields:\n",
    "                if field in self.df.columns and not self.df[field].isnull().all():\n",
    "                    first_row_value = self.df.at[1, field]\n",
    "                    if max_value is None or first_row_value > max_value:\n",
    "                        max_value = first_row_value\n",
    "                        max_col = field\n",
    "        return max_col\n",
    "    \n",
    "    def clean_invoice_data(self):\n",
    "        self.drop_null_rows()\n",
    "        self.drop_total_row()\n",
    "        \n",
    "        columns_wanted = {\n",
    "            \"Date\": \"Invoice Date\",\n",
    "            \"ID\": \"Link ID\",\n",
    "            \"Period\": \"Invoice Period\",\n",
    "            \"Descriprion\": \"Invoice Description\",\n",
    "            \"QRC\": self.QRC_Finder(),\n",
    "            \"Reference/ no\": self.pick_invoice_no_column_name()\n",
    "        }\n",
    "\n",
    "        self.df = self.df.loc[:, [value for value in columns_wanted.values()]]\n",
    "\n",
    "    def adjust_col_dtypes(self):\n",
    "        #Converting the Invoice date col into Date dtype\n",
    "        if 'Invoice Date' in self.df.columns:\n",
    "            self.df['Invoice Date'] = pd.to_datetime(self.df['Invoice Date'])\n",
    "        \n",
    "        #Adjusting the link ID based on current dtype\n",
    "        if 'Link ID' in self.df.columns:\n",
    "            if self.df['Link ID'].dtype == 'float':\n",
    "                self.df['Link ID'] = self.df['Link ID'].astype('int').astype('str')\n",
    "            elif self.df['Link ID'].dtype == 'int':\n",
    "                self.df['Link ID'] = self.df['Link ID'].astype('str')\n"
   ]
  },
  {
   "cell_type": "code",
   "execution_count": 38,
   "metadata": {},
   "outputs": [
    {
     "data": {
      "text/html": [
       "<div>\n",
       "<style scoped>\n",
       "    .dataframe tbody tr th:only-of-type {\n",
       "        vertical-align: middle;\n",
       "    }\n",
       "\n",
       "    .dataframe tbody tr th {\n",
       "        vertical-align: top;\n",
       "    }\n",
       "\n",
       "    .dataframe thead th {\n",
       "        text-align: right;\n",
       "    }\n",
       "</style>\n",
       "<table border=\"1\" class=\"dataframe\">\n",
       "  <thead>\n",
       "    <tr style=\"text-align: right;\">\n",
       "      <th></th>\n",
       "      <th>No.</th>\n",
       "      <th>Invoice Date</th>\n",
       "      <th>Invoice Ref.</th>\n",
       "      <th>Invoice Period</th>\n",
       "      <th>Link ID</th>\n",
       "      <th>Invoice Description</th>\n",
       "      <th>Net billed(Exc. Taxes)</th>\n",
       "      <th>VAT</th>\n",
       "      <th>Excise</th>\n",
       "      <th>Monthly Total Billed</th>\n",
       "      <th>Period(Months)</th>\n",
       "      <th>Total Billed for the Period</th>\n",
       "      <th>Amount Including Excise</th>\n",
       "    </tr>\n",
       "  </thead>\n",
       "  <tbody>\n",
       "    <tr>\n",
       "      <th>0</th>\n",
       "      <td>1</td>\n",
       "      <td>2023-10-01</td>\n",
       "      <td>B1-10096515502</td>\n",
       "      <td>1st Oct to 31st Dec 2023</td>\n",
       "      <td>95001135</td>\n",
       "      <td>CUSTOMS OFFICE MALINDI-WIMAX</td>\n",
       "      <td>60006.4</td>\n",
       "      <td>11041.1776</td>\n",
       "      <td>9000.96</td>\n",
       "      <td>80048.5376</td>\n",
       "      <td>3.0</td>\n",
       "      <td>240145.6128</td>\n",
       "      <td>69007.36</td>\n",
       "    </tr>\n",
       "    <tr>\n",
       "      <th>1</th>\n",
       "      <td>2</td>\n",
       "      <td>2023-10-01</td>\n",
       "      <td>B1-10096515502</td>\n",
       "      <td>1st Oct to 31st Dec 2023</td>\n",
       "      <td>95001574</td>\n",
       "      <td>KRA LOITOKTOK BORDER WIMAX</td>\n",
       "      <td>60006.4</td>\n",
       "      <td>11041.1776</td>\n",
       "      <td>9000.96</td>\n",
       "      <td>80048.5376</td>\n",
       "      <td>3.0</td>\n",
       "      <td>240145.6128</td>\n",
       "      <td>69007.36</td>\n",
       "    </tr>\n",
       "    <tr>\n",
       "      <th>2</th>\n",
       "      <td>3</td>\n",
       "      <td>2023-10-01</td>\n",
       "      <td>B1-10096515502</td>\n",
       "      <td>1st Oct to 31st Dec 2023</td>\n",
       "      <td>95001628</td>\n",
       "      <td>KRA KRATI MOMBASA WIMAX</td>\n",
       "      <td>60006.4</td>\n",
       "      <td>11041.1776</td>\n",
       "      <td>9000.96</td>\n",
       "      <td>80048.5376</td>\n",
       "      <td>3.0</td>\n",
       "      <td>240145.6128</td>\n",
       "      <td>69007.36</td>\n",
       "    </tr>\n",
       "    <tr>\n",
       "      <th>3</th>\n",
       "      <td>4</td>\n",
       "      <td>2023-10-01</td>\n",
       "      <td>B1-10096515502</td>\n",
       "      <td>1st Oct to 31st Dec 2023</td>\n",
       "      <td>95004139</td>\n",
       "      <td>KRA -  MANDERA</td>\n",
       "      <td>44997.2</td>\n",
       "      <td>8279.4848</td>\n",
       "      <td>6749.58</td>\n",
       "      <td>60026.2648</td>\n",
       "      <td>3.0</td>\n",
       "      <td>180078.7944</td>\n",
       "      <td>51746.78</td>\n",
       "    </tr>\n",
       "    <tr>\n",
       "      <th>4</th>\n",
       "      <td>5</td>\n",
       "      <td>2023-10-01</td>\n",
       "      <td>B1-10096515502</td>\n",
       "      <td>1st Oct to 31st Dec 2023</td>\n",
       "      <td>95004140</td>\n",
       "      <td>KRA -  Moyale</td>\n",
       "      <td>60006.4</td>\n",
       "      <td>11041.1776</td>\n",
       "      <td>9000.96</td>\n",
       "      <td>80048.5376</td>\n",
       "      <td>3.0</td>\n",
       "      <td>240145.6128</td>\n",
       "      <td>69007.36</td>\n",
       "    </tr>\n",
       "  </tbody>\n",
       "</table>\n",
       "</div>"
      ],
      "text/plain": [
       "  No. Invoice Date    Invoice Ref.            Invoice Period   Link ID  \\\n",
       "0   1   2023-10-01  B1-10096515502  1st Oct to 31st Dec 2023  95001135   \n",
       "1   2   2023-10-01  B1-10096515502  1st Oct to 31st Dec 2023  95001574   \n",
       "2   3   2023-10-01  B1-10096515502  1st Oct to 31st Dec 2023  95001628   \n",
       "3   4   2023-10-01  B1-10096515502  1st Oct to 31st Dec 2023  95004139   \n",
       "4   5   2023-10-01  B1-10096515502  1st Oct to 31st Dec 2023  95004140   \n",
       "\n",
       "             Invoice Description  Net billed(Exc. Taxes)         VAT   Excise  \\\n",
       "0   CUSTOMS OFFICE MALINDI-WIMAX                 60006.4  11041.1776  9000.96   \n",
       "1     KRA LOITOKTOK BORDER WIMAX                 60006.4  11041.1776  9000.96   \n",
       "2        KRA KRATI MOMBASA WIMAX                 60006.4  11041.1776  9000.96   \n",
       "3                 KRA -  MANDERA                 44997.2   8279.4848  6749.58   \n",
       "4                  KRA -  Moyale                 60006.4  11041.1776  9000.96   \n",
       "\n",
       "   Monthly Total Billed  Period(Months)  Total Billed for the Period  \\\n",
       "0            80048.5376             3.0                  240145.6128   \n",
       "1            80048.5376             3.0                  240145.6128   \n",
       "2            80048.5376             3.0                  240145.6128   \n",
       "3            60026.2648             3.0                  180078.7944   \n",
       "4            80048.5376             3.0                  240145.6128   \n",
       "\n",
       "   Amount Including Excise  \n",
       "0                 69007.36  \n",
       "1                 69007.36  \n",
       "2                 69007.36  \n",
       "3                 51746.78  \n",
       "4                 69007.36  "
      ]
     },
     "execution_count": 38,
     "metadata": {},
     "output_type": "execute_result"
    }
   ],
   "source": [
    "# Assuming df2 is your DataFrame\n",
    "cleaner = InvoiceCleaner(df2)\n",
    "cleaner.adjust_col_dtypes()\n",
    "cleaned_df = cleaner.df\n",
    "cleaned_df.head()\n"
   ]
  },
  {
   "cell_type": "code",
   "execution_count": 63,
   "metadata": {},
   "outputs": [
    {
     "data": {
      "text/html": [
       "<div>\n",
       "<style scoped>\n",
       "    .dataframe tbody tr th:only-of-type {\n",
       "        vertical-align: middle;\n",
       "    }\n",
       "\n",
       "    .dataframe tbody tr th {\n",
       "        vertical-align: top;\n",
       "    }\n",
       "\n",
       "    .dataframe thead th {\n",
       "        text-align: right;\n",
       "    }\n",
       "</style>\n",
       "<table border=\"1\" class=\"dataframe\">\n",
       "  <thead>\n",
       "    <tr style=\"text-align: right;\">\n",
       "      <th></th>\n",
       "      <th>Invoice Date</th>\n",
       "      <th>Link ID</th>\n",
       "      <th>Invoice Period</th>\n",
       "      <th>Invoice Description</th>\n",
       "      <th>Invoice Total</th>\n",
       "      <th>Invoice No</th>\n",
       "    </tr>\n",
       "  </thead>\n",
       "  <tbody>\n",
       "    <tr>\n",
       "      <th>0</th>\n",
       "      <td>2023-10-13</td>\n",
       "      <td>26046</td>\n",
       "      <td>01-Oct-2023 to 31-Dec-2023</td>\n",
       "      <td>26046 National MPLS KRA MBITA TO VRF (INS-57)</td>\n",
       "      <td>-55986.24</td>\n",
       "      <td>CRN-15473</td>\n",
       "    </tr>\n",
       "    <tr>\n",
       "      <th>1</th>\n",
       "      <td>2023-10-06</td>\n",
       "      <td>C-00159-0087</td>\n",
       "      <td>01-Oct-2023 to 31-Dec-2023</td>\n",
       "      <td>C-00159-0087 EPL Connection charge 80MBPS-&gt;SAM...</td>\n",
       "      <td>417600.00</td>\n",
       "      <td>116426</td>\n",
       "    </tr>\n",
       "    <tr>\n",
       "      <th>2</th>\n",
       "      <td>2023-10-06</td>\n",
       "      <td>1750</td>\n",
       "      <td>01-Oct-2023 to 31-Dec-2023</td>\n",
       "      <td>01750 National MPLS KRA - TIMES TOWERS TO VRF</td>\n",
       "      <td>939600.00</td>\n",
       "      <td>116426</td>\n",
       "    </tr>\n",
       "    <tr>\n",
       "      <th>3</th>\n",
       "      <td>2023-10-06</td>\n",
       "      <td>5611</td>\n",
       "      <td>01-Oct-2023 to 31-Dec-2023</td>\n",
       "      <td>05611 National MPLS Msa link vlan 460 customs</td>\n",
       "      <td>71835.90</td>\n",
       "      <td>116426</td>\n",
       "    </tr>\n",
       "    <tr>\n",
       "      <th>4</th>\n",
       "      <td>2023-10-06</td>\n",
       "      <td>20103</td>\n",
       "      <td>01-Oct-2023 to 31-Dec-2023</td>\n",
       "      <td>20103 Leased_Circuits_Naticnal KRA WILSON AIRP...</td>\n",
       "      <td>79866.00</td>\n",
       "      <td>116426</td>\n",
       "    </tr>\n",
       "  </tbody>\n",
       "</table>\n",
       "</div>"
      ],
      "text/plain": [
       "  Invoice Date       Link ID              Invoice Period  \\\n",
       "0   2023-10-13         26046  01-Oct-2023 to 31-Dec-2023   \n",
       "1   2023-10-06  C-00159-0087  01-Oct-2023 to 31-Dec-2023   \n",
       "2   2023-10-06          1750  01-Oct-2023 to 31-Dec-2023   \n",
       "3   2023-10-06          5611  01-Oct-2023 to 31-Dec-2023   \n",
       "4   2023-10-06         20103  01-Oct-2023 to 31-Dec-2023   \n",
       "\n",
       "                                 Invoice Description  Invoice Total Invoice No  \n",
       "0      26046 National MPLS KRA MBITA TO VRF (INS-57)      -55986.24  CRN-15473  \n",
       "1  C-00159-0087 EPL Connection charge 80MBPS->SAM...      417600.00     116426  \n",
       "2      01750 National MPLS KRA - TIMES TOWERS TO VRF      939600.00     116426  \n",
       "3      05611 National MPLS Msa link vlan 460 customs       71835.90     116426  \n",
       "4  20103 Leased_Circuits_Naticnal KRA WILSON AIRP...       79866.00     116426  "
      ]
     },
     "execution_count": 63,
     "metadata": {},
     "output_type": "execute_result"
    }
   ],
   "source": [
    "# Assuming df2 is your DataFrame\n",
    "cleaner = InvoiceCleaner(df)\n",
    "cleaner.clean_invoice_data()\n",
    "cleaned_df = cleaner.df\n",
    "cleaned_df.head()"
   ]
  },
  {
   "cell_type": "code",
   "execution_count": 18,
   "metadata": {},
   "outputs": [
    {
     "name": "stdout",
     "output_type": "stream",
     "text": [
      "<class 'pandas.core.frame.DataFrame'>\n",
      "RangeIndex: 58 entries, 0 to 57\n",
      "Data columns (total 6 columns):\n",
      " #   Column                       Non-Null Count  Dtype  \n",
      "---  ------                       --------------  -----  \n",
      " 0   Invoice Date                 58 non-null     object \n",
      " 1   Link ID                      58 non-null     float64\n",
      " 2   Invoice Period               58 non-null     object \n",
      " 3   Invoice Description          58 non-null     object \n",
      " 4   Total Billed for the Period  58 non-null     float64\n",
      " 5   Invoice Ref.                 58 non-null     object \n",
      "dtypes: float64(2), object(4)\n",
      "memory usage: 2.8+ KB\n"
     ]
    }
   ],
   "source": [
    "cleaned_df.info()"
   ]
  },
  {
   "cell_type": "markdown",
   "metadata": {},
   "source": [
    "#### Enhancements"
   ]
  },
  {
   "cell_type": "code",
   "execution_count": 34,
   "metadata": {},
   "outputs": [
    {
     "name": "stdout",
     "output_type": "stream",
     "text": [
      "<class 'pandas.core.frame.DataFrame'>\n",
      "RangeIndex: 58 entries, 0 to 57\n",
      "Data columns (total 6 columns):\n",
      " #   Column                       Non-Null Count  Dtype         \n",
      "---  ------                       --------------  -----         \n",
      " 0   Invoice Date                 58 non-null     datetime64[ns]\n",
      " 1   Link ID                      58 non-null     object        \n",
      " 2   Invoice Period               58 non-null     object        \n",
      " 3   Invoice Description          58 non-null     object        \n",
      " 4   Total Billed for the Period  58 non-null     float64       \n",
      " 5   Invoice Ref.                 58 non-null     object        \n",
      "dtypes: datetime64[ns](1), float64(1), object(4)\n",
      "memory usage: 2.8+ KB\n"
     ]
    }
   ],
   "source": [
    "cleaned_df['Invoice Date'] = pd.to_datetime(cleaned_df['Invoice Date'])\n",
    "cleaned_df['Link ID'] = cleaned_df['Link ID'].astype('int').astype('str')\n",
    "cleaned_df.info()"
   ]
  },
  {
   "cell_type": "code",
   "execution_count": 35,
   "metadata": {},
   "outputs": [
    {
     "data": {
      "text/html": [
       "<div>\n",
       "<style scoped>\n",
       "    .dataframe tbody tr th:only-of-type {\n",
       "        vertical-align: middle;\n",
       "    }\n",
       "\n",
       "    .dataframe tbody tr th {\n",
       "        vertical-align: top;\n",
       "    }\n",
       "\n",
       "    .dataframe thead th {\n",
       "        text-align: right;\n",
       "    }\n",
       "</style>\n",
       "<table border=\"1\" class=\"dataframe\">\n",
       "  <thead>\n",
       "    <tr style=\"text-align: right;\">\n",
       "      <th></th>\n",
       "      <th>Invoice Date</th>\n",
       "      <th>Link ID</th>\n",
       "      <th>Invoice Period</th>\n",
       "      <th>Invoice Description</th>\n",
       "      <th>Total Billed for the Period</th>\n",
       "      <th>Invoice Ref.</th>\n",
       "    </tr>\n",
       "  </thead>\n",
       "  <tbody>\n",
       "    <tr>\n",
       "      <th>0</th>\n",
       "      <td>2023-10-01</td>\n",
       "      <td>95001135</td>\n",
       "      <td>1st Oct to 31st Dec 2023</td>\n",
       "      <td>CUSTOMS OFFICE MALINDI-WIMAX</td>\n",
       "      <td>240145.6128</td>\n",
       "      <td>B1-10096515502</td>\n",
       "    </tr>\n",
       "    <tr>\n",
       "      <th>1</th>\n",
       "      <td>2023-10-01</td>\n",
       "      <td>95001574</td>\n",
       "      <td>1st Oct to 31st Dec 2023</td>\n",
       "      <td>KRA LOITOKTOK BORDER WIMAX</td>\n",
       "      <td>240145.6128</td>\n",
       "      <td>B1-10096515502</td>\n",
       "    </tr>\n",
       "    <tr>\n",
       "      <th>2</th>\n",
       "      <td>2023-10-01</td>\n",
       "      <td>95001628</td>\n",
       "      <td>1st Oct to 31st Dec 2023</td>\n",
       "      <td>KRA KRATI MOMBASA WIMAX</td>\n",
       "      <td>240145.6128</td>\n",
       "      <td>B1-10096515502</td>\n",
       "    </tr>\n",
       "    <tr>\n",
       "      <th>3</th>\n",
       "      <td>2023-10-01</td>\n",
       "      <td>95004139</td>\n",
       "      <td>1st Oct to 31st Dec 2023</td>\n",
       "      <td>KRA -  MANDERA</td>\n",
       "      <td>180078.7944</td>\n",
       "      <td>B1-10096515502</td>\n",
       "    </tr>\n",
       "    <tr>\n",
       "      <th>4</th>\n",
       "      <td>2023-10-01</td>\n",
       "      <td>95004140</td>\n",
       "      <td>1st Oct to 31st Dec 2023</td>\n",
       "      <td>KRA -  Moyale</td>\n",
       "      <td>240145.6128</td>\n",
       "      <td>B1-10096515502</td>\n",
       "    </tr>\n",
       "  </tbody>\n",
       "</table>\n",
       "</div>"
      ],
      "text/plain": [
       "  Invoice Date   Link ID            Invoice Period  \\\n",
       "0   2023-10-01  95001135  1st Oct to 31st Dec 2023   \n",
       "1   2023-10-01  95001574  1st Oct to 31st Dec 2023   \n",
       "2   2023-10-01  95001628  1st Oct to 31st Dec 2023   \n",
       "3   2023-10-01  95004139  1st Oct to 31st Dec 2023   \n",
       "4   2023-10-01  95004140  1st Oct to 31st Dec 2023   \n",
       "\n",
       "             Invoice Description  Total Billed for the Period    Invoice Ref.  \n",
       "0   CUSTOMS OFFICE MALINDI-WIMAX                  240145.6128  B1-10096515502  \n",
       "1     KRA LOITOKTOK BORDER WIMAX                  240145.6128  B1-10096515502  \n",
       "2        KRA KRATI MOMBASA WIMAX                  240145.6128  B1-10096515502  \n",
       "3                 KRA -  MANDERA                  180078.7944  B1-10096515502  \n",
       "4                  KRA -  Moyale                  240145.6128  B1-10096515502  "
      ]
     },
     "execution_count": 35,
     "metadata": {},
     "output_type": "execute_result"
    }
   ],
   "source": [
    "cleaned_df.head()"
   ]
  },
  {
   "cell_type": "code",
   "execution_count": null,
   "metadata": {},
   "outputs": [],
   "source": [
    "cleaned_df['Link ID'].astype('object')"
   ]
  },
  {
   "cell_type": "code",
   "execution_count": 80,
   "metadata": {},
   "outputs": [],
   "source": [
    "import pandas as pd\n",
    "\n",
    "class DataCleaner:\n",
    "    def __init__(self, df):\n",
    "        self.df = df\n",
    "\n",
    "    def drop_null_rows(self):\n",
    "        self.df.dropna(how='all', inplace=True)\n",
    "\n",
    "    def drop_total_row(self):\n",
    "        if \"No.\" in self.df.columns:\n",
    "            self.df.drop(self.df[self.df[\"No.\"] == \"Total\"].index, inplace=True)\n",
    "\n",
    "    def pick_invoice_no_column_name(self):\n",
    "        for substring in ['invoice no', 'ref']:\n",
    "            matching_columns = [col for col in self.df.columns if substring.lower() in col.lower()]\n",
    "            if matching_columns:\n",
    "                return matching_columns[0]\n",
    "\n",
    "    def QRC_Finder(self):\n",
    "        max_value = None\n",
    "        max_col = None\n",
    "        for substring in ['QRC', 'Total', 'Amount']:\n",
    "            fields = [col for col in self.df.columns if substring.lower() in col.lower()]\n",
    "            for field in fields:\n",
    "                if field in self.df.columns and not self.df[field].isnull().all():\n",
    "                    first_row_value = self.df.at[1, field]\n",
    "                    if max_value is None or first_row_value > max_value:\n",
    "                        max_value = first_row_value\n",
    "                        max_col = field\n",
    "        return max_col\n",
    "\n",
    "    def col_of_interest(self):\n",
    "        self.drop_null_rows()\n",
    "        self.drop_total_row()\n",
    "\n",
    "        columns_wanted = {\n",
    "            \"Date\": \"Invoice Date\",\n",
    "            \"ID\": \"Link ID\",\n",
    "            \"Period\": \"Invoice Period\",\n",
    "            \"Description\": \"Invoice Description\",            \n",
    "            \"Reference/No\": self.pick_invoice_no_column_name(),\n",
    "            \"QRC\": self.QRC_Finder()\n",
    "        }\n",
    "\n",
    "        self.df = self.df.loc[:, [value for value in columns_wanted.values()]]\n",
    "\n",
    "\n",
    "    def col_renaming(self):\n",
    "        self.col_of_interest()\n",
    "\n",
    "        new_col_names = {\n",
    "            \"Invoice Date\": \"Invoice_Data\",\n",
    "            \"Link ID\": \"Link_ID\",\n",
    "            \"Invoice Period\": \"Invoice_Period\",\n",
    "            \"Invoice Description\":\"Invoice_Description\",           \n",
    "            self.pick_invoice_no_column_name(): \"Invoice_Reference\",\n",
    "             self.QRC_Finder(): \"Total_QRC\"\n",
    "        }\n",
    "        self.df = self.df.rename(columns = new_col_names)\n",
    "\n",
    "    def clean_invoice_data(self):\n",
    "        self.col_renaming()\n",
    "        # Convert 'Invoice Date' to datetime\n",
    "        if 'Invoice_Date' in self.df.columns:\n",
    "            self.df['Invoice_Date'] = pd.to_datetime(self.df['Invoice_Date'])\n",
    "\n",
    "        # Adjust 'Link ID' based on its current type\n",
    "        if 'Link ID' in self.df.columns:\n",
    "            if self.df['Link_ID'].dtype == 'float':\n",
    "                self.df['Link_ID'] = self.df['Link_ID'].astype('int').astype('str')\n",
    "            elif self.df['Link_ID'].dtype == 'int':\n",
    "                self.df['Link_ID'] = self.df['Link_ID'].astype('str')\n",
    "            # If 'Link ID' is already object, no conversion is needed\n",
    "        return self.df\n",
    "\n",
    "# Assuming df is your DataFrame\n",
    "cleaner = InvoiceCleaner(df)\n",
    "cleaned_df = cleaner.clean_invoice_data()\n",
    "\n"
   ]
  },
  {
   "cell_type": "code",
   "execution_count": 81,
   "metadata": {},
   "outputs": [
    {
     "data": {
      "text/html": [
       "<div>\n",
       "<style scoped>\n",
       "    .dataframe tbody tr th:only-of-type {\n",
       "        vertical-align: middle;\n",
       "    }\n",
       "\n",
       "    .dataframe tbody tr th {\n",
       "        vertical-align: top;\n",
       "    }\n",
       "\n",
       "    .dataframe thead th {\n",
       "        text-align: right;\n",
       "    }\n",
       "</style>\n",
       "<table border=\"1\" class=\"dataframe\">\n",
       "  <thead>\n",
       "    <tr style=\"text-align: right;\">\n",
       "      <th></th>\n",
       "      <th>Invoice_Data</th>\n",
       "      <th>Link_ID</th>\n",
       "      <th>Invoice_Period</th>\n",
       "      <th>Invoice_Description</th>\n",
       "      <th>Invoice_Reference</th>\n",
       "      <th>Total_QRC</th>\n",
       "    </tr>\n",
       "  </thead>\n",
       "  <tbody>\n",
       "    <tr>\n",
       "      <th>0</th>\n",
       "      <td>2023-10-13</td>\n",
       "      <td>26046</td>\n",
       "      <td>01-Oct-2023 to 31-Dec-2023</td>\n",
       "      <td>26046 National MPLS KRA MBITA TO VRF (INS-57)</td>\n",
       "      <td>CRN-15473</td>\n",
       "      <td>-55986.24</td>\n",
       "    </tr>\n",
       "    <tr>\n",
       "      <th>1</th>\n",
       "      <td>2023-10-06</td>\n",
       "      <td>C-00159-0087</td>\n",
       "      <td>01-Oct-2023 to 31-Dec-2023</td>\n",
       "      <td>C-00159-0087 EPL Connection charge 80MBPS-&gt;SAM...</td>\n",
       "      <td>116426</td>\n",
       "      <td>417600.00</td>\n",
       "    </tr>\n",
       "    <tr>\n",
       "      <th>2</th>\n",
       "      <td>2023-10-06</td>\n",
       "      <td>1750</td>\n",
       "      <td>01-Oct-2023 to 31-Dec-2023</td>\n",
       "      <td>01750 National MPLS KRA - TIMES TOWERS TO VRF</td>\n",
       "      <td>116426</td>\n",
       "      <td>939600.00</td>\n",
       "    </tr>\n",
       "    <tr>\n",
       "      <th>3</th>\n",
       "      <td>2023-10-06</td>\n",
       "      <td>5611</td>\n",
       "      <td>01-Oct-2023 to 31-Dec-2023</td>\n",
       "      <td>05611 National MPLS Msa link vlan 460 customs</td>\n",
       "      <td>116426</td>\n",
       "      <td>71835.90</td>\n",
       "    </tr>\n",
       "    <tr>\n",
       "      <th>4</th>\n",
       "      <td>2023-10-06</td>\n",
       "      <td>20103</td>\n",
       "      <td>01-Oct-2023 to 31-Dec-2023</td>\n",
       "      <td>20103 Leased_Circuits_Naticnal KRA WILSON AIRP...</td>\n",
       "      <td>116426</td>\n",
       "      <td>79866.00</td>\n",
       "    </tr>\n",
       "  </tbody>\n",
       "</table>\n",
       "</div>"
      ],
      "text/plain": [
       "  Invoice_Data       Link_ID              Invoice_Period  \\\n",
       "0   2023-10-13         26046  01-Oct-2023 to 31-Dec-2023   \n",
       "1   2023-10-06  C-00159-0087  01-Oct-2023 to 31-Dec-2023   \n",
       "2   2023-10-06          1750  01-Oct-2023 to 31-Dec-2023   \n",
       "3   2023-10-06          5611  01-Oct-2023 to 31-Dec-2023   \n",
       "4   2023-10-06         20103  01-Oct-2023 to 31-Dec-2023   \n",
       "\n",
       "                                 Invoice_Description Invoice_Reference  \\\n",
       "0      26046 National MPLS KRA MBITA TO VRF (INS-57)         CRN-15473   \n",
       "1  C-00159-0087 EPL Connection charge 80MBPS->SAM...            116426   \n",
       "2      01750 National MPLS KRA - TIMES TOWERS TO VRF            116426   \n",
       "3      05611 National MPLS Msa link vlan 460 customs            116426   \n",
       "4  20103 Leased_Circuits_Naticnal KRA WILSON AIRP...            116426   \n",
       "\n",
       "   Total_QRC  \n",
       "0  -55986.24  \n",
       "1  417600.00  \n",
       "2  939600.00  \n",
       "3   71835.90  \n",
       "4   79866.00  "
      ]
     },
     "execution_count": 81,
     "metadata": {},
     "output_type": "execute_result"
    }
   ],
   "source": [
    "cleaned_df.head()"
   ]
  },
  {
   "cell_type": "code",
   "execution_count": 82,
   "metadata": {},
   "outputs": [
    {
     "name": "stdout",
     "output_type": "stream",
     "text": [
      "<class 'pandas.core.frame.DataFrame'>\n",
      "RangeIndex: 26 entries, 0 to 25\n",
      "Data columns (total 6 columns):\n",
      " #   Column               Non-Null Count  Dtype  \n",
      "---  ------               --------------  -----  \n",
      " 0   Invoice_Data         26 non-null     object \n",
      " 1   Link_ID              26 non-null     object \n",
      " 2   Invoice_Period       26 non-null     object \n",
      " 3   Invoice_Description  26 non-null     object \n",
      " 4   Invoice_Reference    26 non-null     object \n",
      " 5   Total_QRC            26 non-null     float64\n",
      "dtypes: float64(1), object(5)\n",
      "memory usage: 1.3+ KB\n"
     ]
    }
   ],
   "source": [
    "cleaned_df.info()"
   ]
  },
  {
   "cell_type": "code",
   "execution_count": 67,
   "metadata": {},
   "outputs": [
    {
     "data": {
      "text/html": [
       "<div>\n",
       "<style scoped>\n",
       "    .dataframe tbody tr th:only-of-type {\n",
       "        vertical-align: middle;\n",
       "    }\n",
       "\n",
       "    .dataframe tbody tr th {\n",
       "        vertical-align: top;\n",
       "    }\n",
       "\n",
       "    .dataframe thead th {\n",
       "        text-align: right;\n",
       "    }\n",
       "</style>\n",
       "<table border=\"1\" class=\"dataframe\">\n",
       "  <thead>\n",
       "    <tr style=\"text-align: right;\">\n",
       "      <th></th>\n",
       "      <th>Invoice Date</th>\n",
       "      <th>Link ID</th>\n",
       "      <th>Invoice Period</th>\n",
       "      <th>Invoice Description</th>\n",
       "      <th>Invoice Total</th>\n",
       "      <th>Invoice No</th>\n",
       "    </tr>\n",
       "  </thead>\n",
       "  <tbody>\n",
       "    <tr>\n",
       "      <th>0</th>\n",
       "      <td>2023-10-13</td>\n",
       "      <td>26046</td>\n",
       "      <td>01-Oct-2023 to 31-Dec-2023</td>\n",
       "      <td>26046 National MPLS KRA MBITA TO VRF (INS-57)</td>\n",
       "      <td>-55986.240</td>\n",
       "      <td>CRN-15473</td>\n",
       "    </tr>\n",
       "    <tr>\n",
       "      <th>1</th>\n",
       "      <td>2023-10-06</td>\n",
       "      <td>C-00159-0087</td>\n",
       "      <td>01-Oct-2023 to 31-Dec-2023</td>\n",
       "      <td>C-00159-0087 EPL Connection charge 80MBPS-&gt;SAM...</td>\n",
       "      <td>417600.000</td>\n",
       "      <td>116426</td>\n",
       "    </tr>\n",
       "    <tr>\n",
       "      <th>2</th>\n",
       "      <td>2023-10-06</td>\n",
       "      <td>1750</td>\n",
       "      <td>01-Oct-2023 to 31-Dec-2023</td>\n",
       "      <td>01750 National MPLS KRA - TIMES TOWERS TO VRF</td>\n",
       "      <td>939600.000</td>\n",
       "      <td>116426</td>\n",
       "    </tr>\n",
       "    <tr>\n",
       "      <th>3</th>\n",
       "      <td>2023-10-06</td>\n",
       "      <td>5611</td>\n",
       "      <td>01-Oct-2023 to 31-Dec-2023</td>\n",
       "      <td>05611 National MPLS Msa link vlan 460 customs</td>\n",
       "      <td>71835.900</td>\n",
       "      <td>116426</td>\n",
       "    </tr>\n",
       "    <tr>\n",
       "      <th>4</th>\n",
       "      <td>2023-10-06</td>\n",
       "      <td>20103</td>\n",
       "      <td>01-Oct-2023 to 31-Dec-2023</td>\n",
       "      <td>20103 Leased_Circuits_Naticnal KRA WILSON AIRP...</td>\n",
       "      <td>79866.000</td>\n",
       "      <td>116426</td>\n",
       "    </tr>\n",
       "    <tr>\n",
       "      <th>5</th>\n",
       "      <td>2023-10-06</td>\n",
       "      <td>20954</td>\n",
       "      <td>01-Oct-2023 to 31-Dec-2023</td>\n",
       "      <td>20954 National MPLS KRA EGERTON UNIVERSITY NJO...</td>\n",
       "      <td>174000.000</td>\n",
       "      <td>116426</td>\n",
       "    </tr>\n",
       "    <tr>\n",
       "      <th>6</th>\n",
       "      <td>2023-10-06</td>\n",
       "      <td>21195</td>\n",
       "      <td>01-Oct-2023 to 31-Dec-2023</td>\n",
       "      <td>21195 National MPLS KRA SAMEER BUSINESS PARK T...</td>\n",
       "      <td>501120.000</td>\n",
       "      <td>116426</td>\n",
       "    </tr>\n",
       "    <tr>\n",
       "      <th>7</th>\n",
       "      <td>2023-10-06</td>\n",
       "      <td>23945</td>\n",
       "      <td>01-Oct-2023 to 31-Dec-2023</td>\n",
       "      <td>23945 National MPLS KRA JKIA TERMINAL 2 TO VRF...</td>\n",
       "      <td>69600.000</td>\n",
       "      <td>116426</td>\n",
       "    </tr>\n",
       "    <tr>\n",
       "      <th>8</th>\n",
       "      <td>2023-10-06</td>\n",
       "      <td>24174</td>\n",
       "      <td>01-Oct-2023 to 31-Dec-2023</td>\n",
       "      <td>24174 National MPLS KRA KISUMU PIER TO VRF(#48...</td>\n",
       "      <td>66120.000</td>\n",
       "      <td>116426</td>\n",
       "    </tr>\n",
       "    <tr>\n",
       "      <th>9</th>\n",
       "      <td>2023-10-06</td>\n",
       "      <td>25102</td>\n",
       "      <td>01-Oct-2023 to 31-Dec-2023</td>\n",
       "      <td>25102 National MPLS KRA KITALE TO VRF (#45509)</td>\n",
       "      <td>187920.000</td>\n",
       "      <td>116426</td>\n",
       "    </tr>\n",
       "    <tr>\n",
       "      <th>10</th>\n",
       "      <td>2023-10-06</td>\n",
       "      <td>25106</td>\n",
       "      <td>01-Oct-2023 to 31-Dec-2023</td>\n",
       "      <td>25106 National MPLS KRA KISUMU AIRPORT TO VRF(...</td>\n",
       "      <td>66120.000</td>\n",
       "      <td>116426</td>\n",
       "    </tr>\n",
       "    <tr>\n",
       "      <th>11</th>\n",
       "      <td>2023-10-06</td>\n",
       "      <td>26046</td>\n",
       "      <td>01-Oct-2023 to 31-Dec-2023</td>\n",
       "      <td>26046 National MPLS KRA MBITA TO VRF (INS-57)</td>\n",
       "      <td>55986.240</td>\n",
       "      <td>116426</td>\n",
       "    </tr>\n",
       "    <tr>\n",
       "      <th>12</th>\n",
       "      <td>2023-10-06</td>\n",
       "      <td>SVC-000000055</td>\n",
       "      <td>01-Oct-2023 to 31-Dec-2023</td>\n",
       "      <td>SVC-000000055 Local Access 10Mbps - JKIA Termi...</td>\n",
       "      <td>139200.000</td>\n",
       "      <td>116426</td>\n",
       "    </tr>\n",
       "    <tr>\n",
       "      <th>13</th>\n",
       "      <td>2023-10-06</td>\n",
       "      <td>C-00159-0035</td>\n",
       "      <td>01-Oct-2023 to 31-Dec-2023</td>\n",
       "      <td>C-00159-0035 National MPLS 10Mbps - JKIA Termi...</td>\n",
       "      <td>139200.000</td>\n",
       "      <td>116426</td>\n",
       "    </tr>\n",
       "    <tr>\n",
       "      <th>14</th>\n",
       "      <td>2023-10-06</td>\n",
       "      <td>SVC-000313856</td>\n",
       "      <td>01-Oct-2023 to 31-Dec-2023</td>\n",
       "      <td>SVC-000313856 Local Access 10Mbps - KRA HQ TO ...</td>\n",
       "      <td>111972.480</td>\n",
       "      <td>116426</td>\n",
       "    </tr>\n",
       "    <tr>\n",
       "      <th>15</th>\n",
       "      <td>2023-10-06</td>\n",
       "      <td>SVC-000001477</td>\n",
       "      <td>01-Oct-2023 to 31-Dec-2023</td>\n",
       "      <td>SVC-000001477 Dedicated Internet Access 300Mbp...</td>\n",
       "      <td>1440720.000</td>\n",
       "      <td>116426</td>\n",
       "    </tr>\n",
       "    <tr>\n",
       "      <th>16</th>\n",
       "      <td>2023-10-06</td>\n",
       "      <td>SVC-000001475</td>\n",
       "      <td>01-Oct-2023 to 31-Dec-2023</td>\n",
       "      <td>SVC-000001475 Local Access 150Mbps - KRA TOWER...</td>\n",
       "      <td>939600.000</td>\n",
       "      <td>116426</td>\n",
       "    </tr>\n",
       "    <tr>\n",
       "      <th>17</th>\n",
       "      <td>2023-10-06</td>\n",
       "      <td>SVC-000352039</td>\n",
       "      <td>01-Oct-2023 to 31-Dec-2023</td>\n",
       "      <td>SVC-000352039 Local Access 10MBPA KRA KITENGEL...</td>\n",
       "      <td>66120.000</td>\n",
       "      <td>116426</td>\n",
       "    </tr>\n",
       "    <tr>\n",
       "      <th>18</th>\n",
       "      <td>2023-10-06</td>\n",
       "      <td>SVC-000354016</td>\n",
       "      <td>01-Oct-2023 to 31-Dec-2023</td>\n",
       "      <td>SVC-000354016 Local Access 15MBPS KRA JKIA SIG...</td>\n",
       "      <td>111972.480</td>\n",
       "      <td>116426</td>\n",
       "    </tr>\n",
       "    <tr>\n",
       "      <th>19</th>\n",
       "      <td>2023-10-06</td>\n",
       "      <td>SVC-000354038</td>\n",
       "      <td>01-Oct-2023 to 31-Dec-2023</td>\n",
       "      <td>SVC-000354038 Local Access 10MBPS KRA JKIA EXP...</td>\n",
       "      <td>66123.306</td>\n",
       "      <td>116426</td>\n",
       "    </tr>\n",
       "    <tr>\n",
       "      <th>20</th>\n",
       "      <td>2023-10-06</td>\n",
       "      <td>SVC-000355329</td>\n",
       "      <td>01-Oct-2023 to 31-Dec-2023</td>\n",
       "      <td>SVC-000355329 Local Access 20MBPS DIA KRA WILS...</td>\n",
       "      <td>139200.000</td>\n",
       "      <td>116426</td>\n",
       "    </tr>\n",
       "    <tr>\n",
       "      <th>21</th>\n",
       "      <td>2023-10-06</td>\n",
       "      <td>SVC-000279767</td>\n",
       "      <td>01-Oct-2023 to 31-Dec-2023</td>\n",
       "      <td>SVC-000279767 Local Access 60MBPS KRA KISUMU P...</td>\n",
       "      <td>417600.000</td>\n",
       "      <td>116426</td>\n",
       "    </tr>\n",
       "    <tr>\n",
       "      <th>22</th>\n",
       "      <td>2023-10-06</td>\n",
       "      <td>SVC-000471031</td>\n",
       "      <td>01-Oct-2023 to 31-Dec-2023</td>\n",
       "      <td>SVC-000471031 Local Access 80MBPS-KRA-ICEA Bui...</td>\n",
       "      <td>625418.640</td>\n",
       "      <td>116426</td>\n",
       "    </tr>\n",
       "    <tr>\n",
       "      <th>23</th>\n",
       "      <td>2023-10-06</td>\n",
       "      <td>SVC-000424243</td>\n",
       "      <td>01-Oct-2023 to 31-Dec-2023</td>\n",
       "      <td>SVC-000424243 Local Access 15MBPS-JKIA ROOF TO...</td>\n",
       "      <td>111972.480</td>\n",
       "      <td>116426</td>\n",
       "    </tr>\n",
       "    <tr>\n",
       "      <th>24</th>\n",
       "      <td>2023-10-06</td>\n",
       "      <td>C-00159-0079</td>\n",
       "      <td>01-Oct-2023 to 31-Dec-2023</td>\n",
       "      <td>C-00159-0079 EPL Connection charge 4MBPS-NSSF ...</td>\n",
       "      <td>33060.000</td>\n",
       "      <td>116426</td>\n",
       "    </tr>\n",
       "    <tr>\n",
       "      <th>25</th>\n",
       "      <td>2023-10-06</td>\n",
       "      <td>C-00159-0082</td>\n",
       "      <td>01-Oct-2023 to 31-Dec-2023</td>\n",
       "      <td>C-00159-0082 EPL Connection charge 10MBPS-POST...</td>\n",
       "      <td>55680.000</td>\n",
       "      <td>116426</td>\n",
       "    </tr>\n",
       "  </tbody>\n",
       "</table>\n",
       "</div>"
      ],
      "text/plain": [
       "   Invoice Date        Link ID              Invoice Period  \\\n",
       "0    2023-10-13          26046  01-Oct-2023 to 31-Dec-2023   \n",
       "1    2023-10-06   C-00159-0087  01-Oct-2023 to 31-Dec-2023   \n",
       "2    2023-10-06           1750  01-Oct-2023 to 31-Dec-2023   \n",
       "3    2023-10-06           5611  01-Oct-2023 to 31-Dec-2023   \n",
       "4    2023-10-06          20103  01-Oct-2023 to 31-Dec-2023   \n",
       "5    2023-10-06          20954  01-Oct-2023 to 31-Dec-2023   \n",
       "6    2023-10-06          21195  01-Oct-2023 to 31-Dec-2023   \n",
       "7    2023-10-06          23945  01-Oct-2023 to 31-Dec-2023   \n",
       "8    2023-10-06          24174  01-Oct-2023 to 31-Dec-2023   \n",
       "9    2023-10-06          25102  01-Oct-2023 to 31-Dec-2023   \n",
       "10   2023-10-06          25106  01-Oct-2023 to 31-Dec-2023   \n",
       "11   2023-10-06          26046  01-Oct-2023 to 31-Dec-2023   \n",
       "12   2023-10-06  SVC-000000055  01-Oct-2023 to 31-Dec-2023   \n",
       "13   2023-10-06   C-00159-0035  01-Oct-2023 to 31-Dec-2023   \n",
       "14   2023-10-06  SVC-000313856  01-Oct-2023 to 31-Dec-2023   \n",
       "15   2023-10-06  SVC-000001477  01-Oct-2023 to 31-Dec-2023   \n",
       "16   2023-10-06  SVC-000001475  01-Oct-2023 to 31-Dec-2023   \n",
       "17   2023-10-06  SVC-000352039  01-Oct-2023 to 31-Dec-2023   \n",
       "18   2023-10-06  SVC-000354016  01-Oct-2023 to 31-Dec-2023   \n",
       "19   2023-10-06  SVC-000354038  01-Oct-2023 to 31-Dec-2023   \n",
       "20   2023-10-06  SVC-000355329  01-Oct-2023 to 31-Dec-2023   \n",
       "21   2023-10-06  SVC-000279767  01-Oct-2023 to 31-Dec-2023   \n",
       "22   2023-10-06  SVC-000471031  01-Oct-2023 to 31-Dec-2023   \n",
       "23   2023-10-06  SVC-000424243  01-Oct-2023 to 31-Dec-2023   \n",
       "24   2023-10-06   C-00159-0079  01-Oct-2023 to 31-Dec-2023   \n",
       "25   2023-10-06   C-00159-0082  01-Oct-2023 to 31-Dec-2023   \n",
       "\n",
       "                                  Invoice Description  Invoice Total  \\\n",
       "0       26046 National MPLS KRA MBITA TO VRF (INS-57)     -55986.240   \n",
       "1   C-00159-0087 EPL Connection charge 80MBPS->SAM...     417600.000   \n",
       "2       01750 National MPLS KRA - TIMES TOWERS TO VRF     939600.000   \n",
       "3       05611 National MPLS Msa link vlan 460 customs      71835.900   \n",
       "4   20103 Leased_Circuits_Naticnal KRA WILSON AIRP...      79866.000   \n",
       "5   20954 National MPLS KRA EGERTON UNIVERSITY NJO...     174000.000   \n",
       "6   21195 National MPLS KRA SAMEER BUSINESS PARK T...     501120.000   \n",
       "7   23945 National MPLS KRA JKIA TERMINAL 2 TO VRF...      69600.000   \n",
       "8   24174 National MPLS KRA KISUMU PIER TO VRF(#48...      66120.000   \n",
       "9      25102 National MPLS KRA KITALE TO VRF (#45509)     187920.000   \n",
       "10  25106 National MPLS KRA KISUMU AIRPORT TO VRF(...      66120.000   \n",
       "11      26046 National MPLS KRA MBITA TO VRF (INS-57)      55986.240   \n",
       "12  SVC-000000055 Local Access 10Mbps - JKIA Termi...     139200.000   \n",
       "13  C-00159-0035 National MPLS 10Mbps - JKIA Termi...     139200.000   \n",
       "14  SVC-000313856 Local Access 10Mbps - KRA HQ TO ...     111972.480   \n",
       "15  SVC-000001477 Dedicated Internet Access 300Mbp...    1440720.000   \n",
       "16  SVC-000001475 Local Access 150Mbps - KRA TOWER...     939600.000   \n",
       "17  SVC-000352039 Local Access 10MBPA KRA KITENGEL...      66120.000   \n",
       "18  SVC-000354016 Local Access 15MBPS KRA JKIA SIG...     111972.480   \n",
       "19  SVC-000354038 Local Access 10MBPS KRA JKIA EXP...      66123.306   \n",
       "20  SVC-000355329 Local Access 20MBPS DIA KRA WILS...     139200.000   \n",
       "21  SVC-000279767 Local Access 60MBPS KRA KISUMU P...     417600.000   \n",
       "22  SVC-000471031 Local Access 80MBPS-KRA-ICEA Bui...     625418.640   \n",
       "23  SVC-000424243 Local Access 15MBPS-JKIA ROOF TO...     111972.480   \n",
       "24  C-00159-0079 EPL Connection charge 4MBPS-NSSF ...      33060.000   \n",
       "25  C-00159-0082 EPL Connection charge 10MBPS-POST...      55680.000   \n",
       "\n",
       "   Invoice No  \n",
       "0   CRN-15473  \n",
       "1      116426  \n",
       "2      116426  \n",
       "3      116426  \n",
       "4      116426  \n",
       "5      116426  \n",
       "6      116426  \n",
       "7      116426  \n",
       "8      116426  \n",
       "9      116426  \n",
       "10     116426  \n",
       "11     116426  \n",
       "12     116426  \n",
       "13     116426  \n",
       "14     116426  \n",
       "15     116426  \n",
       "16     116426  \n",
       "17     116426  \n",
       "18     116426  \n",
       "19     116426  \n",
       "20     116426  \n",
       "21     116426  \n",
       "22     116426  \n",
       "23     116426  \n",
       "24     116426  \n",
       "25     116426  "
      ]
     },
     "execution_count": 67,
     "metadata": {},
     "output_type": "execute_result"
    }
   ],
   "source": [
    "cleaned_df"
   ]
  },
  {
   "cell_type": "code",
   "execution_count": null,
   "metadata": {},
   "outputs": [],
   "source": [
    "cleaned_df.rename({\"\"})"
   ]
  },
  {
   "cell_type": "markdown",
   "metadata": {},
   "source": [
    "## SLA Cleaner"
   ]
  },
  {
   "cell_type": "code",
   "execution_count": 1,
   "metadata": {},
   "outputs": [],
   "source": [
    "import pandas as pd\n",
    "df_saf = pd.read_csv('C:\\\\Users\\\\USER\\\\OneDrive\\\\KRA WORK\\\\2024 WS\\\\SLA EDA\\\\SLA_ETL\\\\Processsed_Data\\\\SAFARICOM_SLA.csv')\n",
    "df_ltk = pd.read_csv('C:\\\\Users\\\\USER\\\\OneDrive\\\\KRA WORK\\\\2024 WS\\\\SLA EDA\\\\SLA_ETL\\\\Processsed_Data\\\\LTK_SLA.csv')\n",
    "\n"
   ]
  },
  {
   "cell_type": "code",
   "execution_count": 3,
   "metadata": {},
   "outputs": [
    {
     "name": "stdout",
     "output_type": "stream",
     "text": [
      "<class 'pandas.core.frame.DataFrame'>\n",
      "RangeIndex: 26 entries, 0 to 25\n",
      "Data columns (total 11 columns):\n",
      " #   Column            Non-Null Count  Dtype  \n",
      "---  ------            --------------  -----  \n",
      " 0   No.               26 non-null     int64  \n",
      " 1   SLA Service       26 non-null     object \n",
      " 2   Link Description  24 non-null     object \n",
      " 3   Link ID           26 non-null     object \n",
      " 4   Capacity (Mbps)   26 non-null     int64  \n",
      " 5   MRC               26 non-null     float64\n",
      " 6   QRC               26 non-null     float64\n",
      " 7   Last Mile         26 non-null     object \n",
      " 8   SLA Date          23 non-null     object \n",
      " 9   Status            26 non-null     object \n",
      " 10  SLM Comments      26 non-null     object \n",
      "dtypes: float64(2), int64(2), object(7)\n",
      "memory usage: 2.4+ KB\n"
     ]
    }
   ],
   "source": [
    "df_ltk.info()"
   ]
  },
  {
   "cell_type": "code",
   "execution_count": null,
   "metadata": {},
   "outputs": [],
   "source": [
    "df_saf.tail()"
   ]
  },
  {
   "cell_type": "code",
   "execution_count": null,
   "metadata": {},
   "outputs": [],
   "source": []
  },
  {
   "cell_type": "markdown",
   "metadata": {},
   "source": [
    "### The SLA Cleaner WS"
   ]
  },
  {
   "cell_type": "code",
   "execution_count": 81,
   "metadata": {},
   "outputs": [],
   "source": [
    "class SLA_Cleaner:\n",
    "    def __init__(self, df):\n",
    "          self.df = df\n",
    "         \n",
    "    def drop_null_rows(self):\n",
    "            self.df.dropna(how='all', inplace=True)\n",
    "\n",
    "    def drop_total_row(self):\n",
    "        if \"No.\" in self.df.columns:\n",
    "            self.df.drop(self.df[self.df[\"No.\"] == \"Total\"].index, inplace=True)\n",
    "    def capacity_picker(self):\n",
    "        for pat in ['Capacity']:\n",
    "            matching_cols = [col for col in self.df.columns if pat.lower() in col.lower()]\n",
    "            if matching_cols:\n",
    "                return matching_cols[0]\n",
    "    def comments_picker(self):\n",
    "        for pat in ['comment']:\n",
    "            matching_cols = [col for col in self.df.columns if pat.lower() in col.lower()]\n",
    "            if matching_cols:\n",
    "                return matching_cols[0]\n",
    "            \n",
    "    def Site_desc_picker(self):\n",
    "        for pat in ['site', 'description']:\n",
    "            matching_cols = [col for col in self.df.columns if pat.lower() in col.lower()]\n",
    "            if matching_cols:\n",
    "                return matching_cols[0]\n",
    "    def MRC_picker(self):\n",
    "        for pat in ['month', 'MRC']:\n",
    "            matching_cols = [col for col in self.df.columns if pat.lower() in col.lower()]\n",
    "            if matching_cols:\n",
    "                return matching_cols[0]\n",
    "            \n",
    "    def SLA_col_subsetting(self):\n",
    "        self.capacity_picker()\n",
    "        self.comments_picker()\n",
    "        self.Site_desc_picker()\n",
    "        self.MRC_picker()\n",
    "        \n",
    "        SLA_Cols = {'Link ID': 'Link ID',\n",
    "            'SLA Dates':'SLA Date',\n",
    "            'Last Mile': 'Last Mile',            \n",
    "            'Capacity': self.capacity_picker(),\n",
    "            'Sites/Location': self.Site_desc_picker(),\n",
    "            'MRC': self.MRC_picker(),\n",
    "            'Comments':self.comments_picker()\n",
    "            }\n",
    "        self.df = self.df.loc[:, [col for col in SLA_Cols.values()]]\n",
    "\n",
    "        # Transforming the SLA Cols\n",
    "    def cols_transfomer(self):\n",
    "        self.SLA_col_subsetting()\n",
    "        self.excise_duty = 0.15\n",
    "        self.VAT = 0.16\n",
    "        # Changing the link id to str depending in the current dtype\n",
    "        if 'Link ID' in self.df.columns:\n",
    "            if self.df['Link ID'].dtype == 'float':\n",
    "                self.df['Link ID'] = self.df['Link ID'].astype('int').astype('str')\n",
    "            elif self.df['Link ID'].dtype == 'int':\n",
    "                self.df['Link ID'] = self.df['Link ID'].astype('str')\n",
    "        \n",
    "        #Date to dtype Date\n",
    "        if 'SLA Date' in self.df.columns:\n",
    "            self.df['SLA Date'] = pd.to_datetime(self.df['SLA Date'])\n",
    "        \n",
    "        # Capacity\n",
    "        if self.capacity_picker() in self.df.columns and self.df[self.capacity_picker()].dtype == 'object':\n",
    "            self.df[self.capacity_picker()] = self.df[self.capacity_picker()].str.split(' ',expand =True)[0].astype('int')\n",
    "        \n",
    "        # Calculating the Quarterly Recurring Charges\n",
    "        if self.MRC_picker() in self.df.columns:\n",
    "            self.df['QRC'] = np.multiply(np.multiply(self.df[self.MRC_picker()],\n",
    "                                                (1 + self.excise_duty + self.VAT)),3)\n",
    "        \n",
    "        #renaming the Columns\n",
    "        SLA_New_Names = {\n",
    "            'Link ID': 'Link_ID',\n",
    "            'SLA Date': 'SLA_Date',\n",
    "            'Last Mile': 'Last_Mile',\n",
    "            'QRC': 'QRC_Incl',\n",
    "            self.Site_desc_picker(): 'Location',\n",
    "            self.capacity_picker(): 'Capacity',\n",
    "            self.MRC_picker(): 'MRC_Excl',\n",
    "            self.comments_picker(): 'SLM_Comments'\n",
    "        }\n",
    "        self.df = self.df.rename(columns = SLA_New_Names)\n",
    "\n",
    "    \n",
    "\n",
    "    def SLA_df(self):\n",
    "         self.drop_null_rows()\n",
    "         self.drop_total_row()\n",
    "         self.cols_transfomer()\n",
    "\n",
    "\n",
    "         df = self.df\n",
    "         return df\n",
    "        "
   ]
  },
  {
   "cell_type": "code",
   "execution_count": null,
   "metadata": {},
   "outputs": [],
   "source": [
    "class SLA_Cleaner:\n",
    "    def __init__(self, df):\n",
    "        self.df = df\n",
    "         \n",
    "    def drop_null_rows(self):\n",
    "        self.df.dropna(how='all', inplace=True)\n",
    "\n",
    "    def drop_total_row(self):\n",
    "        if \"No.\" in self.df.columns:\n",
    "            self.df.drop(self.df[self.df[\"No.\"] == \"Total\"].index, inplace=True)\n",
    "            \n",
    "    def pick_column_by_pattern(self, pattern):\n",
    "        for pat in pattern:\n",
    "            matching_cols = [col for col in self.df.columns if pat.lower() in col.lower()]\n",
    "            if matching_cols:\n",
    "                return matching_cols[0]\n",
    "        return None\n",
    "            \n",
    "    def SLA_col_subsetting(self):\n",
    "        capacity_col = self.pick_column_by_pattern(['Capacity'])\n",
    "        comments_col = self.pick_column_by_pattern(['comment'])\n",
    "        site_desc_col = self.pick_column_by_pattern(['site', 'description'])\n",
    "        mrc_col = self.pick_column_by_pattern(['month', 'MRC'])\n",
    "        \n",
    "        SLA_Cols = {'Link ID': 'Link ID',\n",
    "                    'SLA Dates': 'SLA Date',\n",
    "                    'Last Mile': 'Last Mile',            \n",
    "                    'Capacity': capacity_col,\n",
    "                    'Sites/Location': site_desc_col,\n",
    "                    'MRC': mrc_col,\n",
    "                    'Comments': comments_col\n",
    "                    }\n",
    "        self.df = self.df.loc[:, [col for col in SLA_Cols.values()]]\n",
    "\n",
    "    def cols_transfomer(self):\n",
    "        self.SLA_col_subsetting()\n",
    "        self.excise_duty = 0.15\n",
    "        self.VAT = 0.16\n",
    "        # Changing the link id to str depending in the current dtype\n",
    "        if 'Link ID' in self.df.columns:\n",
    "            if self.df['Link ID'].dtype == 'float':\n",
    "                self.df['Link ID'] = self.df['Link ID'].astype('int').astype('str')\n",
    "            elif self.df['Link ID'].dtype == 'int':\n",
    "                self.df['Link ID'] = self.df['Link ID'].astype('str')\n",
    "        \n",
    "        #Date to dtype Date\n",
    "        if 'SLA Date' in self.df.columns:\n",
    "            self.df['SLA Date'] = pd.to_datetime(self.df['SLA Date'])\n",
    "        \n",
    "        # Capacity\n",
    "        if self.capacity_picker() in self.df.columns and self.df[self.capacity_picker()].dtype == 'object':\n",
    "            self.df[self.capacity_picker()] = self.df[self.capacity_picker()].str.split(' ',expand =True)[0].astype('int')\n",
    "        \n",
    "        # Calculating the Quarterly Recurring Charges\n",
    "        if self.MRC_picker() in self.df.columns:\n",
    "            self.df['QRC'] = np.multiply(np.multiply(self.df[self.MRC_picker()],\n",
    "                                                (1 + self.excise_duty + self.VAT)),3)\n",
    "        \n",
    "        #renaming the Columns\n",
    "        SLA_New_Names = {\n",
    "            'Link ID': 'Link_ID',\n",
    "            'SLA Date': 'SLA_Date',\n",
    "            'Last Mile': 'Last_Mile',\n",
    "            'QRC': 'QRC_Incl',\n",
    "            site_desc_col : 'Location',\n",
    "            self.capacity_picker(): 'Capacity',\n",
    "            self.MRC_picker(): 'MRC_Excl',\n",
    "            self.comments_picker(): 'SLM_Comments'\n",
    "        }\n",
    "        self.df = self.df.rename(columns = SLA_New_Names)\n",
    "\n",
    "    def SLA_df(self):\n",
    "        self.drop_null_rows()\n",
    "        self.drop_total_row()\n",
    "        self.cols_transfomer()\n",
    "\n",
    "        return self.df\n"
   ]
  },
  {
   "cell_type": "code",
   "execution_count": 77,
   "metadata": {},
   "outputs": [],
   "source": [
    "saf_cleaned = SLA_Cleaner(df_saf).SLA_df()\n",
    "ltk_cleaned = SLA_Cleaner(df_ltk).SLA_df()"
   ]
  },
  {
   "cell_type": "code",
   "execution_count": 78,
   "metadata": {},
   "outputs": [
    {
     "data": {
      "text/html": [
       "<div>\n",
       "<style scoped>\n",
       "    .dataframe tbody tr th:only-of-type {\n",
       "        vertical-align: middle;\n",
       "    }\n",
       "\n",
       "    .dataframe tbody tr th {\n",
       "        vertical-align: top;\n",
       "    }\n",
       "\n",
       "    .dataframe thead th {\n",
       "        text-align: right;\n",
       "    }\n",
       "</style>\n",
       "<table border=\"1\" class=\"dataframe\">\n",
       "  <thead>\n",
       "    <tr style=\"text-align: right;\">\n",
       "      <th></th>\n",
       "      <th>Link_ID</th>\n",
       "      <th>SLA_Date</th>\n",
       "      <th>Last_Mile</th>\n",
       "      <th>Capacity</th>\n",
       "      <th>Location</th>\n",
       "      <th>MRC_Excl</th>\n",
       "      <th>SLM_Comments</th>\n",
       "      <th>QRC_Incl</th>\n",
       "    </tr>\n",
       "  </thead>\n",
       "  <tbody>\n",
       "    <tr>\n",
       "      <th>54</th>\n",
       "      <td>95096538</td>\n",
       "      <td>2023-10-01</td>\n",
       "      <td>MPLS</td>\n",
       "      <td>20</td>\n",
       "      <td>KRA - BUSIA-FIBRE</td>\n",
       "      <td>82200.00</td>\n",
       "      <td>NaN</td>\n",
       "      <td>323046.0000</td>\n",
       "    </tr>\n",
       "    <tr>\n",
       "      <th>55</th>\n",
       "      <td>95006961</td>\n",
       "      <td>2023-10-01</td>\n",
       "      <td>MPLS</td>\n",
       "      <td>15</td>\n",
       "      <td>KRA - FIXED 30th Floor 3001</td>\n",
       "      <td>11274.36</td>\n",
       "      <td>NaN</td>\n",
       "      <td>44308.2348</td>\n",
       "    </tr>\n",
       "    <tr>\n",
       "      <th>56</th>\n",
       "      <td>95006963</td>\n",
       "      <td>2023-10-01</td>\n",
       "      <td>Internet</td>\n",
       "      <td>15</td>\n",
       "      <td>KRA - FIXED 25th Floor 2575</td>\n",
       "      <td>11274.36</td>\n",
       "      <td>NaN</td>\n",
       "      <td>44308.2348</td>\n",
       "    </tr>\n",
       "    <tr>\n",
       "      <th>57</th>\n",
       "      <td>95021939</td>\n",
       "      <td>2023-10-01</td>\n",
       "      <td>Internet</td>\n",
       "      <td>10</td>\n",
       "      <td>KENYA SCHOOL OF REVENUE  -FIBER</td>\n",
       "      <td>15300.00</td>\n",
       "      <td>NaN</td>\n",
       "      <td>60129.0000</td>\n",
       "    </tr>\n",
       "    <tr>\n",
       "      <th>58</th>\n",
       "      <td>95018756</td>\n",
       "      <td>2023-10-01</td>\n",
       "      <td>MPLS</td>\n",
       "      <td>10</td>\n",
       "      <td>KRA -SIAYA</td>\n",
       "      <td>38000.00</td>\n",
       "      <td>NaN</td>\n",
       "      <td>149340.0000</td>\n",
       "    </tr>\n",
       "  </tbody>\n",
       "</table>\n",
       "</div>"
      ],
      "text/plain": [
       "     Link_ID   SLA_Date  Last_Mile  Capacity                         Location  \\\n",
       "54  95096538 2023-10-01       MPLS        20                KRA - BUSIA-FIBRE   \n",
       "55  95006961 2023-10-01       MPLS        15      KRA - FIXED 30th Floor 3001   \n",
       "56  95006963 2023-10-01  Internet         15      KRA - FIXED 25th Floor 2575   \n",
       "57  95021939 2023-10-01  Internet         10  KENYA SCHOOL OF REVENUE  -FIBER   \n",
       "58  95018756 2023-10-01       MPLS        10                       KRA -SIAYA   \n",
       "\n",
       "    MRC_Excl SLM_Comments     QRC_Incl  \n",
       "54  82200.00          NaN  323046.0000  \n",
       "55  11274.36          NaN   44308.2348  \n",
       "56  11274.36          NaN   44308.2348  \n",
       "57  15300.00          NaN   60129.0000  \n",
       "58  38000.00          NaN  149340.0000  "
      ]
     },
     "execution_count": 78,
     "metadata": {},
     "output_type": "execute_result"
    }
   ],
   "source": [
    "saf_cleaned.tail()"
   ]
  },
  {
   "cell_type": "code",
   "execution_count": 79,
   "metadata": {},
   "outputs": [
    {
     "data": {
      "text/html": [
       "<div>\n",
       "<style scoped>\n",
       "    .dataframe tbody tr th:only-of-type {\n",
       "        vertical-align: middle;\n",
       "    }\n",
       "\n",
       "    .dataframe tbody tr th {\n",
       "        vertical-align: top;\n",
       "    }\n",
       "\n",
       "    .dataframe thead th {\n",
       "        text-align: right;\n",
       "    }\n",
       "</style>\n",
       "<table border=\"1\" class=\"dataframe\">\n",
       "  <thead>\n",
       "    <tr style=\"text-align: right;\">\n",
       "      <th></th>\n",
       "      <th>Link_ID</th>\n",
       "      <th>SLA_Date</th>\n",
       "      <th>Last_Mile</th>\n",
       "      <th>Capacity</th>\n",
       "      <th>Location</th>\n",
       "      <th>MRC_Excl</th>\n",
       "      <th>SLM_Comments</th>\n",
       "      <th>QRC_Incl</th>\n",
       "    </tr>\n",
       "  </thead>\n",
       "  <tbody>\n",
       "    <tr>\n",
       "      <th>0</th>\n",
       "      <td>1750</td>\n",
       "      <td>2020-10-01</td>\n",
       "      <td>Fibre</td>\n",
       "      <td>90</td>\n",
       "      <td>KRA - TIMES TOWERS TO KRA - KIXP (EADC)</td>\n",
       "      <td>270000.0</td>\n",
       "      <td>16/04/2022: Upgraded 90 Mbps @ KES 649,050  -&gt;...</td>\n",
       "      <td>1061100.000</td>\n",
       "    </tr>\n",
       "    <tr>\n",
       "      <th>1</th>\n",
       "      <td>5277</td>\n",
       "      <td>2020-10-01</td>\n",
       "      <td>Fibre</td>\n",
       "      <td>75</td>\n",
       "      <td>KRA CUSTOMS HSE TO KRA TIMES TOWER</td>\n",
       "      <td>179718.0</td>\n",
       "      <td>Not in Invoice/Renamed/Relocated</td>\n",
       "      <td>706291.740</td>\n",
       "    </tr>\n",
       "    <tr>\n",
       "      <th>2</th>\n",
       "      <td>5611</td>\n",
       "      <td>2020-10-01</td>\n",
       "      <td>Fibre</td>\n",
       "      <td>8</td>\n",
       "      <td>KRA AIRPORT CONTAINER DEPOT TO CUSTOMS HSE MSA</td>\n",
       "      <td>20642.5</td>\n",
       "      <td>Okay. No change</td>\n",
       "      <td>81125.025</td>\n",
       "    </tr>\n",
       "    <tr>\n",
       "      <th>3</th>\n",
       "      <td>20103</td>\n",
       "      <td>2020-10-01</td>\n",
       "      <td>Fibre</td>\n",
       "      <td>9</td>\n",
       "      <td>KRA Wilson Airport Customs to Times Towers - V...</td>\n",
       "      <td>22950.0</td>\n",
       "      <td>Okay. No change</td>\n",
       "      <td>90193.500</td>\n",
       "    </tr>\n",
       "    <tr>\n",
       "      <th>4</th>\n",
       "      <td>20954</td>\n",
       "      <td>2020-10-01</td>\n",
       "      <td>Fibre</td>\n",
       "      <td>20</td>\n",
       "      <td>KRA TIMES TOWERS NBO TO EGERTON UNIVERSITY NJO...</td>\n",
       "      <td>50000.0</td>\n",
       "      <td>Okay. No change</td>\n",
       "      <td>196500.000</td>\n",
       "    </tr>\n",
       "  </tbody>\n",
       "</table>\n",
       "</div>"
      ],
      "text/plain": [
       "  Link_ID   SLA_Date Last_Mile  Capacity  \\\n",
       "0    1750 2020-10-01     Fibre        90   \n",
       "1    5277 2020-10-01     Fibre        75   \n",
       "2    5611 2020-10-01     Fibre         8   \n",
       "3   20103 2020-10-01     Fibre         9   \n",
       "4   20954 2020-10-01     Fibre        20   \n",
       "\n",
       "                                            Location  MRC_Excl  \\\n",
       "0            KRA - TIMES TOWERS TO KRA - KIXP (EADC)  270000.0   \n",
       "1                 KRA CUSTOMS HSE TO KRA TIMES TOWER  179718.0   \n",
       "2     KRA AIRPORT CONTAINER DEPOT TO CUSTOMS HSE MSA   20642.5   \n",
       "3  KRA Wilson Airport Customs to Times Towers - V...   22950.0   \n",
       "4  KRA TIMES TOWERS NBO TO EGERTON UNIVERSITY NJO...   50000.0   \n",
       "\n",
       "                                        SLM_Comments     QRC_Incl  \n",
       "0  16/04/2022: Upgraded 90 Mbps @ KES 649,050  ->...  1061100.000  \n",
       "1                   Not in Invoice/Renamed/Relocated   706291.740  \n",
       "2                                    Okay. No change    81125.025  \n",
       "3                                    Okay. No change    90193.500  \n",
       "4                                    Okay. No change   196500.000  "
      ]
     },
     "execution_count": 79,
     "metadata": {},
     "output_type": "execute_result"
    }
   ],
   "source": [
    "ltk_cleaned.head()"
   ]
  },
  {
   "cell_type": "code",
   "execution_count": 23,
   "metadata": {},
   "outputs": [
    {
     "data": {
      "text/html": [
       "<div>\n",
       "<style scoped>\n",
       "    .dataframe tbody tr th:only-of-type {\n",
       "        vertical-align: middle;\n",
       "    }\n",
       "\n",
       "    .dataframe tbody tr th {\n",
       "        vertical-align: top;\n",
       "    }\n",
       "\n",
       "    .dataframe thead th {\n",
       "        text-align: right;\n",
       "    }\n",
       "</style>\n",
       "<table border=\"1\" class=\"dataframe\">\n",
       "  <thead>\n",
       "    <tr style=\"text-align: right;\">\n",
       "      <th></th>\n",
       "      <th>No.</th>\n",
       "      <th>KRA SITES</th>\n",
       "      <th>Last Mile</th>\n",
       "      <th>Link ID</th>\n",
       "      <th>Capacity</th>\n",
       "      <th>Monthly Ex</th>\n",
       "      <th>SLA Date</th>\n",
       "      <th>Quarterly Exc</th>\n",
       "      <th>Excise</th>\n",
       "      <th>VAT</th>\n",
       "      <th>Total Quarterly Inc</th>\n",
       "      <th>Comments</th>\n",
       "    </tr>\n",
       "  </thead>\n",
       "  <tbody>\n",
       "    <tr>\n",
       "      <th>54</th>\n",
       "      <td>55</td>\n",
       "      <td>KRA - BUSIA-FIBRE</td>\n",
       "      <td>MPLS</td>\n",
       "      <td>95096538.0</td>\n",
       "      <td>20 Mbps</td>\n",
       "      <td>82200.00</td>\n",
       "      <td>2023-10-01</td>\n",
       "      <td>246600.00</td>\n",
       "      <td>49320.000</td>\n",
       "      <td>47347.20000</td>\n",
       "      <td>343267.20000</td>\n",
       "      <td>NaN</td>\n",
       "    </tr>\n",
       "    <tr>\n",
       "      <th>55</th>\n",
       "      <td>56</td>\n",
       "      <td>KRA - FIXED 30th Floor 3001</td>\n",
       "      <td>MPLS</td>\n",
       "      <td>95006961.0</td>\n",
       "      <td>15 Mbps</td>\n",
       "      <td>11274.36</td>\n",
       "      <td>2023-10-01</td>\n",
       "      <td>33823.08</td>\n",
       "      <td>6764.616</td>\n",
       "      <td>6494.03136</td>\n",
       "      <td>47081.72736</td>\n",
       "      <td>NaN</td>\n",
       "    </tr>\n",
       "    <tr>\n",
       "      <th>56</th>\n",
       "      <td>57</td>\n",
       "      <td>KRA - FIXED 25th Floor 2575</td>\n",
       "      <td>Internet</td>\n",
       "      <td>95006963.0</td>\n",
       "      <td>15 Mbps</td>\n",
       "      <td>11274.36</td>\n",
       "      <td>2023-10-01</td>\n",
       "      <td>33823.08</td>\n",
       "      <td>6764.616</td>\n",
       "      <td>6494.03136</td>\n",
       "      <td>47081.72736</td>\n",
       "      <td>NaN</td>\n",
       "    </tr>\n",
       "    <tr>\n",
       "      <th>57</th>\n",
       "      <td>58</td>\n",
       "      <td>KENYA SCHOOL OF REVENUE  -FIBER</td>\n",
       "      <td>Internet</td>\n",
       "      <td>95021939.0</td>\n",
       "      <td>10 Mbps</td>\n",
       "      <td>15300.00</td>\n",
       "      <td>2023-10-01</td>\n",
       "      <td>45900.00</td>\n",
       "      <td>9180.000</td>\n",
       "      <td>8812.80000</td>\n",
       "      <td>63892.80000</td>\n",
       "      <td>NaN</td>\n",
       "    </tr>\n",
       "    <tr>\n",
       "      <th>58</th>\n",
       "      <td>59</td>\n",
       "      <td>KRA -SIAYA</td>\n",
       "      <td>MPLS</td>\n",
       "      <td>95018756.0</td>\n",
       "      <td>10 Mbps</td>\n",
       "      <td>38000.00</td>\n",
       "      <td>2023-10-01</td>\n",
       "      <td>114000.00</td>\n",
       "      <td>22800.000</td>\n",
       "      <td>21888.00000</td>\n",
       "      <td>158688.00000</td>\n",
       "      <td>NaN</td>\n",
       "    </tr>\n",
       "  </tbody>\n",
       "</table>\n",
       "</div>"
      ],
      "text/plain": [
       "   No.                        KRA SITES  Last Mile     Link ID Capacity  \\\n",
       "54  55                KRA - BUSIA-FIBRE       MPLS  95096538.0  20 Mbps   \n",
       "55  56      KRA - FIXED 30th Floor 3001       MPLS  95006961.0  15 Mbps   \n",
       "56  57      KRA - FIXED 25th Floor 2575  Internet   95006963.0  15 Mbps   \n",
       "57  58  KENYA SCHOOL OF REVENUE  -FIBER  Internet   95021939.0  10 Mbps   \n",
       "58  59                       KRA -SIAYA       MPLS  95018756.0  10 Mbps   \n",
       "\n",
       "    Monthly Ex    SLA Date  Quarterly Exc     Excise          VAT  \\\n",
       "54    82200.00  2023-10-01      246600.00  49320.000  47347.20000   \n",
       "55    11274.36  2023-10-01       33823.08   6764.616   6494.03136   \n",
       "56    11274.36  2023-10-01       33823.08   6764.616   6494.03136   \n",
       "57    15300.00  2023-10-01       45900.00   9180.000   8812.80000   \n",
       "58    38000.00  2023-10-01      114000.00  22800.000  21888.00000   \n",
       "\n",
       "    Total Quarterly Inc Comments  \n",
       "54         343267.20000      NaN  \n",
       "55          47081.72736      NaN  \n",
       "56          47081.72736      NaN  \n",
       "57          63892.80000      NaN  \n",
       "58         158688.00000      NaN  "
      ]
     },
     "execution_count": 23,
     "metadata": {},
     "output_type": "execute_result"
    }
   ],
   "source": [
    "df_saf.tail()"
   ]
  },
  {
   "cell_type": "code",
   "execution_count": 5,
   "metadata": {},
   "outputs": [
    {
     "data": {
      "text/html": [
       "<div>\n",
       "<style scoped>\n",
       "    .dataframe tbody tr th:only-of-type {\n",
       "        vertical-align: middle;\n",
       "    }\n",
       "\n",
       "    .dataframe tbody tr th {\n",
       "        vertical-align: top;\n",
       "    }\n",
       "\n",
       "    .dataframe thead th {\n",
       "        text-align: right;\n",
       "    }\n",
       "</style>\n",
       "<table border=\"1\" class=\"dataframe\">\n",
       "  <thead>\n",
       "    <tr style=\"text-align: right;\">\n",
       "      <th></th>\n",
       "      <th>No.</th>\n",
       "      <th>KRA SITES</th>\n",
       "      <th>Last Mile</th>\n",
       "      <th>Link ID</th>\n",
       "      <th>Capacity</th>\n",
       "      <th>Monthly Ex</th>\n",
       "      <th>SLA Date</th>\n",
       "      <th>Quarterly Exc</th>\n",
       "      <th>Excise</th>\n",
       "      <th>VAT</th>\n",
       "      <th>Total Quarterly Inc</th>\n",
       "      <th>Comments</th>\n",
       "    </tr>\n",
       "  </thead>\n",
       "  <tbody>\n",
       "    <tr>\n",
       "      <th>0</th>\n",
       "      <td>1</td>\n",
       "      <td>BUNGOMA MICROWAVE</td>\n",
       "      <td>MPLS</td>\n",
       "      <td>95054463.0</td>\n",
       "      <td>25 Mbps</td>\n",
       "      <td>20352.8</td>\n",
       "      <td>2020-12-16</td>\n",
       "      <td>61058.4</td>\n",
       "      <td>12211.68</td>\n",
       "      <td>11723.2128</td>\n",
       "      <td>84993.2928</td>\n",
       "      <td>Upgrade 5&gt;25 Mbps. Check Upgrade Docs. KES 449...</td>\n",
       "    </tr>\n",
       "    <tr>\n",
       "      <th>1</th>\n",
       "      <td>2</td>\n",
       "      <td>BUSIA-WIMAX</td>\n",
       "      <td>MPLS</td>\n",
       "      <td>95096538.0</td>\n",
       "      <td>12 Mbps</td>\n",
       "      <td>70008.3</td>\n",
       "      <td>2020-12-16</td>\n",
       "      <td>210024.9</td>\n",
       "      <td>42004.98</td>\n",
       "      <td>40324.7808</td>\n",
       "      <td>292354.6608</td>\n",
       "      <td>NaN</td>\n",
       "    </tr>\n",
       "  </tbody>\n",
       "</table>\n",
       "</div>"
      ],
      "text/plain": [
       "  No.          KRA SITES Last Mile     Link ID Capacity  Monthly Ex  \\\n",
       "0   1  BUNGOMA MICROWAVE      MPLS  95054463.0  25 Mbps     20352.8   \n",
       "1   2        BUSIA-WIMAX      MPLS  95096538.0  12 Mbps     70008.3   \n",
       "\n",
       "     SLA Date  Quarterly Exc    Excise         VAT  Total Quarterly Inc  \\\n",
       "0  2020-12-16        61058.4  12211.68  11723.2128           84993.2928   \n",
       "1  2020-12-16       210024.9  42004.98  40324.7808          292354.6608   \n",
       "\n",
       "                                            Comments  \n",
       "0  Upgrade 5>25 Mbps. Check Upgrade Docs. KES 449...  \n",
       "1                                                NaN  "
      ]
     },
     "execution_count": 5,
     "metadata": {},
     "output_type": "execute_result"
    }
   ],
   "source": [
    "saf_cleaned.head(2)"
   ]
  },
  {
   "cell_type": "code",
   "execution_count": 6,
   "metadata": {},
   "outputs": [
    {
     "data": {
      "text/html": [
       "<div>\n",
       "<style scoped>\n",
       "    .dataframe tbody tr th:only-of-type {\n",
       "        vertical-align: middle;\n",
       "    }\n",
       "\n",
       "    .dataframe tbody tr th {\n",
       "        vertical-align: top;\n",
       "    }\n",
       "\n",
       "    .dataframe thead th {\n",
       "        text-align: right;\n",
       "    }\n",
       "</style>\n",
       "<table border=\"1\" class=\"dataframe\">\n",
       "  <thead>\n",
       "    <tr style=\"text-align: right;\">\n",
       "      <th></th>\n",
       "      <th>No.</th>\n",
       "      <th>SLA Service</th>\n",
       "      <th>Link Description</th>\n",
       "      <th>Link ID</th>\n",
       "      <th>Capacity (Mbps)</th>\n",
       "      <th>MRC</th>\n",
       "      <th>QRC</th>\n",
       "      <th>Last Mile</th>\n",
       "      <th>SLA Date</th>\n",
       "      <th>Status</th>\n",
       "      <th>SLM Comments</th>\n",
       "    </tr>\n",
       "  </thead>\n",
       "  <tbody>\n",
       "    <tr>\n",
       "      <th>0</th>\n",
       "      <td>1</td>\n",
       "      <td>KRA KIXP</td>\n",
       "      <td>KRA - TIMES TOWERS TO KRA - KIXP (EADC)</td>\n",
       "      <td>1750</td>\n",
       "      <td>90</td>\n",
       "      <td>270000.0</td>\n",
       "      <td>810000.0</td>\n",
       "      <td>Fibre</td>\n",
       "      <td>2020-10-01</td>\n",
       "      <td>Active</td>\n",
       "      <td>16/04/2022: Upgraded 90 Mbps @ KES 649,050  -&gt;...</td>\n",
       "    </tr>\n",
       "    <tr>\n",
       "      <th>1</th>\n",
       "      <td>2</td>\n",
       "      <td>KRA Customs Hse - Times Tower</td>\n",
       "      <td>KRA CUSTOMS HSE TO KRA TIMES TOWER</td>\n",
       "      <td>5277</td>\n",
       "      <td>75</td>\n",
       "      <td>179718.0</td>\n",
       "      <td>539154.0</td>\n",
       "      <td>Fibre</td>\n",
       "      <td>2020-10-01</td>\n",
       "      <td>Active</td>\n",
       "      <td>Not in Invoice/Renamed/Relocated</td>\n",
       "    </tr>\n",
       "  </tbody>\n",
       "</table>\n",
       "</div>"
      ],
      "text/plain": [
       "   No.                    SLA Service  \\\n",
       "0    1                       KRA KIXP   \n",
       "1    2  KRA Customs Hse - Times Tower   \n",
       "\n",
       "                          Link Description Link ID  Capacity (Mbps)       MRC  \\\n",
       "0  KRA - TIMES TOWERS TO KRA - KIXP (EADC)    1750               90  270000.0   \n",
       "1       KRA CUSTOMS HSE TO KRA TIMES TOWER    5277               75  179718.0   \n",
       "\n",
       "        QRC Last Mile    SLA Date  Status  \\\n",
       "0  810000.0     Fibre  2020-10-01  Active   \n",
       "1  539154.0     Fibre  2020-10-01  Active   \n",
       "\n",
       "                                        SLM Comments  \n",
       "0  16/04/2022: Upgraded 90 Mbps @ KES 649,050  ->...  \n",
       "1                   Not in Invoice/Renamed/Relocated  "
      ]
     },
     "execution_count": 6,
     "metadata": {},
     "output_type": "execute_result"
    }
   ],
   "source": [
    "ltk_cleaned.head(2)"
   ]
  },
  {
   "cell_type": "code",
   "execution_count": 80,
   "metadata": {},
   "outputs": [
    {
     "name": "stdout",
     "output_type": "stream",
     "text": [
      "<class 'pandas.core.frame.DataFrame'>\n",
      "RangeIndex: 26 entries, 0 to 25\n",
      "Data columns (total 8 columns):\n",
      " #   Column        Non-Null Count  Dtype         \n",
      "---  ------        --------------  -----         \n",
      " 0   Link_ID       26 non-null     object        \n",
      " 1   SLA_Date      23 non-null     datetime64[ns]\n",
      " 2   Last_Mile     26 non-null     object        \n",
      " 3   Capacity      26 non-null     int64         \n",
      " 4   Location      24 non-null     object        \n",
      " 5   MRC_Excl      26 non-null     float64       \n",
      " 6   SLM_Comments  26 non-null     object        \n",
      " 7   QRC_Incl      26 non-null     float64       \n",
      "dtypes: datetime64[ns](1), float64(2), int64(1), object(4)\n",
      "memory usage: 1.8+ KB\n"
     ]
    }
   ],
   "source": [
    "ltk_cleaned.info()"
   ]
  },
  {
   "cell_type": "code",
   "execution_count": 22,
   "metadata": {},
   "outputs": [],
   "source": [
    "def capacity_picker(df):\n",
    "    for pat in ['Capacity']:\n",
    "       matching_cols = [col for col in df.columns if pat.lower() in col.lower()]\n",
    "       if matching_cols:\n",
    "           return matching_cols[0]\n",
    "def comments_picker(df):\n",
    "    for pat in ['comment']:\n",
    "        matching_cols = [col for col in df.columns if pat.lower() in col.lower()]\n",
    "        if matching_cols:\n",
    "            return matching_cols[0]\n",
    "def Site_desc_picker(df):\n",
    "    for pat in ['site', 'description']:\n",
    "        matching_cols = [col for col in df.columns if pat.lower() in col.lower()]\n",
    "        if matching_cols:\n",
    "            return matching_cols[0]\n",
    "def MRC_picker(df):\n",
    "    for pat in ['month', 'MRC']:\n",
    "        matching_cols = [col for col in df.columns if pat.lower() in col.lower()]\n",
    "        if matching_cols:\n",
    "            return matching_cols[0]"
   ]
  },
  {
   "cell_type": "code",
   "execution_count": 27,
   "metadata": {},
   "outputs": [],
   "source": [
    "df= df_saf\n",
    "SLA_Cols = {'Link ID': 'Link ID',\n",
    "            'SLA Dates':'SLA Date',\n",
    "            'Last Mile': 'Last Mile',            \n",
    "            'Capacity': capacity_picker(df),\n",
    "            'Sites/Location': Site_desc_picker(df),\n",
    "            'MRC': MRC_picker(df),\n",
    "            'Comments':comments_picker(df)}\n"
   ]
  },
  {
   "cell_type": "code",
   "execution_count": 28,
   "metadata": {},
   "outputs": [
    {
     "name": "stdout",
     "output_type": "stream",
     "text": [
      "Link ID: Link ID\n",
      "SLA Dates: SLA Date\n",
      "Last Mile: Last Mile\n",
      "Capacity: Capacity\n",
      "Sites/Location: KRA SITES\n",
      "MRC: Monthly Ex\n",
      "Comments: Comments\n"
     ]
    }
   ],
   "source": [
    "for i,j in SLA_Cols.items():\n",
    "    print(f'{i}: {j}')"
   ]
  },
  {
   "cell_type": "code",
   "execution_count": 21,
   "metadata": {},
   "outputs": [
    {
     "data": {
      "text/plain": [
       "'SLM Comments'"
      ]
     },
     "execution_count": 21,
     "metadata": {},
     "output_type": "execute_result"
    }
   ],
   "source": [
    "comments_picker(df_ltk)\n"
   ]
  },
  {
   "cell_type": "code",
   "execution_count": 13,
   "metadata": {},
   "outputs": [
    {
     "data": {
      "text/plain": [
       "'Capacity (Mbps)'"
      ]
     },
     "execution_count": 13,
     "metadata": {},
     "output_type": "execute_result"
    }
   ],
   "source": [
    "capacity_picker(df_ltk)"
   ]
  },
  {
   "cell_type": "code",
   "execution_count": 37,
   "metadata": {},
   "outputs": [
    {
     "data": {
      "text/html": [
       "<div>\n",
       "<style scoped>\n",
       "    .dataframe tbody tr th:only-of-type {\n",
       "        vertical-align: middle;\n",
       "    }\n",
       "\n",
       "    .dataframe tbody tr th {\n",
       "        vertical-align: top;\n",
       "    }\n",
       "\n",
       "    .dataframe thead th {\n",
       "        text-align: right;\n",
       "    }\n",
       "</style>\n",
       "<table border=\"1\" class=\"dataframe\">\n",
       "  <thead>\n",
       "    <tr style=\"text-align: right;\">\n",
       "      <th></th>\n",
       "      <th>Link ID</th>\n",
       "      <th>SLA Date</th>\n",
       "      <th>Last Mile</th>\n",
       "      <th>Capacity</th>\n",
       "      <th>KRA SITES</th>\n",
       "      <th>Monthly Ex</th>\n",
       "      <th>Comments</th>\n",
       "    </tr>\n",
       "  </thead>\n",
       "  <tbody>\n",
       "    <tr>\n",
       "      <th>0</th>\n",
       "      <td>95054463.0</td>\n",
       "      <td>2020-12-16</td>\n",
       "      <td>MPLS</td>\n",
       "      <td>25 Mbps</td>\n",
       "      <td>BUNGOMA MICROWAVE</td>\n",
       "      <td>20352.8</td>\n",
       "      <td>Upgrade 5&gt;25 Mbps. Check Upgrade Docs. KES 449...</td>\n",
       "    </tr>\n",
       "    <tr>\n",
       "      <th>1</th>\n",
       "      <td>95096538.0</td>\n",
       "      <td>2020-12-16</td>\n",
       "      <td>MPLS</td>\n",
       "      <td>12 Mbps</td>\n",
       "      <td>BUSIA-WIMAX</td>\n",
       "      <td>70008.3</td>\n",
       "      <td>NaN</td>\n",
       "    </tr>\n",
       "    <tr>\n",
       "      <th>2</th>\n",
       "      <td>95038953.0</td>\n",
       "      <td>2020-12-16</td>\n",
       "      <td>MPLS</td>\n",
       "      <td>80 Mbps</td>\n",
       "      <td>DR BACKHAUL FIBRE</td>\n",
       "      <td>93504.6</td>\n",
       "      <td>NaN</td>\n",
       "    </tr>\n",
       "    <tr>\n",
       "      <th>3</th>\n",
       "      <td>95054464.0</td>\n",
       "      <td>2020-12-16</td>\n",
       "      <td>MPLS</td>\n",
       "      <td>60 Mbps</td>\n",
       "      <td>ELDORET KIPTAGICH MPLS FIBER</td>\n",
       "      <td>25439.4</td>\n",
       "      <td>Upgrade 10&gt;60 Mbps. Check Upgrade Docs. KES 69...</td>\n",
       "    </tr>\n",
       "    <tr>\n",
       "      <th>4</th>\n",
       "      <td>95054465.0</td>\n",
       "      <td>2020-12-16</td>\n",
       "      <td>MPLS</td>\n",
       "      <td>5 Mbps</td>\n",
       "      <td>ELDORET KPC LOOP MICROWAVE</td>\n",
       "      <td>20357.4</td>\n",
       "      <td>NaN</td>\n",
       "    </tr>\n",
       "  </tbody>\n",
       "</table>\n",
       "</div>"
      ],
      "text/plain": [
       "      Link ID    SLA Date Last Mile Capacity                     KRA SITES  \\\n",
       "0  95054463.0  2020-12-16      MPLS  25 Mbps             BUNGOMA MICROWAVE   \n",
       "1  95096538.0  2020-12-16      MPLS  12 Mbps                   BUSIA-WIMAX   \n",
       "2  95038953.0  2020-12-16      MPLS  80 Mbps             DR BACKHAUL FIBRE   \n",
       "3  95054464.0  2020-12-16      MPLS  60 Mbps  ELDORET KIPTAGICH MPLS FIBER   \n",
       "4  95054465.0  2020-12-16      MPLS   5 Mbps    ELDORET KPC LOOP MICROWAVE   \n",
       "\n",
       "   Monthly Ex                                           Comments  \n",
       "0     20352.8  Upgrade 5>25 Mbps. Check Upgrade Docs. KES 449...  \n",
       "1     70008.3                                                NaN  \n",
       "2     93504.6                                                NaN  \n",
       "3     25439.4  Upgrade 10>60 Mbps. Check Upgrade Docs. KES 69...  \n",
       "4     20357.4                                                NaN  "
      ]
     },
     "execution_count": 37,
     "metadata": {},
     "output_type": "execute_result"
    }
   ],
   "source": [
    "saf_cleaned.head()"
   ]
  },
  {
   "cell_type": "code",
   "execution_count": 38,
   "metadata": {},
   "outputs": [
    {
     "name": "stdout",
     "output_type": "stream",
     "text": [
      "<class 'pandas.core.frame.DataFrame'>\n",
      "RangeIndex: 59 entries, 0 to 58\n",
      "Data columns (total 7 columns):\n",
      " #   Column      Non-Null Count  Dtype  \n",
      "---  ------      --------------  -----  \n",
      " 0   Link ID     59 non-null     float64\n",
      " 1   SLA Date    59 non-null     object \n",
      " 2   Last Mile   59 non-null     object \n",
      " 3   Capacity    59 non-null     object \n",
      " 4   KRA SITES   59 non-null     object \n",
      " 5   Monthly Ex  59 non-null     float64\n",
      " 6   Comments    21 non-null     object \n",
      "dtypes: float64(2), object(5)\n",
      "memory usage: 3.4+ KB\n"
     ]
    }
   ],
   "source": [
    "saf_cleaned.info()"
   ]
  },
  {
   "cell_type": "code",
   "execution_count": 60,
   "metadata": {},
   "outputs": [],
   "source": [
    "import numpy as np\n",
    "import pandas as pd\n",
    "def cols_transfomer(df):\n",
    "    excise_duty = 0.15\n",
    "    VAT = 0.16\n",
    "    # Changing the link id to str depending in the current dtype\n",
    "    if 'Link ID' in df.columns:\n",
    "        if df['Link ID'].dtype == 'float':\n",
    "            df['Link ID'] = df['Link ID'].astype('int').astype('str')\n",
    "        elif df['Link ID'].dtype == 'int':\n",
    "            df['Link ID'] = df['Link ID'].astype('str')\n",
    "    \n",
    "    #Date to dtype Date\n",
    "    if 'SLA Date' in df.columns:\n",
    "        df['SLA Date'] = pd.to_datetime(df['SLA Date'])\n",
    "    \n",
    "    # Capacity\n",
    "    if capacity_picker(df) in df.columns and df[capacity_picker(df)].dtype == 'object':\n",
    "        df[capacity_picker(df)] = df[capacity_picker(df)].str.split(' ',expand =True)[0].astype('int')\n",
    "    \n",
    "    # Calculating the Quarterly Recurring Charges\n",
    "    if MRC_picker(df) in df.columns:\n",
    "        df['QRC'] = np.multiply(np.multiply(df[MRC_picker(df)],\n",
    "                                            (1 + excise_duty + VAT)),3)\n",
    "        \n",
    "    #renaming the Columns\n",
    "    SLA_New_Names = {\n",
    "        'Link ID': 'Link_ID',\n",
    "        'SLA Date': 'SLA_Date',\n",
    "        'Last Mile': 'Last_Mile',\n",
    "        'QRC': 'QRC_Incl',\n",
    "        Site_desc_picker(df): 'Location',\n",
    "        capacity_picker(df): 'Capacity',\n",
    "        MRC_picker(df): 'MRC_Excl',\n",
    "        comments_picker(df): 'SLM_Comments'\n",
    "    }\n",
    "    df = df.rename(columns = SLA_New_Names)\n",
    "\n",
    "    return df\n"
   ]
  },
  {
   "cell_type": "code",
   "execution_count": 61,
   "metadata": {},
   "outputs": [],
   "source": [
    "df = ltk_cleaned\n",
    "saf_clean = cols_transfomer(df)"
   ]
  },
  {
   "cell_type": "code",
   "execution_count": 62,
   "metadata": {},
   "outputs": [
    {
     "data": {
      "text/html": [
       "<div>\n",
       "<style scoped>\n",
       "    .dataframe tbody tr th:only-of-type {\n",
       "        vertical-align: middle;\n",
       "    }\n",
       "\n",
       "    .dataframe tbody tr th {\n",
       "        vertical-align: top;\n",
       "    }\n",
       "\n",
       "    .dataframe thead th {\n",
       "        text-align: right;\n",
       "    }\n",
       "</style>\n",
       "<table border=\"1\" class=\"dataframe\">\n",
       "  <thead>\n",
       "    <tr style=\"text-align: right;\">\n",
       "      <th></th>\n",
       "      <th>Link_ID</th>\n",
       "      <th>SLA_Date</th>\n",
       "      <th>Last_Mile</th>\n",
       "      <th>Capacity</th>\n",
       "      <th>Location</th>\n",
       "      <th>MRC_Excl</th>\n",
       "      <th>SLM_Comments</th>\n",
       "      <th>QRC_Incl</th>\n",
       "    </tr>\n",
       "  </thead>\n",
       "  <tbody>\n",
       "    <tr>\n",
       "      <th>0</th>\n",
       "      <td>1750</td>\n",
       "      <td>2020-10-01</td>\n",
       "      <td>Fibre</td>\n",
       "      <td>90</td>\n",
       "      <td>KRA - TIMES TOWERS TO KRA - KIXP (EADC)</td>\n",
       "      <td>270000.0</td>\n",
       "      <td>16/04/2022: Upgraded 90 Mbps @ KES 649,050  -&gt;...</td>\n",
       "      <td>1061100.000</td>\n",
       "    </tr>\n",
       "    <tr>\n",
       "      <th>1</th>\n",
       "      <td>5277</td>\n",
       "      <td>2020-10-01</td>\n",
       "      <td>Fibre</td>\n",
       "      <td>75</td>\n",
       "      <td>KRA CUSTOMS HSE TO KRA TIMES TOWER</td>\n",
       "      <td>179718.0</td>\n",
       "      <td>Not in Invoice/Renamed/Relocated</td>\n",
       "      <td>706291.740</td>\n",
       "    </tr>\n",
       "    <tr>\n",
       "      <th>2</th>\n",
       "      <td>5611</td>\n",
       "      <td>2020-10-01</td>\n",
       "      <td>Fibre</td>\n",
       "      <td>8</td>\n",
       "      <td>KRA AIRPORT CONTAINER DEPOT TO CUSTOMS HSE MSA</td>\n",
       "      <td>20642.5</td>\n",
       "      <td>Okay. No change</td>\n",
       "      <td>81125.025</td>\n",
       "    </tr>\n",
       "    <tr>\n",
       "      <th>3</th>\n",
       "      <td>20103</td>\n",
       "      <td>2020-10-01</td>\n",
       "      <td>Fibre</td>\n",
       "      <td>9</td>\n",
       "      <td>KRA Wilson Airport Customs to Times Towers - V...</td>\n",
       "      <td>22950.0</td>\n",
       "      <td>Okay. No change</td>\n",
       "      <td>90193.500</td>\n",
       "    </tr>\n",
       "    <tr>\n",
       "      <th>4</th>\n",
       "      <td>20954</td>\n",
       "      <td>2020-10-01</td>\n",
       "      <td>Fibre</td>\n",
       "      <td>20</td>\n",
       "      <td>KRA TIMES TOWERS NBO TO EGERTON UNIVERSITY NJO...</td>\n",
       "      <td>50000.0</td>\n",
       "      <td>Okay. No change</td>\n",
       "      <td>196500.000</td>\n",
       "    </tr>\n",
       "  </tbody>\n",
       "</table>\n",
       "</div>"
      ],
      "text/plain": [
       "  Link_ID   SLA_Date Last_Mile  Capacity  \\\n",
       "0    1750 2020-10-01     Fibre        90   \n",
       "1    5277 2020-10-01     Fibre        75   \n",
       "2    5611 2020-10-01     Fibre         8   \n",
       "3   20103 2020-10-01     Fibre         9   \n",
       "4   20954 2020-10-01     Fibre        20   \n",
       "\n",
       "                                            Location  MRC_Excl  \\\n",
       "0            KRA - TIMES TOWERS TO KRA - KIXP (EADC)  270000.0   \n",
       "1                 KRA CUSTOMS HSE TO KRA TIMES TOWER  179718.0   \n",
       "2     KRA AIRPORT CONTAINER DEPOT TO CUSTOMS HSE MSA   20642.5   \n",
       "3  KRA Wilson Airport Customs to Times Towers - V...   22950.0   \n",
       "4  KRA TIMES TOWERS NBO TO EGERTON UNIVERSITY NJO...   50000.0   \n",
       "\n",
       "                                        SLM_Comments     QRC_Incl  \n",
       "0  16/04/2022: Upgraded 90 Mbps @ KES 649,050  ->...  1061100.000  \n",
       "1                   Not in Invoice/Renamed/Relocated   706291.740  \n",
       "2                                    Okay. No change    81125.025  \n",
       "3                                    Okay. No change    90193.500  \n",
       "4                                    Okay. No change   196500.000  "
      ]
     },
     "execution_count": 62,
     "metadata": {},
     "output_type": "execute_result"
    }
   ],
   "source": [
    "saf_clean.head()"
   ]
  },
  {
   "cell_type": "code",
   "execution_count": 63,
   "metadata": {},
   "outputs": [
    {
     "name": "stdout",
     "output_type": "stream",
     "text": [
      "<class 'pandas.core.frame.DataFrame'>\n",
      "RangeIndex: 26 entries, 0 to 25\n",
      "Data columns (total 8 columns):\n",
      " #   Column        Non-Null Count  Dtype         \n",
      "---  ------        --------------  -----         \n",
      " 0   Link_ID       26 non-null     object        \n",
      " 1   SLA_Date      23 non-null     datetime64[ns]\n",
      " 2   Last_Mile     26 non-null     object        \n",
      " 3   Capacity      26 non-null     int64         \n",
      " 4   Location      24 non-null     object        \n",
      " 5   MRC_Excl      26 non-null     float64       \n",
      " 6   SLM_Comments  26 non-null     object        \n",
      " 7   QRC_Incl      26 non-null     float64       \n",
      "dtypes: datetime64[ns](1), float64(2), int64(1), object(4)\n",
      "memory usage: 1.8+ KB\n"
     ]
    }
   ],
   "source": [
    "saf_clean.info()"
   ]
  },
  {
   "cell_type": "markdown",
   "metadata": {},
   "source": [
    "## Data Cleaner Class "
   ]
  },
  {
   "cell_type": "code",
   "execution_count": 85,
   "metadata": {},
   "outputs": [],
   "source": [
    "import pandas as pd\n",
    "import numpy as np\n",
    "\n",
    "class DataCleaner:\n",
    "    def __init__(self, df):\n",
    "        self.df = df\n",
    "\n",
    "    def drop_null_rows(self):\n",
    "        \"\"\"Drop rows with all null values.\"\"\"\n",
    "        self.df.dropna(how='all', inplace=True)\n",
    "\n",
    "    def drop_total_row(self):\n",
    "        \"\"\"Drop rows where 'No.' column contains 'Total'.\"\"\"\n",
    "        if \"No.\" in self.df.columns:\n",
    "            self.df.drop(self.df[self.df[\"No.\"] == \"Total\"].index, inplace=True)\n",
    "\n",
    "    def pick_invoice_column_name(self):\n",
    "        \"\"\"Pick the column name containing invoice numbers.\"\"\"\n",
    "        for substring in ['invoice no', 'ref']:\n",
    "            matching_columns = [col for col in self.df.columns if substring.lower() in col.lower()]\n",
    "            if matching_columns:\n",
    "                return matching_columns[0]\n",
    "\n",
    "    def QRC_Finder(self):\n",
    "        \"\"\"Find the column with Quarterly Recurring Charges.\"\"\"\n",
    "        max_value = None\n",
    "        max_col = None\n",
    "        for substring in ['QRC', 'Total', 'Amount']:\n",
    "            fields = [col for col in self.df.columns if substring.lower() in col.lower()]\n",
    "            for field in fields:\n",
    "                if field in self.df.columns and not self.df[field].isnull().all():\n",
    "                    first_row_value = self.df.at[1, field]\n",
    "                    if max_value is None or first_row_value > max_value:\n",
    "                        max_value = first_row_value\n",
    "                        max_col = field\n",
    "        return max_col\n",
    "\n",
    "    def clean_invoice_data(self):\n",
    "        \"\"\"Clean invoice data.\"\"\"\n",
    "        self.drop_null_rows()\n",
    "        self.drop_total_row()\n",
    "        self.rename_invoice_columns()\n",
    "        self.adjust_link_id_dtype()\n",
    "\n",
    "    def rename_invoice_columns(self):\n",
    "        \"\"\"Rename invoice columns.\"\"\"\n",
    "        columns_wanted = {\n",
    "            \"Date\": \"Invoice Date\",\n",
    "            \"ID\": \"Link ID\",\n",
    "            \"Period\": \"Invoice Period\",\n",
    "            \"Description\": \"Invoice Description\",\n",
    "            \"Reference/No\": self.pick_invoice_column_name(),\n",
    "            \"QRC\": self.QRC_Finder()\n",
    "        }\n",
    "        self.df = self.df.loc[:, [value for value in columns_wanted.values()]]\n",
    "\n",
    "        new_invoice_col_names = {\n",
    "            \"Invoice Date\": \"Invoice_Data\",\n",
    "            \"Link ID\": \"Link_ID\",\n",
    "            \"Invoice Period\": \"Invoice_Period\",\n",
    "            \"Invoice Description\": \"Invoice_Description\",\n",
    "            self.pick_invoice_column_name(): \"Invoice_Reference\",\n",
    "            self.QRC_Finder(): \"Total_QRC\"\n",
    "        }\n",
    "        self.df = self.df.rename(columns=new_invoice_col_names)\n",
    "\n",
    "    def adjust_link_id_dtype(self):\n",
    "        \"\"\"Adjust 'Link ID' column data type.\"\"\"\n",
    "        if 'Link ID' in self.df.columns:\n",
    "            if self.df['Link ID'].dtype == 'float':\n",
    "                self.df['Link ID'] = self.df['Link ID'].astype('int').astype('str')\n",
    "            elif self.df['Link ID'].dtype == 'int':\n",
    "                self.df['Link ID'] = self.df['Link ID'].astype('str')\n",
    "\n",
    "    def pick_sla_column_name(self):\n",
    "        \"\"\"Pick the column name for SLA data.\"\"\"\n",
    "        for pat in ['Capacity']:\n",
    "            matching_cols = [col for col in self.df.columns if pat.lower() in col.lower()]\n",
    "            if matching_cols:\n",
    "                return matching_cols[0]\n",
    "    def capacity_picker(self):\n",
    "        for pat in ['Capacity']:\n",
    "            matching_cols = [col for col in self.df.columns if pat.lower() in col.lower()]\n",
    "            if matching_cols:\n",
    "                return matching_cols[0]\n",
    "\n",
    "    def comments_picker(self):\n",
    "        \"\"\"Pick the column containing comments.\"\"\"\n",
    "        for pat in ['comment']:\n",
    "            matching_cols = [col for col in self.df.columns if pat.lower() in col.lower()]\n",
    "            if matching_cols:\n",
    "                return matching_cols[0]\n",
    "\n",
    "    def Site_desc_picker(self):\n",
    "        \"\"\"Pick the column containing site descriptions.\"\"\"\n",
    "        for pat in ['site', 'description']:\n",
    "            matching_cols = [col for col in self.df.columns if pat.lower() in col.lower()]\n",
    "            if matching_cols:\n",
    "                return matching_cols[0]\n",
    "\n",
    "    def MRC_picker(self):\n",
    "        \"\"\"Pick the column containing MRC (Monthly Recurring Charges).\"\"\"\n",
    "        for pat in ['month', 'MRC']:\n",
    "            matching_cols = [col for col in self.df.columns if pat.lower() in col.lower()]\n",
    "            if matching_cols:\n",
    "                return matching_cols[0]\n",
    "\n",
    "    def SLA_col_subsetting(self):\n",
    "        \"\"\"Subset SLA columns.\"\"\"\n",
    "        self.capacity_picker()\n",
    "        self.comments_picker()\n",
    "        self.Site_desc_picker()\n",
    "        self.MRC_picker()\n",
    "\n",
    "        SLA_Cols = {\n",
    "            'Link ID': 'Link ID',\n",
    "            'SLA Dates': 'SLA Date',\n",
    "            'Last Mile': 'Last Mile',\n",
    "            'Capacity': self.capacity_picker(),\n",
    "            'Sites/Location': self.Site_desc_picker(),\n",
    "            'MRC': self.MRC_picker(),\n",
    "            'Comments': self.comments_picker()\n",
    "        }\n",
    "        self.df = self.df.loc[:, [col for col in SLA_Cols.values()]]\n",
    "\n",
    "    def transform_sla_data(self):\n",
    "        \"\"\"Transform SLA data.\"\"\"\n",
    "        self.SLA_col_subsetting()\n",
    "        self.excise_duty = 0.15\n",
    "        self.VAT = 0.16\n",
    "\n",
    "        # Adjust 'Link ID' data type\n",
    "        if 'Link ID' in self.df.columns:\n",
    "            if self.df['Link ID'].dtype == 'float':\n",
    "                self.df['Link ID'] = self.df['Link ID'].astype('int').astype('str')\n",
    "            elif self.df['Link ID'].dtype == 'int':\n",
    "                self.df['Link ID'] = self.df['Link ID'].astype('str')\n",
    "\n",
    "        # Convert 'SLA Date' to datetime\n",
    "        if 'SLA Date' in self.df.columns:\n",
    "            self.df['SLA Date'] = pd.to_datetime(self.df['SLA Date'])\n",
    "\n",
    "        # Extract numeric values from 'Capacity' column\n",
    "        if self.capacity_picker() in self.df.columns and self.df[self.capacity_picker()].dtype == 'object':\n",
    "            self.df[self.capacity_picker()] = self.df[self.capacity_picker()].str.split(' ', expand=True)[0].astype('int')\n",
    "\n",
    "        # Calculate Quarterly Recurring Charges (QRC)\n",
    "        if self.MRC_picker() in self.df.columns:\n",
    "            self.df['QRC'] = np.multiply(np.multiply(self.df[self.MRC_picker()], (1 + self.excise_duty + self.VAT)), 3)\n",
    "\n",
    "        # Rename columns\n",
    "        SLA_New_Names = {\n",
    "            'Link ID': 'Link_ID',\n",
    "            'SLA Date': 'SLA_Date',\n",
    "            'Last Mile': 'Last_Mile',\n",
    "            'QRC': 'QRC_Incl',\n",
    "            self.Site_desc_picker(): 'Location',\n",
    "            self.capacity_picker(): 'Capacity',\n",
    "            self.MRC_picker(): 'MRC_Excl',\n",
    "            self.comments_picker(): 'SLM_Comments'\n",
    "        }\n",
    "        self.df = self.df.rename(columns=SLA_New_Names)\n",
    "\n",
    "    def clean_sla_data(self):\n",
    "        \"\"\"Clean SLA data.\"\"\"\n",
    "        self.drop_null_rows()\n",
    "        self.drop_total_row()\n",
    "        self.transform_sla_data()\n",
    "\n",
    "    def invoice_df(self):\n",
    "        \"\"\"Return cleaned invoice data.\"\"\"\n",
    "        self.clean_invoice_data()\n",
    "        return self.df\n",
    "\n",
    "    def sla_df(self):\n",
    "        \"\"\"Return cleaned SLA data.\"\"\"\n",
    "        self.clean_sla_data()\n",
    "        return self.df\n"
   ]
  },
  {
   "cell_type": "code",
   "execution_count": 91,
   "metadata": {},
   "outputs": [
    {
     "ename": "KeyError",
     "evalue": "\"['Invoice Date', 'Invoice Period', 'Invoice Description', None] not in index\"",
     "output_type": "error",
     "traceback": [
      "\u001b[1;31m---------------------------------------------------------------------------\u001b[0m",
      "\u001b[1;31mKeyError\u001b[0m                                  Traceback (most recent call last)",
      "Cell \u001b[1;32mIn[91], line 2\u001b[0m\n\u001b[0;32m      1\u001b[0m saf_cleaned \u001b[38;5;241m=\u001b[39m DataCleaner(df_saf)\u001b[38;5;241m.\u001b[39msla_df()\n\u001b[1;32m----> 2\u001b[0m saf_cleaned2 \u001b[38;5;241m=\u001b[39m \u001b[43mDataCleaner\u001b[49m\u001b[43m(\u001b[49m\u001b[43mdf_saf\u001b[49m\u001b[43m)\u001b[49m\u001b[38;5;241;43m.\u001b[39;49m\u001b[43minvoice_df\u001b[49m\u001b[43m(\u001b[49m\u001b[43m)\u001b[49m\n",
      "Cell \u001b[1;32mIn[85], line 172\u001b[0m, in \u001b[0;36mDataCleaner.invoice_df\u001b[1;34m(self)\u001b[0m\n\u001b[0;32m    170\u001b[0m \u001b[38;5;28;01mdef\u001b[39;00m \u001b[38;5;21minvoice_df\u001b[39m(\u001b[38;5;28mself\u001b[39m):\n\u001b[0;32m    171\u001b[0m \u001b[38;5;250m    \u001b[39m\u001b[38;5;124;03m\"\"\"Return cleaned invoice data.\"\"\"\u001b[39;00m\n\u001b[1;32m--> 172\u001b[0m     \u001b[38;5;28;43mself\u001b[39;49m\u001b[38;5;241;43m.\u001b[39;49m\u001b[43mclean_invoice_data\u001b[49m\u001b[43m(\u001b[49m\u001b[43m)\u001b[49m\n\u001b[0;32m    173\u001b[0m     \u001b[38;5;28;01mreturn\u001b[39;00m \u001b[38;5;28mself\u001b[39m\u001b[38;5;241m.\u001b[39mdf\n",
      "Cell \u001b[1;32mIn[85], line 42\u001b[0m, in \u001b[0;36mDataCleaner.clean_invoice_data\u001b[1;34m(self)\u001b[0m\n\u001b[0;32m     40\u001b[0m \u001b[38;5;28mself\u001b[39m\u001b[38;5;241m.\u001b[39mdrop_null_rows()\n\u001b[0;32m     41\u001b[0m \u001b[38;5;28mself\u001b[39m\u001b[38;5;241m.\u001b[39mdrop_total_row()\n\u001b[1;32m---> 42\u001b[0m \u001b[38;5;28;43mself\u001b[39;49m\u001b[38;5;241;43m.\u001b[39;49m\u001b[43mrename_invoice_columns\u001b[49m\u001b[43m(\u001b[49m\u001b[43m)\u001b[49m\n\u001b[0;32m     43\u001b[0m \u001b[38;5;28mself\u001b[39m\u001b[38;5;241m.\u001b[39madjust_link_id_dtype()\n",
      "Cell \u001b[1;32mIn[85], line 55\u001b[0m, in \u001b[0;36mDataCleaner.rename_invoice_columns\u001b[1;34m(self)\u001b[0m\n\u001b[0;32m     46\u001b[0m \u001b[38;5;250m\u001b[39m\u001b[38;5;124;03m\"\"\"Rename invoice columns.\"\"\"\u001b[39;00m\n\u001b[0;32m     47\u001b[0m columns_wanted \u001b[38;5;241m=\u001b[39m {\n\u001b[0;32m     48\u001b[0m     \u001b[38;5;124m\"\u001b[39m\u001b[38;5;124mDate\u001b[39m\u001b[38;5;124m\"\u001b[39m: \u001b[38;5;124m\"\u001b[39m\u001b[38;5;124mInvoice Date\u001b[39m\u001b[38;5;124m\"\u001b[39m,\n\u001b[0;32m     49\u001b[0m     \u001b[38;5;124m\"\u001b[39m\u001b[38;5;124mID\u001b[39m\u001b[38;5;124m\"\u001b[39m: \u001b[38;5;124m\"\u001b[39m\u001b[38;5;124mLink ID\u001b[39m\u001b[38;5;124m\"\u001b[39m,\n\u001b[1;32m   (...)\u001b[0m\n\u001b[0;32m     53\u001b[0m     \u001b[38;5;124m\"\u001b[39m\u001b[38;5;124mQRC\u001b[39m\u001b[38;5;124m\"\u001b[39m: \u001b[38;5;28mself\u001b[39m\u001b[38;5;241m.\u001b[39mQRC_Finder()\n\u001b[0;32m     54\u001b[0m }\n\u001b[1;32m---> 55\u001b[0m \u001b[38;5;28mself\u001b[39m\u001b[38;5;241m.\u001b[39mdf \u001b[38;5;241m=\u001b[39m \u001b[38;5;28;43mself\u001b[39;49m\u001b[38;5;241;43m.\u001b[39;49m\u001b[43mdf\u001b[49m\u001b[38;5;241;43m.\u001b[39;49m\u001b[43mloc\u001b[49m\u001b[43m[\u001b[49m\u001b[43m:\u001b[49m\u001b[43m,\u001b[49m\u001b[43m \u001b[49m\u001b[43m[\u001b[49m\u001b[43mvalue\u001b[49m\u001b[43m \u001b[49m\u001b[38;5;28;43;01mfor\u001b[39;49;00m\u001b[43m \u001b[49m\u001b[43mvalue\u001b[49m\u001b[43m \u001b[49m\u001b[38;5;129;43;01min\u001b[39;49;00m\u001b[43m \u001b[49m\u001b[43mcolumns_wanted\u001b[49m\u001b[38;5;241;43m.\u001b[39;49m\u001b[43mvalues\u001b[49m\u001b[43m(\u001b[49m\u001b[43m)\u001b[49m\u001b[43m]\u001b[49m\u001b[43m]\u001b[49m\n\u001b[0;32m     57\u001b[0m new_invoice_col_names \u001b[38;5;241m=\u001b[39m {\n\u001b[0;32m     58\u001b[0m     \u001b[38;5;124m\"\u001b[39m\u001b[38;5;124mInvoice Date\u001b[39m\u001b[38;5;124m\"\u001b[39m: \u001b[38;5;124m\"\u001b[39m\u001b[38;5;124mInvoice_Data\u001b[39m\u001b[38;5;124m\"\u001b[39m,\n\u001b[0;32m     59\u001b[0m     \u001b[38;5;124m\"\u001b[39m\u001b[38;5;124mLink ID\u001b[39m\u001b[38;5;124m\"\u001b[39m: \u001b[38;5;124m\"\u001b[39m\u001b[38;5;124mLink_ID\u001b[39m\u001b[38;5;124m\"\u001b[39m,\n\u001b[1;32m   (...)\u001b[0m\n\u001b[0;32m     63\u001b[0m     \u001b[38;5;28mself\u001b[39m\u001b[38;5;241m.\u001b[39mQRC_Finder(): \u001b[38;5;124m\"\u001b[39m\u001b[38;5;124mTotal_QRC\u001b[39m\u001b[38;5;124m\"\u001b[39m\n\u001b[0;32m     64\u001b[0m }\n\u001b[0;32m     65\u001b[0m \u001b[38;5;28mself\u001b[39m\u001b[38;5;241m.\u001b[39mdf \u001b[38;5;241m=\u001b[39m \u001b[38;5;28mself\u001b[39m\u001b[38;5;241m.\u001b[39mdf\u001b[38;5;241m.\u001b[39mrename(columns\u001b[38;5;241m=\u001b[39mnew_invoice_col_names)\n",
      "File \u001b[1;32mc:\\Users\\USER\\anaconda3\\envs\\Python_Dev\\lib\\site-packages\\pandas\\core\\indexing.py:1147\u001b[0m, in \u001b[0;36m_LocationIndexer.__getitem__\u001b[1;34m(self, key)\u001b[0m\n\u001b[0;32m   1145\u001b[0m     \u001b[38;5;28;01mif\u001b[39;00m \u001b[38;5;28mself\u001b[39m\u001b[38;5;241m.\u001b[39m_is_scalar_access(key):\n\u001b[0;32m   1146\u001b[0m         \u001b[38;5;28;01mreturn\u001b[39;00m \u001b[38;5;28mself\u001b[39m\u001b[38;5;241m.\u001b[39mobj\u001b[38;5;241m.\u001b[39m_get_value(\u001b[38;5;241m*\u001b[39mkey, takeable\u001b[38;5;241m=\u001b[39m\u001b[38;5;28mself\u001b[39m\u001b[38;5;241m.\u001b[39m_takeable)\n\u001b[1;32m-> 1147\u001b[0m     \u001b[38;5;28;01mreturn\u001b[39;00m \u001b[38;5;28;43mself\u001b[39;49m\u001b[38;5;241;43m.\u001b[39;49m\u001b[43m_getitem_tuple\u001b[49m\u001b[43m(\u001b[49m\u001b[43mkey\u001b[49m\u001b[43m)\u001b[49m\n\u001b[0;32m   1148\u001b[0m \u001b[38;5;28;01melse\u001b[39;00m:\n\u001b[0;32m   1149\u001b[0m     \u001b[38;5;66;03m# we by definition only have the 0th axis\u001b[39;00m\n\u001b[0;32m   1150\u001b[0m     axis \u001b[38;5;241m=\u001b[39m \u001b[38;5;28mself\u001b[39m\u001b[38;5;241m.\u001b[39maxis \u001b[38;5;129;01mor\u001b[39;00m \u001b[38;5;241m0\u001b[39m\n",
      "File \u001b[1;32mc:\\Users\\USER\\anaconda3\\envs\\Python_Dev\\lib\\site-packages\\pandas\\core\\indexing.py:1339\u001b[0m, in \u001b[0;36m_LocIndexer._getitem_tuple\u001b[1;34m(self, tup)\u001b[0m\n\u001b[0;32m   1336\u001b[0m \u001b[38;5;28;01mif\u001b[39;00m \u001b[38;5;28mself\u001b[39m\u001b[38;5;241m.\u001b[39m_multi_take_opportunity(tup):\n\u001b[0;32m   1337\u001b[0m     \u001b[38;5;28;01mreturn\u001b[39;00m \u001b[38;5;28mself\u001b[39m\u001b[38;5;241m.\u001b[39m_multi_take(tup)\n\u001b[1;32m-> 1339\u001b[0m \u001b[38;5;28;01mreturn\u001b[39;00m \u001b[38;5;28;43mself\u001b[39;49m\u001b[38;5;241;43m.\u001b[39;49m\u001b[43m_getitem_tuple_same_dim\u001b[49m\u001b[43m(\u001b[49m\u001b[43mtup\u001b[49m\u001b[43m)\u001b[49m\n",
      "File \u001b[1;32mc:\\Users\\USER\\anaconda3\\envs\\Python_Dev\\lib\\site-packages\\pandas\\core\\indexing.py:994\u001b[0m, in \u001b[0;36m_LocationIndexer._getitem_tuple_same_dim\u001b[1;34m(self, tup)\u001b[0m\n\u001b[0;32m    991\u001b[0m \u001b[38;5;28;01mif\u001b[39;00m com\u001b[38;5;241m.\u001b[39mis_null_slice(key):\n\u001b[0;32m    992\u001b[0m     \u001b[38;5;28;01mcontinue\u001b[39;00m\n\u001b[1;32m--> 994\u001b[0m retval \u001b[38;5;241m=\u001b[39m \u001b[38;5;28;43mgetattr\u001b[39;49m\u001b[43m(\u001b[49m\u001b[43mretval\u001b[49m\u001b[43m,\u001b[49m\u001b[43m \u001b[49m\u001b[38;5;28;43mself\u001b[39;49m\u001b[38;5;241;43m.\u001b[39;49m\u001b[43mname\u001b[49m\u001b[43m)\u001b[49m\u001b[38;5;241;43m.\u001b[39;49m\u001b[43m_getitem_axis\u001b[49m\u001b[43m(\u001b[49m\u001b[43mkey\u001b[49m\u001b[43m,\u001b[49m\u001b[43m \u001b[49m\u001b[43maxis\u001b[49m\u001b[38;5;241;43m=\u001b[39;49m\u001b[43mi\u001b[49m\u001b[43m)\u001b[49m\n\u001b[0;32m    995\u001b[0m \u001b[38;5;66;03m# We should never have retval.ndim < self.ndim, as that should\u001b[39;00m\n\u001b[0;32m    996\u001b[0m \u001b[38;5;66;03m#  be handled by the _getitem_lowerdim call above.\u001b[39;00m\n\u001b[0;32m    997\u001b[0m \u001b[38;5;28;01massert\u001b[39;00m retval\u001b[38;5;241m.\u001b[39mndim \u001b[38;5;241m==\u001b[39m \u001b[38;5;28mself\u001b[39m\u001b[38;5;241m.\u001b[39mndim\n",
      "File \u001b[1;32mc:\\Users\\USER\\anaconda3\\envs\\Python_Dev\\lib\\site-packages\\pandas\\core\\indexing.py:1382\u001b[0m, in \u001b[0;36m_LocIndexer._getitem_axis\u001b[1;34m(self, key, axis)\u001b[0m\n\u001b[0;32m   1379\u001b[0m     \u001b[38;5;28;01mif\u001b[39;00m \u001b[38;5;28mhasattr\u001b[39m(key, \u001b[38;5;124m\"\u001b[39m\u001b[38;5;124mndim\u001b[39m\u001b[38;5;124m\"\u001b[39m) \u001b[38;5;129;01mand\u001b[39;00m key\u001b[38;5;241m.\u001b[39mndim \u001b[38;5;241m>\u001b[39m \u001b[38;5;241m1\u001b[39m:\n\u001b[0;32m   1380\u001b[0m         \u001b[38;5;28;01mraise\u001b[39;00m \u001b[38;5;167;01mValueError\u001b[39;00m(\u001b[38;5;124m\"\u001b[39m\u001b[38;5;124mCannot index with multidimensional key\u001b[39m\u001b[38;5;124m\"\u001b[39m)\n\u001b[1;32m-> 1382\u001b[0m     \u001b[38;5;28;01mreturn\u001b[39;00m \u001b[38;5;28;43mself\u001b[39;49m\u001b[38;5;241;43m.\u001b[39;49m\u001b[43m_getitem_iterable\u001b[49m\u001b[43m(\u001b[49m\u001b[43mkey\u001b[49m\u001b[43m,\u001b[49m\u001b[43m \u001b[49m\u001b[43maxis\u001b[49m\u001b[38;5;241;43m=\u001b[39;49m\u001b[43maxis\u001b[49m\u001b[43m)\u001b[49m\n\u001b[0;32m   1384\u001b[0m \u001b[38;5;66;03m# nested tuple slicing\u001b[39;00m\n\u001b[0;32m   1385\u001b[0m \u001b[38;5;28;01mif\u001b[39;00m is_nested_tuple(key, labels):\n",
      "File \u001b[1;32mc:\\Users\\USER\\anaconda3\\envs\\Python_Dev\\lib\\site-packages\\pandas\\core\\indexing.py:1322\u001b[0m, in \u001b[0;36m_LocIndexer._getitem_iterable\u001b[1;34m(self, key, axis)\u001b[0m\n\u001b[0;32m   1319\u001b[0m \u001b[38;5;28mself\u001b[39m\u001b[38;5;241m.\u001b[39m_validate_key(key, axis)\n\u001b[0;32m   1321\u001b[0m \u001b[38;5;66;03m# A collection of keys\u001b[39;00m\n\u001b[1;32m-> 1322\u001b[0m keyarr, indexer \u001b[38;5;241m=\u001b[39m \u001b[38;5;28;43mself\u001b[39;49m\u001b[38;5;241;43m.\u001b[39;49m\u001b[43m_get_listlike_indexer\u001b[49m\u001b[43m(\u001b[49m\u001b[43mkey\u001b[49m\u001b[43m,\u001b[49m\u001b[43m \u001b[49m\u001b[43maxis\u001b[49m\u001b[43m)\u001b[49m\n\u001b[0;32m   1323\u001b[0m \u001b[38;5;28;01mreturn\u001b[39;00m \u001b[38;5;28mself\u001b[39m\u001b[38;5;241m.\u001b[39mobj\u001b[38;5;241m.\u001b[39m_reindex_with_indexers(\n\u001b[0;32m   1324\u001b[0m     {axis: [keyarr, indexer]}, copy\u001b[38;5;241m=\u001b[39m\u001b[38;5;28;01mTrue\u001b[39;00m, allow_dups\u001b[38;5;241m=\u001b[39m\u001b[38;5;28;01mTrue\u001b[39;00m\n\u001b[0;32m   1325\u001b[0m )\n",
      "File \u001b[1;32mc:\\Users\\USER\\anaconda3\\envs\\Python_Dev\\lib\\site-packages\\pandas\\core\\indexing.py:1520\u001b[0m, in \u001b[0;36m_LocIndexer._get_listlike_indexer\u001b[1;34m(self, key, axis)\u001b[0m\n\u001b[0;32m   1517\u001b[0m ax \u001b[38;5;241m=\u001b[39m \u001b[38;5;28mself\u001b[39m\u001b[38;5;241m.\u001b[39mobj\u001b[38;5;241m.\u001b[39m_get_axis(axis)\n\u001b[0;32m   1518\u001b[0m axis_name \u001b[38;5;241m=\u001b[39m \u001b[38;5;28mself\u001b[39m\u001b[38;5;241m.\u001b[39mobj\u001b[38;5;241m.\u001b[39m_get_axis_name(axis)\n\u001b[1;32m-> 1520\u001b[0m keyarr, indexer \u001b[38;5;241m=\u001b[39m \u001b[43max\u001b[49m\u001b[38;5;241;43m.\u001b[39;49m\u001b[43m_get_indexer_strict\u001b[49m\u001b[43m(\u001b[49m\u001b[43mkey\u001b[49m\u001b[43m,\u001b[49m\u001b[43m \u001b[49m\u001b[43maxis_name\u001b[49m\u001b[43m)\u001b[49m\n\u001b[0;32m   1522\u001b[0m \u001b[38;5;28;01mreturn\u001b[39;00m keyarr, indexer\n",
      "File \u001b[1;32mc:\\Users\\USER\\anaconda3\\envs\\Python_Dev\\lib\\site-packages\\pandas\\core\\indexes\\base.py:6115\u001b[0m, in \u001b[0;36mIndex._get_indexer_strict\u001b[1;34m(self, key, axis_name)\u001b[0m\n\u001b[0;32m   6112\u001b[0m \u001b[38;5;28;01melse\u001b[39;00m:\n\u001b[0;32m   6113\u001b[0m     keyarr, indexer, new_indexer \u001b[38;5;241m=\u001b[39m \u001b[38;5;28mself\u001b[39m\u001b[38;5;241m.\u001b[39m_reindex_non_unique(keyarr)\n\u001b[1;32m-> 6115\u001b[0m \u001b[38;5;28;43mself\u001b[39;49m\u001b[38;5;241;43m.\u001b[39;49m\u001b[43m_raise_if_missing\u001b[49m\u001b[43m(\u001b[49m\u001b[43mkeyarr\u001b[49m\u001b[43m,\u001b[49m\u001b[43m \u001b[49m\u001b[43mindexer\u001b[49m\u001b[43m,\u001b[49m\u001b[43m \u001b[49m\u001b[43maxis_name\u001b[49m\u001b[43m)\u001b[49m\n\u001b[0;32m   6117\u001b[0m keyarr \u001b[38;5;241m=\u001b[39m \u001b[38;5;28mself\u001b[39m\u001b[38;5;241m.\u001b[39mtake(indexer)\n\u001b[0;32m   6118\u001b[0m \u001b[38;5;28;01mif\u001b[39;00m \u001b[38;5;28misinstance\u001b[39m(key, Index):\n\u001b[0;32m   6119\u001b[0m     \u001b[38;5;66;03m# GH 42790 - Preserve name from an Index\u001b[39;00m\n",
      "File \u001b[1;32mc:\\Users\\USER\\anaconda3\\envs\\Python_Dev\\lib\\site-packages\\pandas\\core\\indexes\\base.py:6179\u001b[0m, in \u001b[0;36mIndex._raise_if_missing\u001b[1;34m(self, key, indexer, axis_name)\u001b[0m\n\u001b[0;32m   6176\u001b[0m     \u001b[38;5;28;01mraise\u001b[39;00m \u001b[38;5;167;01mKeyError\u001b[39;00m(\u001b[38;5;124mf\u001b[39m\u001b[38;5;124m\"\u001b[39m\u001b[38;5;124mNone of [\u001b[39m\u001b[38;5;132;01m{\u001b[39;00mkey\u001b[38;5;132;01m}\u001b[39;00m\u001b[38;5;124m] are in the [\u001b[39m\u001b[38;5;132;01m{\u001b[39;00maxis_name\u001b[38;5;132;01m}\u001b[39;00m\u001b[38;5;124m]\u001b[39m\u001b[38;5;124m\"\u001b[39m)\n\u001b[0;32m   6178\u001b[0m not_found \u001b[38;5;241m=\u001b[39m \u001b[38;5;28mlist\u001b[39m(ensure_index(key)[missing_mask\u001b[38;5;241m.\u001b[39mnonzero()[\u001b[38;5;241m0\u001b[39m]]\u001b[38;5;241m.\u001b[39munique())\n\u001b[1;32m-> 6179\u001b[0m \u001b[38;5;28;01mraise\u001b[39;00m \u001b[38;5;167;01mKeyError\u001b[39;00m(\u001b[38;5;124mf\u001b[39m\u001b[38;5;124m\"\u001b[39m\u001b[38;5;132;01m{\u001b[39;00mnot_found\u001b[38;5;132;01m}\u001b[39;00m\u001b[38;5;124m not in index\u001b[39m\u001b[38;5;124m\"\u001b[39m)\n",
      "\u001b[1;31mKeyError\u001b[0m: \"['Invoice Date', 'Invoice Period', 'Invoice Description', None] not in index\""
     ]
    }
   ],
   "source": [
    "saf_cleaned = DataCleaner(df_saf).sla_df()\n",
    "saf_cleaned2 = DataCleaner(df_saf).invoice_df()\n"
   ]
  },
  {
   "cell_type": "code",
   "execution_count": 88,
   "metadata": {},
   "outputs": [
    {
     "data": {
      "text/html": [
       "<div>\n",
       "<style scoped>\n",
       "    .dataframe tbody tr th:only-of-type {\n",
       "        vertical-align: middle;\n",
       "    }\n",
       "\n",
       "    .dataframe tbody tr th {\n",
       "        vertical-align: top;\n",
       "    }\n",
       "\n",
       "    .dataframe thead th {\n",
       "        text-align: right;\n",
       "    }\n",
       "</style>\n",
       "<table border=\"1\" class=\"dataframe\">\n",
       "  <thead>\n",
       "    <tr style=\"text-align: right;\">\n",
       "      <th></th>\n",
       "      <th>Link_ID</th>\n",
       "      <th>SLA_Date</th>\n",
       "      <th>Last_Mile</th>\n",
       "      <th>Capacity</th>\n",
       "      <th>Location</th>\n",
       "      <th>MRC_Excl</th>\n",
       "      <th>SLM_Comments</th>\n",
       "      <th>QRC_Incl</th>\n",
       "    </tr>\n",
       "  </thead>\n",
       "  <tbody>\n",
       "    <tr>\n",
       "      <th>0</th>\n",
       "      <td>95054463</td>\n",
       "      <td>2020-12-16</td>\n",
       "      <td>MPLS</td>\n",
       "      <td>25</td>\n",
       "      <td>BUNGOMA MICROWAVE</td>\n",
       "      <td>20352.8</td>\n",
       "      <td>Upgrade 5&gt;25 Mbps. Check Upgrade Docs. KES 449...</td>\n",
       "      <td>79986.504</td>\n",
       "    </tr>\n",
       "    <tr>\n",
       "      <th>1</th>\n",
       "      <td>95096538</td>\n",
       "      <td>2020-12-16</td>\n",
       "      <td>MPLS</td>\n",
       "      <td>12</td>\n",
       "      <td>BUSIA-WIMAX</td>\n",
       "      <td>70008.3</td>\n",
       "      <td>NaN</td>\n",
       "      <td>275132.619</td>\n",
       "    </tr>\n",
       "    <tr>\n",
       "      <th>2</th>\n",
       "      <td>95038953</td>\n",
       "      <td>2020-12-16</td>\n",
       "      <td>MPLS</td>\n",
       "      <td>80</td>\n",
       "      <td>DR BACKHAUL FIBRE</td>\n",
       "      <td>93504.6</td>\n",
       "      <td>NaN</td>\n",
       "      <td>367473.078</td>\n",
       "    </tr>\n",
       "    <tr>\n",
       "      <th>3</th>\n",
       "      <td>95054464</td>\n",
       "      <td>2020-12-16</td>\n",
       "      <td>MPLS</td>\n",
       "      <td>60</td>\n",
       "      <td>ELDORET KIPTAGICH MPLS FIBER</td>\n",
       "      <td>25439.4</td>\n",
       "      <td>Upgrade 10&gt;60 Mbps. Check Upgrade Docs. KES 69...</td>\n",
       "      <td>99976.842</td>\n",
       "    </tr>\n",
       "    <tr>\n",
       "      <th>4</th>\n",
       "      <td>95054465</td>\n",
       "      <td>2020-12-16</td>\n",
       "      <td>MPLS</td>\n",
       "      <td>5</td>\n",
       "      <td>ELDORET KPC LOOP MICROWAVE</td>\n",
       "      <td>20357.4</td>\n",
       "      <td>NaN</td>\n",
       "      <td>80004.582</td>\n",
       "    </tr>\n",
       "  </tbody>\n",
       "</table>\n",
       "</div>"
      ],
      "text/plain": [
       "    Link_ID   SLA_Date Last_Mile  Capacity                      Location  \\\n",
       "0  95054463 2020-12-16      MPLS        25             BUNGOMA MICROWAVE   \n",
       "1  95096538 2020-12-16      MPLS        12                   BUSIA-WIMAX   \n",
       "2  95038953 2020-12-16      MPLS        80             DR BACKHAUL FIBRE   \n",
       "3  95054464 2020-12-16      MPLS        60  ELDORET KIPTAGICH MPLS FIBER   \n",
       "4  95054465 2020-12-16      MPLS         5    ELDORET KPC LOOP MICROWAVE   \n",
       "\n",
       "   MRC_Excl                                       SLM_Comments    QRC_Incl  \n",
       "0   20352.8  Upgrade 5>25 Mbps. Check Upgrade Docs. KES 449...   79986.504  \n",
       "1   70008.3                                                NaN  275132.619  \n",
       "2   93504.6                                                NaN  367473.078  \n",
       "3   25439.4  Upgrade 10>60 Mbps. Check Upgrade Docs. KES 69...   99976.842  \n",
       "4   20357.4                                                NaN   80004.582  "
      ]
     },
     "execution_count": 88,
     "metadata": {},
     "output_type": "execute_result"
    }
   ],
   "source": [
    "saf_cleaned.head()"
   ]
  },
  {
   "cell_type": "code",
   "execution_count": 90,
   "metadata": {},
   "outputs": [
    {
     "name": "stdout",
     "output_type": "stream",
     "text": [
      "<class 'pandas.core.frame.DataFrame'>\n",
      "RangeIndex: 59 entries, 0 to 58\n",
      "Data columns (total 8 columns):\n",
      " #   Column        Non-Null Count  Dtype         \n",
      "---  ------        --------------  -----         \n",
      " 0   Link_ID       59 non-null     object        \n",
      " 1   SLA_Date      59 non-null     datetime64[ns]\n",
      " 2   Last_Mile     59 non-null     object        \n",
      " 3   Capacity      59 non-null     int32         \n",
      " 4   Location      59 non-null     object        \n",
      " 5   MRC_Excl      59 non-null     float64       \n",
      " 6   SLM_Comments  21 non-null     object        \n",
      " 7   QRC_Incl      59 non-null     float64       \n",
      "dtypes: datetime64[ns](1), float64(2), int32(1), object(4)\n",
      "memory usage: 3.6+ KB\n"
     ]
    }
   ],
   "source": [
    "saf_cleaned.info()"
   ]
  },
  {
   "cell_type": "code",
   "execution_count": 92,
   "metadata": {},
   "outputs": [],
   "source": [
    "import pandas as pd\n",
    "import numpy as np\n",
    "\n",
    "class InvoiceCleaner:\n",
    "    def __init__(self, df):\n",
    "        self.df = df\n",
    "\n",
    "    def drop_null_rows(self):\n",
    "        self.df.dropna(how='all', inplace=True)\n",
    "\n",
    "    def drop_total_row(self):\n",
    "        if \"No.\" in self.df.columns:\n",
    "            self.df.drop(self.df[self.df[\"No.\"] == \"Total\"].index, inplace=True)\n",
    "\n",
    "    def pick_invoice_column_name(self):\n",
    "        for substring in ['invoice no', 'ref']:\n",
    "            matching_columns = [col for col in self.df.columns if substring.lower() in col.lower()]\n",
    "            if matching_columns:\n",
    "                return matching_columns[0]\n",
    "\n",
    "    def QRC_Finder(self):\n",
    "        max_value = None\n",
    "        max_col = None\n",
    "        for substring in ['QRC', 'Total', 'Amount']:\n",
    "            fields = [col for col in self.df.columns if substring.lower() in col.lower()]\n",
    "            for field in fields:\n",
    "                if field in self.df.columns and not self.df[field].isnull().all():\n",
    "                    first_row_value = self.df.at[1, field]\n",
    "                    if max_value is None or first_row_value > max_value:\n",
    "                        max_value = first_row_value\n",
    "                        max_col = field\n",
    "        return max_col\n",
    "\n",
    "    def clean_data(self):\n",
    "        self.drop_null_rows()\n",
    "        self.drop_total_row()\n",
    "\n",
    "        columns_wanted = {\n",
    "            \"Date\": \"Invoice Date\",\n",
    "            \"ID\": \"Link ID\",\n",
    "            \"Period\": \"Invoice Period\",\n",
    "            \"Description\": \"Invoice Description\",\n",
    "            \"Reference/No\": self.pick_invoice_column_name(),\n",
    "            \"QRC\": self.QRC_Finder()\n",
    "        }\n",
    "\n",
    "        self.df = self.df.loc[:, [value for value in columns_wanted.values()]]\n",
    "\n",
    "        new_invoice_col_names = {\n",
    "            \"Invoice Date\": \"Invoice_Data\",\n",
    "            \"Link ID\": \"Link_ID\",\n",
    "            \"Invoice Period\": \"Invoice_Period\",\n",
    "            \"Invoice Description\": \"Invoice_Description\",\n",
    "            self.pick_invoice_column_name(): \"Invoice_Reference\",\n",
    "            self.QRC_Finder(): \"Total_QRC\"\n",
    "        }\n",
    "        self.df = self.df.rename(columns=new_invoice_col_names)\n",
    "\n",
    "        # Adjust 'Link ID' based on its current type\n",
    "        if 'Link_ID' in self.df.columns:\n",
    "            if self.df['Link_ID'].dtype == 'float':\n",
    "                self.df['Link_ID'] = self.df['Link_ID'].astype('int').astype('str')\n",
    "            elif self.df['Link_ID'].dtype == 'int':\n",
    "                self.df['Link_ID'] = self.df['Link_ID'].astype('str')\n",
    "\n",
    "        # Convert 'Invoice Date' to datetime\n",
    "        if 'Invoice_Data' in self.df.columns:\n",
    "            self.df['Invoice_Data'] = pd.to_datetime(self.df['Invoice_Data'])\n",
    "\n",
    "        return self.df\n",
    "\n",
    "\n",
    "class SLACleaner:\n",
    "    def __init__(self, df):\n",
    "        self.df = df\n",
    "\n",
    "    def drop_null_rows(self):\n",
    "        self.df.dropna(how='all', inplace=True)\n",
    "\n",
    "    def drop_total_row(self):\n",
    "        if \"No.\" in self.df.columns:\n",
    "            self.df.drop(self.df[self.df[\"No.\"] == \"Total\"].index, inplace=True)\n",
    "\n",
    "    def capacity_picker(self):\n",
    "        for pat in ['Capacity']:\n",
    "            matching_cols = [col for col in self.df.columns if pat.lower() in col.lower()]\n",
    "            if matching_cols:\n",
    "                return matching_cols[0]\n",
    "\n",
    "    def comments_picker(self):\n",
    "        for pat in ['comment']:\n",
    "            matching_cols = [col for col in self.df.columns if pat.lower() in col.lower()]\n",
    "            if matching_cols:\n",
    "                return matching_cols[0]\n",
    "\n",
    "    def site_desc_picker(self):\n",
    "        for pat in ['site', 'description']:\n",
    "            matching_cols = [col for col in self.df.columns if pat.lower() in col.lower()]\n",
    "            if matching_cols:\n",
    "                return matching_cols[0]\n",
    "\n",
    "    def MRC_picker(self):\n",
    "        for pat in ['month', 'MRC']:\n",
    "            matching_cols = [col for col in self.df.columns if pat.lower() in col.lower()]\n",
    "            if matching_cols:\n",
    "                return matching_cols[0]\n",
    "\n",
    "    def clean_data(self):\n",
    "        self.drop_null_rows()\n",
    "        self.drop_total_row()\n",
    "\n",
    "        SLA_Cols = {\n",
    "            'Link ID': 'Link ID',\n",
    "            'SLA Dates': 'SLA Date',\n",
    "            'Last Mile': 'Last Mile',\n",
    "            'Capacity': self.capacity_picker(),\n",
    "            'Sites/Location': self.site_desc_picker(),\n",
    "            'MRC': self.MRC_picker(),\n",
    "            'Comments': self.comments_picker()\n",
    "        }\n",
    "\n",
    "        self.df = self.df.loc[:, [col for col in SLA_Cols.values()]]\n",
    "\n",
    "        # Changing the link id to str depending on the current dtype\n",
    "        if 'Link ID' in self.df.columns:\n",
    "            if self.df['Link ID'].dtype == 'float':\n",
    "                self.df['Link ID'] = self.df['Link ID'].astype('int').astype('str')\n",
    "            elif self.df['Link ID'].dtype == 'int':\n",
    "                self.df['Link ID'] = self.df['Link ID'].astype('str')\n",
    "\n",
    "        # Convert 'SLA Date' to datetime\n",
    "        if 'SLA Date' in self.df.columns:\n",
    "            self.df['SLA Date'] = pd.to_datetime(self.df['SLA Date'])\n",
    "\n",
    "        # Capacity\n",
    "        if self.capacity_picker() in self.df.columns and self.df[self.capacity_picker()].dtype == 'object':\n",
    "            self.df[self.capacity_picker()] = self.df[self.capacity_picker()].str.split(' ', expand=True)[0].astype(\n",
    "                'int')\n",
    "\n",
    "        # Calculating the Quarterly Recurring Charges\n",
    "        if self.MRC_picker() in self.df.columns:\n",
    "            self.excise_duty = 0.15\n",
    "            self.VAT = 0.16\n",
    "            self.df['QRC'] = np.multiply(np.multiply(self.df[self.MRC_picker()], (1 + self.excise_duty + self.VAT)), 3)\n",
    "\n",
    "        # Renaming the Columns\n",
    "        SLA_New_Names = {\n",
    "            'Link ID': 'Link_ID',\n",
    "            'SLA Date': 'SLA_Date',\n",
    "            'Last Mile': 'Last_Mile',\n",
    "            'QRC': 'QRC_Incl',\n",
    "            self.site_desc_picker(): 'Location',\n",
    "            self.capacity_picker(): 'Capacity',\n",
    "            self.MRC_picker(): 'MRC_Excl',\n",
    "            self.comments_picker(): 'SLM_Comments'\n",
    "        }\n",
    "        self.df = self.df.rename(columns=SLA_New_Names)\n",
    "\n",
    "        return self.df\n"
   ]
  },
  {
   "cell_type": "code",
   "execution_count": 97,
   "metadata": {},
   "outputs": [
    {
     "ename": "KeyError",
     "evalue": "\"['Invoice Date', 'Invoice Period', 'Invoice Description', None] not in index\"",
     "output_type": "error",
     "traceback": [
      "\u001b[1;31m---------------------------------------------------------------------------\u001b[0m",
      "\u001b[1;31mKeyError\u001b[0m                                  Traceback (most recent call last)",
      "Cell \u001b[1;32mIn[97], line 2\u001b[0m\n\u001b[0;32m      1\u001b[0m saf_clean \u001b[38;5;241m=\u001b[39m SLACleaner(df_saf)\u001b[38;5;241m.\u001b[39mclean_data()\n\u001b[1;32m----> 2\u001b[0m saf_clean2 \u001b[38;5;241m=\u001b[39m \u001b[43mInvoiceCleaner\u001b[49m\u001b[43m(\u001b[49m\u001b[43mdf_saf\u001b[49m\u001b[43m)\u001b[49m\u001b[38;5;241;43m.\u001b[39;49m\u001b[43mclean_data\u001b[49m\u001b[43m(\u001b[49m\u001b[43m)\u001b[49m\n",
      "Cell \u001b[1;32mIn[92], line 47\u001b[0m, in \u001b[0;36mInvoiceCleaner.clean_data\u001b[1;34m(self)\u001b[0m\n\u001b[0;32m     36\u001b[0m \u001b[38;5;28mself\u001b[39m\u001b[38;5;241m.\u001b[39mdrop_total_row()\n\u001b[0;32m     38\u001b[0m columns_wanted \u001b[38;5;241m=\u001b[39m {\n\u001b[0;32m     39\u001b[0m     \u001b[38;5;124m\"\u001b[39m\u001b[38;5;124mDate\u001b[39m\u001b[38;5;124m\"\u001b[39m: \u001b[38;5;124m\"\u001b[39m\u001b[38;5;124mInvoice Date\u001b[39m\u001b[38;5;124m\"\u001b[39m,\n\u001b[0;32m     40\u001b[0m     \u001b[38;5;124m\"\u001b[39m\u001b[38;5;124mID\u001b[39m\u001b[38;5;124m\"\u001b[39m: \u001b[38;5;124m\"\u001b[39m\u001b[38;5;124mLink ID\u001b[39m\u001b[38;5;124m\"\u001b[39m,\n\u001b[1;32m   (...)\u001b[0m\n\u001b[0;32m     44\u001b[0m     \u001b[38;5;124m\"\u001b[39m\u001b[38;5;124mQRC\u001b[39m\u001b[38;5;124m\"\u001b[39m: \u001b[38;5;28mself\u001b[39m\u001b[38;5;241m.\u001b[39mQRC_Finder()\n\u001b[0;32m     45\u001b[0m }\n\u001b[1;32m---> 47\u001b[0m \u001b[38;5;28mself\u001b[39m\u001b[38;5;241m.\u001b[39mdf \u001b[38;5;241m=\u001b[39m \u001b[38;5;28;43mself\u001b[39;49m\u001b[38;5;241;43m.\u001b[39;49m\u001b[43mdf\u001b[49m\u001b[38;5;241;43m.\u001b[39;49m\u001b[43mloc\u001b[49m\u001b[43m[\u001b[49m\u001b[43m:\u001b[49m\u001b[43m,\u001b[49m\u001b[43m \u001b[49m\u001b[43m[\u001b[49m\u001b[43mvalue\u001b[49m\u001b[43m \u001b[49m\u001b[38;5;28;43;01mfor\u001b[39;49;00m\u001b[43m \u001b[49m\u001b[43mvalue\u001b[49m\u001b[43m \u001b[49m\u001b[38;5;129;43;01min\u001b[39;49;00m\u001b[43m \u001b[49m\u001b[43mcolumns_wanted\u001b[49m\u001b[38;5;241;43m.\u001b[39;49m\u001b[43mvalues\u001b[49m\u001b[43m(\u001b[49m\u001b[43m)\u001b[49m\u001b[43m]\u001b[49m\u001b[43m]\u001b[49m\n\u001b[0;32m     49\u001b[0m new_invoice_col_names \u001b[38;5;241m=\u001b[39m {\n\u001b[0;32m     50\u001b[0m     \u001b[38;5;124m\"\u001b[39m\u001b[38;5;124mInvoice Date\u001b[39m\u001b[38;5;124m\"\u001b[39m: \u001b[38;5;124m\"\u001b[39m\u001b[38;5;124mInvoice_Data\u001b[39m\u001b[38;5;124m\"\u001b[39m,\n\u001b[0;32m     51\u001b[0m     \u001b[38;5;124m\"\u001b[39m\u001b[38;5;124mLink ID\u001b[39m\u001b[38;5;124m\"\u001b[39m: \u001b[38;5;124m\"\u001b[39m\u001b[38;5;124mLink_ID\u001b[39m\u001b[38;5;124m\"\u001b[39m,\n\u001b[1;32m   (...)\u001b[0m\n\u001b[0;32m     55\u001b[0m     \u001b[38;5;28mself\u001b[39m\u001b[38;5;241m.\u001b[39mQRC_Finder(): \u001b[38;5;124m\"\u001b[39m\u001b[38;5;124mTotal_QRC\u001b[39m\u001b[38;5;124m\"\u001b[39m\n\u001b[0;32m     56\u001b[0m }\n\u001b[0;32m     57\u001b[0m \u001b[38;5;28mself\u001b[39m\u001b[38;5;241m.\u001b[39mdf \u001b[38;5;241m=\u001b[39m \u001b[38;5;28mself\u001b[39m\u001b[38;5;241m.\u001b[39mdf\u001b[38;5;241m.\u001b[39mrename(columns\u001b[38;5;241m=\u001b[39mnew_invoice_col_names)\n",
      "File \u001b[1;32mc:\\Users\\USER\\anaconda3\\envs\\Python_Dev\\lib\\site-packages\\pandas\\core\\indexing.py:1147\u001b[0m, in \u001b[0;36m_LocationIndexer.__getitem__\u001b[1;34m(self, key)\u001b[0m\n\u001b[0;32m   1145\u001b[0m     \u001b[38;5;28;01mif\u001b[39;00m \u001b[38;5;28mself\u001b[39m\u001b[38;5;241m.\u001b[39m_is_scalar_access(key):\n\u001b[0;32m   1146\u001b[0m         \u001b[38;5;28;01mreturn\u001b[39;00m \u001b[38;5;28mself\u001b[39m\u001b[38;5;241m.\u001b[39mobj\u001b[38;5;241m.\u001b[39m_get_value(\u001b[38;5;241m*\u001b[39mkey, takeable\u001b[38;5;241m=\u001b[39m\u001b[38;5;28mself\u001b[39m\u001b[38;5;241m.\u001b[39m_takeable)\n\u001b[1;32m-> 1147\u001b[0m     \u001b[38;5;28;01mreturn\u001b[39;00m \u001b[38;5;28;43mself\u001b[39;49m\u001b[38;5;241;43m.\u001b[39;49m\u001b[43m_getitem_tuple\u001b[49m\u001b[43m(\u001b[49m\u001b[43mkey\u001b[49m\u001b[43m)\u001b[49m\n\u001b[0;32m   1148\u001b[0m \u001b[38;5;28;01melse\u001b[39;00m:\n\u001b[0;32m   1149\u001b[0m     \u001b[38;5;66;03m# we by definition only have the 0th axis\u001b[39;00m\n\u001b[0;32m   1150\u001b[0m     axis \u001b[38;5;241m=\u001b[39m \u001b[38;5;28mself\u001b[39m\u001b[38;5;241m.\u001b[39maxis \u001b[38;5;129;01mor\u001b[39;00m \u001b[38;5;241m0\u001b[39m\n",
      "File \u001b[1;32mc:\\Users\\USER\\anaconda3\\envs\\Python_Dev\\lib\\site-packages\\pandas\\core\\indexing.py:1339\u001b[0m, in \u001b[0;36m_LocIndexer._getitem_tuple\u001b[1;34m(self, tup)\u001b[0m\n\u001b[0;32m   1336\u001b[0m \u001b[38;5;28;01mif\u001b[39;00m \u001b[38;5;28mself\u001b[39m\u001b[38;5;241m.\u001b[39m_multi_take_opportunity(tup):\n\u001b[0;32m   1337\u001b[0m     \u001b[38;5;28;01mreturn\u001b[39;00m \u001b[38;5;28mself\u001b[39m\u001b[38;5;241m.\u001b[39m_multi_take(tup)\n\u001b[1;32m-> 1339\u001b[0m \u001b[38;5;28;01mreturn\u001b[39;00m \u001b[38;5;28;43mself\u001b[39;49m\u001b[38;5;241;43m.\u001b[39;49m\u001b[43m_getitem_tuple_same_dim\u001b[49m\u001b[43m(\u001b[49m\u001b[43mtup\u001b[49m\u001b[43m)\u001b[49m\n",
      "File \u001b[1;32mc:\\Users\\USER\\anaconda3\\envs\\Python_Dev\\lib\\site-packages\\pandas\\core\\indexing.py:994\u001b[0m, in \u001b[0;36m_LocationIndexer._getitem_tuple_same_dim\u001b[1;34m(self, tup)\u001b[0m\n\u001b[0;32m    991\u001b[0m \u001b[38;5;28;01mif\u001b[39;00m com\u001b[38;5;241m.\u001b[39mis_null_slice(key):\n\u001b[0;32m    992\u001b[0m     \u001b[38;5;28;01mcontinue\u001b[39;00m\n\u001b[1;32m--> 994\u001b[0m retval \u001b[38;5;241m=\u001b[39m \u001b[38;5;28;43mgetattr\u001b[39;49m\u001b[43m(\u001b[49m\u001b[43mretval\u001b[49m\u001b[43m,\u001b[49m\u001b[43m \u001b[49m\u001b[38;5;28;43mself\u001b[39;49m\u001b[38;5;241;43m.\u001b[39;49m\u001b[43mname\u001b[49m\u001b[43m)\u001b[49m\u001b[38;5;241;43m.\u001b[39;49m\u001b[43m_getitem_axis\u001b[49m\u001b[43m(\u001b[49m\u001b[43mkey\u001b[49m\u001b[43m,\u001b[49m\u001b[43m \u001b[49m\u001b[43maxis\u001b[49m\u001b[38;5;241;43m=\u001b[39;49m\u001b[43mi\u001b[49m\u001b[43m)\u001b[49m\n\u001b[0;32m    995\u001b[0m \u001b[38;5;66;03m# We should never have retval.ndim < self.ndim, as that should\u001b[39;00m\n\u001b[0;32m    996\u001b[0m \u001b[38;5;66;03m#  be handled by the _getitem_lowerdim call above.\u001b[39;00m\n\u001b[0;32m    997\u001b[0m \u001b[38;5;28;01massert\u001b[39;00m retval\u001b[38;5;241m.\u001b[39mndim \u001b[38;5;241m==\u001b[39m \u001b[38;5;28mself\u001b[39m\u001b[38;5;241m.\u001b[39mndim\n",
      "File \u001b[1;32mc:\\Users\\USER\\anaconda3\\envs\\Python_Dev\\lib\\site-packages\\pandas\\core\\indexing.py:1382\u001b[0m, in \u001b[0;36m_LocIndexer._getitem_axis\u001b[1;34m(self, key, axis)\u001b[0m\n\u001b[0;32m   1379\u001b[0m     \u001b[38;5;28;01mif\u001b[39;00m \u001b[38;5;28mhasattr\u001b[39m(key, \u001b[38;5;124m\"\u001b[39m\u001b[38;5;124mndim\u001b[39m\u001b[38;5;124m\"\u001b[39m) \u001b[38;5;129;01mand\u001b[39;00m key\u001b[38;5;241m.\u001b[39mndim \u001b[38;5;241m>\u001b[39m \u001b[38;5;241m1\u001b[39m:\n\u001b[0;32m   1380\u001b[0m         \u001b[38;5;28;01mraise\u001b[39;00m \u001b[38;5;167;01mValueError\u001b[39;00m(\u001b[38;5;124m\"\u001b[39m\u001b[38;5;124mCannot index with multidimensional key\u001b[39m\u001b[38;5;124m\"\u001b[39m)\n\u001b[1;32m-> 1382\u001b[0m     \u001b[38;5;28;01mreturn\u001b[39;00m \u001b[38;5;28;43mself\u001b[39;49m\u001b[38;5;241;43m.\u001b[39;49m\u001b[43m_getitem_iterable\u001b[49m\u001b[43m(\u001b[49m\u001b[43mkey\u001b[49m\u001b[43m,\u001b[49m\u001b[43m \u001b[49m\u001b[43maxis\u001b[49m\u001b[38;5;241;43m=\u001b[39;49m\u001b[43maxis\u001b[49m\u001b[43m)\u001b[49m\n\u001b[0;32m   1384\u001b[0m \u001b[38;5;66;03m# nested tuple slicing\u001b[39;00m\n\u001b[0;32m   1385\u001b[0m \u001b[38;5;28;01mif\u001b[39;00m is_nested_tuple(key, labels):\n",
      "File \u001b[1;32mc:\\Users\\USER\\anaconda3\\envs\\Python_Dev\\lib\\site-packages\\pandas\\core\\indexing.py:1322\u001b[0m, in \u001b[0;36m_LocIndexer._getitem_iterable\u001b[1;34m(self, key, axis)\u001b[0m\n\u001b[0;32m   1319\u001b[0m \u001b[38;5;28mself\u001b[39m\u001b[38;5;241m.\u001b[39m_validate_key(key, axis)\n\u001b[0;32m   1321\u001b[0m \u001b[38;5;66;03m# A collection of keys\u001b[39;00m\n\u001b[1;32m-> 1322\u001b[0m keyarr, indexer \u001b[38;5;241m=\u001b[39m \u001b[38;5;28;43mself\u001b[39;49m\u001b[38;5;241;43m.\u001b[39;49m\u001b[43m_get_listlike_indexer\u001b[49m\u001b[43m(\u001b[49m\u001b[43mkey\u001b[49m\u001b[43m,\u001b[49m\u001b[43m \u001b[49m\u001b[43maxis\u001b[49m\u001b[43m)\u001b[49m\n\u001b[0;32m   1323\u001b[0m \u001b[38;5;28;01mreturn\u001b[39;00m \u001b[38;5;28mself\u001b[39m\u001b[38;5;241m.\u001b[39mobj\u001b[38;5;241m.\u001b[39m_reindex_with_indexers(\n\u001b[0;32m   1324\u001b[0m     {axis: [keyarr, indexer]}, copy\u001b[38;5;241m=\u001b[39m\u001b[38;5;28;01mTrue\u001b[39;00m, allow_dups\u001b[38;5;241m=\u001b[39m\u001b[38;5;28;01mTrue\u001b[39;00m\n\u001b[0;32m   1325\u001b[0m )\n",
      "File \u001b[1;32mc:\\Users\\USER\\anaconda3\\envs\\Python_Dev\\lib\\site-packages\\pandas\\core\\indexing.py:1520\u001b[0m, in \u001b[0;36m_LocIndexer._get_listlike_indexer\u001b[1;34m(self, key, axis)\u001b[0m\n\u001b[0;32m   1517\u001b[0m ax \u001b[38;5;241m=\u001b[39m \u001b[38;5;28mself\u001b[39m\u001b[38;5;241m.\u001b[39mobj\u001b[38;5;241m.\u001b[39m_get_axis(axis)\n\u001b[0;32m   1518\u001b[0m axis_name \u001b[38;5;241m=\u001b[39m \u001b[38;5;28mself\u001b[39m\u001b[38;5;241m.\u001b[39mobj\u001b[38;5;241m.\u001b[39m_get_axis_name(axis)\n\u001b[1;32m-> 1520\u001b[0m keyarr, indexer \u001b[38;5;241m=\u001b[39m \u001b[43max\u001b[49m\u001b[38;5;241;43m.\u001b[39;49m\u001b[43m_get_indexer_strict\u001b[49m\u001b[43m(\u001b[49m\u001b[43mkey\u001b[49m\u001b[43m,\u001b[49m\u001b[43m \u001b[49m\u001b[43maxis_name\u001b[49m\u001b[43m)\u001b[49m\n\u001b[0;32m   1522\u001b[0m \u001b[38;5;28;01mreturn\u001b[39;00m keyarr, indexer\n",
      "File \u001b[1;32mc:\\Users\\USER\\anaconda3\\envs\\Python_Dev\\lib\\site-packages\\pandas\\core\\indexes\\base.py:6115\u001b[0m, in \u001b[0;36mIndex._get_indexer_strict\u001b[1;34m(self, key, axis_name)\u001b[0m\n\u001b[0;32m   6112\u001b[0m \u001b[38;5;28;01melse\u001b[39;00m:\n\u001b[0;32m   6113\u001b[0m     keyarr, indexer, new_indexer \u001b[38;5;241m=\u001b[39m \u001b[38;5;28mself\u001b[39m\u001b[38;5;241m.\u001b[39m_reindex_non_unique(keyarr)\n\u001b[1;32m-> 6115\u001b[0m \u001b[38;5;28;43mself\u001b[39;49m\u001b[38;5;241;43m.\u001b[39;49m\u001b[43m_raise_if_missing\u001b[49m\u001b[43m(\u001b[49m\u001b[43mkeyarr\u001b[49m\u001b[43m,\u001b[49m\u001b[43m \u001b[49m\u001b[43mindexer\u001b[49m\u001b[43m,\u001b[49m\u001b[43m \u001b[49m\u001b[43maxis_name\u001b[49m\u001b[43m)\u001b[49m\n\u001b[0;32m   6117\u001b[0m keyarr \u001b[38;5;241m=\u001b[39m \u001b[38;5;28mself\u001b[39m\u001b[38;5;241m.\u001b[39mtake(indexer)\n\u001b[0;32m   6118\u001b[0m \u001b[38;5;28;01mif\u001b[39;00m \u001b[38;5;28misinstance\u001b[39m(key, Index):\n\u001b[0;32m   6119\u001b[0m     \u001b[38;5;66;03m# GH 42790 - Preserve name from an Index\u001b[39;00m\n",
      "File \u001b[1;32mc:\\Users\\USER\\anaconda3\\envs\\Python_Dev\\lib\\site-packages\\pandas\\core\\indexes\\base.py:6179\u001b[0m, in \u001b[0;36mIndex._raise_if_missing\u001b[1;34m(self, key, indexer, axis_name)\u001b[0m\n\u001b[0;32m   6176\u001b[0m     \u001b[38;5;28;01mraise\u001b[39;00m \u001b[38;5;167;01mKeyError\u001b[39;00m(\u001b[38;5;124mf\u001b[39m\u001b[38;5;124m\"\u001b[39m\u001b[38;5;124mNone of [\u001b[39m\u001b[38;5;132;01m{\u001b[39;00mkey\u001b[38;5;132;01m}\u001b[39;00m\u001b[38;5;124m] are in the [\u001b[39m\u001b[38;5;132;01m{\u001b[39;00maxis_name\u001b[38;5;132;01m}\u001b[39;00m\u001b[38;5;124m]\u001b[39m\u001b[38;5;124m\"\u001b[39m)\n\u001b[0;32m   6178\u001b[0m not_found \u001b[38;5;241m=\u001b[39m \u001b[38;5;28mlist\u001b[39m(ensure_index(key)[missing_mask\u001b[38;5;241m.\u001b[39mnonzero()[\u001b[38;5;241m0\u001b[39m]]\u001b[38;5;241m.\u001b[39munique())\n\u001b[1;32m-> 6179\u001b[0m \u001b[38;5;28;01mraise\u001b[39;00m \u001b[38;5;167;01mKeyError\u001b[39;00m(\u001b[38;5;124mf\u001b[39m\u001b[38;5;124m\"\u001b[39m\u001b[38;5;132;01m{\u001b[39;00mnot_found\u001b[38;5;132;01m}\u001b[39;00m\u001b[38;5;124m not in index\u001b[39m\u001b[38;5;124m\"\u001b[39m)\n",
      "\u001b[1;31mKeyError\u001b[0m: \"['Invoice Date', 'Invoice Period', 'Invoice Description', None] not in index\""
     ]
    }
   ],
   "source": [
    "saf_clean = SLACleaner(df_saf).clean_data()\n",
    "saf_clean2 = InvoiceCleaner(df_saf).clean_data()"
   ]
  },
  {
   "cell_type": "code",
   "execution_count": 95,
   "metadata": {},
   "outputs": [
    {
     "data": {
      "text/html": [
       "<div>\n",
       "<style scoped>\n",
       "    .dataframe tbody tr th:only-of-type {\n",
       "        vertical-align: middle;\n",
       "    }\n",
       "\n",
       "    .dataframe tbody tr th {\n",
       "        vertical-align: top;\n",
       "    }\n",
       "\n",
       "    .dataframe thead th {\n",
       "        text-align: right;\n",
       "    }\n",
       "</style>\n",
       "<table border=\"1\" class=\"dataframe\">\n",
       "  <thead>\n",
       "    <tr style=\"text-align: right;\">\n",
       "      <th></th>\n",
       "      <th>Link_ID</th>\n",
       "      <th>SLA_Date</th>\n",
       "      <th>Last_Mile</th>\n",
       "      <th>Capacity</th>\n",
       "      <th>Location</th>\n",
       "      <th>MRC_Excl</th>\n",
       "      <th>SLM_Comments</th>\n",
       "      <th>QRC_Incl</th>\n",
       "    </tr>\n",
       "  </thead>\n",
       "  <tbody>\n",
       "    <tr>\n",
       "      <th>0</th>\n",
       "      <td>95054463</td>\n",
       "      <td>2020-12-16</td>\n",
       "      <td>MPLS</td>\n",
       "      <td>25</td>\n",
       "      <td>BUNGOMA MICROWAVE</td>\n",
       "      <td>20352.8</td>\n",
       "      <td>Upgrade 5&gt;25 Mbps. Check Upgrade Docs. KES 449...</td>\n",
       "      <td>79986.504</td>\n",
       "    </tr>\n",
       "    <tr>\n",
       "      <th>1</th>\n",
       "      <td>95096538</td>\n",
       "      <td>2020-12-16</td>\n",
       "      <td>MPLS</td>\n",
       "      <td>12</td>\n",
       "      <td>BUSIA-WIMAX</td>\n",
       "      <td>70008.3</td>\n",
       "      <td>NaN</td>\n",
       "      <td>275132.619</td>\n",
       "    </tr>\n",
       "    <tr>\n",
       "      <th>2</th>\n",
       "      <td>95038953</td>\n",
       "      <td>2020-12-16</td>\n",
       "      <td>MPLS</td>\n",
       "      <td>80</td>\n",
       "      <td>DR BACKHAUL FIBRE</td>\n",
       "      <td>93504.6</td>\n",
       "      <td>NaN</td>\n",
       "      <td>367473.078</td>\n",
       "    </tr>\n",
       "    <tr>\n",
       "      <th>3</th>\n",
       "      <td>95054464</td>\n",
       "      <td>2020-12-16</td>\n",
       "      <td>MPLS</td>\n",
       "      <td>60</td>\n",
       "      <td>ELDORET KIPTAGICH MPLS FIBER</td>\n",
       "      <td>25439.4</td>\n",
       "      <td>Upgrade 10&gt;60 Mbps. Check Upgrade Docs. KES 69...</td>\n",
       "      <td>99976.842</td>\n",
       "    </tr>\n",
       "    <tr>\n",
       "      <th>4</th>\n",
       "      <td>95054465</td>\n",
       "      <td>2020-12-16</td>\n",
       "      <td>MPLS</td>\n",
       "      <td>5</td>\n",
       "      <td>ELDORET KPC LOOP MICROWAVE</td>\n",
       "      <td>20357.4</td>\n",
       "      <td>NaN</td>\n",
       "      <td>80004.582</td>\n",
       "    </tr>\n",
       "  </tbody>\n",
       "</table>\n",
       "</div>"
      ],
      "text/plain": [
       "    Link_ID   SLA_Date Last_Mile  Capacity                      Location  \\\n",
       "0  95054463 2020-12-16      MPLS        25             BUNGOMA MICROWAVE   \n",
       "1  95096538 2020-12-16      MPLS        12                   BUSIA-WIMAX   \n",
       "2  95038953 2020-12-16      MPLS        80             DR BACKHAUL FIBRE   \n",
       "3  95054464 2020-12-16      MPLS        60  ELDORET KIPTAGICH MPLS FIBER   \n",
       "4  95054465 2020-12-16      MPLS         5    ELDORET KPC LOOP MICROWAVE   \n",
       "\n",
       "   MRC_Excl                                       SLM_Comments    QRC_Incl  \n",
       "0   20352.8  Upgrade 5>25 Mbps. Check Upgrade Docs. KES 449...   79986.504  \n",
       "1   70008.3                                                NaN  275132.619  \n",
       "2   93504.6                                                NaN  367473.078  \n",
       "3   25439.4  Upgrade 10>60 Mbps. Check Upgrade Docs. KES 69...   99976.842  \n",
       "4   20357.4                                                NaN   80004.582  "
      ]
     },
     "execution_count": 95,
     "metadata": {},
     "output_type": "execute_result"
    }
   ],
   "source": [
    "saf_clean.head()"
   ]
  },
  {
   "cell_type": "code",
   "execution_count": 96,
   "metadata": {},
   "outputs": [
    {
     "name": "stdout",
     "output_type": "stream",
     "text": [
      "<class 'pandas.core.frame.DataFrame'>\n",
      "RangeIndex: 59 entries, 0 to 58\n",
      "Data columns (total 8 columns):\n",
      " #   Column        Non-Null Count  Dtype         \n",
      "---  ------        --------------  -----         \n",
      " 0   Link_ID       59 non-null     object        \n",
      " 1   SLA_Date      59 non-null     datetime64[ns]\n",
      " 2   Last_Mile     59 non-null     object        \n",
      " 3   Capacity      59 non-null     int32         \n",
      " 4   Location      59 non-null     object        \n",
      " 5   MRC_Excl      59 non-null     float64       \n",
      " 6   SLM_Comments  21 non-null     object        \n",
      " 7   QRC_Incl      59 non-null     float64       \n",
      "dtypes: datetime64[ns](1), float64(2), int32(1), object(4)\n",
      "memory usage: 3.6+ KB\n"
     ]
    }
   ],
   "source": [
    "saf_clean.info()"
   ]
  },
  {
   "cell_type": "code",
   "execution_count": 2,
   "metadata": {},
   "outputs": [],
   "source": [
    "import pandas as pd\n",
    "ltk_sla_df = pd.read_csv('C:\\\\Users\\\\USER\\\\OneDrive\\\\KRA WORK\\\\2024 WS\\SLA EDA\\\\SLA_ETL\\\\Processsed_Data\\\\LTK_SLA.csv')\n",
    "saf_sla_df = pd.read_csv('C:\\\\Users\\\\USER\\\\OneDrive\\\\KRA WORK\\\\2024 WS\\SLA EDA\\\\SLA_ETL\\\\Processsed_Data\\\\SAFARICOM_SLA.csv')\n",
    "\n",
    "ltk_invoice_df = pd.read_csv('C:\\\\Users\\\\USER\\\\OneDrive\\\\KRA WORK\\\\2024 WS\\SLA EDA\\\\SLA_ETL\\\\Processsed_Data\\\\LTK_Invoice.csv')\n",
    "saf_invoice_df = pd.read_csv('C:\\\\Users\\\\USER\\\\OneDrive\\\\KRA WORK\\\\2024 WS\\SLA EDA\\\\SLA_ETL\\\\Processsed_Data\\\\SAFARICOM_Invoice.csv')"
   ]
  },
  {
   "cell_type": "code",
   "execution_count": 4,
   "metadata": {},
   "outputs": [],
   "source": [
    "# Trying to append the data\n",
    "df = pd.concat([ltk_invoice_df,saf_invoice_df])"
   ]
  },
  {
   "cell_type": "code",
   "execution_count": 5,
   "metadata": {},
   "outputs": [
    {
     "data": {
      "text/html": [
       "<div>\n",
       "<style scoped>\n",
       "    .dataframe tbody tr th:only-of-type {\n",
       "        vertical-align: middle;\n",
       "    }\n",
       "\n",
       "    .dataframe tbody tr th {\n",
       "        vertical-align: top;\n",
       "    }\n",
       "\n",
       "    .dataframe thead th {\n",
       "        text-align: right;\n",
       "    }\n",
       "</style>\n",
       "<table border=\"1\" class=\"dataframe\">\n",
       "  <thead>\n",
       "    <tr style=\"text-align: right;\">\n",
       "      <th></th>\n",
       "      <th>Invoice_Data</th>\n",
       "      <th>Link_ID</th>\n",
       "      <th>Invoice_Period</th>\n",
       "      <th>Invoice_Description</th>\n",
       "      <th>Invoice_Reference</th>\n",
       "      <th>Total_QRC</th>\n",
       "      <th>Service_Provider</th>\n",
       "    </tr>\n",
       "  </thead>\n",
       "  <tbody>\n",
       "    <tr>\n",
       "      <th>0</th>\n",
       "      <td>2023-10-13</td>\n",
       "      <td>26046</td>\n",
       "      <td>01-Oct-2023 to 31-Dec-2023</td>\n",
       "      <td>26046 National MPLS KRA MBITA TO VRF (INS-57)</td>\n",
       "      <td>CRN-15473</td>\n",
       "      <td>-55986.24</td>\n",
       "      <td>LTK</td>\n",
       "    </tr>\n",
       "    <tr>\n",
       "      <th>1</th>\n",
       "      <td>2023-10-06</td>\n",
       "      <td>C-00159-0087</td>\n",
       "      <td>01-Oct-2023 to 31-Dec-2023</td>\n",
       "      <td>C-00159-0087 EPL Connection charge 80MBPS-&gt;SAM...</td>\n",
       "      <td>116426</td>\n",
       "      <td>417600.00</td>\n",
       "      <td>LTK</td>\n",
       "    </tr>\n",
       "    <tr>\n",
       "      <th>2</th>\n",
       "      <td>2023-10-06</td>\n",
       "      <td>1750</td>\n",
       "      <td>01-Oct-2023 to 31-Dec-2023</td>\n",
       "      <td>01750 National MPLS KRA - TIMES TOWERS TO VRF</td>\n",
       "      <td>116426</td>\n",
       "      <td>939600.00</td>\n",
       "      <td>LTK</td>\n",
       "    </tr>\n",
       "    <tr>\n",
       "      <th>3</th>\n",
       "      <td>2023-10-06</td>\n",
       "      <td>5611</td>\n",
       "      <td>01-Oct-2023 to 31-Dec-2023</td>\n",
       "      <td>05611 National MPLS Msa link vlan 460 customs</td>\n",
       "      <td>116426</td>\n",
       "      <td>71835.90</td>\n",
       "      <td>LTK</td>\n",
       "    </tr>\n",
       "    <tr>\n",
       "      <th>4</th>\n",
       "      <td>2023-10-06</td>\n",
       "      <td>20103</td>\n",
       "      <td>01-Oct-2023 to 31-Dec-2023</td>\n",
       "      <td>20103 Leased_Circuits_Naticnal KRA WILSON AIRP...</td>\n",
       "      <td>116426</td>\n",
       "      <td>79866.00</td>\n",
       "      <td>LTK</td>\n",
       "    </tr>\n",
       "  </tbody>\n",
       "</table>\n",
       "</div>"
      ],
      "text/plain": [
       "  Invoice_Data       Link_ID              Invoice_Period  \\\n",
       "0   2023-10-13         26046  01-Oct-2023 to 31-Dec-2023   \n",
       "1   2023-10-06  C-00159-0087  01-Oct-2023 to 31-Dec-2023   \n",
       "2   2023-10-06          1750  01-Oct-2023 to 31-Dec-2023   \n",
       "3   2023-10-06          5611  01-Oct-2023 to 31-Dec-2023   \n",
       "4   2023-10-06         20103  01-Oct-2023 to 31-Dec-2023   \n",
       "\n",
       "                                 Invoice_Description Invoice_Reference  \\\n",
       "0      26046 National MPLS KRA MBITA TO VRF (INS-57)         CRN-15473   \n",
       "1  C-00159-0087 EPL Connection charge 80MBPS->SAM...            116426   \n",
       "2      01750 National MPLS KRA - TIMES TOWERS TO VRF            116426   \n",
       "3      05611 National MPLS Msa link vlan 460 customs            116426   \n",
       "4  20103 Leased_Circuits_Naticnal KRA WILSON AIRP...            116426   \n",
       "\n",
       "   Total_QRC Service_Provider  \n",
       "0  -55986.24              LTK  \n",
       "1  417600.00              LTK  \n",
       "2  939600.00              LTK  \n",
       "3   71835.90              LTK  \n",
       "4   79866.00              LTK  "
      ]
     },
     "execution_count": 5,
     "metadata": {},
     "output_type": "execute_result"
    }
   ],
   "source": [
    "df.head()"
   ]
  },
  {
   "cell_type": "code",
   "execution_count": 6,
   "metadata": {},
   "outputs": [
    {
     "name": "stdout",
     "output_type": "stream",
     "text": [
      "<class 'pandas.core.frame.DataFrame'>\n",
      "Index: 84 entries, 0 to 57\n",
      "Data columns (total 7 columns):\n",
      " #   Column               Non-Null Count  Dtype  \n",
      "---  ------               --------------  -----  \n",
      " 0   Invoice_Data         84 non-null     object \n",
      " 1   Link_ID              84 non-null     object \n",
      " 2   Invoice_Period       84 non-null     object \n",
      " 3   Invoice_Description  84 non-null     object \n",
      " 4   Invoice_Reference    84 non-null     object \n",
      " 5   Total_QRC            84 non-null     float64\n",
      " 6   Service_Provider     84 non-null     object \n",
      "dtypes: float64(1), object(6)\n",
      "memory usage: 5.2+ KB\n"
     ]
    }
   ],
   "source": [
    "df.info()"
   ]
  },
  {
   "cell_type": "code",
   "execution_count": 1,
   "metadata": {},
   "outputs": [],
   "source": [
    "import pandas as pd\n",
    "import numpy as np\n",
    "str1 = 'Jackrony Karani '\n",
    "str2 = str1"
   ]
  },
  {
   "cell_type": "code",
   "execution_count": 3,
   "metadata": {},
   "outputs": [
    {
     "data": {
      "text/plain": [
       "'jackrony karani'"
      ]
     },
     "execution_count": 3,
     "metadata": {},
     "output_type": "execute_result"
    }
   ],
   "source": [
    "str1.strip().lower()"
   ]
  },
  {
   "cell_type": "code",
   "execution_count": 1,
   "metadata": {},
   "outputs": [
    {
     "name": "stdout",
     "output_type": "stream",
     "text": [
      "Collecting mysql-connector-python\n",
      "  Using cached mysql_connector_python-8.3.0-cp310-cp310-win_amd64.whl.metadata (2.0 kB)\n",
      "Downloading mysql_connector_python-8.3.0-cp310-cp310-win_amd64.whl (15.4 MB)\n",
      "   ---------------------------------------- 0.0/15.4 MB ? eta -:--:--\n",
      "   ---------------------------------------- 0.0/15.4 MB ? eta -:--:--\n",
      "   ---------------------------------------- 0.0/15.4 MB ? eta -:--:--\n",
      "   ---------------------------------------- 0.0/15.4 MB 145.2 kB/s eta 0:01:46\n",
      "   ---------------------------------------- 0.0/15.4 MB 145.2 kB/s eta 0:01:46\n",
      "   ---------------------------------------- 0.1/15.4 MB 233.8 kB/s eta 0:01:06\n",
      "   ---------------------------------------- 0.1/15.4 MB 399.4 kB/s eta 0:00:39\n",
      "    --------------------------------------- 0.2/15.4 MB 719.7 kB/s eta 0:00:22\n",
      "    --------------------------------------- 0.3/15.4 MB 873.8 kB/s eta 0:00:18\n",
      "   - -------------------------------------- 0.5/15.4 MB 1.1 MB/s eta 0:00:15\n",
      "   -- ------------------------------------- 0.8/15.4 MB 1.7 MB/s eta 0:00:09\n",
      "   --- ------------------------------------ 1.2/15.4 MB 2.2 MB/s eta 0:00:07\n",
      "   ---- ----------------------------------- 1.7/15.4 MB 3.0 MB/s eta 0:00:05\n",
      "   ----- ---------------------------------- 2.2/15.4 MB 3.5 MB/s eta 0:00:04\n",
      "   ------- -------------------------------- 2.9/15.4 MB 4.3 MB/s eta 0:00:03\n",
      "   -------- ------------------------------- 3.4/15.4 MB 4.7 MB/s eta 0:00:03\n",
      "   ---------- ----------------------------- 4.0/15.4 MB 5.1 MB/s eta 0:00:03\n",
      "   ----------- ---------------------------- 4.5/15.4 MB 5.5 MB/s eta 0:00:02\n",
      "   ------------ --------------------------- 5.0/15.4 MB 5.8 MB/s eta 0:00:02\n",
      "   ------------- -------------------------- 5.4/15.4 MB 6.0 MB/s eta 0:00:02\n",
      "   -------------- ------------------------- 5.4/15.4 MB 5.6 MB/s eta 0:00:02\n",
      "   ----------------- ---------------------- 6.7/15.4 MB 6.6 MB/s eta 0:00:02\n",
      "   ------------------ --------------------- 7.0/15.4 MB 6.6 MB/s eta 0:00:02\n",
      "   ------------------- -------------------- 7.5/15.4 MB 6.6 MB/s eta 0:00:02\n",
      "   --------------------- ------------------ 8.2/15.4 MB 6.9 MB/s eta 0:00:02\n",
      "   ---------------------- ----------------- 8.5/15.4 MB 6.9 MB/s eta 0:00:02\n",
      "   ----------------------- ---------------- 9.1/15.4 MB 7.1 MB/s eta 0:00:01\n",
      "   ------------------------ --------------- 9.6/15.4 MB 7.2 MB/s eta 0:00:01\n",
      "   ------------------------- -------------- 10.0/15.4 MB 7.2 MB/s eta 0:00:01\n",
      "   -------------------------- ------------- 10.3/15.4 MB 9.0 MB/s eta 0:00:01\n",
      "   ---------------------------- ----------- 11.2/15.4 MB 10.4 MB/s eta 0:00:01\n",
      "   ------------------------------ --------- 11.6/15.4 MB 10.2 MB/s eta 0:00:01\n",
      "   ------------------------------- -------- 12.1/15.4 MB 10.1 MB/s eta 0:00:01\n",
      "   -------------------------------- ------- 12.5/15.4 MB 10.2 MB/s eta 0:00:01\n",
      "   --------------------------------- ------ 12.8/15.4 MB 9.9 MB/s eta 0:00:01\n",
      "   ---------------------------------- ----- 13.3/15.4 MB 9.9 MB/s eta 0:00:01\n",
      "   ----------------------------------- ---- 13.8/15.4 MB 9.8 MB/s eta 0:00:01\n",
      "   ------------------------------------ --- 14.2/15.4 MB 9.8 MB/s eta 0:00:01\n",
      "   ------------------------------------- -- 14.5/15.4 MB 9.6 MB/s eta 0:00:01\n",
      "   -------------------------------------- - 14.9/15.4 MB 9.5 MB/s eta 0:00:01\n",
      "   -------------------------------------- - 14.9/15.4 MB 9.5 MB/s eta 0:00:01\n",
      "   ---------------------------------------  15.4/15.4 MB 9.2 MB/s eta 0:00:01\n",
      "   ---------------------------------------  15.4/15.4 MB 9.2 MB/s eta 0:00:01\n",
      "   ---------------------------------------  15.4/15.4 MB 9.2 MB/s eta 0:00:01\n",
      "   ---------------------------------------  15.4/15.4 MB 9.2 MB/s eta 0:00:01\n",
      "   ---------------------------------------  15.4/15.4 MB 9.2 MB/s eta 0:00:01\n",
      "   ---------------------------------------  15.4/15.4 MB 9.2 MB/s eta 0:00:01\n",
      "   ---------------------------------------- 15.4/15.4 MB 7.3 MB/s eta 0:00:00\n",
      "Installing collected packages: mysql-connector-python\n",
      "Successfully installed mysql-connector-python-8.3.0\n"
     ]
    }
   ],
   "source": [
    "!pip install mysql-connector-python\n"
   ]
  },
  {
   "cell_type": "code",
   "execution_count": 1,
   "metadata": {},
   "outputs": [
    {
     "ename": "FileNotFoundError",
     "evalue": "[Errno 2] No such file or directory: 'C:\\\\Users\\\\USER\\\\OneDrive\\\\KRA WORK\\\\2024 WS\\\\SLA EDA\\\\SLA_ETL\\\\Processsed_Data\\\\SAFARICOM_SLA.csv'",
     "output_type": "error",
     "traceback": [
      "\u001b[1;31m---------------------------------------------------------------------------\u001b[0m",
      "\u001b[1;31mFileNotFoundError\u001b[0m                         Traceback (most recent call last)",
      "Cell \u001b[1;32mIn[1], line 3\u001b[0m\n\u001b[0;32m      1\u001b[0m \u001b[38;5;28;01mimport\u001b[39;00m \u001b[38;5;21;01mpandas\u001b[39;00m \u001b[38;5;28;01mas\u001b[39;00m \u001b[38;5;21;01mpd\u001b[39;00m\n\u001b[0;32m      2\u001b[0m ltk_sla_df \u001b[38;5;241m=\u001b[39m pd\u001b[38;5;241m.\u001b[39mread_csv(\u001b[38;5;124m'\u001b[39m\u001b[38;5;124mC:\u001b[39m\u001b[38;5;130;01m\\\\\u001b[39;00m\u001b[38;5;124mUsers\u001b[39m\u001b[38;5;130;01m\\\\\u001b[39;00m\u001b[38;5;124mUSER\u001b[39m\u001b[38;5;130;01m\\\\\u001b[39;00m\u001b[38;5;124mOneDrive\u001b[39m\u001b[38;5;130;01m\\\\\u001b[39;00m\u001b[38;5;124mKRA WORK\u001b[39m\u001b[38;5;130;01m\\\\\u001b[39;00m\u001b[38;5;124m2024 WS\u001b[39m\u001b[38;5;124m\\\u001b[39m\u001b[38;5;124mSLA EDA\u001b[39m\u001b[38;5;130;01m\\\\\u001b[39;00m\u001b[38;5;124mSLA_ETL\u001b[39m\u001b[38;5;130;01m\\\\\u001b[39;00m\u001b[38;5;124mProcesssed_Data\u001b[39m\u001b[38;5;130;01m\\\\\u001b[39;00m\u001b[38;5;124mLTK_SLA.csv\u001b[39m\u001b[38;5;124m'\u001b[39m)\n\u001b[1;32m----> 3\u001b[0m saf_sla_df \u001b[38;5;241m=\u001b[39m \u001b[43mpd\u001b[49m\u001b[38;5;241;43m.\u001b[39;49m\u001b[43mread_csv\u001b[49m\u001b[43m(\u001b[49m\u001b[38;5;124;43m'\u001b[39;49m\u001b[38;5;124;43mC:\u001b[39;49m\u001b[38;5;130;43;01m\\\\\u001b[39;49;00m\u001b[38;5;124;43mUsers\u001b[39;49m\u001b[38;5;130;43;01m\\\\\u001b[39;49;00m\u001b[38;5;124;43mUSER\u001b[39;49m\u001b[38;5;130;43;01m\\\\\u001b[39;49;00m\u001b[38;5;124;43mOneDrive\u001b[39;49m\u001b[38;5;130;43;01m\\\\\u001b[39;49;00m\u001b[38;5;124;43mKRA WORK\u001b[39;49m\u001b[38;5;130;43;01m\\\\\u001b[39;49;00m\u001b[38;5;124;43m2024 WS\u001b[39;49m\u001b[38;5;124;43m\\\u001b[39;49m\u001b[38;5;124;43mSLA EDA\u001b[39;49m\u001b[38;5;130;43;01m\\\\\u001b[39;49;00m\u001b[38;5;124;43mSLA_ETL\u001b[39;49m\u001b[38;5;130;43;01m\\\\\u001b[39;49;00m\u001b[38;5;124;43mProcesssed_Data\u001b[39;49m\u001b[38;5;130;43;01m\\\\\u001b[39;49;00m\u001b[38;5;124;43mSAFARICOM_SLA.csv\u001b[39;49m\u001b[38;5;124;43m'\u001b[39;49m\u001b[43m)\u001b[49m\n\u001b[0;32m      4\u001b[0m combined_sla \u001b[38;5;241m=\u001b[39m pd\u001b[38;5;241m.\u001b[39mread_csv(\u001b[38;5;124m'\u001b[39m\u001b[38;5;124mC:\u001b[39m\u001b[38;5;130;01m\\\\\u001b[39;00m\u001b[38;5;124mUsers\u001b[39m\u001b[38;5;130;01m\\\\\u001b[39;00m\u001b[38;5;124mUSER\u001b[39m\u001b[38;5;130;01m\\\\\u001b[39;00m\u001b[38;5;124mOneDrive\u001b[39m\u001b[38;5;130;01m\\\\\u001b[39;00m\u001b[38;5;124mKRA WORK\u001b[39m\u001b[38;5;130;01m\\\\\u001b[39;00m\u001b[38;5;124m2024 WS\u001b[39m\u001b[38;5;124m\\\u001b[39m\u001b[38;5;124mSLA EDA\u001b[39m\u001b[38;5;130;01m\\\\\u001b[39;00m\u001b[38;5;124mSLA_ETL\u001b[39m\u001b[38;5;130;01m\\\\\u001b[39;00m\u001b[38;5;124mProcesssed_Data\u001b[39m\u001b[38;5;130;01m\\\\\u001b[39;00m\u001b[38;5;124mSLA_Combined.csv\u001b[39m\u001b[38;5;124m'\u001b[39m)\n\u001b[0;32m      6\u001b[0m ltk_invoice_df \u001b[38;5;241m=\u001b[39m pd\u001b[38;5;241m.\u001b[39mread_csv(\u001b[38;5;124m'\u001b[39m\u001b[38;5;124mC:\u001b[39m\u001b[38;5;130;01m\\\\\u001b[39;00m\u001b[38;5;124mUsers\u001b[39m\u001b[38;5;130;01m\\\\\u001b[39;00m\u001b[38;5;124mUSER\u001b[39m\u001b[38;5;130;01m\\\\\u001b[39;00m\u001b[38;5;124mOneDrive\u001b[39m\u001b[38;5;130;01m\\\\\u001b[39;00m\u001b[38;5;124mKRA WORK\u001b[39m\u001b[38;5;130;01m\\\\\u001b[39;00m\u001b[38;5;124m2024 WS\u001b[39m\u001b[38;5;124m\\\u001b[39m\u001b[38;5;124mSLA EDA\u001b[39m\u001b[38;5;130;01m\\\\\u001b[39;00m\u001b[38;5;124mSLA_ETL\u001b[39m\u001b[38;5;130;01m\\\\\u001b[39;00m\u001b[38;5;124mProcesssed_Data\u001b[39m\u001b[38;5;130;01m\\\\\u001b[39;00m\u001b[38;5;124mLTK_Invoice.csv\u001b[39m\u001b[38;5;124m'\u001b[39m)\n",
      "File \u001b[1;32mc:\\Users\\USER\\anaconda3\\envs\\Python_Dev\\lib\\site-packages\\pandas\\io\\parsers\\readers.py:948\u001b[0m, in \u001b[0;36mread_csv\u001b[1;34m(filepath_or_buffer, sep, delimiter, header, names, index_col, usecols, dtype, engine, converters, true_values, false_values, skipinitialspace, skiprows, skipfooter, nrows, na_values, keep_default_na, na_filter, verbose, skip_blank_lines, parse_dates, infer_datetime_format, keep_date_col, date_parser, date_format, dayfirst, cache_dates, iterator, chunksize, compression, thousands, decimal, lineterminator, quotechar, quoting, doublequote, escapechar, comment, encoding, encoding_errors, dialect, on_bad_lines, delim_whitespace, low_memory, memory_map, float_precision, storage_options, dtype_backend)\u001b[0m\n\u001b[0;32m    935\u001b[0m kwds_defaults \u001b[38;5;241m=\u001b[39m _refine_defaults_read(\n\u001b[0;32m    936\u001b[0m     dialect,\n\u001b[0;32m    937\u001b[0m     delimiter,\n\u001b[1;32m   (...)\u001b[0m\n\u001b[0;32m    944\u001b[0m     dtype_backend\u001b[38;5;241m=\u001b[39mdtype_backend,\n\u001b[0;32m    945\u001b[0m )\n\u001b[0;32m    946\u001b[0m kwds\u001b[38;5;241m.\u001b[39mupdate(kwds_defaults)\n\u001b[1;32m--> 948\u001b[0m \u001b[38;5;28;01mreturn\u001b[39;00m \u001b[43m_read\u001b[49m\u001b[43m(\u001b[49m\u001b[43mfilepath_or_buffer\u001b[49m\u001b[43m,\u001b[49m\u001b[43m \u001b[49m\u001b[43mkwds\u001b[49m\u001b[43m)\u001b[49m\n",
      "File \u001b[1;32mc:\\Users\\USER\\anaconda3\\envs\\Python_Dev\\lib\\site-packages\\pandas\\io\\parsers\\readers.py:611\u001b[0m, in \u001b[0;36m_read\u001b[1;34m(filepath_or_buffer, kwds)\u001b[0m\n\u001b[0;32m    608\u001b[0m _validate_names(kwds\u001b[38;5;241m.\u001b[39mget(\u001b[38;5;124m\"\u001b[39m\u001b[38;5;124mnames\u001b[39m\u001b[38;5;124m\"\u001b[39m, \u001b[38;5;28;01mNone\u001b[39;00m))\n\u001b[0;32m    610\u001b[0m \u001b[38;5;66;03m# Create the parser.\u001b[39;00m\n\u001b[1;32m--> 611\u001b[0m parser \u001b[38;5;241m=\u001b[39m TextFileReader(filepath_or_buffer, \u001b[38;5;241m*\u001b[39m\u001b[38;5;241m*\u001b[39mkwds)\n\u001b[0;32m    613\u001b[0m \u001b[38;5;28;01mif\u001b[39;00m chunksize \u001b[38;5;129;01mor\u001b[39;00m iterator:\n\u001b[0;32m    614\u001b[0m     \u001b[38;5;28;01mreturn\u001b[39;00m parser\n",
      "File \u001b[1;32mc:\\Users\\USER\\anaconda3\\envs\\Python_Dev\\lib\\site-packages\\pandas\\io\\parsers\\readers.py:1448\u001b[0m, in \u001b[0;36mTextFileReader.__init__\u001b[1;34m(self, f, engine, **kwds)\u001b[0m\n\u001b[0;32m   1445\u001b[0m     \u001b[38;5;28mself\u001b[39m\u001b[38;5;241m.\u001b[39moptions[\u001b[38;5;124m\"\u001b[39m\u001b[38;5;124mhas_index_names\u001b[39m\u001b[38;5;124m\"\u001b[39m] \u001b[38;5;241m=\u001b[39m kwds[\u001b[38;5;124m\"\u001b[39m\u001b[38;5;124mhas_index_names\u001b[39m\u001b[38;5;124m\"\u001b[39m]\n\u001b[0;32m   1447\u001b[0m \u001b[38;5;28mself\u001b[39m\u001b[38;5;241m.\u001b[39mhandles: IOHandles \u001b[38;5;241m|\u001b[39m \u001b[38;5;28;01mNone\u001b[39;00m \u001b[38;5;241m=\u001b[39m \u001b[38;5;28;01mNone\u001b[39;00m\n\u001b[1;32m-> 1448\u001b[0m \u001b[38;5;28mself\u001b[39m\u001b[38;5;241m.\u001b[39m_engine \u001b[38;5;241m=\u001b[39m \u001b[38;5;28;43mself\u001b[39;49m\u001b[38;5;241;43m.\u001b[39;49m\u001b[43m_make_engine\u001b[49m\u001b[43m(\u001b[49m\u001b[43mf\u001b[49m\u001b[43m,\u001b[49m\u001b[43m \u001b[49m\u001b[38;5;28;43mself\u001b[39;49m\u001b[38;5;241;43m.\u001b[39;49m\u001b[43mengine\u001b[49m\u001b[43m)\u001b[49m\n",
      "File \u001b[1;32mc:\\Users\\USER\\anaconda3\\envs\\Python_Dev\\lib\\site-packages\\pandas\\io\\parsers\\readers.py:1705\u001b[0m, in \u001b[0;36mTextFileReader._make_engine\u001b[1;34m(self, f, engine)\u001b[0m\n\u001b[0;32m   1703\u001b[0m     \u001b[38;5;28;01mif\u001b[39;00m \u001b[38;5;124m\"\u001b[39m\u001b[38;5;124mb\u001b[39m\u001b[38;5;124m\"\u001b[39m \u001b[38;5;129;01mnot\u001b[39;00m \u001b[38;5;129;01min\u001b[39;00m mode:\n\u001b[0;32m   1704\u001b[0m         mode \u001b[38;5;241m+\u001b[39m\u001b[38;5;241m=\u001b[39m \u001b[38;5;124m\"\u001b[39m\u001b[38;5;124mb\u001b[39m\u001b[38;5;124m\"\u001b[39m\n\u001b[1;32m-> 1705\u001b[0m \u001b[38;5;28mself\u001b[39m\u001b[38;5;241m.\u001b[39mhandles \u001b[38;5;241m=\u001b[39m \u001b[43mget_handle\u001b[49m\u001b[43m(\u001b[49m\n\u001b[0;32m   1706\u001b[0m \u001b[43m    \u001b[49m\u001b[43mf\u001b[49m\u001b[43m,\u001b[49m\n\u001b[0;32m   1707\u001b[0m \u001b[43m    \u001b[49m\u001b[43mmode\u001b[49m\u001b[43m,\u001b[49m\n\u001b[0;32m   1708\u001b[0m \u001b[43m    \u001b[49m\u001b[43mencoding\u001b[49m\u001b[38;5;241;43m=\u001b[39;49m\u001b[38;5;28;43mself\u001b[39;49m\u001b[38;5;241;43m.\u001b[39;49m\u001b[43moptions\u001b[49m\u001b[38;5;241;43m.\u001b[39;49m\u001b[43mget\u001b[49m\u001b[43m(\u001b[49m\u001b[38;5;124;43m\"\u001b[39;49m\u001b[38;5;124;43mencoding\u001b[39;49m\u001b[38;5;124;43m\"\u001b[39;49m\u001b[43m,\u001b[49m\u001b[43m \u001b[49m\u001b[38;5;28;43;01mNone\u001b[39;49;00m\u001b[43m)\u001b[49m\u001b[43m,\u001b[49m\n\u001b[0;32m   1709\u001b[0m \u001b[43m    \u001b[49m\u001b[43mcompression\u001b[49m\u001b[38;5;241;43m=\u001b[39;49m\u001b[38;5;28;43mself\u001b[39;49m\u001b[38;5;241;43m.\u001b[39;49m\u001b[43moptions\u001b[49m\u001b[38;5;241;43m.\u001b[39;49m\u001b[43mget\u001b[49m\u001b[43m(\u001b[49m\u001b[38;5;124;43m\"\u001b[39;49m\u001b[38;5;124;43mcompression\u001b[39;49m\u001b[38;5;124;43m\"\u001b[39;49m\u001b[43m,\u001b[49m\u001b[43m \u001b[49m\u001b[38;5;28;43;01mNone\u001b[39;49;00m\u001b[43m)\u001b[49m\u001b[43m,\u001b[49m\n\u001b[0;32m   1710\u001b[0m \u001b[43m    \u001b[49m\u001b[43mmemory_map\u001b[49m\u001b[38;5;241;43m=\u001b[39;49m\u001b[38;5;28;43mself\u001b[39;49m\u001b[38;5;241;43m.\u001b[39;49m\u001b[43moptions\u001b[49m\u001b[38;5;241;43m.\u001b[39;49m\u001b[43mget\u001b[49m\u001b[43m(\u001b[49m\u001b[38;5;124;43m\"\u001b[39;49m\u001b[38;5;124;43mmemory_map\u001b[39;49m\u001b[38;5;124;43m\"\u001b[39;49m\u001b[43m,\u001b[49m\u001b[43m \u001b[49m\u001b[38;5;28;43;01mFalse\u001b[39;49;00m\u001b[43m)\u001b[49m\u001b[43m,\u001b[49m\n\u001b[0;32m   1711\u001b[0m \u001b[43m    \u001b[49m\u001b[43mis_text\u001b[49m\u001b[38;5;241;43m=\u001b[39;49m\u001b[43mis_text\u001b[49m\u001b[43m,\u001b[49m\n\u001b[0;32m   1712\u001b[0m \u001b[43m    \u001b[49m\u001b[43merrors\u001b[49m\u001b[38;5;241;43m=\u001b[39;49m\u001b[38;5;28;43mself\u001b[39;49m\u001b[38;5;241;43m.\u001b[39;49m\u001b[43moptions\u001b[49m\u001b[38;5;241;43m.\u001b[39;49m\u001b[43mget\u001b[49m\u001b[43m(\u001b[49m\u001b[38;5;124;43m\"\u001b[39;49m\u001b[38;5;124;43mencoding_errors\u001b[39;49m\u001b[38;5;124;43m\"\u001b[39;49m\u001b[43m,\u001b[49m\u001b[43m \u001b[49m\u001b[38;5;124;43m\"\u001b[39;49m\u001b[38;5;124;43mstrict\u001b[39;49m\u001b[38;5;124;43m\"\u001b[39;49m\u001b[43m)\u001b[49m\u001b[43m,\u001b[49m\n\u001b[0;32m   1713\u001b[0m \u001b[43m    \u001b[49m\u001b[43mstorage_options\u001b[49m\u001b[38;5;241;43m=\u001b[39;49m\u001b[38;5;28;43mself\u001b[39;49m\u001b[38;5;241;43m.\u001b[39;49m\u001b[43moptions\u001b[49m\u001b[38;5;241;43m.\u001b[39;49m\u001b[43mget\u001b[49m\u001b[43m(\u001b[49m\u001b[38;5;124;43m\"\u001b[39;49m\u001b[38;5;124;43mstorage_options\u001b[39;49m\u001b[38;5;124;43m\"\u001b[39;49m\u001b[43m,\u001b[49m\u001b[43m \u001b[49m\u001b[38;5;28;43;01mNone\u001b[39;49;00m\u001b[43m)\u001b[49m\u001b[43m,\u001b[49m\n\u001b[0;32m   1714\u001b[0m \u001b[43m\u001b[49m\u001b[43m)\u001b[49m\n\u001b[0;32m   1715\u001b[0m \u001b[38;5;28;01massert\u001b[39;00m \u001b[38;5;28mself\u001b[39m\u001b[38;5;241m.\u001b[39mhandles \u001b[38;5;129;01mis\u001b[39;00m \u001b[38;5;129;01mnot\u001b[39;00m \u001b[38;5;28;01mNone\u001b[39;00m\n\u001b[0;32m   1716\u001b[0m f \u001b[38;5;241m=\u001b[39m \u001b[38;5;28mself\u001b[39m\u001b[38;5;241m.\u001b[39mhandles\u001b[38;5;241m.\u001b[39mhandle\n",
      "File \u001b[1;32mc:\\Users\\USER\\anaconda3\\envs\\Python_Dev\\lib\\site-packages\\pandas\\io\\common.py:863\u001b[0m, in \u001b[0;36mget_handle\u001b[1;34m(path_or_buf, mode, encoding, compression, memory_map, is_text, errors, storage_options)\u001b[0m\n\u001b[0;32m    858\u001b[0m \u001b[38;5;28;01melif\u001b[39;00m \u001b[38;5;28misinstance\u001b[39m(handle, \u001b[38;5;28mstr\u001b[39m):\n\u001b[0;32m    859\u001b[0m     \u001b[38;5;66;03m# Check whether the filename is to be opened in binary mode.\u001b[39;00m\n\u001b[0;32m    860\u001b[0m     \u001b[38;5;66;03m# Binary mode does not support 'encoding' and 'newline'.\u001b[39;00m\n\u001b[0;32m    861\u001b[0m     \u001b[38;5;28;01mif\u001b[39;00m ioargs\u001b[38;5;241m.\u001b[39mencoding \u001b[38;5;129;01mand\u001b[39;00m \u001b[38;5;124m\"\u001b[39m\u001b[38;5;124mb\u001b[39m\u001b[38;5;124m\"\u001b[39m \u001b[38;5;129;01mnot\u001b[39;00m \u001b[38;5;129;01min\u001b[39;00m ioargs\u001b[38;5;241m.\u001b[39mmode:\n\u001b[0;32m    862\u001b[0m         \u001b[38;5;66;03m# Encoding\u001b[39;00m\n\u001b[1;32m--> 863\u001b[0m         handle \u001b[38;5;241m=\u001b[39m \u001b[38;5;28;43mopen\u001b[39;49m\u001b[43m(\u001b[49m\n\u001b[0;32m    864\u001b[0m \u001b[43m            \u001b[49m\u001b[43mhandle\u001b[49m\u001b[43m,\u001b[49m\n\u001b[0;32m    865\u001b[0m \u001b[43m            \u001b[49m\u001b[43mioargs\u001b[49m\u001b[38;5;241;43m.\u001b[39;49m\u001b[43mmode\u001b[49m\u001b[43m,\u001b[49m\n\u001b[0;32m    866\u001b[0m \u001b[43m            \u001b[49m\u001b[43mencoding\u001b[49m\u001b[38;5;241;43m=\u001b[39;49m\u001b[43mioargs\u001b[49m\u001b[38;5;241;43m.\u001b[39;49m\u001b[43mencoding\u001b[49m\u001b[43m,\u001b[49m\n\u001b[0;32m    867\u001b[0m \u001b[43m            \u001b[49m\u001b[43merrors\u001b[49m\u001b[38;5;241;43m=\u001b[39;49m\u001b[43merrors\u001b[49m\u001b[43m,\u001b[49m\n\u001b[0;32m    868\u001b[0m \u001b[43m            \u001b[49m\u001b[43mnewline\u001b[49m\u001b[38;5;241;43m=\u001b[39;49m\u001b[38;5;124;43m\"\u001b[39;49m\u001b[38;5;124;43m\"\u001b[39;49m\u001b[43m,\u001b[49m\n\u001b[0;32m    869\u001b[0m \u001b[43m        \u001b[49m\u001b[43m)\u001b[49m\n\u001b[0;32m    870\u001b[0m     \u001b[38;5;28;01melse\u001b[39;00m:\n\u001b[0;32m    871\u001b[0m         \u001b[38;5;66;03m# Binary mode\u001b[39;00m\n\u001b[0;32m    872\u001b[0m         handle \u001b[38;5;241m=\u001b[39m \u001b[38;5;28mopen\u001b[39m(handle, ioargs\u001b[38;5;241m.\u001b[39mmode)\n",
      "\u001b[1;31mFileNotFoundError\u001b[0m: [Errno 2] No such file or directory: 'C:\\\\Users\\\\USER\\\\OneDrive\\\\KRA WORK\\\\2024 WS\\\\SLA EDA\\\\SLA_ETL\\\\Processsed_Data\\\\SAFARICOM_SLA.csv'"
     ]
    }
   ],
   "source": [
    "import pandas as pd\n",
    "ltk_sla_df = pd.read_csv('C:\\\\Users\\\\USER\\\\OneDrive\\\\KRA WORK\\\\2024 WS\\SLA EDA\\\\SLA_ETL\\\\Processsed_Data\\\\LTK_SLA.csv')\n",
    "saf_sla_df = pd.read_csv('C:\\\\Users\\\\USER\\\\OneDrive\\\\KRA WORK\\\\2024 WS\\SLA EDA\\\\SLA_ETL\\\\Processsed_Data\\\\SAFARICOM_SLA.csv')\n",
    "combined_sla = pd.read_csv('C:\\\\Users\\\\USER\\\\OneDrive\\\\KRA WORK\\\\2024 WS\\SLA EDA\\\\SLA_ETL\\\\Processsed_Data\\\\SLA_Combined.csv')\n",
    "\n",
    "ltk_invoice_df = pd.read_csv('C:\\\\Users\\\\USER\\\\OneDrive\\\\KRA WORK\\\\2024 WS\\SLA EDA\\\\SLA_ETL\\\\Processsed_Data\\\\LTK_Invoice.csv')\n",
    "saf_invoice_df = pd.read_csv('C:\\\\Users\\\\USER\\\\OneDrive\\\\KRA WORK\\\\2024 WS\\SLA EDA\\\\SLA_ETL\\\\Processsed_Data\\\\SAFARICOM_Invoice.csv')\n",
    "combined_Invoice = pd.read_csv('C:\\\\Users\\\\USER\\\\OneDrive\\\\KRA WORK\\\\2024 WS\\SLA EDA\\\\SLA_ETL\\\\Processsed_Data\\\\Invoice_Combined.csv')"
   ]
  },
  {
   "cell_type": "code",
   "execution_count": null,
   "metadata": {},
   "outputs": [],
   "source": [
    "# Filter rows where Link_ID count is greater than 2\n",
    "duplicate_link_ids = combined_Invoice['Link_ID'].value_counts()[lambda x: x > 1].index\n",
    "\n",
    "duplicate_link_ids"
   ]
  },
  {
   "cell_type": "code",
   "execution_count": null,
   "metadata": {},
   "outputs": [],
   "source": [
    "def duplicate_handler(self):\n",
    "    links_with_dupl = self.df['Link_ID'].value_counts()[lambda x: x > 1].index\n",
    "    for id in links_with_dupl:\n",
    "        self.df.drop(self.df[(self.df['Link_ID'] == id) & (self.df['Total_QRC'] == self.df.groupby(by = LID)['Total_QRC'].mean ],axis = 0)"
   ]
  },
  {
   "cell_type": "code",
   "execution_count": null,
   "metadata": {},
   "outputs": [],
   "source": [
    "def invoice_duplicate_handler(self):\n",
    "    # Identify duplicate Link_IDs\n",
    "    duplicate_link_ids = self.df[self.df.duplicated(subset='Link_ID', keep=False)]['Link_ID'].unique()\n",
    "    \n",
    "    # Iterate over each duplicate Link ID\n",
    "    for link_id in duplicate_link_ids:\n",
    "        # Filter the dataframe for all occurrences of the current Link ID\n",
    "        duplicates = self.df[self.df['Link_ID'] == link_id]\n",
    "        \n",
    "        # Find the index of the row with the highest Total_QRC\n",
    "        max_qrc_index = duplicates['Total_QRC'].idxmax()\n",
    "        \n",
    "        # Drop all other duplicates except for the one with the highest Total_QRC\n",
    "        self.df = self.df.drop(duplicates.index.difference([max_qrc_index]))\n"
   ]
  },
  {
   "cell_type": "code",
   "execution_count": null,
   "metadata": {},
   "outputs": [],
   "source": [
    "def invocie_duplicate_handler(df):\n",
    "    # Identify duplicate Link_IDs\n",
    "    duplicate_link_ids = df[df.duplicated(subset='Link_ID', keep=False)]['Link_ID'].unique()\n",
    "    \n",
    "    # Iterate over each duplicate Link ID\n",
    "    for link_id in duplicate_link_ids:\n",
    "        # Filter the dataframe for all occurrences of the current Link ID\n",
    "        duplicates = df[df['Link_ID'] == link_id]\n",
    "        \n",
    "        # Find the index of the row with the highest Total_QRC\n",
    "        max_qrc_index = duplicates['Total_QRC'].idxmax()\n",
    "        \n",
    "        # Drop all other duplicates except for the one with the highest Total_QRC\n",
    "        df = df.drop(duplicates.index.difference([max_qrc_index]))\n",
    "\n",
    "        return df"
   ]
  },
  {
   "cell_type": "markdown",
   "metadata": {},
   "source": [
    "### SLA Duplicates Hundler"
   ]
  },
  {
   "cell_type": "markdown",
   "metadata": {},
   "source": [
    "duplicates_IDs = df['Link_ID'].value_counts[lambda x: x >1].index\n",
    "df[df['Link_ID'].isin(duplicates_IDs)]"
   ]
  },
  {
   "cell_type": "code",
   "execution_count": 2,
   "metadata": {},
   "outputs": [],
   "source": [
    "def sla_duplicates_handler(self):\n",
    "    #Duplicate Link IDS\n",
    "    duplicate_link_ids = self.df['Link_ID'].value_counts()[lambda x:x>1].index\n",
    "\n",
    "    for id in duplicate_link_ids:\n",
    "        #Subsetting the duplicate Data set\n",
    "        duplicates_df = self.df[self.df['Link_ID'] == id]\n",
    "\n",
    "        #Finding Index of row with theh highest capacity..We want to maintain the upgraded Link\n",
    "        max_cap_index = duplicates_df['Capacity(Mbps)'].idxmax()\n",
    "\n",
    "        #Droppping all otherduplicates exce[t the one with upgraded capacity\n",
    "        self.df = self.df.drop(duplicates_df.index.difference([max_cap_index]))\n",
    "\n",
    "    return self.df"
   ]
  },
  {
   "cell_type": "code",
   "execution_count": 7,
   "metadata": {},
   "outputs": [],
   "source": [
    "def sla_duplicates_handler(df):\n",
    "    #Duplicate Link IDS\n",
    "    duplicate_link_ids = df['Link_ID'].value_counts()[lambda x:x>1].index\n",
    "\n",
    "    for id in duplicate_link_ids:\n",
    "        #Subsetting the duplicate Data set\n",
    "        duplicates_df = df[df['Link_ID']== id]\n",
    "\n",
    "        #Finding Index of row with theh highest capacity..We want to maintain the upgraded Link\n",
    "        max_cap_index = duplicates_df['Capacity(Mbps)'].idxmax()\n",
    "\n",
    "        #Droppping all otherduplicates exce[t the one with upgraded capacity\n",
    "        df = df.drop(duplicates_df.index.difference([max_cap_index]))\n",
    "\n",
    "    return df"
   ]
  },
  {
   "cell_type": "code",
   "execution_count": 8,
   "metadata": {},
   "outputs": [],
   "source": [
    "sla_dup_free = sla_duplicates_handler(combined_sla)"
   ]
  },
  {
   "cell_type": "code",
   "execution_count": null,
   "metadata": {},
   "outputs": [],
   "source": [
    "sla_dup_free"
   ]
  },
  {
   "cell_type": "code",
   "execution_count": 3,
   "metadata": {},
   "outputs": [],
   "source": [
    "import pymysql"
   ]
  },
  {
   "cell_type": "code",
   "execution_count": 5,
   "metadata": {},
   "outputs": [
    {
     "ename": "ImportError",
     "evalue": "cannot import name 'TableFieldSchema' from 'apache_beam.io.gcp.internal.clients.bigquery' (c:\\Users\\USER\\anaconda3\\envs\\Python_Dev\\lib\\site-packages\\apache_beam\\io\\gcp\\internal\\clients\\bigquery\\__init__.py)",
     "output_type": "error",
     "traceback": [
      "\u001b[1;31m---------------------------------------------------------------------------\u001b[0m",
      "\u001b[1;31mImportError\u001b[0m                               Traceback (most recent call last)",
      "Cell \u001b[1;32mIn[5], line 7\u001b[0m\n\u001b[0;32m      5\u001b[0m \u001b[38;5;28;01mfrom\u001b[39;00m \u001b[38;5;21;01mapache_beam\u001b[39;00m\u001b[38;5;21;01m.\u001b[39;00m\u001b[38;5;21;01mrunners\u001b[39;00m \u001b[38;5;28;01mimport\u001b[39;00m PipelineState\n\u001b[0;32m      6\u001b[0m \u001b[38;5;28;01mfrom\u001b[39;00m \u001b[38;5;21;01mapache_beam\u001b[39;00m\u001b[38;5;21;01m.\u001b[39;00m\u001b[38;5;21;01mio\u001b[39;00m\u001b[38;5;21;01m.\u001b[39;00m\u001b[38;5;21;01mgcp\u001b[39;00m\u001b[38;5;21;01m.\u001b[39;00m\u001b[38;5;21;01mbigquery\u001b[39;00m \u001b[38;5;28;01mimport\u001b[39;00m BigQueryDisposition\n\u001b[1;32m----> 7\u001b[0m \u001b[38;5;28;01mfrom\u001b[39;00m \u001b[38;5;21;01mapache_beam\u001b[39;00m\u001b[38;5;21;01m.\u001b[39;00m\u001b[38;5;21;01mio\u001b[39;00m\u001b[38;5;21;01m.\u001b[39;00m\u001b[38;5;21;01mgcp\u001b[39;00m\u001b[38;5;21;01m.\u001b[39;00m\u001b[38;5;21;01minternal\u001b[39;00m\u001b[38;5;21;01m.\u001b[39;00m\u001b[38;5;21;01mclients\u001b[39;00m\u001b[38;5;21;01m.\u001b[39;00m\u001b[38;5;21;01mbigquery\u001b[39;00m \u001b[38;5;28;01mimport\u001b[39;00m TableFieldSchema\n\u001b[0;32m      9\u001b[0m \u001b[38;5;28;01mfrom\u001b[39;00m \u001b[38;5;21;01mpipe_tools\u001b[39;00m\u001b[38;5;21;01m.\u001b[39;00m\u001b[38;5;21;01mgenerator\u001b[39;00m \u001b[38;5;28;01mimport\u001b[39;00m MessageGenerator\n\u001b[0;32m     10\u001b[0m \u001b[38;5;28;01mfrom\u001b[39;00m \u001b[38;5;21;01mpipe_tools\u001b[39;00m\u001b[38;5;21;01m.\u001b[39;00m\u001b[38;5;21;01mgenerator\u001b[39;00m \u001b[38;5;28;01mimport\u001b[39;00m GenerateMessages\n",
      "\u001b[1;31mImportError\u001b[0m: cannot import name 'TableFieldSchema' from 'apache_beam.io.gcp.internal.clients.bigquery' (c:\\Users\\USER\\anaconda3\\envs\\Python_Dev\\lib\\site-packages\\apache_beam\\io\\gcp\\internal\\clients\\bigquery\\__init__.py)"
     ]
    }
   ],
   "source": [
    "import logging\n",
    "import ujson\n",
    "\n",
    "import apache_beam as beam\n",
    "from apache_beam.runners import PipelineState\n",
    "from apache_beam.io.gcp.bigquery import BigQueryDisposition\n",
    "from apache_beam.io.gcp.internal.clients.bigquery import TableFieldSchema\n",
    "\n",
    "from pipe_tools.generator import MessageGenerator\n",
    "from pipe_tools.generator import GenerateMessages\n",
    "from pipe_tools.io import WriteToBigQueryDatePartitioned\n",
    "from pipe_tools.coders import JSONDictCoder\n",
    "\n",
    "from pipe_template.options import TemplateOptions\n",
    "from pipe_template.transform import AddField\n",
    "\n",
    "\n",
    "def run(options):\n",
    "\n",
    "    template_options = options.view_as(TemplateOptions)\n",
    "\n",
    "    source = GenerateMessages(generator=MessageGenerator())\n",
    "    sink = beam.io.WriteToText(file_path_prefix=template_options.dest, coder=JSONDictCoder())\n",
    "\n",
    "    pipeline = beam.Pipeline(options=options)\n",
    "    (\n",
    "        pipeline\n",
    "        | \"generate\" >> source\n",
    "        | \"tag\" >> beam.ParDo(AddField(field=template_options.tag_field,\n",
    "                                       value=template_options.tag_value))\n",
    "        | \"write\" >> sink\n",
    "    )\n",
    "\n",
    "    result = pipeline.run()\n",
    "    success_states = set([PipelineState.DONE])\n",
    "\n",
    "    if template_options.wait:\n",
    "        result.wait_until_finish()\n",
    "    else:\n",
    "        success_states.add(PipelineState.RUNNING)\n",
    "        success_states.add(PipelineState.UNKNOWN)\n",
    "\n",
    "    logging.info('returning with result.state=%s' % result.state)\n",
    "    return 0 if result.state in success_states else 1"
   ]
  },
  {
   "cell_type": "code",
   "execution_count": 3,
   "metadata": {},
   "outputs": [
    {
     "name": "stdout",
     "output_type": "stream",
     "text": [
      "Collecting dotenv\n",
      "  Using cached dotenv-0.0.5.tar.gz (2.4 kB)\n",
      "  Preparing metadata (setup.py): started\n",
      "  Preparing metadata (setup.py): finished with status 'error'\n",
      "Note: you may need to restart the kernel to use updated packages.\n"
     ]
    },
    {
     "name": "stderr",
     "output_type": "stream",
     "text": [
      "  error: subprocess-exited-with-error\n",
      "  \n",
      "  × python setup.py egg_info did not run successfully.\n",
      "  │ exit code: 1\n",
      "  ╰─> [76 lines of output]\n",
      "      c:\\Users\\USER\\anaconda3\\envs\\Python_Dev\\lib\\site-packages\\setuptools\\__init__.py:80: _DeprecatedInstaller: setuptools.installer and fetch_build_eggs are deprecated.\n",
      "      !!\n",
      "      \n",
      "              ********************************************************************************\n",
      "              Requirements should be satisfied by a PEP 517 installer.\n",
      "              If you are using pip, you can try `pip install --use-pep517`.\n",
      "              ********************************************************************************\n",
      "      \n",
      "      !!\n",
      "        dist.fetch_build_eggs(dist.setup_requires)\n",
      "        error: subprocess-exited-with-error\n",
      "      \n",
      "        Ã— python setup.py egg_info did not run successfully.\n",
      "        â”‚ exit code: 1\n",
      "        â•°â”€> [16 lines of output]\n",
      "            Traceback (most recent call last):\n",
      "              File \"<string>\", line 2, in <module>\n",
      "              File \"<pip-setuptools-caller>\", line 14, in <module>\n",
      "              File \"C:\\Users\\USER\\AppData\\Local\\Temp\\pip-wheel-w0ympbq1\\distribute_56c2f95d62354d18a87d137673968ae4\\setuptools\\__init__.py\", line 2, in <module>\n",
      "                from setuptools.extension import Extension, Library\n",
      "              File \"C:\\Users\\USER\\AppData\\Local\\Temp\\pip-wheel-w0ympbq1\\distribute_56c2f95d62354d18a87d137673968ae4\\setuptools\\extension.py\", line 5, in <module>\n",
      "                from setuptools.dist import _get_unpatched\n",
      "              File \"C:\\Users\\USER\\AppData\\Local\\Temp\\pip-wheel-w0ympbq1\\distribute_56c2f95d62354d18a87d137673968ae4\\setuptools\\dist.py\", line 7, in <module>\n",
      "                from setuptools.command.install import install\n",
      "              File \"C:\\Users\\USER\\AppData\\Local\\Temp\\pip-wheel-w0ympbq1\\distribute_56c2f95d62354d18a87d137673968ae4\\setuptools\\command\\__init__.py\", line 8, in <module>\n",
      "                from setuptools.command import install_scripts\n",
      "              File \"C:\\Users\\USER\\AppData\\Local\\Temp\\pip-wheel-w0ympbq1\\distribute_56c2f95d62354d18a87d137673968ae4\\setuptools\\command\\install_scripts.py\", line 3, in <module>\n",
      "                from pkg_resources import Distribution, PathMetadata, ensure_directory\n",
      "              File \"C:\\Users\\USER\\AppData\\Local\\Temp\\pip-wheel-w0ympbq1\\distribute_56c2f95d62354d18a87d137673968ae4\\pkg_resources.py\", line 1518, in <module>\n",
      "                register_loader_type(importlib_bootstrap.SourceFileLoader, DefaultProvider)\n",
      "            AttributeError: module 'importlib._bootstrap' has no attribute 'SourceFileLoader'\n",
      "            [end of output]\n",
      "      \n",
      "        note: This error originates from a subprocess, and is likely not a problem with pip.\n",
      "      error: metadata-generation-failed\n",
      "      \n",
      "      Ã— Encountered error while generating package metadata.\n",
      "      â•°â”€> See above for output.\n",
      "      \n",
      "      note: This is an issue with the package mentioned above, not pip.\n",
      "      hint: See above for details.\n",
      "      Traceback (most recent call last):\n",
      "        File \"c:\\Users\\USER\\anaconda3\\envs\\Python_Dev\\lib\\site-packages\\setuptools\\installer.py\", line 101, in _fetch_build_egg_no_warn\n",
      "          subprocess.check_call(cmd)\n",
      "        File \"c:\\Users\\USER\\anaconda3\\envs\\Python_Dev\\lib\\subprocess.py\", line 369, in check_call\n",
      "          raise CalledProcessError(retcode, cmd)\n",
      "      subprocess.CalledProcessError: Command '['c:\\\\Users\\\\USER\\\\anaconda3\\\\envs\\\\Python_Dev\\\\python.exe', '-m', 'pip', '--disable-pip-version-check', 'wheel', '--no-deps', '-w', 'C:\\\\Users\\\\USER\\\\AppData\\\\Local\\\\Temp\\\\tmp3dleav2m', '--quiet', 'distribute']' returned non-zero exit status 1.\n",
      "      \n",
      "      The above exception was the direct cause of the following exception:\n",
      "      \n",
      "      Traceback (most recent call last):\n",
      "        File \"<string>\", line 2, in <module>\n",
      "        File \"<pip-setuptools-caller>\", line 34, in <module>\n",
      "        File \"C:\\Users\\USER\\AppData\\Local\\Temp\\pip-install-6nbnt6ad\\dotenv_9760ff4094114df9a193657641815c9f\\setup.py\", line 13, in <module>\n",
      "          setup(name='dotenv',\n",
      "        File \"c:\\Users\\USER\\anaconda3\\envs\\Python_Dev\\lib\\site-packages\\setuptools\\__init__.py\", line 102, in setup\n",
      "          _install_setup_requires(attrs)\n",
      "        File \"c:\\Users\\USER\\anaconda3\\envs\\Python_Dev\\lib\\site-packages\\setuptools\\__init__.py\", line 75, in _install_setup_requires\n",
      "          _fetch_build_eggs(dist)\n",
      "        File \"c:\\Users\\USER\\anaconda3\\envs\\Python_Dev\\lib\\site-packages\\setuptools\\__init__.py\", line 80, in _fetch_build_eggs\n",
      "          dist.fetch_build_eggs(dist.setup_requires)\n",
      "        File \"c:\\Users\\USER\\anaconda3\\envs\\Python_Dev\\lib\\site-packages\\setuptools\\dist.py\", line 662, in fetch_build_eggs\n",
      "          return _fetch_build_eggs(self, requires)\n",
      "        File \"c:\\Users\\USER\\anaconda3\\envs\\Python_Dev\\lib\\site-packages\\setuptools\\installer.py\", line 38, in _fetch_build_eggs\n",
      "          resolved_dists = pkg_resources.working_set.resolve(\n",
      "        File \"c:\\Users\\USER\\anaconda3\\envs\\Python_Dev\\lib\\site-packages\\pkg_resources\\__init__.py\", line 829, in resolve\n",
      "          dist = self._resolve_dist(\n",
      "        File \"c:\\Users\\USER\\anaconda3\\envs\\Python_Dev\\lib\\site-packages\\pkg_resources\\__init__.py\", line 865, in _resolve_dist\n",
      "          dist = best[req.key] = env.best_match(\n",
      "        File \"c:\\Users\\USER\\anaconda3\\envs\\Python_Dev\\lib\\site-packages\\pkg_resources\\__init__.py\", line 1135, in best_match\n",
      "          return self.obtain(req, installer)\n",
      "        File \"c:\\Users\\USER\\anaconda3\\envs\\Python_Dev\\lib\\site-packages\\pkg_resources\\__init__.py\", line 1147, in obtain\n",
      "          return installer(requirement)\n",
      "        File \"c:\\Users\\USER\\anaconda3\\envs\\Python_Dev\\lib\\site-packages\\setuptools\\installer.py\", line 103, in _fetch_build_egg_no_warn\n",
      "          raise DistutilsError(str(e)) from e\n",
      "      distutils.errors.DistutilsError: Command '['c:\\\\Users\\\\USER\\\\anaconda3\\\\envs\\\\Python_Dev\\\\python.exe', '-m', 'pip', '--disable-pip-version-check', 'wheel', '--no-deps', '-w', 'C:\\\\Users\\\\USER\\\\AppData\\\\Local\\\\Temp\\\\tmp3dleav2m', '--quiet', 'distribute']' returned non-zero exit status 1.\n",
      "      [end of output]\n",
      "  \n",
      "  note: This error originates from a subprocess, and is likely not a problem with pip.\n",
      "error: metadata-generation-failed\n",
      "\n",
      "× Encountered error while generating package metadata.\n",
      "╰─> See above for output.\n",
      "\n",
      "note: This is an issue with the package mentioned above, not pip.\n",
      "hint: See above for details.\n"
     ]
    }
   ],
   "source": [
    "#%pip install pep517\n",
    "%pip install dotenv\n",
    "#import pep517"
   ]
  },
  {
   "cell_type": "code",
   "execution_count": 1,
   "metadata": {},
   "outputs": [
    {
     "ename": "ModuleNotFoundError",
     "evalue": "No module named 'dotenv'",
     "output_type": "error",
     "traceback": [
      "\u001b[1;31m---------------------------------------------------------------------------\u001b[0m",
      "\u001b[1;31mModuleNotFoundError\u001b[0m                       Traceback (most recent call last)",
      "Cell \u001b[1;32mIn[1], line 1\u001b[0m\n\u001b[1;32m----> 1\u001b[0m \u001b[38;5;28;01mimport\u001b[39;00m \u001b[38;5;21;01mdotenv\u001b[39;00m\n",
      "\u001b[1;31mModuleNotFoundError\u001b[0m: No module named 'dotenv'"
     ]
    }
   ],
   "source": [
    "import dotenv"
   ]
  },
  {
   "cell_type": "code",
   "execution_count": 4,
   "metadata": {},
   "outputs": [
    {
     "name": "stdout",
     "output_type": "stream",
     "text": [
      "Requirement already satisfied: pip in c:\\users\\user\\anaconda3\\envs\\python_dev\\lib\\site-packages (23.3.1)\n",
      "Collecting pip\n",
      "  Downloading pip-24.0-py3-none-any.whl.metadata (3.6 kB)\n",
      "Requirement already satisfied: setuptools in c:\\users\\user\\anaconda3\\envs\\python_dev\\lib\\site-packages (68.2.2)\n",
      "Collecting setuptools\n",
      "  Downloading setuptools-69.2.0-py3-none-any.whl.metadata (6.3 kB)\n",
      "Downloading pip-24.0-py3-none-any.whl (2.1 MB)\n",
      "   ---------------------------------------- 0.0/2.1 MB ? eta -:--:--\n",
      "   ---------------------------------------- 0.0/2.1 MB ? eta -:--:--\n",
      "   ---------------------------------------- 0.0/2.1 MB ? eta -:--:--\n",
      "    --------------------------------------- 0.0/2.1 MB 326.8 kB/s eta 0:00:07\n",
      "   - -------------------------------------- 0.1/2.1 MB 585.1 kB/s eta 0:00:04\n",
      "   --- ------------------------------------ 0.2/2.1 MB 876.1 kB/s eta 0:00:03\n",
      "   ----- ---------------------------------- 0.3/2.1 MB 1.1 MB/s eta 0:00:02\n",
      "   ------ --------------------------------- 0.4/2.1 MB 1.2 MB/s eta 0:00:02\n",
      "   ---------- ----------------------------- 0.6/2.1 MB 1.5 MB/s eta 0:00:02\n",
      "   -------------- ------------------------- 0.7/2.1 MB 2.0 MB/s eta 0:00:01\n",
      "   -------------- ------------------------- 0.7/2.1 MB 2.0 MB/s eta 0:00:01\n",
      "   ---------------------------------- ----- 1.8/2.1 MB 3.6 MB/s eta 0:00:01\n",
      "   ---------------------------------------- 2.1/2.1 MB 3.7 MB/s eta 0:00:00\n",
      "Downloading setuptools-69.2.0-py3-none-any.whl (821 kB)\n",
      "   ---------------------------------------- 0.0/821.5 kB ? eta -:--:--\n",
      "   --------------------------------------- 821.5/821.5 kB 17.3 MB/s eta 0:00:00\n",
      "Installing collected packages: setuptools, pip\n",
      "  Attempting uninstall: setuptools\n",
      "    Found existing installation: setuptools 68.2.2\n",
      "    Uninstalling setuptools-68.2.2:\n",
      "      Successfully uninstalled setuptools-68.2.2\n",
      "  Attempting uninstall: pip\n",
      "    Found existing installation: pip 23.3.1\n",
      "    Uninstalling pip-23.3.1:\n",
      "      Successfully uninstalled pip-23.3.1\n",
      "Successfully installed pip-24.0 setuptools-69.2.0\n"
     ]
    },
    {
     "name": "stderr",
     "output_type": "stream",
     "text": [
      "  WARNING: The scripts pip.exe, pip3.10.exe and pip3.exe are installed in 'c:\\Users\\USER\\anaconda3\\envs\\Python_Dev\\Scripts' which is not on PATH.\n",
      "  Consider adding this directory to PATH or, if you prefer to suppress this warning, use --no-warn-script-location.\n"
     ]
    }
   ],
   "source": [
    "!python -m pip install --upgrade pip setuptools\n"
   ]
  },
  {
   "cell_type": "code",
   "execution_count": 3,
   "metadata": {},
   "outputs": [
    {
     "name": "stdout",
     "output_type": "stream",
     "text": [
      "Collecting dotenv\n",
      "  Using cached dotenv-0.0.5.tar.gz (2.4 kB)\n",
      "  Installing build dependencies: started\n",
      "  Installing build dependencies: finished with status 'done'\n",
      "  Getting requirements to build wheel: started\n",
      "  Getting requirements to build wheel: finished with status 'done'\n",
      "  Installing backend dependencies: started\n",
      "  Installing backend dependencies: finished with status 'error'\n",
      "Note: you may need to restart the kernel to use updated packages.\n"
     ]
    },
    {
     "name": "stderr",
     "output_type": "stream",
     "text": [
      "  error: subprocess-exited-with-error\n",
      "  \n",
      "  × pip subprocess to install backend dependencies did not run successfully.\n",
      "  │ exit code: 1\n",
      "  ╰─> [35 lines of output]\n",
      "      Collecting distribute\n",
      "        Using cached distribute-0.7.3.zip (145 kB)\n",
      "        Preparing metadata (setup.py): started\n",
      "        Preparing metadata (setup.py): finished with status 'error'\n",
      "        error: subprocess-exited-with-error\n",
      "      \n",
      "        Ã— python setup.py egg_info did not run successfully.\n",
      "        â”‚ exit code: 1\n",
      "        â•°â”€> [16 lines of output]\n",
      "            Traceback (most recent call last):\n",
      "              File \"<string>\", line 2, in <module>\n",
      "              File \"<pip-setuptools-caller>\", line 14, in <module>\n",
      "              File \"C:\\Users\\USER\\AppData\\Local\\Temp\\pip-install-c43zdcgl\\distribute_749795dbe8ce4461893425c91eb3f39e\\setuptools\\__init__.py\", line 2, in <module>\n",
      "                from setuptools.extension import Extension, Library\n",
      "              File \"C:\\Users\\USER\\AppData\\Local\\Temp\\pip-install-c43zdcgl\\distribute_749795dbe8ce4461893425c91eb3f39e\\setuptools\\extension.py\", line 5, in <module>\n",
      "                from setuptools.dist import _get_unpatched\n",
      "              File \"C:\\Users\\USER\\AppData\\Local\\Temp\\pip-install-c43zdcgl\\distribute_749795dbe8ce4461893425c91eb3f39e\\setuptools\\dist.py\", line 7, in <module>\n",
      "                from setuptools.command.install import install\n",
      "              File \"C:\\Users\\USER\\AppData\\Local\\Temp\\pip-install-c43zdcgl\\distribute_749795dbe8ce4461893425c91eb3f39e\\setuptools\\command\\__init__.py\", line 8, in <module>\n",
      "                from setuptools.command import install_scripts\n",
      "              File \"C:\\Users\\USER\\AppData\\Local\\Temp\\pip-install-c43zdcgl\\distribute_749795dbe8ce4461893425c91eb3f39e\\setuptools\\command\\install_scripts.py\", line 3, in <module>\n",
      "                from pkg_resources import Distribution, PathMetadata, ensure_directory\n",
      "              File \"C:\\Users\\USER\\AppData\\Local\\Temp\\pip-install-c43zdcgl\\distribute_749795dbe8ce4461893425c91eb3f39e\\pkg_resources.py\", line 1518, in <module>\n",
      "                register_loader_type(importlib_bootstrap.SourceFileLoader, DefaultProvider)\n",
      "            AttributeError: module 'importlib._bootstrap' has no attribute 'SourceFileLoader'\n",
      "            [end of output]\n",
      "      \n",
      "        note: This error originates from a subprocess, and is likely not a problem with pip.\n",
      "      error: metadata-generation-failed\n",
      "      \n",
      "      Ã— Encountered error while generating package metadata.\n",
      "      â•°â”€> See above for output.\n",
      "      \n",
      "      note: This is an issue with the package mentioned above, not pip.\n",
      "      hint: See above for details.\n",
      "      [end of output]\n",
      "  \n",
      "  note: This error originates from a subprocess, and is likely not a problem with pip.\n",
      "error: subprocess-exited-with-error\n",
      "\n",
      "× pip subprocess to install backend dependencies did not run successfully.\n",
      "│ exit code: 1\n",
      "╰─> See above for output.\n",
      "\n",
      "note: This error originates from a subprocess, and is likely not a problem with pip.\n"
     ]
    }
   ],
   "source": [
    "#Installing the dotenv using pep517\n",
    "%pip install --use-pep517 dotenv"
   ]
  },
  {
   "cell_type": "code",
   "execution_count": 2,
   "metadata": {},
   "outputs": [
    {
     "name": "stdout",
     "output_type": "stream",
     "text": [
      "Files removed: 397\n",
      "Note: you may need to restart the kernel to use updated packages.\n",
      "Collecting dotenv\n",
      "  Downloading dotenv-0.0.5.tar.gz (2.4 kB)\n",
      "  Preparing metadata (setup.py): started\n",
      "  Preparing metadata (setup.py): finished with status 'error'\n",
      "Note: you may need to restart the kernel to use updated packages.\n"
     ]
    },
    {
     "name": "stderr",
     "output_type": "stream",
     "text": [
      "  error: subprocess-exited-with-error\n",
      "  \n",
      "  × python setup.py egg_info did not run successfully.\n",
      "  │ exit code: 1\n",
      "  ╰─> [76 lines of output]\n",
      "      c:\\Users\\USER\\anaconda3\\envs\\Python_Dev\\lib\\site-packages\\setuptools\\__init__.py:81: _DeprecatedInstaller: setuptools.installer and fetch_build_eggs are deprecated.\n",
      "      !!\n",
      "      \n",
      "              ********************************************************************************\n",
      "              Requirements should be satisfied by a PEP 517 installer.\n",
      "              If you are using pip, you can try `pip install --use-pep517`.\n",
      "              ********************************************************************************\n",
      "      \n",
      "      !!\n",
      "        dist.fetch_build_eggs(dist.setup_requires)\n",
      "        error: subprocess-exited-with-error\n",
      "      \n",
      "        Ã— python setup.py egg_info did not run successfully.\n",
      "        â”‚ exit code: 1\n",
      "        â•°â”€> [16 lines of output]\n",
      "            Traceback (most recent call last):\n",
      "              File \"<string>\", line 2, in <module>\n",
      "              File \"<pip-setuptools-caller>\", line 14, in <module>\n",
      "              File \"C:\\Users\\USER\\AppData\\Local\\Temp\\pip-wheel-ahby2a0g\\distribute_53ec808b3c074e33bb0c07df296a85c0\\setuptools\\__init__.py\", line 2, in <module>\n",
      "                from setuptools.extension import Extension, Library\n",
      "              File \"C:\\Users\\USER\\AppData\\Local\\Temp\\pip-wheel-ahby2a0g\\distribute_53ec808b3c074e33bb0c07df296a85c0\\setuptools\\extension.py\", line 5, in <module>\n",
      "                from setuptools.dist import _get_unpatched\n",
      "              File \"C:\\Users\\USER\\AppData\\Local\\Temp\\pip-wheel-ahby2a0g\\distribute_53ec808b3c074e33bb0c07df296a85c0\\setuptools\\dist.py\", line 7, in <module>\n",
      "                from setuptools.command.install import install\n",
      "              File \"C:\\Users\\USER\\AppData\\Local\\Temp\\pip-wheel-ahby2a0g\\distribute_53ec808b3c074e33bb0c07df296a85c0\\setuptools\\command\\__init__.py\", line 8, in <module>\n",
      "                from setuptools.command import install_scripts\n",
      "              File \"C:\\Users\\USER\\AppData\\Local\\Temp\\pip-wheel-ahby2a0g\\distribute_53ec808b3c074e33bb0c07df296a85c0\\setuptools\\command\\install_scripts.py\", line 3, in <module>\n",
      "                from pkg_resources import Distribution, PathMetadata, ensure_directory\n",
      "              File \"C:\\Users\\USER\\AppData\\Local\\Temp\\pip-wheel-ahby2a0g\\distribute_53ec808b3c074e33bb0c07df296a85c0\\pkg_resources.py\", line 1518, in <module>\n",
      "                register_loader_type(importlib_bootstrap.SourceFileLoader, DefaultProvider)\n",
      "            AttributeError: module 'importlib._bootstrap' has no attribute 'SourceFileLoader'\n",
      "            [end of output]\n",
      "      \n",
      "        note: This error originates from a subprocess, and is likely not a problem with pip.\n",
      "      error: metadata-generation-failed\n",
      "      \n",
      "      Ã— Encountered error while generating package metadata.\n",
      "      â•°â”€> See above for output.\n",
      "      \n",
      "      note: This is an issue with the package mentioned above, not pip.\n",
      "      hint: See above for details.\n",
      "      Traceback (most recent call last):\n",
      "        File \"c:\\Users\\USER\\anaconda3\\envs\\Python_Dev\\lib\\site-packages\\setuptools\\installer.py\", line 101, in _fetch_build_egg_no_warn\n",
      "          subprocess.check_call(cmd)\n",
      "        File \"c:\\Users\\USER\\anaconda3\\envs\\Python_Dev\\lib\\subprocess.py\", line 369, in check_call\n",
      "          raise CalledProcessError(retcode, cmd)\n",
      "      subprocess.CalledProcessError: Command '['c:\\\\Users\\\\USER\\\\anaconda3\\\\envs\\\\Python_Dev\\\\python.exe', '-m', 'pip', '--disable-pip-version-check', 'wheel', '--no-deps', '-w', 'C:\\\\Users\\\\USER\\\\AppData\\\\Local\\\\Temp\\\\tmpdbcl6zfx', '--quiet', 'distribute']' returned non-zero exit status 1.\n",
      "      \n",
      "      The above exception was the direct cause of the following exception:\n",
      "      \n",
      "      Traceback (most recent call last):\n",
      "        File \"<string>\", line 2, in <module>\n",
      "        File \"<pip-setuptools-caller>\", line 34, in <module>\n",
      "        File \"C:\\Users\\USER\\AppData\\Local\\Temp\\pip-install-yai3vn4d\\dotenv_d66f4b0d27e14ddc87d1cf63738efd0b\\setup.py\", line 13, in <module>\n",
      "          setup(name='dotenv',\n",
      "        File \"c:\\Users\\USER\\anaconda3\\envs\\Python_Dev\\lib\\site-packages\\setuptools\\__init__.py\", line 103, in setup\n",
      "          _install_setup_requires(attrs)\n",
      "        File \"c:\\Users\\USER\\anaconda3\\envs\\Python_Dev\\lib\\site-packages\\setuptools\\__init__.py\", line 76, in _install_setup_requires\n",
      "          _fetch_build_eggs(dist)\n",
      "        File \"c:\\Users\\USER\\anaconda3\\envs\\Python_Dev\\lib\\site-packages\\setuptools\\__init__.py\", line 81, in _fetch_build_eggs\n",
      "          dist.fetch_build_eggs(dist.setup_requires)\n",
      "        File \"c:\\Users\\USER\\anaconda3\\envs\\Python_Dev\\lib\\site-packages\\setuptools\\dist.py\", line 640, in fetch_build_eggs\n",
      "          return _fetch_build_eggs(self, requires)\n",
      "        File \"c:\\Users\\USER\\anaconda3\\envs\\Python_Dev\\lib\\site-packages\\setuptools\\installer.py\", line 38, in _fetch_build_eggs\n",
      "          resolved_dists = pkg_resources.working_set.resolve(\n",
      "        File \"c:\\Users\\USER\\anaconda3\\envs\\Python_Dev\\lib\\site-packages\\pkg_resources\\__init__.py\", line 798, in resolve\n",
      "          dist = self._resolve_dist(\n",
      "        File \"c:\\Users\\USER\\anaconda3\\envs\\Python_Dev\\lib\\site-packages\\pkg_resources\\__init__.py\", line 834, in _resolve_dist\n",
      "          dist = best[req.key] = env.best_match(\n",
      "        File \"c:\\Users\\USER\\anaconda3\\envs\\Python_Dev\\lib\\site-packages\\pkg_resources\\__init__.py\", line 1104, in best_match\n",
      "          return self.obtain(req, installer)\n",
      "        File \"c:\\Users\\USER\\anaconda3\\envs\\Python_Dev\\lib\\site-packages\\pkg_resources\\__init__.py\", line 1115, in obtain\n",
      "          return installer(requirement) if installer else None\n",
      "        File \"c:\\Users\\USER\\anaconda3\\envs\\Python_Dev\\lib\\site-packages\\setuptools\\installer.py\", line 103, in _fetch_build_egg_no_warn\n",
      "          raise DistutilsError(str(e)) from e\n",
      "      distutils.errors.DistutilsError: Command '['c:\\\\Users\\\\USER\\\\anaconda3\\\\envs\\\\Python_Dev\\\\python.exe', '-m', 'pip', '--disable-pip-version-check', 'wheel', '--no-deps', '-w', 'C:\\\\Users\\\\USER\\\\AppData\\\\Local\\\\Temp\\\\tmpdbcl6zfx', '--quiet', 'distribute']' returned non-zero exit status 1.\n",
      "      [end of output]\n",
      "  \n",
      "  note: This error originates from a subprocess, and is likely not a problem with pip.\n",
      "error: metadata-generation-failed\n",
      "\n",
      "× Encountered error while generating package metadata.\n",
      "╰─> See above for output.\n",
      "\n",
      "note: This is an issue with the package mentioned above, not pip.\n",
      "hint: See above for details.\n"
     ]
    }
   ],
   "source": [
    "%pip cache purge\n",
    "%pip install dotenv\n"
   ]
  },
  {
   "cell_type": "code",
   "execution_count": 1,
   "metadata": {},
   "outputs": [],
   "source": [
    "import dotenv"
   ]
  },
  {
   "cell_type": "code",
   "execution_count": 5,
   "metadata": {},
   "outputs": [
    {
     "name": "stdout",
     "output_type": "stream",
     "text": [
      "Raw Data Folder Path: 0.15\n"
     ]
    },
    {
     "data": {
      "text/plain": [
       "str"
      ]
     },
     "execution_count": 5,
     "metadata": {},
     "output_type": "execute_result"
    }
   ],
   "source": [
    "import os\n",
    "from dotenv import load_dotenv\n",
    "\n",
    "\n",
    "load_dotenv(\"SLA DP envionment file.env\")\n",
    "\n",
    "ed = os.getenv('excise_duty')\n",
    "\n",
    "print(f'Raw Data Folder Path: {ed}')\n",
    "type(ed)"
   ]
  },
  {
   "cell_type": "code",
   "execution_count": 7,
   "metadata": {},
   "outputs": [
    {
     "data": {
      "text/plain": [
       "0.15"
      ]
     },
     "execution_count": 7,
     "metadata": {},
     "output_type": "execute_result"
    }
   ],
   "source": [
    "float(ed)"
   ]
  },
  {
   "cell_type": "markdown",
   "metadata": {},
   "source": [
    "#### Unique ID"
   ]
  },
  {
   "cell_type": "code",
   "execution_count": 5,
   "metadata": {},
   "outputs": [],
   "source": [
    "def sp_modifier(sp):\n",
    "    sp_new_names = {\n",
    "        'SAFARICOM':'Saf',\n",
    "        'LTK': 'LTK'\n",
    "    }\n",
    "    return sp_new_names[sp]\n",
    "workbook_name = \"SAFARICOM INVOICE\"\n",
    "w_b = sp_modifier(workbook_name.split(\" \")[0])"
   ]
  },
  {
   "cell_type": "code",
   "execution_count": 6,
   "metadata": {},
   "outputs": [
    {
     "data": {
      "text/plain": [
       "'Saf'"
      ]
     },
     "execution_count": 6,
     "metadata": {},
     "output_type": "execute_result"
    }
   ],
   "source": [
    "w_b"
   ]
  },
  {
   "cell_type": "code",
   "execution_count": 2,
   "metadata": {},
   "outputs": [],
   "source": [
    "import pandas as pd\n",
    "ltk_sla_df = pd.read_csv('C:\\\\Users\\\\USER\\\\OneDrive\\\\KRA WORK\\\\2024 WS\\SLA EDA\\\\SLA_ETL\\\\Processsed_Data\\\\LTK_SLA.csv')\n",
    "saf_sla_df = pd.read_csv('C:\\\\Users\\\\USER\\\\OneDrive\\\\KRA WORK\\\\2024 WS\\SLA EDA\\\\SLA_ETL\\\\Processsed_Data\\\\Saf_SLA.csv')\n",
    "combined_sla = pd.read_csv('C:\\\\Users\\\\USER\\\\OneDrive\\\\KRA WORK\\\\2024 WS\\SLA EDA\\\\SLA_ETL\\\\Processsed_Data\\\\SLA_Combined.csv')\n",
    "\n",
    "ltk_invoice_df = pd.read_csv('C:\\\\Users\\\\USER\\\\OneDrive\\\\KRA WORK\\\\2024 WS\\SLA EDA\\\\SLA_ETL\\\\Processsed_Data\\\\LTK_Invoice.csv')\n",
    "saf_invoice_df = pd.read_csv('C:\\\\Users\\\\USER\\\\OneDrive\\\\KRA WORK\\\\2024 WS\\SLA EDA\\\\SLA_ETL\\\\Processsed_Data\\\\Saf_Invoice.csv')\n",
    "combined_Invoice = pd.read_csv('C:\\\\Users\\\\USER\\\\OneDrive\\\\KRA WORK\\\\2024 WS\\SLA EDA\\\\SLA_ETL\\\\Processsed_Data\\\\Invoice_Combined.csv')"
   ]
  },
  {
   "cell_type": "code",
   "execution_count": 8,
   "metadata": {},
   "outputs": [
    {
     "data": {
      "text/plain": [
       "18518106.1816692"
      ]
     },
     "execution_count": 8,
     "metadata": {},
     "output_type": "execute_result"
    }
   ],
   "source": [
    "combined_sla['QRC_Incl'].sum()\n",
    "combined_Invoice['Total_QRC'].sum()"
   ]
  },
  {
   "cell_type": "code",
   "execution_count": 36,
   "metadata": {},
   "outputs": [],
   "source": [
    "pd.to_datetime(saf_sla_df['SLA_Date']).unique()\n",
    "#saf_sla_df['SLA_Date'].dt.year\n",
    "\n",
    "def assign_rank(df,sp):\n",
    "    #Extracting unique values from the date col and sort them\n",
    "    unique_dates = sorted(df['SLA_Date'].dt.strftime('%Y-%m-%d').unique())\n",
    "\n",
    "    #creating a mapping of date to rank\n",
    "    date_to_rank = {date: f'{i:02d}' for i,date in enumerate(unique_dates)}\n",
    "\n",
    "    #add a new col called rank based on the mapping\n",
    "    df['rank'] =  df['SLA_Date'].dt.strftime('%Y-%m-%d').map(date_to_rank)\n",
    "\n",
    "\n",
    "\n",
    "    #Adding the SLA ID Col\n",
    "    df['SLA_ID'] = df.apply(lambda row: f\"{row['SLA_Date'].year}-{row['SLA_Date'].month}-{sp}{row['rank']}\", axis=1)\n",
    "    #df['SLA_ID'] = df.apply(lambda row: f\"{row['SLA_Date'].split('-', expand =True)[1]}-{row['SLA_Date'].split('-', expand =True)[1]}-{sp}-{row['rank']}\", axis=1)\n",
    "\n",
    "\n",
    "    return df"
   ]
  },
  {
   "cell_type": "code",
   "execution_count": 41,
   "metadata": {},
   "outputs": [
    {
     "data": {
      "text/html": [
       "<div>\n",
       "<style scoped>\n",
       "    .dataframe tbody tr th:only-of-type {\n",
       "        vertical-align: middle;\n",
       "    }\n",
       "\n",
       "    .dataframe tbody tr th {\n",
       "        vertical-align: top;\n",
       "    }\n",
       "\n",
       "    .dataframe thead th {\n",
       "        text-align: right;\n",
       "    }\n",
       "</style>\n",
       "<table border=\"1\" class=\"dataframe\">\n",
       "  <thead>\n",
       "    <tr style=\"text-align: right;\">\n",
       "      <th></th>\n",
       "      <th>Link_ID</th>\n",
       "      <th>SLA_Date</th>\n",
       "      <th>Last_Mile</th>\n",
       "      <th>Capacity_in_Mbps</th>\n",
       "      <th>Location</th>\n",
       "      <th>MRC_Excl</th>\n",
       "      <th>SLM_Comments</th>\n",
       "      <th>QRC_Incl</th>\n",
       "      <th>SLA_ID</th>\n",
       "      <th>Service_Provider</th>\n",
       "      <th>rank</th>\n",
       "      <th>UI</th>\n",
       "    </tr>\n",
       "  </thead>\n",
       "  <tbody>\n",
       "    <tr>\n",
       "      <th>0</th>\n",
       "      <td>95054463</td>\n",
       "      <td>2020-12-16</td>\n",
       "      <td>MPLS</td>\n",
       "      <td>25</td>\n",
       "      <td>BUNGOMA MICROWAVE</td>\n",
       "      <td>20352.80</td>\n",
       "      <td>Upgrade 5&gt;25 Mbps. Check Upgrade Docs. KES 449...</td>\n",
       "      <td>70827.74</td>\n",
       "      <td>2020-12-Saf00</td>\n",
       "      <td>SAFARICOM</td>\n",
       "      <td>00</td>\n",
       "      <td>2020-12-Saf00_95054463</td>\n",
       "    </tr>\n",
       "    <tr>\n",
       "      <th>1</th>\n",
       "      <td>95038953</td>\n",
       "      <td>2020-12-16</td>\n",
       "      <td>MPLS</td>\n",
       "      <td>80</td>\n",
       "      <td>DR BACKHAUL FIBRE</td>\n",
       "      <td>93504.60</td>\n",
       "      <td>NaN</td>\n",
       "      <td>325396.01</td>\n",
       "      <td>2020-12-Saf00</td>\n",
       "      <td>SAFARICOM</td>\n",
       "      <td>00</td>\n",
       "      <td>2020-12-Saf00_95038953</td>\n",
       "    </tr>\n",
       "    <tr>\n",
       "      <th>2</th>\n",
       "      <td>95054464</td>\n",
       "      <td>2020-12-16</td>\n",
       "      <td>MPLS</td>\n",
       "      <td>60</td>\n",
       "      <td>ELDORET KIPTAGICH MPLS FIBER</td>\n",
       "      <td>25439.40</td>\n",
       "      <td>Upgrade 10&gt;60 Mbps. Check Upgrade Docs. KES 69...</td>\n",
       "      <td>88529.11</td>\n",
       "      <td>2020-12-Saf00</td>\n",
       "      <td>SAFARICOM</td>\n",
       "      <td>00</td>\n",
       "      <td>2020-12-Saf00_95054464</td>\n",
       "    </tr>\n",
       "    <tr>\n",
       "      <th>3</th>\n",
       "      <td>95054465</td>\n",
       "      <td>2020-12-16</td>\n",
       "      <td>MPLS</td>\n",
       "      <td>5</td>\n",
       "      <td>ELDORET KPC LOOP MICROWAVE</td>\n",
       "      <td>20357.40</td>\n",
       "      <td>NaN</td>\n",
       "      <td>70843.75</td>\n",
       "      <td>2020-12-Saf00</td>\n",
       "      <td>SAFARICOM</td>\n",
       "      <td>00</td>\n",
       "      <td>2020-12-Saf00_95054465</td>\n",
       "    </tr>\n",
       "    <tr>\n",
       "      <th>4</th>\n",
       "      <td>95034216</td>\n",
       "      <td>2020-12-16</td>\n",
       "      <td>Internet</td>\n",
       "      <td>180</td>\n",
       "      <td>HQ-INTERNET</td>\n",
       "      <td>222299.85</td>\n",
       "      <td>NaN</td>\n",
       "      <td>889644.00</td>\n",
       "      <td>2020-12-Saf00</td>\n",
       "      <td>SAFARICOM</td>\n",
       "      <td>00</td>\n",
       "      <td>2020-12-Saf00_95034216</td>\n",
       "    </tr>\n",
       "  </tbody>\n",
       "</table>\n",
       "</div>"
      ],
      "text/plain": [
       "    Link_ID   SLA_Date Last_Mile  Capacity_in_Mbps  \\\n",
       "0  95054463 2020-12-16      MPLS                25   \n",
       "1  95038953 2020-12-16      MPLS                80   \n",
       "2  95054464 2020-12-16      MPLS                60   \n",
       "3  95054465 2020-12-16      MPLS                 5   \n",
       "4  95034216 2020-12-16  Internet               180   \n",
       "\n",
       "                       Location   MRC_Excl  \\\n",
       "0             BUNGOMA MICROWAVE   20352.80   \n",
       "1             DR BACKHAUL FIBRE   93504.60   \n",
       "2  ELDORET KIPTAGICH MPLS FIBER   25439.40   \n",
       "3    ELDORET KPC LOOP MICROWAVE   20357.40   \n",
       "4                   HQ-INTERNET  222299.85   \n",
       "\n",
       "                                        SLM_Comments   QRC_Incl  \\\n",
       "0  Upgrade 5>25 Mbps. Check Upgrade Docs. KES 449...   70827.74   \n",
       "1                                                NaN  325396.01   \n",
       "2  Upgrade 10>60 Mbps. Check Upgrade Docs. KES 69...   88529.11   \n",
       "3                                                NaN   70843.75   \n",
       "4                                                NaN  889644.00   \n",
       "\n",
       "          SLA_ID Service_Provider rank                      UI  \n",
       "0  2020-12-Saf00        SAFARICOM   00  2020-12-Saf00_95054463  \n",
       "1  2020-12-Saf00        SAFARICOM   00  2020-12-Saf00_95038953  \n",
       "2  2020-12-Saf00        SAFARICOM   00  2020-12-Saf00_95054464  \n",
       "3  2020-12-Saf00        SAFARICOM   00  2020-12-Saf00_95054465  \n",
       "4  2020-12-Saf00        SAFARICOM   00  2020-12-Saf00_95034216  "
      ]
     },
     "execution_count": 41,
     "metadata": {},
     "output_type": "execute_result"
    }
   ],
   "source": [
    "saf_sla_df['SLA_Date'] = pd.to_datetime( saf_sla_df['SLA_Date'])\n",
    "df1 = assign_rank(saf_sla_df,'Saf')\n",
    "df1['UI'] = df1['SLA_ID'] + \"_\" + df1['Link_ID'].astype(str)\n",
    "df1.head()"
   ]
  },
  {
   "cell_type": "markdown",
   "metadata": {},
   "source": [
    "##### Modifying the Invoice to include the SLA Date \n",
    "The SLA Date will be used to create SLA_IDS which will help create unique identifier \n"
   ]
  },
  {
   "cell_type": "code",
   "execution_count": 2,
   "metadata": {},
   "outputs": [],
   "source": [
    "import glob\n",
    "import pandas as pd \n",
    "import numpy as np\n",
    "import os\n",
    "from dotenv import load_dotenv\n",
    "load_dotenv(\"SLA DP envionment file.env\")\n",
    "import xlsxwriter"
   ]
  },
  {
   "cell_type": "code",
   "execution_count": 3,
   "metadata": {},
   "outputs": [],
   "source": [
    "folder_path = os.getenv('pre_processed_data')"
   ]
  },
  {
   "cell_type": "code",
   "execution_count": 4,
   "metadata": {},
   "outputs": [],
   "source": [
    "excel_files = glob.glob(f\"{folder_path}/*.xlsx\")"
   ]
  },
  {
   "cell_type": "code",
   "execution_count": 6,
   "metadata": {},
   "outputs": [],
   "source": [
    "for file in excel_files:\n",
    "    xls = pd.ExcelFile(file)\n",
    "    workbook_name = os.path.splitext(os.path.basename(file))[0]\n",
    "\n",
    "    for sheet in xls.sheet_names:\n",
    "        if \"sla\" in sheet.lower():\n",
    "            df_sla = pd.read_excel(file, sheet_name= sheet)\n",
    "        elif \"invoice\" in sheet.lower():\n",
    "            df_invoice = pd.read_excel(file, sheet_name=sheet)\n",
    "    df_invoice= pd.merge(df_invoice, df_sla[['Link ID', 'SLA Date']], on='Link ID', how = 'left')\n",
    "\n",
    "    # Merging the sheets back into a workbook\n",
    "    #Creating a pandas excel writer using XlsxWriter as the engine \n",
    "    with pd.ExcelWriter(file, engine= 'xlsxwriter', mode='w') as writer:\n",
    "        df_sla.to_excel(writer, sheet_name = 'SLA', index = False)\n",
    "        df_invoice.to_excel(writer, sheet_name = 'invoice', index = False)"
   ]
  },
  {
   "cell_type": "code",
   "execution_count": 9,
   "metadata": {},
   "outputs": [
    {
     "data": {
      "text/html": [
       "<div>\n",
       "<style scoped>\n",
       "    .dataframe tbody tr th:only-of-type {\n",
       "        vertical-align: middle;\n",
       "    }\n",
       "\n",
       "    .dataframe tbody tr th {\n",
       "        vertical-align: top;\n",
       "    }\n",
       "\n",
       "    .dataframe thead th {\n",
       "        text-align: right;\n",
       "    }\n",
       "</style>\n",
       "<table border=\"1\" class=\"dataframe\">\n",
       "  <thead>\n",
       "    <tr style=\"text-align: right;\">\n",
       "      <th></th>\n",
       "      <th>Invoice_Date</th>\n",
       "      <th>Link_ID</th>\n",
       "      <th>Invoice_Period</th>\n",
       "      <th>Invoice_Description</th>\n",
       "      <th>Invoice_Reference</th>\n",
       "      <th>Total_QRC</th>\n",
       "      <th>Unique_Link_ID</th>\n",
       "      <th>Service_Provider</th>\n",
       "    </tr>\n",
       "  </thead>\n",
       "  <tbody>\n",
       "    <tr>\n",
       "      <th>0</th>\n",
       "      <td>2023-10-01</td>\n",
       "      <td>95001135</td>\n",
       "      <td>01-Oct-2023 to 31-Dec-2023</td>\n",
       "      <td>CUSTOMS OFFICE MALINDI-WIMAX</td>\n",
       "      <td>B1-10096515502</td>\n",
       "      <td>240145.6128</td>\n",
       "      <td>B1-10096515502_95001135</td>\n",
       "      <td>Saf</td>\n",
       "    </tr>\n",
       "    <tr>\n",
       "      <th>1</th>\n",
       "      <td>2023-10-01</td>\n",
       "      <td>95001574</td>\n",
       "      <td>01-Oct-2023 to 31-Dec-2023</td>\n",
       "      <td>KRA LOITOKTOK BORDER WIMAX</td>\n",
       "      <td>B1-10096515502</td>\n",
       "      <td>240145.6128</td>\n",
       "      <td>B1-10096515502_95001574</td>\n",
       "      <td>Saf</td>\n",
       "    </tr>\n",
       "    <tr>\n",
       "      <th>2</th>\n",
       "      <td>2023-10-01</td>\n",
       "      <td>95001628</td>\n",
       "      <td>01-Oct-2023 to 31-Dec-2023</td>\n",
       "      <td>KRA KRATI MOMBASA WIMAX</td>\n",
       "      <td>B1-10096515502</td>\n",
       "      <td>240145.6128</td>\n",
       "      <td>B1-10096515502_95001628</td>\n",
       "      <td>Saf</td>\n",
       "    </tr>\n",
       "    <tr>\n",
       "      <th>3</th>\n",
       "      <td>2023-10-01</td>\n",
       "      <td>95004139</td>\n",
       "      <td>01-Oct-2023 to 31-Dec-2023</td>\n",
       "      <td>KRA -  MANDERA</td>\n",
       "      <td>B1-10096515502</td>\n",
       "      <td>180078.7944</td>\n",
       "      <td>B1-10096515502_95004139</td>\n",
       "      <td>Saf</td>\n",
       "    </tr>\n",
       "    <tr>\n",
       "      <th>4</th>\n",
       "      <td>2023-10-01</td>\n",
       "      <td>95004140</td>\n",
       "      <td>01-Oct-2023 to 31-Dec-2023</td>\n",
       "      <td>KRA -  Moyale</td>\n",
       "      <td>B1-10096515502</td>\n",
       "      <td>240145.6128</td>\n",
       "      <td>B1-10096515502_95004140</td>\n",
       "      <td>Saf</td>\n",
       "    </tr>\n",
       "  </tbody>\n",
       "</table>\n",
       "</div>"
      ],
      "text/plain": [
       "  Invoice_Date   Link_ID              Invoice_Period  \\\n",
       "0   2023-10-01  95001135  01-Oct-2023 to 31-Dec-2023   \n",
       "1   2023-10-01  95001574  01-Oct-2023 to 31-Dec-2023   \n",
       "2   2023-10-01  95001628  01-Oct-2023 to 31-Dec-2023   \n",
       "3   2023-10-01  95004139  01-Oct-2023 to 31-Dec-2023   \n",
       "4   2023-10-01  95004140  01-Oct-2023 to 31-Dec-2023   \n",
       "\n",
       "             Invoice_Description Invoice_Reference    Total_QRC  \\\n",
       "0   CUSTOMS OFFICE MALINDI-WIMAX    B1-10096515502  240145.6128   \n",
       "1     KRA LOITOKTOK BORDER WIMAX    B1-10096515502  240145.6128   \n",
       "2        KRA KRATI MOMBASA WIMAX    B1-10096515502  240145.6128   \n",
       "3                 KRA -  MANDERA    B1-10096515502  180078.7944   \n",
       "4                  KRA -  Moyale    B1-10096515502  240145.6128   \n",
       "\n",
       "            Unique_Link_ID Service_Provider  \n",
       "0  B1-10096515502_95001135              Saf  \n",
       "1  B1-10096515502_95001574              Saf  \n",
       "2  B1-10096515502_95001628              Saf  \n",
       "3  B1-10096515502_95004139              Saf  \n",
       "4  B1-10096515502_95004140              Saf  "
      ]
     },
     "execution_count": 9,
     "metadata": {},
     "output_type": "execute_result"
    }
   ],
   "source": [
    "saf_sla_df.head()\n",
    "saf_invoice_df.head()\n",
    "saf_invoice_df['SLA_Date'] = "
   ]
  },
  {
   "cell_type": "code",
   "execution_count": 12,
   "metadata": {},
   "outputs": [],
   "source": [
    "saf_invoice_df = pd.merge(saf_invoice_df, saf_sla_df[['Link_ID', 'SLA_Date']], on = 'Link_ID', how='left')"
   ]
  },
  {
   "cell_type": "code",
   "execution_count": 13,
   "metadata": {},
   "outputs": [
    {
     "data": {
      "text/html": [
       "<div>\n",
       "<style scoped>\n",
       "    .dataframe tbody tr th:only-of-type {\n",
       "        vertical-align: middle;\n",
       "    }\n",
       "\n",
       "    .dataframe tbody tr th {\n",
       "        vertical-align: top;\n",
       "    }\n",
       "\n",
       "    .dataframe thead th {\n",
       "        text-align: right;\n",
       "    }\n",
       "</style>\n",
       "<table border=\"1\" class=\"dataframe\">\n",
       "  <thead>\n",
       "    <tr style=\"text-align: right;\">\n",
       "      <th></th>\n",
       "      <th>Invoice_Date</th>\n",
       "      <th>Link_ID</th>\n",
       "      <th>Invoice_Period</th>\n",
       "      <th>Invoice_Description</th>\n",
       "      <th>Invoice_Reference</th>\n",
       "      <th>Total_QRC</th>\n",
       "      <th>Unique_Link_ID</th>\n",
       "      <th>Service_Provider</th>\n",
       "      <th>SLA_Date</th>\n",
       "    </tr>\n",
       "  </thead>\n",
       "  <tbody>\n",
       "    <tr>\n",
       "      <th>0</th>\n",
       "      <td>2023-10-01</td>\n",
       "      <td>95001135</td>\n",
       "      <td>01-Oct-2023 to 31-Dec-2023</td>\n",
       "      <td>CUSTOMS OFFICE MALINDI-WIMAX</td>\n",
       "      <td>B1-10096515502</td>\n",
       "      <td>240145.6128</td>\n",
       "      <td>B1-10096515502_95001135</td>\n",
       "      <td>Saf</td>\n",
       "      <td>2020-12-16</td>\n",
       "    </tr>\n",
       "    <tr>\n",
       "      <th>1</th>\n",
       "      <td>2023-10-01</td>\n",
       "      <td>95001574</td>\n",
       "      <td>01-Oct-2023 to 31-Dec-2023</td>\n",
       "      <td>KRA LOITOKTOK BORDER WIMAX</td>\n",
       "      <td>B1-10096515502</td>\n",
       "      <td>240145.6128</td>\n",
       "      <td>B1-10096515502_95001574</td>\n",
       "      <td>Saf</td>\n",
       "      <td>2020-12-16</td>\n",
       "    </tr>\n",
       "    <tr>\n",
       "      <th>2</th>\n",
       "      <td>2023-10-01</td>\n",
       "      <td>95001628</td>\n",
       "      <td>01-Oct-2023 to 31-Dec-2023</td>\n",
       "      <td>KRA KRATI MOMBASA WIMAX</td>\n",
       "      <td>B1-10096515502</td>\n",
       "      <td>240145.6128</td>\n",
       "      <td>B1-10096515502_95001628</td>\n",
       "      <td>Saf</td>\n",
       "      <td>2020-12-16</td>\n",
       "    </tr>\n",
       "    <tr>\n",
       "      <th>3</th>\n",
       "      <td>2023-10-01</td>\n",
       "      <td>95004139</td>\n",
       "      <td>01-Oct-2023 to 31-Dec-2023</td>\n",
       "      <td>KRA -  MANDERA</td>\n",
       "      <td>B1-10096515502</td>\n",
       "      <td>180078.7944</td>\n",
       "      <td>B1-10096515502_95004139</td>\n",
       "      <td>Saf</td>\n",
       "      <td>2020-12-16</td>\n",
       "    </tr>\n",
       "    <tr>\n",
       "      <th>4</th>\n",
       "      <td>2023-10-01</td>\n",
       "      <td>95004140</td>\n",
       "      <td>01-Oct-2023 to 31-Dec-2023</td>\n",
       "      <td>KRA -  Moyale</td>\n",
       "      <td>B1-10096515502</td>\n",
       "      <td>240145.6128</td>\n",
       "      <td>B1-10096515502_95004140</td>\n",
       "      <td>Saf</td>\n",
       "      <td>2020-12-16</td>\n",
       "    </tr>\n",
       "  </tbody>\n",
       "</table>\n",
       "</div>"
      ],
      "text/plain": [
       "  Invoice_Date   Link_ID              Invoice_Period  \\\n",
       "0   2023-10-01  95001135  01-Oct-2023 to 31-Dec-2023   \n",
       "1   2023-10-01  95001574  01-Oct-2023 to 31-Dec-2023   \n",
       "2   2023-10-01  95001628  01-Oct-2023 to 31-Dec-2023   \n",
       "3   2023-10-01  95004139  01-Oct-2023 to 31-Dec-2023   \n",
       "4   2023-10-01  95004140  01-Oct-2023 to 31-Dec-2023   \n",
       "\n",
       "             Invoice_Description Invoice_Reference    Total_QRC  \\\n",
       "0   CUSTOMS OFFICE MALINDI-WIMAX    B1-10096515502  240145.6128   \n",
       "1     KRA LOITOKTOK BORDER WIMAX    B1-10096515502  240145.6128   \n",
       "2        KRA KRATI MOMBASA WIMAX    B1-10096515502  240145.6128   \n",
       "3                 KRA -  MANDERA    B1-10096515502  180078.7944   \n",
       "4                  KRA -  Moyale    B1-10096515502  240145.6128   \n",
       "\n",
       "            Unique_Link_ID Service_Provider    SLA_Date  \n",
       "0  B1-10096515502_95001135              Saf  2020-12-16  \n",
       "1  B1-10096515502_95001574              Saf  2020-12-16  \n",
       "2  B1-10096515502_95001628              Saf  2020-12-16  \n",
       "3  B1-10096515502_95004139              Saf  2020-12-16  \n",
       "4  B1-10096515502_95004140              Saf  2020-12-16  "
      ]
     },
     "execution_count": 13,
     "metadata": {},
     "output_type": "execute_result"
    }
   ],
   "source": [
    "saf_invoice_df.head()"
   ]
  },
  {
   "cell_type": "code",
   "execution_count": 9,
   "metadata": {},
   "outputs": [
    {
     "data": {
      "text/plain": [
       "['data\\\\LTK SLA & Invoice.xlsx', 'data\\\\SAFARICOM SLA & Invoice.xlsx']"
      ]
     },
     "execution_count": 9,
     "metadata": {},
     "output_type": "execute_result"
    }
   ],
   "source": [
    "glob.glob('data\\*.xlsx')"
   ]
  },
  {
   "cell_type": "code",
   "execution_count": 5,
   "metadata": {},
   "outputs": [],
   "source": [
    "import glob\n",
    "import dotenv\n",
    "import os\n",
    "dotenv.load_dotenv(\"SLA DP envionment file.env\")\n",
    "folder_path = os.getenv('raw_data')\n",
    "excel_files = glob.glob(f\"{folder_path}/*.xlsx\")"
   ]
  },
  {
   "cell_type": "code",
   "execution_count": 6,
   "metadata": {},
   "outputs": [
    {
     "data": {
      "text/plain": [
       "['C:\\\\Users\\\\USER\\\\OneDrive\\\\KRA WORK\\\\2024 WS\\\\SLA EDA\\\\SLA_ETL\\\\Data\\\\LTK SLA & Invoice.xlsx',\n",
       " 'C:\\\\Users\\\\USER\\\\OneDrive\\\\KRA WORK\\\\2024 WS\\\\SLA EDA\\\\SLA_ETL\\\\Data\\\\SAFARICOM SLA & Invoice.xlsx']"
      ]
     },
     "execution_count": 6,
     "metadata": {},
     "output_type": "execute_result"
    }
   ],
   "source": [
    "excel_files"
   ]
  },
  {
   "cell_type": "code",
   "execution_count": 14,
   "metadata": {},
   "outputs": [
    {
     "name": "stdout",
     "output_type": "stream",
     "text": [
      "C:\\Users\\USER\\OneDrive\\KRA WORK\\2024 WS\\SLA EDA\\SLA_ETL\\Data\\LTK SLA & Invoice.csv\n",
      "C:\\Users\\USER\\OneDrive\\KRA WORK\\2024 WS\\SLA EDA\\SLA_ETL\\Data\\SAFARICOM SLA & Invoice.csv\n"
     ]
    }
   ],
   "source": [
    "for file in excel_files:\n",
    "    file_path = os.path.splitext(file)[0]\n",
    "    new_file_path = f'{file_path}.csv'\n",
    "    print(new_file_path)"
   ]
  },
  {
   "cell_type": "code",
   "execution_count": 44,
   "metadata": {},
   "outputs": [
    {
     "data": {
      "text/plain": [
       "'ltk'"
      ]
     },
     "execution_count": 44,
     "metadata": {},
     "output_type": "execute_result"
    }
   ],
   "source": [
    "def sp_modifier(sp):\n",
    "    sp_new_names = {\n",
    "        'SAFARICOM':'Saf',\n",
    "        'LTK': 'LTK'\n",
    "    }\n",
    "    if sp in [key for key, _ in sp_new_names.items()]:\n",
    "        return sp_new_names[sp]\n",
    "    else:\n",
    "        return sp\n",
    "\n",
    "sp_modifier('ltk')"
   ]
  },
  {
   "cell_type": "code",
   "execution_count": 21,
   "metadata": {},
   "outputs": [],
   "source": [
    "import numpy as np"
   ]
  },
  {
   "cell_type": "code",
   "execution_count": 33,
   "metadata": {},
   "outputs": [
    {
     "name": "stdout",
     "output_type": "stream",
     "text": [
      "safaricom\n",
      "ltk\n"
     ]
    }
   ],
   "source": [
    "sp_new_names = {\n",
    "    'SAFARICOM':'Saf',\n",
    "    'LTK': 'LTK'\n",
    "}\n",
    "\n",
    "for key, _ in sp_new_names.items():\n",
    "    print (key.lower())\n",
    "\n",
    "    "
   ]
  },
  {
   "cell_type": "code",
   "execution_count": 37,
   "metadata": {},
   "outputs": [
    {
     "name": "stdout",
     "output_type": "stream",
     "text": [
      "Yes\n"
     ]
    }
   ],
   "source": [
    "sp = 'ltk'\n",
    "if sp.lower() in [key.lower() for key,_ in sp_new_names.items()]:\n",
    "    print('Yes')"
   ]
  },
  {
   "cell_type": "code",
   "execution_count": 48,
   "metadata": {},
   "outputs": [],
   "source": [
    "import pandas as pd\n",
    " ltk_invoice_df['SLA_Date'].dt.year"
   ]
  },
  {
   "cell_type": "code",
   "execution_count": 52,
   "metadata": {},
   "outputs": [
    {
     "data": {
      "text/plain": [
       "0    2020.0\n",
       "1       NaN\n",
       "2    2020.0\n",
       "3    2020.0\n",
       "4    2020.0\n",
       "Name: SLA_Date, dtype: float64"
      ]
     },
     "execution_count": 52,
     "metadata": {},
     "output_type": "execute_result"
    }
   ],
   "source": [
    "pd.to_datetime(ltk_invoice_df['SLA_Date']).dt.year.head()"
   ]
  },
  {
   "cell_type": "code",
   "execution_count": 4,
   "metadata": {},
   "outputs": [
    {
     "data": {
      "text/html": [
       "<div>\n",
       "<style scoped>\n",
       "    .dataframe tbody tr th:only-of-type {\n",
       "        vertical-align: middle;\n",
       "    }\n",
       "\n",
       "    .dataframe tbody tr th {\n",
       "        vertical-align: top;\n",
       "    }\n",
       "\n",
       "    .dataframe thead th {\n",
       "        text-align: right;\n",
       "    }\n",
       "</style>\n",
       "<table border=\"1\" class=\"dataframe\">\n",
       "  <thead>\n",
       "    <tr style=\"text-align: right;\">\n",
       "      <th></th>\n",
       "      <th>Link_ID</th>\n",
       "      <th>SLA_Date</th>\n",
       "      <th>Last_Mile</th>\n",
       "      <th>Capacity_in_Mbps</th>\n",
       "      <th>Location</th>\n",
       "      <th>MRC_Excl</th>\n",
       "      <th>SLM_Comments</th>\n",
       "      <th>QRC_Incl</th>\n",
       "      <th>rank</th>\n",
       "      <th>SLA_ID</th>\n",
       "      <th>Unique_Link_Identifier_SLA</th>\n",
       "      <th>Service_Provider</th>\n",
       "    </tr>\n",
       "  </thead>\n",
       "  <tbody>\n",
       "    <tr>\n",
       "      <th>0</th>\n",
       "      <td>1750</td>\n",
       "      <td>2020-10-01</td>\n",
       "      <td>Fibre</td>\n",
       "      <td>90</td>\n",
       "      <td>KRA - TIMES TOWERS TO KRA - KIXP (EADC)</td>\n",
       "      <td>270000.0</td>\n",
       "      <td>16/04/2022: Upgraded 90 Mbps @ KES 649,050  -&gt;...</td>\n",
       "      <td>939600.00</td>\n",
       "      <td>0</td>\n",
       "      <td>2020-10-LTK00</td>\n",
       "      <td>2020-10-LTK00_1750</td>\n",
       "      <td>LTK</td>\n",
       "    </tr>\n",
       "    <tr>\n",
       "      <th>1</th>\n",
       "      <td>5277</td>\n",
       "      <td>2020-10-01</td>\n",
       "      <td>Fibre</td>\n",
       "      <td>75</td>\n",
       "      <td>KRA CUSTOMS HSE TO KRA TIMES TOWER</td>\n",
       "      <td>179718.0</td>\n",
       "      <td>Not in Invoice/Renamed/Relocated</td>\n",
       "      <td>625418.64</td>\n",
       "      <td>0</td>\n",
       "      <td>2020-10-LTK00</td>\n",
       "      <td>2020-10-LTK00_5277</td>\n",
       "      <td>LTK</td>\n",
       "    </tr>\n",
       "    <tr>\n",
       "      <th>2</th>\n",
       "      <td>5611</td>\n",
       "      <td>2020-10-01</td>\n",
       "      <td>Fibre</td>\n",
       "      <td>8</td>\n",
       "      <td>KRA AIRPORT CONTAINER DEPOT TO CUSTOMS HSE MSA</td>\n",
       "      <td>20642.5</td>\n",
       "      <td>Okay. No change</td>\n",
       "      <td>71835.90</td>\n",
       "      <td>0</td>\n",
       "      <td>2020-10-LTK00</td>\n",
       "      <td>2020-10-LTK00_5611</td>\n",
       "      <td>LTK</td>\n",
       "    </tr>\n",
       "    <tr>\n",
       "      <th>3</th>\n",
       "      <td>20103</td>\n",
       "      <td>2020-10-01</td>\n",
       "      <td>Fibre</td>\n",
       "      <td>9</td>\n",
       "      <td>KRA Wilson Airport Customs to Times Towers - V...</td>\n",
       "      <td>22950.0</td>\n",
       "      <td>Okay. No change</td>\n",
       "      <td>79866.00</td>\n",
       "      <td>0</td>\n",
       "      <td>2020-10-LTK00</td>\n",
       "      <td>2020-10-LTK00_20103</td>\n",
       "      <td>LTK</td>\n",
       "    </tr>\n",
       "    <tr>\n",
       "      <th>4</th>\n",
       "      <td>20954</td>\n",
       "      <td>2020-10-01</td>\n",
       "      <td>Fibre</td>\n",
       "      <td>20</td>\n",
       "      <td>KRA TIMES TOWERS NBO TO EGERTON UNIVERSITY NJO...</td>\n",
       "      <td>50000.0</td>\n",
       "      <td>Okay. No change</td>\n",
       "      <td>174000.00</td>\n",
       "      <td>0</td>\n",
       "      <td>2020-10-LTK00</td>\n",
       "      <td>2020-10-LTK00_20954</td>\n",
       "      <td>LTK</td>\n",
       "    </tr>\n",
       "  </tbody>\n",
       "</table>\n",
       "</div>"
      ],
      "text/plain": [
       "  Link_ID    SLA_Date Last_Mile  Capacity_in_Mbps  \\\n",
       "0    1750  2020-10-01     Fibre                90   \n",
       "1    5277  2020-10-01     Fibre                75   \n",
       "2    5611  2020-10-01     Fibre                 8   \n",
       "3   20103  2020-10-01     Fibre                 9   \n",
       "4   20954  2020-10-01     Fibre                20   \n",
       "\n",
       "                                            Location  MRC_Excl  \\\n",
       "0            KRA - TIMES TOWERS TO KRA - KIXP (EADC)  270000.0   \n",
       "1                 KRA CUSTOMS HSE TO KRA TIMES TOWER  179718.0   \n",
       "2     KRA AIRPORT CONTAINER DEPOT TO CUSTOMS HSE MSA   20642.5   \n",
       "3  KRA Wilson Airport Customs to Times Towers - V...   22950.0   \n",
       "4  KRA TIMES TOWERS NBO TO EGERTON UNIVERSITY NJO...   50000.0   \n",
       "\n",
       "                                        SLM_Comments   QRC_Incl  rank  \\\n",
       "0  16/04/2022: Upgraded 90 Mbps @ KES 649,050  ->...  939600.00     0   \n",
       "1                   Not in Invoice/Renamed/Relocated  625418.64     0   \n",
       "2                                    Okay. No change   71835.90     0   \n",
       "3                                    Okay. No change   79866.00     0   \n",
       "4                                    Okay. No change  174000.00     0   \n",
       "\n",
       "          SLA_ID Unique_Link_Identifier_SLA Service_Provider  \n",
       "0  2020-10-LTK00         2020-10-LTK00_1750              LTK  \n",
       "1  2020-10-LTK00         2020-10-LTK00_5277              LTK  \n",
       "2  2020-10-LTK00         2020-10-LTK00_5611              LTK  \n",
       "3  2020-10-LTK00        2020-10-LTK00_20103              LTK  \n",
       "4  2020-10-LTK00        2020-10-LTK00_20954              LTK  "
      ]
     },
     "execution_count": 4,
     "metadata": {},
     "output_type": "execute_result"
    }
   ],
   "source": [
    "import pandas as pd\n",
    "Invoice_Combined_df = combined_Invoice\n",
    "SLA_Combined_df = combined_sla\n",
    "\n",
    "combined_Invoice.head()\n",
    "SLA_Combined_df.head()"
   ]
  },
  {
   "cell_type": "code",
   "execution_count": 6,
   "metadata": {},
   "outputs": [],
   "source": [
    "import pandas as pd\n",
    "import numpy as np\n",
    "Invoice_Combined_df = combined_Invoice\n",
    "SLA_Combined_df = combined_sla\n",
    "\n",
    "\n",
    "Merged_Data_SLA_Invoice = pd.DataFrame({\n",
    "    'Modified_Link_ID': pd.concat([Invoice_Combined_df['modified_Link_ID'],SLA_Combined_df['Unique_Link_Identifier_SLA']]).unique()\n",
    "})\n",
    "\n",
    "\n",
    "#Inserting Service Provider values\n",
    "SLA_SP = dict(zip(SLA_Combined_df['Unique_Link_Identifier_SLA'], SLA_Combined_df['Service_Provider']))\n",
    "invoice_SP = dict(zip(Invoice_Combined_df['modified_Link_ID'], Invoice_Combined_df['Service_Provider']))\n",
    "\n",
    "Merged_Data_SLA_Invoice['Service_Provider'] = Merged_Data_SLA_Invoice['Modified_Link_ID'].map(SLA_SP)\n",
    "Merged_Data_SLA_Invoice['Service_Provider'] = np.where(\n",
    "    Merged_Data_SLA_Invoice['Service_Provider'].isnull(),\n",
    "    Merged_Data_SLA_Invoice['Modified_Link_ID'].map(invoice_SP),\n",
    "    Merged_Data_SLA_Invoice['Service_Provider']\n",
    ")\n",
    "# SLA vs Invoice Status\n",
    "Merged_Data_SLA_Invoice['In_SLA_vs_Invoiced'] = np.where(\n",
    "    Merged_Data_SLA_Invoice['Modified_Link_ID'].isin(SLA_Combined_df['Unique_Link_Identifier_SLA']) &\n",
    "    Merged_Data_SLA_Invoice['Modified_Link_ID'].isin(Invoice_Combined_df['modified_Link_ID']),\n",
    "    \"In SLA and Invoiced\",\n",
    "    np.where(Merged_Data_SLA_Invoice['Modified_Link_ID'].isin(SLA_Combined_df['Unique_Link_Identifier_SLA']),\n",
    "             \"IN SLA but Not Invoiced\",\n",
    "             np.where(\n",
    "                 Merged_Data_SLA_Invoice['Modified_Link_ID'].isin(Invoice_Combined_df['modified_Link_ID']),\n",
    "                 \"Invoiced but not in SLA\",\n",
    "                 \"Unknown\"\n",
    "             )\n",
    "        )\n",
    "    \n",
    ")"
   ]
  },
  {
   "cell_type": "code",
   "execution_count": null,
   "metadata": {},
   "outputs": [],
   "source": [
    "Merged_Data_SLA_Invoice"
   ]
  },
  {
   "cell_type": "markdown",
   "metadata": {},
   "source": [
    "#### Adding SLA_QRC and Invoice QRC Value\n"
   ]
  },
  {
   "cell_type": "code",
   "execution_count": 1,
   "metadata": {},
   "outputs": [],
   "source": [
    "import pandas as pd\n",
    "ltk_sla_df = pd.read_csv('C:\\\\Users\\\\USER\\\\OneDrive\\\\KRA WORK\\\\2024 WS\\SLA EDA\\\\SLA_ETL\\\\Processsed_Data\\\\LTK_SLA.csv')\n",
    "saf_sla_df = pd.read_csv('C:\\\\Users\\\\USER\\\\OneDrive\\\\KRA WORK\\\\2024 WS\\SLA EDA\\\\SLA_ETL\\\\Processsed_Data\\\\Saf_SLA.csv')\n",
    "combined_sla = pd.read_csv('C:\\\\Users\\\\USER\\\\OneDrive\\\\KRA WORK\\\\2024 WS\\SLA EDA\\\\SLA_ETL\\\\Processsed_Data\\\\SLA_Combined.csv')\n",
    "\n",
    "ltk_invoice_df = pd.read_csv('C:\\\\Users\\\\USER\\\\OneDrive\\\\KRA WORK\\\\2024 WS\\SLA EDA\\\\SLA_ETL\\\\Processsed_Data\\\\LTK_Invoice.csv')\n",
    "saf_invoice_df = pd.read_csv('C:\\\\Users\\\\USER\\\\OneDrive\\\\KRA WORK\\\\2024 WS\\SLA EDA\\\\SLA_ETL\\\\Processsed_Data\\\\Saf_Invoice.csv')\n",
    "combined_Invoice = pd.read_csv('C:\\\\Users\\\\USER\\\\OneDrive\\\\KRA WORK\\\\2024 WS\\SLA EDA\\\\SLA_ETL\\\\Processsed_Data\\\\Invoice_Combined.csv')"
   ]
  },
  {
   "cell_type": "code",
   "execution_count": 8,
   "metadata": {},
   "outputs": [
    {
     "data": {
      "text/html": [
       "<div>\n",
       "<style scoped>\n",
       "    .dataframe tbody tr th:only-of-type {\n",
       "        vertical-align: middle;\n",
       "    }\n",
       "\n",
       "    .dataframe tbody tr th {\n",
       "        vertical-align: top;\n",
       "    }\n",
       "\n",
       "    .dataframe thead th {\n",
       "        text-align: right;\n",
       "    }\n",
       "</style>\n",
       "<table border=\"1\" class=\"dataframe\">\n",
       "  <thead>\n",
       "    <tr style=\"text-align: right;\">\n",
       "      <th></th>\n",
       "      <th>Link_ID</th>\n",
       "      <th>SLA_Date</th>\n",
       "      <th>Last_Mile</th>\n",
       "      <th>Capacity_in_Mbps</th>\n",
       "      <th>Location</th>\n",
       "      <th>MRC_Excl</th>\n",
       "      <th>SLM_Comments</th>\n",
       "      <th>QRC_Incl</th>\n",
       "      <th>SLA_ID</th>\n",
       "      <th>Unique_Link_Identifier_SLA</th>\n",
       "      <th>Service_Provider</th>\n",
       "    </tr>\n",
       "  </thead>\n",
       "  <tbody>\n",
       "    <tr>\n",
       "      <th>0</th>\n",
       "      <td>1750</td>\n",
       "      <td>2020-10-01</td>\n",
       "      <td>Fibre</td>\n",
       "      <td>90</td>\n",
       "      <td>KRA KIXP</td>\n",
       "      <td>270000.0</td>\n",
       "      <td>16/04/2022: Upgraded 90 Mbps @ KES 649,050  -&gt;...</td>\n",
       "      <td>939600.00</td>\n",
       "      <td>2020-10-LTK00</td>\n",
       "      <td>2020-10-LTK00_1750</td>\n",
       "      <td>LTK</td>\n",
       "    </tr>\n",
       "    <tr>\n",
       "      <th>1</th>\n",
       "      <td>5277</td>\n",
       "      <td>2020-10-01</td>\n",
       "      <td>Fibre</td>\n",
       "      <td>75</td>\n",
       "      <td>KRA Customs Hse - Times Tower</td>\n",
       "      <td>179718.0</td>\n",
       "      <td>Not in Invoice/Renamed/Relocated</td>\n",
       "      <td>625418.64</td>\n",
       "      <td>2020-10-LTK00</td>\n",
       "      <td>2020-10-LTK00_5277</td>\n",
       "      <td>LTK</td>\n",
       "    </tr>\n",
       "    <tr>\n",
       "      <th>2</th>\n",
       "      <td>5611</td>\n",
       "      <td>2020-10-01</td>\n",
       "      <td>Fibre</td>\n",
       "      <td>8</td>\n",
       "      <td>KRA AIRPORT CONTAINER DEPOT TO CUSTOMS HSE MSA</td>\n",
       "      <td>20642.5</td>\n",
       "      <td>Okay. No change</td>\n",
       "      <td>71835.90</td>\n",
       "      <td>2020-10-LTK00</td>\n",
       "      <td>2020-10-LTK00_5611</td>\n",
       "      <td>LTK</td>\n",
       "    </tr>\n",
       "    <tr>\n",
       "      <th>3</th>\n",
       "      <td>20103</td>\n",
       "      <td>2020-10-01</td>\n",
       "      <td>Fibre</td>\n",
       "      <td>9</td>\n",
       "      <td>KRA Wilson Airport</td>\n",
       "      <td>22950.0</td>\n",
       "      <td>Okay. No change</td>\n",
       "      <td>79866.00</td>\n",
       "      <td>2020-10-LTK00</td>\n",
       "      <td>2020-10-LTK00_20103</td>\n",
       "      <td>LTK</td>\n",
       "    </tr>\n",
       "    <tr>\n",
       "      <th>4</th>\n",
       "      <td>20954</td>\n",
       "      <td>2020-10-01</td>\n",
       "      <td>Fibre</td>\n",
       "      <td>20</td>\n",
       "      <td>KRA Egerton University Njoro</td>\n",
       "      <td>50000.0</td>\n",
       "      <td>Okay. No change</td>\n",
       "      <td>174000.00</td>\n",
       "      <td>2020-10-LTK00</td>\n",
       "      <td>2020-10-LTK00_20954</td>\n",
       "      <td>LTK</td>\n",
       "    </tr>\n",
       "  </tbody>\n",
       "</table>\n",
       "</div>"
      ],
      "text/plain": [
       "  Link_ID    SLA_Date Last_Mile  Capacity_in_Mbps  \\\n",
       "0    1750  2020-10-01     Fibre                90   \n",
       "1    5277  2020-10-01     Fibre                75   \n",
       "2    5611  2020-10-01     Fibre                 8   \n",
       "3   20103  2020-10-01     Fibre                 9   \n",
       "4   20954  2020-10-01     Fibre                20   \n",
       "\n",
       "                                         Location  MRC_Excl  \\\n",
       "0                                        KRA KIXP  270000.0   \n",
       "1                   KRA Customs Hse - Times Tower  179718.0   \n",
       "2  KRA AIRPORT CONTAINER DEPOT TO CUSTOMS HSE MSA   20642.5   \n",
       "3                              KRA Wilson Airport   22950.0   \n",
       "4                    KRA Egerton University Njoro   50000.0   \n",
       "\n",
       "                                        SLM_Comments   QRC_Incl  \\\n",
       "0  16/04/2022: Upgraded 90 Mbps @ KES 649,050  ->...  939600.00   \n",
       "1                   Not in Invoice/Renamed/Relocated  625418.64   \n",
       "2                                    Okay. No change   71835.90   \n",
       "3                                    Okay. No change   79866.00   \n",
       "4                                    Okay. No change  174000.00   \n",
       "\n",
       "          SLA_ID Unique_Link_Identifier_SLA Service_Provider  \n",
       "0  2020-10-LTK00         2020-10-LTK00_1750              LTK  \n",
       "1  2020-10-LTK00         2020-10-LTK00_5277              LTK  \n",
       "2  2020-10-LTK00         2020-10-LTK00_5611              LTK  \n",
       "3  2020-10-LTK00        2020-10-LTK00_20103              LTK  \n",
       "4  2020-10-LTK00        2020-10-LTK00_20954              LTK  "
      ]
     },
     "execution_count": 8,
     "metadata": {},
     "output_type": "execute_result"
    }
   ],
   "source": [
    "combined_sla.head()\n"
   ]
  },
  {
   "cell_type": "code",
   "execution_count": 20,
   "metadata": {},
   "outputs": [],
   "source": [
    "invoice_aggr = combined_Invoice.groupby('modified_Link_ID').agg({'Total_QRC': 'max'}).reset_index()\n",
    "df_merged = combined_Invoice.merge(invoice_aggr, on = 'modified_Link_ID', how='left')"
   ]
  },
  {
   "cell_type": "code",
   "execution_count": 22,
   "metadata": {},
   "outputs": [
    {
     "data": {
      "text/html": [
       "<div>\n",
       "<style scoped>\n",
       "    .dataframe tbody tr th:only-of-type {\n",
       "        vertical-align: middle;\n",
       "    }\n",
       "\n",
       "    .dataframe tbody tr th {\n",
       "        vertical-align: top;\n",
       "    }\n",
       "\n",
       "    .dataframe thead th {\n",
       "        text-align: right;\n",
       "    }\n",
       "</style>\n",
       "<table border=\"1\" class=\"dataframe\">\n",
       "  <thead>\n",
       "    <tr style=\"text-align: right;\">\n",
       "      <th></th>\n",
       "      <th>Invoice_Date</th>\n",
       "      <th>Link_ID</th>\n",
       "      <th>SLA_Date</th>\n",
       "      <th>Invoice_Period</th>\n",
       "      <th>Invoice_Description</th>\n",
       "      <th>Invoice_Reference</th>\n",
       "      <th>Total_QRC_x</th>\n",
       "      <th>modified_Link_ID</th>\n",
       "      <th>Unique_Link_Identifier_Invoice</th>\n",
       "      <th>Service_Provider</th>\n",
       "      <th>Total_QRC_y</th>\n",
       "    </tr>\n",
       "  </thead>\n",
       "  <tbody>\n",
       "    <tr>\n",
       "      <th>0</th>\n",
       "      <td>2023-10-13</td>\n",
       "      <td>26046</td>\n",
       "      <td>2020-10-01</td>\n",
       "      <td>01-Oct-2023 to 31-Dec-2023</td>\n",
       "      <td>26046 National MPLS KRA MBITA TO VRF (INS-57)</td>\n",
       "      <td>CRN-15473</td>\n",
       "      <td>-55986.24</td>\n",
       "      <td>2020-10-LTK00_26046</td>\n",
       "      <td>CRN-15473_26046_2020</td>\n",
       "      <td>LTK</td>\n",
       "      <td>55986.24</td>\n",
       "    </tr>\n",
       "    <tr>\n",
       "      <th>1</th>\n",
       "      <td>2023-10-06</td>\n",
       "      <td>C-00159-0087</td>\n",
       "      <td>NaN</td>\n",
       "      <td>01-Oct-2023 to 31-Dec-2023</td>\n",
       "      <td>C-00159-0087 EPL Connection charge 80MBPS-&gt;SAM...</td>\n",
       "      <td>116426</td>\n",
       "      <td>417600.00</td>\n",
       "      <td>nan-nan-LTK01_C-00159-0087</td>\n",
       "      <td>116426_C-00159-0087_0</td>\n",
       "      <td>LTK</td>\n",
       "      <td>417600.00</td>\n",
       "    </tr>\n",
       "    <tr>\n",
       "      <th>2</th>\n",
       "      <td>2023-10-06</td>\n",
       "      <td>1750</td>\n",
       "      <td>2020-10-01</td>\n",
       "      <td>01-Oct-2023 to 31-Dec-2023</td>\n",
       "      <td>01750 National MPLS KRA - TIMES TOWERS TO VRF</td>\n",
       "      <td>116426</td>\n",
       "      <td>939600.00</td>\n",
       "      <td>2020-10-LTK00_1750</td>\n",
       "      <td>116426_1750_2020</td>\n",
       "      <td>LTK</td>\n",
       "      <td>939600.00</td>\n",
       "    </tr>\n",
       "    <tr>\n",
       "      <th>3</th>\n",
       "      <td>2023-10-06</td>\n",
       "      <td>5611</td>\n",
       "      <td>2020-10-01</td>\n",
       "      <td>01-Oct-2023 to 31-Dec-2023</td>\n",
       "      <td>05611 National MPLS Msa link vlan 460 customs</td>\n",
       "      <td>116426</td>\n",
       "      <td>71835.90</td>\n",
       "      <td>2020-10-LTK00_5611</td>\n",
       "      <td>116426_5611_2020</td>\n",
       "      <td>LTK</td>\n",
       "      <td>71835.90</td>\n",
       "    </tr>\n",
       "    <tr>\n",
       "      <th>4</th>\n",
       "      <td>2023-10-06</td>\n",
       "      <td>20103</td>\n",
       "      <td>2020-10-01</td>\n",
       "      <td>01-Oct-2023 to 31-Dec-2023</td>\n",
       "      <td>20103 Leased_Circuits_Naticnal KRA WILSON AIRP...</td>\n",
       "      <td>116426</td>\n",
       "      <td>79866.00</td>\n",
       "      <td>2020-10-LTK00_20103</td>\n",
       "      <td>116426_20103_2020</td>\n",
       "      <td>LTK</td>\n",
       "      <td>79866.00</td>\n",
       "    </tr>\n",
       "  </tbody>\n",
       "</table>\n",
       "</div>"
      ],
      "text/plain": [
       "  Invoice_Date       Link_ID    SLA_Date              Invoice_Period  \\\n",
       "0   2023-10-13         26046  2020-10-01  01-Oct-2023 to 31-Dec-2023   \n",
       "1   2023-10-06  C-00159-0087         NaN  01-Oct-2023 to 31-Dec-2023   \n",
       "2   2023-10-06          1750  2020-10-01  01-Oct-2023 to 31-Dec-2023   \n",
       "3   2023-10-06          5611  2020-10-01  01-Oct-2023 to 31-Dec-2023   \n",
       "4   2023-10-06         20103  2020-10-01  01-Oct-2023 to 31-Dec-2023   \n",
       "\n",
       "                                 Invoice_Description Invoice_Reference  \\\n",
       "0      26046 National MPLS KRA MBITA TO VRF (INS-57)         CRN-15473   \n",
       "1  C-00159-0087 EPL Connection charge 80MBPS->SAM...            116426   \n",
       "2      01750 National MPLS KRA - TIMES TOWERS TO VRF            116426   \n",
       "3      05611 National MPLS Msa link vlan 460 customs            116426   \n",
       "4  20103 Leased_Circuits_Naticnal KRA WILSON AIRP...            116426   \n",
       "\n",
       "   Total_QRC_x            modified_Link_ID Unique_Link_Identifier_Invoice  \\\n",
       "0    -55986.24         2020-10-LTK00_26046           CRN-15473_26046_2020   \n",
       "1    417600.00  nan-nan-LTK01_C-00159-0087          116426_C-00159-0087_0   \n",
       "2    939600.00          2020-10-LTK00_1750               116426_1750_2020   \n",
       "3     71835.90          2020-10-LTK00_5611               116426_5611_2020   \n",
       "4     79866.00         2020-10-LTK00_20103              116426_20103_2020   \n",
       "\n",
       "  Service_Provider  Total_QRC_y  \n",
       "0              LTK     55986.24  \n",
       "1              LTK    417600.00  \n",
       "2              LTK    939600.00  \n",
       "3              LTK     71835.90  \n",
       "4              LTK     79866.00  "
      ]
     },
     "execution_count": 22,
     "metadata": {},
     "output_type": "execute_result"
    }
   ],
   "source": [
    "df_merged.head()"
   ]
  },
  {
   "cell_type": "code",
   "execution_count": 18,
   "metadata": {},
   "outputs": [
    {
     "data": {
      "text/html": [
       "<div>\n",
       "<style scoped>\n",
       "    .dataframe tbody tr th:only-of-type {\n",
       "        vertical-align: middle;\n",
       "    }\n",
       "\n",
       "    .dataframe tbody tr th {\n",
       "        vertical-align: top;\n",
       "    }\n",
       "\n",
       "    .dataframe thead th {\n",
       "        text-align: right;\n",
       "    }\n",
       "</style>\n",
       "<table border=\"1\" class=\"dataframe\">\n",
       "  <thead>\n",
       "    <tr style=\"text-align: right;\">\n",
       "      <th></th>\n",
       "      <th>Link_ID</th>\n",
       "      <th>SLA_Date</th>\n",
       "      <th>Last_Mile</th>\n",
       "      <th>Capacity_in_Mbps</th>\n",
       "      <th>Location</th>\n",
       "      <th>MRC_Excl</th>\n",
       "      <th>SLM_Comments</th>\n",
       "      <th>QRC_Incl</th>\n",
       "      <th>SLA_ID</th>\n",
       "      <th>Unique_Link_Identifier_SLA</th>\n",
       "      <th>Service_Provider</th>\n",
       "      <th>Invoice_QRC</th>\n",
       "    </tr>\n",
       "  </thead>\n",
       "  <tbody>\n",
       "    <tr>\n",
       "      <th>0</th>\n",
       "      <td>1750</td>\n",
       "      <td>2020-10-01</td>\n",
       "      <td>Fibre</td>\n",
       "      <td>90</td>\n",
       "      <td>KRA - TIMES TOWERS TO KRA - KIXP (EADC)</td>\n",
       "      <td>270000.0</td>\n",
       "      <td>16/04/2022: Upgraded 90 Mbps @ KES 649,050  -&gt;...</td>\n",
       "      <td>939600.00</td>\n",
       "      <td>2020-10-LTK00</td>\n",
       "      <td>2020-10-LTK00_1750</td>\n",
       "      <td>LTK</td>\n",
       "      <td>55986.24</td>\n",
       "    </tr>\n",
       "    <tr>\n",
       "      <th>1</th>\n",
       "      <td>5277</td>\n",
       "      <td>2020-10-01</td>\n",
       "      <td>Fibre</td>\n",
       "      <td>75</td>\n",
       "      <td>KRA CUSTOMS HSE TO KRA TIMES TOWER</td>\n",
       "      <td>179718.0</td>\n",
       "      <td>Not in Invoice/Renamed/Relocated</td>\n",
       "      <td>625418.64</td>\n",
       "      <td>2020-10-LTK00</td>\n",
       "      <td>2020-10-LTK00_5277</td>\n",
       "      <td>LTK</td>\n",
       "      <td>417600.00</td>\n",
       "    </tr>\n",
       "    <tr>\n",
       "      <th>2</th>\n",
       "      <td>5611</td>\n",
       "      <td>2020-10-01</td>\n",
       "      <td>Fibre</td>\n",
       "      <td>8</td>\n",
       "      <td>KRA AIRPORT CONTAINER DEPOT TO CUSTOMS HSE MSA</td>\n",
       "      <td>20642.5</td>\n",
       "      <td>Okay. No change</td>\n",
       "      <td>71835.90</td>\n",
       "      <td>2020-10-LTK00</td>\n",
       "      <td>2020-10-LTK00_5611</td>\n",
       "      <td>LTK</td>\n",
       "      <td>939600.00</td>\n",
       "    </tr>\n",
       "    <tr>\n",
       "      <th>3</th>\n",
       "      <td>20103</td>\n",
       "      <td>2020-10-01</td>\n",
       "      <td>Fibre</td>\n",
       "      <td>9</td>\n",
       "      <td>KRA Wilson Airport Customs to Times Towers - V...</td>\n",
       "      <td>22950.0</td>\n",
       "      <td>Okay. No change</td>\n",
       "      <td>79866.00</td>\n",
       "      <td>2020-10-LTK00</td>\n",
       "      <td>2020-10-LTK00_20103</td>\n",
       "      <td>LTK</td>\n",
       "      <td>71835.90</td>\n",
       "    </tr>\n",
       "    <tr>\n",
       "      <th>4</th>\n",
       "      <td>20954</td>\n",
       "      <td>2020-10-01</td>\n",
       "      <td>Fibre</td>\n",
       "      <td>20</td>\n",
       "      <td>KRA TIMES TOWERS NBO TO EGERTON UNIVERSITY NJO...</td>\n",
       "      <td>50000.0</td>\n",
       "      <td>Okay. No change</td>\n",
       "      <td>174000.00</td>\n",
       "      <td>2020-10-LTK00</td>\n",
       "      <td>2020-10-LTK00_20954</td>\n",
       "      <td>LTK</td>\n",
       "      <td>79866.00</td>\n",
       "    </tr>\n",
       "  </tbody>\n",
       "</table>\n",
       "</div>"
      ],
      "text/plain": [
       "  Link_ID    SLA_Date Last_Mile  Capacity_in_Mbps  \\\n",
       "0    1750  2020-10-01     Fibre                90   \n",
       "1    5277  2020-10-01     Fibre                75   \n",
       "2    5611  2020-10-01     Fibre                 8   \n",
       "3   20103  2020-10-01     Fibre                 9   \n",
       "4   20954  2020-10-01     Fibre                20   \n",
       "\n",
       "                                            Location  MRC_Excl  \\\n",
       "0            KRA - TIMES TOWERS TO KRA - KIXP (EADC)  270000.0   \n",
       "1                 KRA CUSTOMS HSE TO KRA TIMES TOWER  179718.0   \n",
       "2     KRA AIRPORT CONTAINER DEPOT TO CUSTOMS HSE MSA   20642.5   \n",
       "3  KRA Wilson Airport Customs to Times Towers - V...   22950.0   \n",
       "4  KRA TIMES TOWERS NBO TO EGERTON UNIVERSITY NJO...   50000.0   \n",
       "\n",
       "                                        SLM_Comments   QRC_Incl  \\\n",
       "0  16/04/2022: Upgraded 90 Mbps @ KES 649,050  ->...  939600.00   \n",
       "1                   Not in Invoice/Renamed/Relocated  625418.64   \n",
       "2                                    Okay. No change   71835.90   \n",
       "3                                    Okay. No change   79866.00   \n",
       "4                                    Okay. No change  174000.00   \n",
       "\n",
       "          SLA_ID Unique_Link_Identifier_SLA Service_Provider  Invoice_QRC  \n",
       "0  2020-10-LTK00         2020-10-LTK00_1750              LTK     55986.24  \n",
       "1  2020-10-LTK00         2020-10-LTK00_5277              LTK    417600.00  \n",
       "2  2020-10-LTK00         2020-10-LTK00_5611              LTK    939600.00  \n",
       "3  2020-10-LTK00        2020-10-LTK00_20103              LTK     71835.90  \n",
       "4  2020-10-LTK00        2020-10-LTK00_20954              LTK     79866.00  "
      ]
     },
     "execution_count": 18,
     "metadata": {},
     "output_type": "execute_result"
    }
   ],
   "source": [
    "combined_sla.head()"
   ]
  },
  {
   "cell_type": "code",
   "execution_count": 19,
   "metadata": {},
   "outputs": [
    {
     "name": "stdout",
     "output_type": "stream",
     "text": [
      "  key  value  value2\n",
      "0   A      1     NaN\n",
      "1   B      2    20.0\n",
      "2   C      3     NaN\n",
      "3   D      4    30.0\n"
     ]
    }
   ],
   "source": [
    "import pandas as pd\n",
    "\n",
    "# Sample data\n",
    "df1 = pd.DataFrame({'key': ['A', 'B', 'C', 'D'],\n",
    "                    'value': [1, 2, 3, 4]})\n",
    "df2 = pd.DataFrame({'key': ['B', 'B', 'D', 'F'],\n",
    "                    'value2': [10, 20, 30, 40]})\n",
    "\n",
    "# Group and aggregate df2 to get max value\n",
    "grouped_df2 = df2.groupby('key').agg({'value2': 'max'}).reset_index()\n",
    "\n",
    "# Merge based on 'key' column\n",
    "merged_df = pd.merge(df1, grouped_df2, on='key', how='left')\n",
    "\n",
    "print(merged_df)"
   ]
  },
  {
   "cell_type": "code",
   "execution_count": 13,
   "metadata": {},
   "outputs": [
    {
     "data": {
      "text/plain": [
       "0     2020\n",
       "1     2020\n",
       "2     2020\n",
       "3     2020\n",
       "4     2020\n",
       "      ... \n",
       "80    2023\n",
       "81    2023\n",
       "82    2023\n",
       "83    2023\n",
       "84    2023\n",
       "Name: SLA_Date, Length: 85, dtype: object"
      ]
     },
     "execution_count": 13,
     "metadata": {},
     "output_type": "execute_result"
    }
   ],
   "source": [
    "import math\n",
    "year = pd.to_datetime(combined_sla['SLA_Date']).dt.year.fillna(0).astype(int).astype(str).replace('0','0000')\n",
    "year"
   ]
  },
  {
   "cell_type": "code",
   "execution_count": 10,
   "metadata": {},
   "outputs": [
    {
     "name": "stdout",
     "output_type": "stream",
     "text": [
      "     SLA_Date  Year\n",
      "0  2022-01-15  2022\n",
      "1  2023-02-20  2023\n",
      "2        <NA>  0000\n",
      "3  2024-04-10  2024\n"
     ]
    }
   ],
   "source": [
    "import pandas as pd\n",
    "\n",
    "# Sample data\n",
    "data = {'SLA_Date': ['2022-01-15', '2023-02-20', pd.NA, '2024-04-10']}\n",
    "df = pd.DataFrame(data)\n",
    "\n",
    "# Convert to datetime, extract year, convert to string, fillna with '0000'\n",
    "df['Year'] = pd.to_datetime(df['SLA_Date']).dt.year.fillna(0).astype(int).astype(str).replace('0','0000')\n",
    "\n",
    "print(df)\n"
   ]
  },
  {
   "cell_type": "code",
   "execution_count": 14,
   "metadata": {},
   "outputs": [],
   "source": [
    "x = 5"
   ]
  },
  {
   "cell_type": "code",
   "execution_count": 44,
   "metadata": {},
   "outputs": [],
   "source": [
    "def Invoice_p_pro(prd):\n",
    "    prd_col = pd.to_datetime(prd.split(' ')[0])\n",
    "    year = prd_col.year\n",
    "    month = prd_col.month\n",
    "\n",
    "    if month >= 1 and month <= 3:\n",
    "        quarter ='Q3'\n",
    "    elif month >= 4 & month <= 6:\n",
    "        quarter = 'Q4'\n",
    "    elif month >= 7 & month <= 9:\n",
    "        quarter = 'Q1'\n",
    "    elif month >= 10 & month <= 12:\n",
    "        quarter = 'Q2'\n",
    "    else:\n",
    "        quarter = 'Unknown'\n",
    "    \n",
    "    #Fyr\n",
    "    if month >= 1 & month <= 6:\n",
    "        fyr = f'Fyr {year-1}/{str(year)[-2:]}'\n",
    "    elif month >= 7 & month <= 12:\n",
    "        fyr = f'Fyr {year}/{str(year+1)[-2:]}'\n",
    "    else:\n",
    "        fyr = 'unkown'\n",
    "\n",
    "    return quarter,fyr\n",
    "\n",
    "x,y = combined_Invoice['Invoice_Period'].apply(Invoice_p_pro).apply(pd.Series)"
   ]
  },
  {
   "cell_type": "code",
   "execution_count": 47,
   "metadata": {},
   "outputs": [
    {
     "data": {
      "text/plain": [
       "1"
      ]
     },
     "execution_count": 47,
     "metadata": {},
     "output_type": "execute_result"
    }
   ],
   "source": [
    "y"
   ]
  },
  {
   "cell_type": "code",
   "execution_count": 32,
   "metadata": {},
   "outputs": [
    {
     "ename": "ValueError",
     "evalue": "The truth value of a Series is ambiguous. Use a.empty, a.bool(), a.item(), a.any() or a.all().",
     "output_type": "error",
     "traceback": [
      "\u001b[1;31m---------------------------------------------------------------------------\u001b[0m",
      "\u001b[1;31mValueError\u001b[0m                                Traceback (most recent call last)",
      "\u001b[1;32m~\\AppData\\Local\\Temp\\ipykernel_16320\\3145383896.py\u001b[0m in \u001b[0;36m?\u001b[1;34m()\u001b[0m\n\u001b[0;32m      1\u001b[0m \u001b[0mpr_col\u001b[0m \u001b[1;33m=\u001b[0m \u001b[0mpd\u001b[0m\u001b[1;33m.\u001b[0m\u001b[0mto_datetime\u001b[0m\u001b[1;33m(\u001b[0m\u001b[0mcombined_Invoice\u001b[0m\u001b[1;33m[\u001b[0m\u001b[1;34m'Invoice_Period'\u001b[0m\u001b[1;33m]\u001b[0m\u001b[1;33m.\u001b[0m\u001b[0mstr\u001b[0m\u001b[1;33m.\u001b[0m\u001b[0msplit\u001b[0m\u001b[1;33m(\u001b[0m\u001b[1;34m' '\u001b[0m\u001b[1;33m,\u001b[0m \u001b[0mexpand\u001b[0m\u001b[1;33m=\u001b[0m\u001b[1;32mTrue\u001b[0m\u001b[1;33m)\u001b[0m\u001b[1;33m[\u001b[0m\u001b[1;36m0\u001b[0m\u001b[1;33m]\u001b[0m\u001b[1;33m)\u001b[0m\u001b[1;33m\u001b[0m\u001b[1;33m\u001b[0m\u001b[0m\n\u001b[0;32m      2\u001b[0m \u001b[0myear\u001b[0m \u001b[1;33m=\u001b[0m \u001b[0mpr_col\u001b[0m\u001b[1;33m.\u001b[0m\u001b[0mdt\u001b[0m\u001b[1;33m.\u001b[0m\u001b[0myear\u001b[0m\u001b[1;33m\u001b[0m\u001b[1;33m\u001b[0m\u001b[0m\n\u001b[0;32m      3\u001b[0m \u001b[0mmonth\u001b[0m \u001b[1;33m=\u001b[0m \u001b[0mpr_col\u001b[0m\u001b[1;33m.\u001b[0m\u001b[0mdt\u001b[0m\u001b[1;33m.\u001b[0m\u001b[0mmonth\u001b[0m\u001b[1;33m\u001b[0m\u001b[1;33m\u001b[0m\u001b[0m\n\u001b[1;32m----> 4\u001b[1;33m \u001b[1;32mif\u001b[0m \u001b[0mmonth\u001b[0m \u001b[1;33m>=\u001b[0m \u001b[1;36m1\u001b[0m \u001b[1;32mand\u001b[0m \u001b[0mmonth\u001b[0m \u001b[1;33m<=\u001b[0m \u001b[1;36m3\u001b[0m\u001b[1;33m:\u001b[0m\u001b[1;33m\u001b[0m\u001b[1;33m\u001b[0m\u001b[0m\n\u001b[0m\u001b[0;32m      5\u001b[0m     \u001b[0mquarter\u001b[0m \u001b[1;33m=\u001b[0m\u001b[1;34m'Q3'\u001b[0m\u001b[1;33m\u001b[0m\u001b[1;33m\u001b[0m\u001b[0m\n\u001b[0;32m      6\u001b[0m \u001b[1;32melif\u001b[0m \u001b[0mmonth\u001b[0m \u001b[1;33m>=\u001b[0m \u001b[1;36m4\u001b[0m \u001b[1;33m&\u001b[0m \u001b[0mmonth\u001b[0m \u001b[1;33m<=\u001b[0m \u001b[1;36m6\u001b[0m\u001b[1;33m:\u001b[0m\u001b[1;33m\u001b[0m\u001b[1;33m\u001b[0m\u001b[0m\n\u001b[0;32m      7\u001b[0m     \u001b[0mquarter\u001b[0m \u001b[1;33m=\u001b[0m \u001b[1;34m'Q4'\u001b[0m\u001b[1;33m\u001b[0m\u001b[1;33m\u001b[0m\u001b[0m\n",
      "\u001b[1;32mc:\\Users\\USER\\anaconda3\\envs\\Python_Dev\\lib\\site-packages\\pandas\\core\\generic.py\u001b[0m in \u001b[0;36m?\u001b[1;34m(self)\u001b[0m\n\u001b[0;32m   1517\u001b[0m     \u001b[1;33m@\u001b[0m\u001b[0mfinal\u001b[0m\u001b[1;33m\u001b[0m\u001b[1;33m\u001b[0m\u001b[0m\n\u001b[0;32m   1518\u001b[0m     \u001b[1;32mdef\u001b[0m \u001b[0m__nonzero__\u001b[0m\u001b[1;33m(\u001b[0m\u001b[0mself\u001b[0m\u001b[1;33m)\u001b[0m \u001b[1;33m->\u001b[0m \u001b[0mNoReturn\u001b[0m\u001b[1;33m:\u001b[0m\u001b[1;33m\u001b[0m\u001b[1;33m\u001b[0m\u001b[0m\n\u001b[1;32m-> 1519\u001b[1;33m         raise ValueError(\n\u001b[0m\u001b[0;32m   1520\u001b[0m             \u001b[1;34mf\"The truth value of a {type(self).__name__} is ambiguous. \"\u001b[0m\u001b[1;33m\u001b[0m\u001b[1;33m\u001b[0m\u001b[0m\n\u001b[0;32m   1521\u001b[0m             \u001b[1;34m\"Use a.empty, a.bool(), a.item(), a.any() or a.all().\"\u001b[0m\u001b[1;33m\u001b[0m\u001b[1;33m\u001b[0m\u001b[0m\n\u001b[0;32m   1522\u001b[0m         )\n",
      "\u001b[1;31mValueError\u001b[0m: The truth value of a Series is ambiguous. Use a.empty, a.bool(), a.item(), a.any() or a.all()."
     ]
    }
   ],
   "source": [
    "pr_col = pd.to_datetime(combined_Invoice['Invoice_Period'].str.split(' ', expand=True)[0])\n",
    "year = pr_col.dt.year\n",
    "month = pr_col.dt.month\n",
    "if month >= 1 and month <= 3:\n",
    "    quarter ='Q3'\n",
    "elif month >= 4 & month <= 6:\n",
    "    quarter = 'Q4'\n",
    "elif month >= 7 & month <= 9:\n",
    "    quarter = 'Q1'\n",
    "elif month >= 10 & month <= 12:\n",
    "    quarter = 'Q2'\n",
    "else:\n",
    "    quarter = 'Unknown'"
   ]
  },
  {
   "cell_type": "code",
   "execution_count": 33,
   "metadata": {},
   "outputs": [
    {
     "ename": "ValueError",
     "evalue": "The truth value of a Series is ambiguous. Use a.empty, a.bool(), a.item(), a.any() or a.all().",
     "output_type": "error",
     "traceback": [
      "\u001b[1;31m---------------------------------------------------------------------------\u001b[0m",
      "\u001b[1;31mValueError\u001b[0m                                Traceback (most recent call last)",
      "\u001b[1;32m~\\AppData\\Local\\Temp\\ipykernel_16320\\3201024057.py\u001b[0m in \u001b[0;36m?\u001b[1;34m()\u001b[0m\n\u001b[1;32m----> 1\u001b[1;33m \u001b[1;32mif\u001b[0m \u001b[0mmonth\u001b[0m \u001b[1;33m>=\u001b[0m \u001b[1;36m1\u001b[0m \u001b[1;32mand\u001b[0m \u001b[0mmonth\u001b[0m \u001b[1;33m<=\u001b[0m \u001b[1;36m3\u001b[0m\u001b[1;33m:\u001b[0m\u001b[1;33m\u001b[0m\u001b[1;33m\u001b[0m\u001b[0m\n\u001b[0m\u001b[0;32m      2\u001b[0m     \u001b[0mquarter\u001b[0m \u001b[1;33m=\u001b[0m \u001b[1;34m'Q3'\u001b[0m\u001b[1;33m\u001b[0m\u001b[1;33m\u001b[0m\u001b[0m\n\u001b[0;32m      3\u001b[0m \u001b[1;32melif\u001b[0m \u001b[0mmonth\u001b[0m \u001b[1;33m>=\u001b[0m \u001b[1;36m4\u001b[0m \u001b[1;32mand\u001b[0m \u001b[0mmonth\u001b[0m \u001b[1;33m<=\u001b[0m \u001b[1;36m6\u001b[0m\u001b[1;33m:\u001b[0m\u001b[1;33m\u001b[0m\u001b[1;33m\u001b[0m\u001b[0m\n\u001b[0;32m      4\u001b[0m     \u001b[0mquarter\u001b[0m \u001b[1;33m=\u001b[0m \u001b[1;34m'Q4'\u001b[0m\u001b[1;33m\u001b[0m\u001b[1;33m\u001b[0m\u001b[0m\n",
      "\u001b[1;32mc:\\Users\\USER\\anaconda3\\envs\\Python_Dev\\lib\\site-packages\\pandas\\core\\generic.py\u001b[0m in \u001b[0;36m?\u001b[1;34m(self)\u001b[0m\n\u001b[0;32m   1517\u001b[0m     \u001b[1;33m@\u001b[0m\u001b[0mfinal\u001b[0m\u001b[1;33m\u001b[0m\u001b[1;33m\u001b[0m\u001b[0m\n\u001b[0;32m   1518\u001b[0m     \u001b[1;32mdef\u001b[0m \u001b[0m__nonzero__\u001b[0m\u001b[1;33m(\u001b[0m\u001b[0mself\u001b[0m\u001b[1;33m)\u001b[0m \u001b[1;33m->\u001b[0m \u001b[0mNoReturn\u001b[0m\u001b[1;33m:\u001b[0m\u001b[1;33m\u001b[0m\u001b[1;33m\u001b[0m\u001b[0m\n\u001b[1;32m-> 1519\u001b[1;33m         raise ValueError(\n\u001b[0m\u001b[0;32m   1520\u001b[0m             \u001b[1;34mf\"The truth value of a {type(self).__name__} is ambiguous. \"\u001b[0m\u001b[1;33m\u001b[0m\u001b[1;33m\u001b[0m\u001b[0m\n\u001b[0;32m   1521\u001b[0m             \u001b[1;34m\"Use a.empty, a.bool(), a.item(), a.any() or a.all().\"\u001b[0m\u001b[1;33m\u001b[0m\u001b[1;33m\u001b[0m\u001b[0m\n\u001b[0;32m   1522\u001b[0m         )\n",
      "\u001b[1;31mValueError\u001b[0m: The truth value of a Series is ambiguous. Use a.empty, a.bool(), a.item(), a.any() or a.all()."
     ]
    }
   ],
   "source": [
    "if month >= 1 and month <= 3:\n",
    "    quarter = 'Q3'\n",
    "elif month >= 4 and month <= 6:\n",
    "    quarter = 'Q4'\n",
    "elif month >= 7 and month <= 9:\n",
    "    quarter = 'Q1'\n",
    "elif month >= 10 and month <= 12:\n",
    "    quarter = 'Q2'\n",
    "else:\n",
    "    quarter = 'Unknown'\n"
   ]
  },
  {
   "cell_type": "code",
   "execution_count": 49,
   "metadata": {},
   "outputs": [
    {
     "name": "stdout",
     "output_type": "stream",
     "text": [
      "               Invoice_Period Quarter Financial_Year\n",
      "0  01-Oct-2023 to 31-Dec-2023      Q2    Fyr 2023/24\n",
      "1  01-Oct-2023 to 31-Dec-2023      Q2    Fyr 2023/24\n",
      "2  01-Oct-2023 to 31-Dec-2023      Q2    Fyr 2023/24\n",
      "3  01-Oct-2023 to 31-Dec-2023      Q2    Fyr 2023/24\n",
      "4  01-Oct-2023 to 31-Dec-2023      Q2    Fyr 2023/24\n"
     ]
    },
    {
     "data": {
      "text/html": [
       "<div>\n",
       "<style scoped>\n",
       "    .dataframe tbody tr th:only-of-type {\n",
       "        vertical-align: middle;\n",
       "    }\n",
       "\n",
       "    .dataframe tbody tr th {\n",
       "        vertical-align: top;\n",
       "    }\n",
       "\n",
       "    .dataframe thead th {\n",
       "        text-align: right;\n",
       "    }\n",
       "</style>\n",
       "<table border=\"1\" class=\"dataframe\">\n",
       "  <thead>\n",
       "    <tr style=\"text-align: right;\">\n",
       "      <th></th>\n",
       "      <th>Invoice_Date</th>\n",
       "      <th>Link_ID</th>\n",
       "      <th>SLA_Date</th>\n",
       "      <th>Invoice_Period</th>\n",
       "      <th>Invoice_Description</th>\n",
       "      <th>Invoice_Reference</th>\n",
       "      <th>Total_QRC</th>\n",
       "      <th>modified_Link_ID</th>\n",
       "      <th>Unique_Link_Identifier_Invoice</th>\n",
       "      <th>Service_Provider</th>\n",
       "      <th>Quarter</th>\n",
       "      <th>Financial_Year</th>\n",
       "    </tr>\n",
       "  </thead>\n",
       "  <tbody>\n",
       "    <tr>\n",
       "      <th>0</th>\n",
       "      <td>2023-10-13</td>\n",
       "      <td>26046</td>\n",
       "      <td>2020-10-01</td>\n",
       "      <td>01-Oct-2023 to 31-Dec-2023</td>\n",
       "      <td>26046 National MPLS KRA MBITA TO VRF (INS-57)</td>\n",
       "      <td>CRN-15473</td>\n",
       "      <td>-55986.2400</td>\n",
       "      <td>2020-10-LTK00_26046</td>\n",
       "      <td>CRN-15473_26046_2020</td>\n",
       "      <td>LTK</td>\n",
       "      <td>Q2</td>\n",
       "      <td>Fyr 2023/24</td>\n",
       "    </tr>\n",
       "    <tr>\n",
       "      <th>1</th>\n",
       "      <td>2023-10-06</td>\n",
       "      <td>C-00159-0087</td>\n",
       "      <td>NaN</td>\n",
       "      <td>01-Oct-2023 to 31-Dec-2023</td>\n",
       "      <td>C-00159-0087 EPL Connection charge 80MBPS-&gt;SAM...</td>\n",
       "      <td>116426</td>\n",
       "      <td>417600.0000</td>\n",
       "      <td>nan-nan-LTK01_C-00159-0087</td>\n",
       "      <td>116426_C-00159-0087_0</td>\n",
       "      <td>LTK</td>\n",
       "      <td>Q2</td>\n",
       "      <td>Fyr 2023/24</td>\n",
       "    </tr>\n",
       "    <tr>\n",
       "      <th>2</th>\n",
       "      <td>2023-10-06</td>\n",
       "      <td>1750</td>\n",
       "      <td>2020-10-01</td>\n",
       "      <td>01-Oct-2023 to 31-Dec-2023</td>\n",
       "      <td>01750 National MPLS KRA - TIMES TOWERS TO VRF</td>\n",
       "      <td>116426</td>\n",
       "      <td>939600.0000</td>\n",
       "      <td>2020-10-LTK00_1750</td>\n",
       "      <td>116426_1750_2020</td>\n",
       "      <td>LTK</td>\n",
       "      <td>Q2</td>\n",
       "      <td>Fyr 2023/24</td>\n",
       "    </tr>\n",
       "    <tr>\n",
       "      <th>3</th>\n",
       "      <td>2023-10-06</td>\n",
       "      <td>5611</td>\n",
       "      <td>2020-10-01</td>\n",
       "      <td>01-Oct-2023 to 31-Dec-2023</td>\n",
       "      <td>05611 National MPLS Msa link vlan 460 customs</td>\n",
       "      <td>116426</td>\n",
       "      <td>71835.9000</td>\n",
       "      <td>2020-10-LTK00_5611</td>\n",
       "      <td>116426_5611_2020</td>\n",
       "      <td>LTK</td>\n",
       "      <td>Q2</td>\n",
       "      <td>Fyr 2023/24</td>\n",
       "    </tr>\n",
       "    <tr>\n",
       "      <th>4</th>\n",
       "      <td>2023-10-06</td>\n",
       "      <td>20103</td>\n",
       "      <td>2020-10-01</td>\n",
       "      <td>01-Oct-2023 to 31-Dec-2023</td>\n",
       "      <td>20103 Leased_Circuits_Naticnal KRA WILSON AIRP...</td>\n",
       "      <td>116426</td>\n",
       "      <td>79866.0000</td>\n",
       "      <td>2020-10-LTK00_20103</td>\n",
       "      <td>116426_20103_2020</td>\n",
       "      <td>LTK</td>\n",
       "      <td>Q2</td>\n",
       "      <td>Fyr 2023/24</td>\n",
       "    </tr>\n",
       "    <tr>\n",
       "      <th>...</th>\n",
       "      <td>...</td>\n",
       "      <td>...</td>\n",
       "      <td>...</td>\n",
       "      <td>...</td>\n",
       "      <td>...</td>\n",
       "      <td>...</td>\n",
       "      <td>...</td>\n",
       "      <td>...</td>\n",
       "      <td>...</td>\n",
       "      <td>...</td>\n",
       "      <td>...</td>\n",
       "      <td>...</td>\n",
       "    </tr>\n",
       "    <tr>\n",
       "      <th>80</th>\n",
       "      <td>2023-10-01</td>\n",
       "      <td>95096538</td>\n",
       "      <td>2020-12-16</td>\n",
       "      <td>01-Oct-2023 to 31-Dec-2023</td>\n",
       "      <td>KRA BUSIA-WIMAX</td>\n",
       "      <td>B1-10096515502</td>\n",
       "      <td>280173.2166</td>\n",
       "      <td>2020-12-Saf00_95096538</td>\n",
       "      <td>B1-10096515502_95096538_2020</td>\n",
       "      <td>Saf</td>\n",
       "      <td>Q2</td>\n",
       "      <td>Fyr 2023/24</td>\n",
       "    </tr>\n",
       "    <tr>\n",
       "      <th>81</th>\n",
       "      <td>2023-10-01</td>\n",
       "      <td>95096538</td>\n",
       "      <td>2023-10-01</td>\n",
       "      <td>01-Oct-2023 to 31-Dec-2023</td>\n",
       "      <td>KRA BUSIA-WIMAX</td>\n",
       "      <td>B1-10096515502</td>\n",
       "      <td>280173.2166</td>\n",
       "      <td>2023-10-Saf01_95096538</td>\n",
       "      <td>B1-10096515502_95096538_2023</td>\n",
       "      <td>Saf</td>\n",
       "      <td>Q2</td>\n",
       "      <td>Fyr 2023/24</td>\n",
       "    </tr>\n",
       "    <tr>\n",
       "      <th>82</th>\n",
       "      <td>2023-10-01</td>\n",
       "      <td>95096687</td>\n",
       "      <td>2020-12-16</td>\n",
       "      <td>01-Oct-2023 to 31-Dec-2023</td>\n",
       "      <td>KRA CUSTOMS OFFICE-  NAIROBI-NAMANGA WIMAX</td>\n",
       "      <td>B1-10096515502</td>\n",
       "      <td>280129.9950</td>\n",
       "      <td>2020-12-Saf00_95096687</td>\n",
       "      <td>B1-10096515502_95096687_2020</td>\n",
       "      <td>Saf</td>\n",
       "      <td>Q2</td>\n",
       "      <td>Fyr 2023/24</td>\n",
       "    </tr>\n",
       "    <tr>\n",
       "      <th>83</th>\n",
       "      <td>2023-10-01</td>\n",
       "      <td>95096716</td>\n",
       "      <td>2020-12-16</td>\n",
       "      <td>01-Oct-2023 to 31-Dec-2023</td>\n",
       "      <td>KRA ISEBANIA-WIMAX</td>\n",
       "      <td>B1-10096515502</td>\n",
       "      <td>294887.7702</td>\n",
       "      <td>2020-12-Saf00_95096716</td>\n",
       "      <td>B1-10096515502_95096716_2020</td>\n",
       "      <td>Saf</td>\n",
       "      <td>Q2</td>\n",
       "      <td>Fyr 2023/24</td>\n",
       "    </tr>\n",
       "    <tr>\n",
       "      <th>84</th>\n",
       "      <td>2023-10-01</td>\n",
       "      <td>95096873</td>\n",
       "      <td>2020-12-16</td>\n",
       "      <td>01-Oct-2023 to 31-Dec-2023</td>\n",
       "      <td>KRA LUNGA LUNGA WIMAX</td>\n",
       "      <td>B1-10096515502</td>\n",
       "      <td>280129.9950</td>\n",
       "      <td>2020-12-Saf00_95096873</td>\n",
       "      <td>B1-10096515502_95096873_2020</td>\n",
       "      <td>Saf</td>\n",
       "      <td>Q2</td>\n",
       "      <td>Fyr 2023/24</td>\n",
       "    </tr>\n",
       "  </tbody>\n",
       "</table>\n",
       "<p>85 rows × 12 columns</p>\n",
       "</div>"
      ],
      "text/plain": [
       "   Invoice_Date       Link_ID    SLA_Date              Invoice_Period  \\\n",
       "0    2023-10-13         26046  2020-10-01  01-Oct-2023 to 31-Dec-2023   \n",
       "1    2023-10-06  C-00159-0087         NaN  01-Oct-2023 to 31-Dec-2023   \n",
       "2    2023-10-06          1750  2020-10-01  01-Oct-2023 to 31-Dec-2023   \n",
       "3    2023-10-06          5611  2020-10-01  01-Oct-2023 to 31-Dec-2023   \n",
       "4    2023-10-06         20103  2020-10-01  01-Oct-2023 to 31-Dec-2023   \n",
       "..          ...           ...         ...                         ...   \n",
       "80   2023-10-01      95096538  2020-12-16  01-Oct-2023 to 31-Dec-2023   \n",
       "81   2023-10-01      95096538  2023-10-01  01-Oct-2023 to 31-Dec-2023   \n",
       "82   2023-10-01      95096687  2020-12-16  01-Oct-2023 to 31-Dec-2023   \n",
       "83   2023-10-01      95096716  2020-12-16  01-Oct-2023 to 31-Dec-2023   \n",
       "84   2023-10-01      95096873  2020-12-16  01-Oct-2023 to 31-Dec-2023   \n",
       "\n",
       "                                  Invoice_Description Invoice_Reference  \\\n",
       "0       26046 National MPLS KRA MBITA TO VRF (INS-57)         CRN-15473   \n",
       "1   C-00159-0087 EPL Connection charge 80MBPS->SAM...            116426   \n",
       "2       01750 National MPLS KRA - TIMES TOWERS TO VRF            116426   \n",
       "3       05611 National MPLS Msa link vlan 460 customs            116426   \n",
       "4   20103 Leased_Circuits_Naticnal KRA WILSON AIRP...            116426   \n",
       "..                                                ...               ...   \n",
       "80                                    KRA BUSIA-WIMAX    B1-10096515502   \n",
       "81                                    KRA BUSIA-WIMAX    B1-10096515502   \n",
       "82         KRA CUSTOMS OFFICE-  NAIROBI-NAMANGA WIMAX    B1-10096515502   \n",
       "83                                 KRA ISEBANIA-WIMAX    B1-10096515502   \n",
       "84                              KRA LUNGA LUNGA WIMAX    B1-10096515502   \n",
       "\n",
       "      Total_QRC            modified_Link_ID Unique_Link_Identifier_Invoice  \\\n",
       "0   -55986.2400         2020-10-LTK00_26046           CRN-15473_26046_2020   \n",
       "1   417600.0000  nan-nan-LTK01_C-00159-0087          116426_C-00159-0087_0   \n",
       "2   939600.0000          2020-10-LTK00_1750               116426_1750_2020   \n",
       "3    71835.9000          2020-10-LTK00_5611               116426_5611_2020   \n",
       "4    79866.0000         2020-10-LTK00_20103              116426_20103_2020   \n",
       "..          ...                         ...                            ...   \n",
       "80  280173.2166      2020-12-Saf00_95096538   B1-10096515502_95096538_2020   \n",
       "81  280173.2166      2023-10-Saf01_95096538   B1-10096515502_95096538_2023   \n",
       "82  280129.9950      2020-12-Saf00_95096687   B1-10096515502_95096687_2020   \n",
       "83  294887.7702      2020-12-Saf00_95096716   B1-10096515502_95096716_2020   \n",
       "84  280129.9950      2020-12-Saf00_95096873   B1-10096515502_95096873_2020   \n",
       "\n",
       "   Service_Provider Quarter Financial_Year  \n",
       "0               LTK      Q2    Fyr 2023/24  \n",
       "1               LTK      Q2    Fyr 2023/24  \n",
       "2               LTK      Q2    Fyr 2023/24  \n",
       "3               LTK      Q2    Fyr 2023/24  \n",
       "4               LTK      Q2    Fyr 2023/24  \n",
       "..              ...     ...            ...  \n",
       "80              Saf      Q2    Fyr 2023/24  \n",
       "81              Saf      Q2    Fyr 2023/24  \n",
       "82              Saf      Q2    Fyr 2023/24  \n",
       "83              Saf      Q2    Fyr 2023/24  \n",
       "84              Saf      Q2    Fyr 2023/24  \n",
       "\n",
       "[85 rows x 12 columns]"
      ]
     },
     "execution_count": 49,
     "metadata": {},
     "output_type": "execute_result"
    }
   ],
   "source": [
    "import pandas as pd\n",
    "\n",
    "def Invoice_p_pro(prd):\n",
    "    prd_col = pd.to_datetime(prd.split(' ')[0])\n",
    "    year = prd_col.year\n",
    "    month = prd_col.month\n",
    "\n",
    "    if month >= 1 and month <= 3:\n",
    "        quarter = 'Q3'\n",
    "    elif month >= 4 and month <= 6:\n",
    "        quarter = 'Q4'\n",
    "    elif month >= 7 and month <= 9:\n",
    "        quarter = 'Q1'\n",
    "    elif month >= 10 and month <= 12:\n",
    "        quarter = 'Q2'\n",
    "    else:\n",
    "        quarter = 'Unknown'\n",
    "    \n",
    "    # Financial Year\n",
    "    if month >= 1 and month <= 6:\n",
    "        fyr = f'Fyr {year-1}/{str(year)[-2:]}'\n",
    "    elif month >= 7 and month <= 12:\n",
    "        fyr = f'Fyr {year}/{str(year+1)[-2:]}'\n",
    "    else:\n",
    "        fyr = 'Unknown'\n",
    "\n",
    "    return quarter, fyr\n",
    "\n",
    "# Applying the function to the DataFrame column\n",
    "combined_Invoice[['Quarter', 'Financial_Year']] = combined_Invoice['Invoice_Period'].apply(Invoice_p_pro).apply(pd.Series)\n",
    "\n",
    "# Check the resulting DataFrame\n",
    "print(combined_Invoice[['Invoice_Period', 'Quarter', 'Financial_Year']].head())\n",
    "\n",
    "\n",
    "combined_Invoice"
   ]
  },
  {
   "cell_type": "markdown",
   "metadata": {},
   "source": [
    "##### Locations Processing "
   ]
  },
  {
   "cell_type": "code",
   "execution_count": 2,
   "metadata": {},
   "outputs": [],
   "source": [
    "import pandas as pd\n",
    "import numpy as np\n",
    "import plotly\n",
    "import matplotlib.pyplot as plt\n"
   ]
  },
  {
   "cell_type": "code",
   "execution_count": 17,
   "metadata": {},
   "outputs": [],
   "source": [
    "locs = pd.read_json('C:\\\\Users\\\\USER\\\\OneDrive\\\\KRA WORK\\\\2024 WS\\\\SLA EDA\\\\SLA_ETL\\\\KRA Stations.json')"
   ]
  },
  {
   "cell_type": "code",
   "execution_count": 30,
   "metadata": {},
   "outputs": [],
   "source": [
    "keys = list(locs['markers'][0].keys())  # Column Names \n",
    "location_df = {}\n",
    "for col,val in locs['markers'].items():\n",
    "    if col in location_df.keys():\n",
    "        location_df[col].append(val)\n",
    "    else:\n",
    "        location_df[col] = val\n"
   ]
  },
  {
   "cell_type": "code",
   "execution_count": 37,
   "metadata": {},
   "outputs": [
    {
     "ename": "AttributeError",
     "evalue": "'str' object has no attribute 'append'",
     "output_type": "error",
     "traceback": [
      "\u001b[1;31m---------------------------------------------------------------------------\u001b[0m",
      "\u001b[1;31mAttributeError\u001b[0m                            Traceback (most recent call last)",
      "Cell \u001b[1;32mIn[37], line 5\u001b[0m\n\u001b[0;32m      3\u001b[0m \u001b[38;5;28;01mfor\u001b[39;00m col, val \u001b[38;5;129;01min\u001b[39;00m row\u001b[38;5;241m.\u001b[39mitems():\n\u001b[0;32m      4\u001b[0m     \u001b[38;5;28;01mif\u001b[39;00m col \u001b[38;5;129;01min\u001b[39;00m location_df\u001b[38;5;241m.\u001b[39mkeys():\n\u001b[1;32m----> 5\u001b[0m         \u001b[43mlocation_df\u001b[49m\u001b[43m[\u001b[49m\u001b[43mcol\u001b[49m\u001b[43m]\u001b[49m\u001b[38;5;241;43m.\u001b[39;49m\u001b[43mappend\u001b[49m(val)\n\u001b[0;32m      6\u001b[0m     \u001b[38;5;28;01melse\u001b[39;00m:\n\u001b[0;32m      7\u001b[0m         location_df[col] \u001b[38;5;241m=\u001b[39m val\n",
      "\u001b[1;31mAttributeError\u001b[0m: 'str' object has no attribute 'append'"
     ]
    }
   ],
   "source": [
    "location_df = {}\n",
    "for row in locs['markers']:\n",
    "    for col, val in row.items():\n",
    "        if col in location_df.keys():\n",
    "            location_df[col].append(val)\n",
    "        else:\n",
    "            location_df[col] = val"
   ]
  },
  {
   "cell_type": "code",
   "execution_count": 31,
   "metadata": {},
   "outputs": [
    {
     "data": {
      "text/plain": [
       "{0: {'latitude': '-1.290278',\n",
       "  'longitude': '36.8217003',\n",
       "  'shopaddress': 'Head Quarters\\r\\nBox. 48240 - 00100.\\r\\nTel. +254 20 281 0000',\n",
       "  'shopemailaddress': 'mauriceterer@gmail.com',\n",
       "  'shopname': 'Nairobi - Times Tower Building',\n",
       "  'shopphonenumber': '+254 20 281 0000',\n",
       "  'type': 'office',\n",
       "  'weekdayclosing': 'Friday',\n",
       "  'weekdayopening': 'Monday 8:00am - 5:00pm',\n",
       "  'weekendclosing': '',\n",
       "  'weekendopening': ''},\n",
       " 1: {'latitude': '-0.285359',\n",
       "  'longitude': '36.064905',\n",
       "  'shopaddress': 'Domestic Taxes Dpmt.\\r\\nBox. 270- 20100.\\r\\nTel. 051-2213926, 0725-777409',\n",
       "  'shopemailaddress': '',\n",
       "  'shopname': 'Nakuru - Generation House',\n",
       "  'shopphonenumber': '',\n",
       "  'type': 'office',\n",
       "  'weekdayclosing': 'Friday',\n",
       "  'weekdayopening': 'Monday 8:00 am - 5:00 pm',\n",
       "  'weekendclosing': '',\n",
       "  'weekendopening': ''},\n",
       " 2: {'latitude': '-1.3298749',\n",
       "  'longitude': '36.865326',\n",
       "  'shopaddress': 'P.O. Box 46285-00100 Nairobi\\r\\n',\n",
       "  'shopemailaddress': '',\n",
       "  'shopname': 'Nairobi - Sameer Park',\n",
       "  'shopphonenumber': '0202396006/8',\n",
       "  'type': 'office',\n",
       "  'weekdayclosing': 'Friday',\n",
       "  'weekdayopening': 'Monday 8:00 am - 5:00 pm',\n",
       "  'weekendclosing': '',\n",
       "  'weekendopening': ''},\n",
       " 3: {'latitude': '-1.258983072',\n",
       "  'longitude': '36.79502824',\n",
       "  'shopaddress': 'P. O. Box 48240 -00100 Nairobi\\r\\n',\n",
       "  'shopemailaddress': '',\n",
       "  'shopname': 'Nairobi - Ushuru Pension Towers',\n",
       "  'shopphonenumber': '0709011501/2/3',\n",
       "  'type': 'office',\n",
       "  'weekdayclosing': 'Friday',\n",
       "  'weekdayopening': 'Monday 8:00 am - 5:00 pm',\n",
       "  'weekendclosing': '',\n",
       "  'weekendopening': ''},\n",
       " 4: {'latitude': '0.521120',\n",
       "  'longitude': '35.268203',\n",
       "  'shopaddress': 'Domestic Taxes Dpmt.\\r\\nBox. 402-30100.\\r\\nTel. 053-2062300, 053-2062607/9',\n",
       "  'shopemailaddress': '',\n",
       "  'shopname': 'Eldoret ',\n",
       "  'shopphonenumber': '',\n",
       "  'type': 'office',\n",
       "  'weekdayclosing': 'Friday',\n",
       "  'weekdayopening': 'Monday 8:00 am - 5:00 pm',\n",
       "  'weekendclosing': '',\n",
       "  'weekendopening': ''},\n",
       " 5: {'latitude': '3.124411',\n",
       "  'longitude': '35.611669',\n",
       "  'shopaddress': 'Domestic Taxes\\r\\nDpmt.\\r\\nBox. 438- 30500.\\r\\nTel. 020-2398852,0778-016179. ',\n",
       "  'shopemailaddress': '',\n",
       "  'shopname': 'Lodwar - Customs House',\n",
       "  'shopphonenumber': '',\n",
       "  'type': 'office',\n",
       "  'weekdayclosing': 'Friday',\n",
       "  'weekdayopening': 'Monday 8:00 am - 5:00 pm',\n",
       "  'weekendclosing': '',\n",
       "  'weekendopening': ''},\n",
       " 6: {'latitude': '1.01553',\n",
       "  'longitude': '35.0011083',\n",
       "  'shopaddress': 'Domestic Taxes Dpmt.\\r\\nBox. 2673-30200.\\r\\nTel. 020 -2398707,020-\\r\\n7859501 ',\n",
       "  'shopemailaddress': '',\n",
       "  'shopname': 'Kitale - Trans - Nzoia Women Plaza',\n",
       "  'shopphonenumber': '',\n",
       "  'type': 'office',\n",
       "  'weekdayclosing': 'Friday',\n",
       "  'weekdayopening': 'Monday 8:00 am - 5:00 pm',\n",
       "  'weekendclosing': '',\n",
       "  'weekendopening': ''},\n",
       " 7: {'latitude': '-1.5162387',\n",
       "  'longitude': '37.2616345',\n",
       "  'shopaddress': 'Box 756-90100, Machakos\\r\\n044-2020232/358/020-2020348',\n",
       "  'shopemailaddress': '',\n",
       "  'shopname': 'Machakos, Sartaj Building, 3rd Floor, off Kangundo',\n",
       "  'shopphonenumber': '',\n",
       "  'type': 'office',\n",
       "  'weekdayclosing': 'Friday',\n",
       "  'weekdayopening': 'Monday 8:00 am - 5:00 pm',\n",
       "  'weekendclosing': '',\n",
       "  'weekendopening': ''},\n",
       " 8: {'latitude': '-0.2851198',\n",
       "  'longitude': '36.0633087',\n",
       "  'shopaddress': 'Doestic Taxes Depmt.\\r\\nBox. 270- 7481.\\r\\n\\r\\nTel. 051-2213891/3883/\\r\\n3926/3927',\n",
       "  'shopemailaddress': '',\n",
       "  'shopname': 'Nakuru - Generation House',\n",
       "  'shopphonenumber': '051-2213891/3883/ 3926/3927',\n",
       "  'type': 'office',\n",
       "  'weekdayclosing': 'Friday',\n",
       "  'weekdayopening': 'Monday 8:00 am - 5:00 pm',\n",
       "  'weekendclosing': '',\n",
       "  'weekendopening': ''},\n",
       " 9: {'latitude': '-1.0339247',\n",
       "  'longitude': '37.0730209',\n",
       "  'shopaddress': 'Domestic Taxes Dpmt.\\r\\nBox. 1437-01000.\\r\\nTel. 067-2221701/2-0741852035/7',\n",
       "  'shopemailaddress': '',\n",
       "  'shopname': 'Thika - Thika House ',\n",
       "  'shopphonenumber': '',\n",
       "  'type': 'office',\n",
       "  'weekdayclosing': 'Friday',\n",
       "  'weekdayopening': 'Monday 8:00 am - 5:00 pm',\n",
       "  'weekendclosing': '',\n",
       "  'weekendopening': ''},\n",
       " 10: {'latitude': '-0.4277859',\n",
       "  'longitude': '36.9526206',\n",
       "  'shopaddress': 'Domestic Taxes Dpmt.\\r\\nVeka Plaza, Kenyatta Road, Opposite Kamukunji grounds\\r\\nTel. 0709011111',\n",
       "  'shopemailaddress': '',\n",
       "  'shopname': 'KRA Central Region Headquarters - Nyeri',\n",
       "  'shopphonenumber': '',\n",
       "  'type': 'office',\n",
       "  'weekdayclosing': 'Friday',\n",
       "  'weekdayopening': 'Monday 8:00 am - 5:00 pm',\n",
       "  'weekendclosing': '',\n",
       "  'weekendopening': ''},\n",
       " 11: {'latitude': '-0.503365',\n",
       "  'longitude': '37.2749683',\n",
       "  'shopaddress': '',\n",
       "  'shopemailaddress': '',\n",
       "  'shopname': 'Kerugoya - Machere Plaza',\n",
       "  'shopphonenumber': '',\n",
       "  'type': 'office',\n",
       "  'weekdayclosing': 'Friday',\n",
       "  'weekdayopening': 'Monday 8:00 am - 5:00 pm',\n",
       "  'weekendclosing': '',\n",
       "  'weekendopening': ''},\n",
       " 12: {'latitude': '0.0071471',\n",
       "  'longitude': '37.071429',\n",
       "  'shopaddress': '',\n",
       "  'shopemailaddress': '',\n",
       "  'shopname': 'Nanyuki - Ubii Plaza',\n",
       "  'shopphonenumber': '',\n",
       "  'type': 'office',\n",
       "  'weekdayclosing': 'Friday',\n",
       "  'weekdayopening': 'Monday 8:00 am - 5:00 pm',\n",
       "  'weekendclosing': '',\n",
       "  'weekendopening': ''},\n",
       " 13: {'latitude': '-0.752162',\n",
       "  'longitude': '37.064128',\n",
       "  'shopaddress': 'Domestic Taxes Dpmt.\\r\\nBox. 426-10200.\\r\\nTel. 060-2030700/1.',\n",
       "  'shopemailaddress': '',\n",
       "  'shopname': \"Murang'a - Ngeka Centre\",\n",
       "  'shopphonenumber': '',\n",
       "  'type': 'office',\n",
       "  'weekdayclosing': 'Friday',\n",
       "  'weekdayopening': 'Monday 8:00 am - 5:00 pm',\n",
       "  'weekendclosing': '',\n",
       "  'weekendopening': ''},\n",
       " 14: {'latitude': '1.1651',\n",
       "  'longitude': '36.8241',\n",
       "  'shopaddress': 'Juja',\n",
       "  'shopemailaddress': '',\n",
       "  'shopname': 'Kiambu Mall',\n",
       "  'shopphonenumber': '',\n",
       "  'type': 'office',\n",
       "  'weekdayclosing': 'Friday',\n",
       "  'weekdayopening': 'Monday 8:00 am - 5:00 pm',\n",
       "  'weekendclosing': '',\n",
       "  'weekendopening': ''},\n",
       " 15: {'latitude': '-4.0633338',\n",
       "  'longitude': '39.6682077',\n",
       "  'shopaddress': 'Domestic Taxes Dpmt.\\r\\nBox. 90520 -80100.\\r\\nTel. 041-2314070/1\\r\\n041-2314044/5',\n",
       "  'shopemailaddress': '',\n",
       "  'shopname': 'Mombasa - Customs House',\n",
       "  'shopphonenumber': '',\n",
       "  'type': 'office',\n",
       "  'weekdayclosing': 'Friday',\n",
       "  'weekdayopening': 'Monday 8:00 am - 5:00 pm',\n",
       "  'weekendclosing': '',\n",
       "  'weekendopening': ''},\n",
       " 16: {'latitude': '-3.206917',\n",
       "  'longitude': '40.116022',\n",
       "  'shopaddress': 'Domestic Taxes Dpmt.\\r\\nBox. 90520-80100.\\r\\nTel. 042-2130955/2120202/2120165 ',\n",
       "  'shopemailaddress': '',\n",
       "  'shopname': 'Malindi - Malindi Complex',\n",
       "  'shopphonenumber': '',\n",
       "  'type': 'office',\n",
       "  'weekdayclosing': 'Friday',\n",
       "  'weekdayopening': 'Monday 8:00 am - 5:00 pm',\n",
       "  'weekendclosing': '',\n",
       "  'weekendopening': ''},\n",
       " 17: {'latitude': '-3.393726',\n",
       "  'longitude': '38.560999',\n",
       "  'shopaddress': 'Domestic Taxes Dpmt.\\r\\nBox. 644-80300.\\r\\nTel. 043-2031120, 043-2031441. ',\n",
       "  'shopemailaddress': '',\n",
       "  'shopname': \"Voi - Potter's House\",\n",
       "  'shopphonenumber': '',\n",
       "  'type': 'office',\n",
       "  'weekdayclosing': 'Friday',\n",
       "  'weekdayopening': 'Monday 8:00 am - 5:00 pm',\n",
       "  'weekendclosing': '',\n",
       "  'weekendopening': ''},\n",
       " 18: {'latitude': '-4.065511',\n",
       "  'longitude': '39.616796',\n",
       "  'shopaddress': 'Domestic Taxes Dpmt.\\r\\nBox. 30-80500.\\r\\nTel. 0792-973791.',\n",
       "  'shopemailaddress': '',\n",
       "  'shopname': 'Lamu - Mkunguni Square',\n",
       "  'shopphonenumber': '',\n",
       "  'type': 'office',\n",
       "  'weekdayclosing': 'Friday',\n",
       "  'weekdayopening': 'Monday 8:00 am - 5:00 pm',\n",
       "  'weekendclosing': '',\n",
       "  'weekendopening': ''},\n",
       " 19: {'latitude': '-4.2865643',\n",
       "  'longitude': '39.5564676',\n",
       "  'shopaddress': '',\n",
       "  'shopemailaddress': '',\n",
       "  'shopname': 'Ukunda - Holding Meridian',\n",
       "  'shopphonenumber': '',\n",
       "  'type': 'office',\n",
       "  'weekdayclosing': 'Friday',\n",
       "  'weekdayopening': 'Monday 8:00 am - 5:00 pm',\n",
       "  'weekendclosing': '',\n",
       "  'weekendopening': ''},\n",
       " 20: {'latitude': '-0.0656451',\n",
       "  'longitude': '34.7724719',\n",
       "  'shopaddress': '',\n",
       "  'shopemailaddress': '',\n",
       "  'shopname': 'Kisumu - Lake Basin Mall',\n",
       "  'shopphonenumber': '',\n",
       "  'type': 'office',\n",
       "  'weekdayclosing': 'Friday',\n",
       "  'weekdayopening': 'Monday 8:00 am - 5:00 pm',\n",
       "  'weekendclosing': '',\n",
       "  'weekendopening': ''},\n",
       " 21: {'latitude': '0.2791543',\n",
       "  'longitude': '34.7509143',\n",
       "  'shopaddress': 'Huduma Center.\\r\\nTel. 206900010/020690000 ',\n",
       "  'shopemailaddress': 'CM_Kakamega@hudumakenya.go.ke',\n",
       "  'shopname': 'Kakamega - Posta House',\n",
       "  'shopphonenumber': '',\n",
       "  'type': 'office',\n",
       "  'weekdayclosing': 'Friday',\n",
       "  'weekdayopening': 'Monday 8:00 am - 5:00 pm',\n",
       "  'weekendclosing': '',\n",
       "  'weekendopening': ''},\n",
       " 22: {'latitude': '-0.6745385',\n",
       "  'longitude': '34.7701621',\n",
       "  'shopaddress': 'Domestic Taxes Dpmt.\\r\\nBox. 946-40200.\\r\\nTel. 0780999995/ 0780999556\\r\\n',\n",
       "  'shopemailaddress': '',\n",
       "  'shopname': 'Kisii - Umoja Plaza',\n",
       "  'shopphonenumber': '',\n",
       "  'type': 'office',\n",
       "  'weekdayclosing': 'Friday',\n",
       "  'weekdayopening': 'Monday 8:00 am - 5:00 pm',\n",
       "  'weekendclosing': '',\n",
       "  'weekendopening': ''},\n",
       " 23: {'latitude': '0.635165',\n",
       "  'longitude': '34.2679716',\n",
       "  'shopaddress': 'iTax Help Desk. ',\n",
       "  'shopemailaddress': '',\n",
       "  'shopname': 'Malaba OSBP',\n",
       "  'shopphonenumber': '',\n",
       "  'type': 'office',\n",
       "  'weekdayclosing': 'Friday',\n",
       "  'weekdayopening': 'Monday 8:00 am - 5:00 pm',\n",
       "  'weekendclosing': '',\n",
       "  'weekendopening': ''},\n",
       " 24: {'latitude': '0.465112',\n",
       "  'longitude': '34.0978743',\n",
       "  'shopaddress': 'iTax Help Desk.',\n",
       "  'shopemailaddress': '',\n",
       "  'shopname': 'Busia OSBP',\n",
       "  'shopphonenumber': '',\n",
       "  'type': 'office',\n",
       "  'weekdayclosing': 'Friday',\n",
       "  'weekdayopening': 'Monday 8:00 am - 5:00 pm',\n",
       "  'weekendclosing': '',\n",
       "  'weekendopening': ''},\n",
       " 25: {'latitude': '-1.2440181',\n",
       "  'longitude': '34.4669867',\n",
       "  'shopaddress': 'Isebania OSBP',\n",
       "  'shopemailaddress': '',\n",
       "  'shopname': 'Isebania OSBP',\n",
       "  'shopphonenumber': '',\n",
       "  'type': 'office',\n",
       "  'weekdayclosing': 'Friday',\n",
       "  'weekdayopening': 'Monday 8:00 am - 5:00 pm',\n",
       "  'weekendclosing': '',\n",
       "  'weekendopening': ''},\n",
       " 26: {'latitude': '-1.3298749',\n",
       "  'longitude': '36.865326',\n",
       "  'shopaddress': 'iTax Support Centre.\\r\\nBox. 30742 - 00200.\\r\\nTel. 391099/0202429081/2631128/2397060/077135644/8943522/2396012',\n",
       "  'shopemailaddress': '',\n",
       "  'shopname': 'Nairobi - Sameer Park',\n",
       "  'shopphonenumber': '',\n",
       "  'type': 'Office',\n",
       "  'weekdayclosing': 'Friday ',\n",
       "  'weekdayopening': 'Monday 8:00 am - 5:00 pm',\n",
       "  'weekendclosing': '',\n",
       "  'weekendopening': ''}}"
      ]
     },
     "execution_count": 31,
     "metadata": {},
     "output_type": "execute_result"
    }
   ],
   "source": [
    "location_df"
   ]
  },
  {
   "cell_type": "code",
   "execution_count": null,
   "metadata": {},
   "outputs": [],
   "source": [
    "locs['markers'].items()"
   ]
  },
  {
   "cell_type": "code",
   "execution_count": 24,
   "metadata": {},
   "outputs": [
    {
     "data": {
      "text/html": [
       "<div>\n",
       "<style scoped>\n",
       "    .dataframe tbody tr th:only-of-type {\n",
       "        vertical-align: middle;\n",
       "    }\n",
       "\n",
       "    .dataframe tbody tr th {\n",
       "        vertical-align: top;\n",
       "    }\n",
       "\n",
       "    .dataframe thead th {\n",
       "        text-align: right;\n",
       "    }\n",
       "</style>\n",
       "<table border=\"1\" class=\"dataframe\">\n",
       "  <thead>\n",
       "    <tr style=\"text-align: right;\">\n",
       "      <th></th>\n",
       "      <th>markers</th>\n",
       "    </tr>\n",
       "  </thead>\n",
       "  <tbody>\n",
       "    <tr>\n",
       "      <th>0</th>\n",
       "      <td>{'latitude': '-1.290278', 'longitude': '36.821...</td>\n",
       "    </tr>\n",
       "    <tr>\n",
       "      <th>1</th>\n",
       "      <td>{'latitude': '-0.285359', 'longitude': '36.064...</td>\n",
       "    </tr>\n",
       "    <tr>\n",
       "      <th>2</th>\n",
       "      <td>{'latitude': '-1.3298749', 'longitude': '36.86...</td>\n",
       "    </tr>\n",
       "    <tr>\n",
       "      <th>3</th>\n",
       "      <td>{'latitude': '-1.258983072', 'longitude': '36....</td>\n",
       "    </tr>\n",
       "    <tr>\n",
       "      <th>4</th>\n",
       "      <td>{'latitude': '0.521120', 'longitude': '35.2682...</td>\n",
       "    </tr>\n",
       "  </tbody>\n",
       "</table>\n",
       "</div>"
      ],
      "text/plain": [
       "                                             markers\n",
       "0  {'latitude': '-1.290278', 'longitude': '36.821...\n",
       "1  {'latitude': '-0.285359', 'longitude': '36.064...\n",
       "2  {'latitude': '-1.3298749', 'longitude': '36.86...\n",
       "3  {'latitude': '-1.258983072', 'longitude': '36....\n",
       "4  {'latitude': '0.521120', 'longitude': '35.2682..."
      ]
     },
     "execution_count": 24,
     "metadata": {},
     "output_type": "execute_result"
    }
   ],
   "source": [
    "\n",
    "\n",
    "loc_df = pd.DataFrame(locs['markers'])\n",
    "\n",
    "loc_df.head()"
   ]
  },
  {
   "cell_type": "code",
   "execution_count": 26,
   "metadata": {},
   "outputs": [
    {
     "data": {
      "text/plain": [
       "0     {'latitude': '-1.290278', 'longitude': '36.821...\n",
       "1     {'latitude': '-0.285359', 'longitude': '36.064...\n",
       "2     {'latitude': '-1.3298749', 'longitude': '36.86...\n",
       "3     {'latitude': '-1.258983072', 'longitude': '36....\n",
       "4     {'latitude': '0.521120', 'longitude': '35.2682...\n",
       "5     {'latitude': '3.124411', 'longitude': '35.6116...\n",
       "6     {'latitude': '1.01553', 'longitude': '35.00110...\n",
       "7     {'latitude': '-1.5162387', 'longitude': '37.26...\n",
       "8     {'latitude': '-0.2851198', 'longitude': '36.06...\n",
       "9     {'latitude': '-1.0339247', 'longitude': '37.07...\n",
       "10    {'latitude': '-0.4277859', 'longitude': '36.95...\n",
       "11    {'latitude': '-0.503365', 'longitude': '37.274...\n",
       "12    {'latitude': '0.0071471', 'longitude': '37.071...\n",
       "13    {'latitude': '-0.752162', 'longitude': '37.064...\n",
       "14    {'latitude': '1.1651', 'longitude': '36.8241',...\n",
       "15    {'latitude': '-4.0633338', 'longitude': '39.66...\n",
       "16    {'latitude': '-3.206917', 'longitude': '40.116...\n",
       "17    {'latitude': '-3.393726', 'longitude': '38.560...\n",
       "18    {'latitude': '-4.065511', 'longitude': '39.616...\n",
       "19    {'latitude': '-4.2865643', 'longitude': '39.55...\n",
       "20    {'latitude': '-0.0656451', 'longitude': '34.77...\n",
       "21    {'latitude': '0.2791543', 'longitude': '34.750...\n",
       "22    {'latitude': '-0.6745385', 'longitude': '34.77...\n",
       "23    {'latitude': '0.635165', 'longitude': '34.2679...\n",
       "24    {'latitude': '0.465112', 'longitude': '34.0978...\n",
       "25    {'latitude': '-1.2440181', 'longitude': '34.46...\n",
       "26    {'latitude': '-1.3298749', 'longitude': '36.86...\n",
       "Name: markers, dtype: object"
      ]
     },
     "execution_count": 26,
     "metadata": {},
     "output_type": "execute_result"
    }
   ],
   "source": [
    "locs['markers']"
   ]
  },
  {
   "cell_type": "code",
   "execution_count": 15,
   "metadata": {},
   "outputs": [
    {
     "data": {
      "text/plain": [
       "['latitude',\n",
       " 'longitude',\n",
       " 'shopaddress',\n",
       " 'shopemailaddress',\n",
       " 'shopname',\n",
       " 'shopphonenumber',\n",
       " 'type',\n",
       " 'weekdayclosing',\n",
       " 'weekdayopening',\n",
       " 'weekendclosing',\n",
       " 'weekendopening']"
      ]
     },
     "execution_count": 15,
     "metadata": {},
     "output_type": "execute_result"
    }
   ],
   "source": [
    "keys"
   ]
  },
  {
   "cell_type": "code",
   "execution_count": 46,
   "metadata": {},
   "outputs": [],
   "source": [
    "# Creating Empty Cols\n",
    "location_dict = {col: [] for col in list(locs['markers'][0].keys())}\n",
    "for row"
   ]
  },
  {
   "cell_type": "code",
   "execution_count": 73,
   "metadata": {},
   "outputs": [],
   "source": [
    "locs = pd.read_json('C:\\\\Users\\\\USER\\\\OneDrive\\\\KRA WORK\\\\2024 WS\\\\SLA EDA\\\\SLA_ETL\\\\KRA Stations.json')  #Loading the File\n",
    "location_dict = {col: [] for col in list(locs['markers'][0].keys())}  #Creating the dict with keys but empty values\n",
    "for row in locs['markers']:\n",
    "    for col, val in row.items():\n",
    "        location_dict[col].append(val)\n",
    "\n",
    "location_df = pd.DataFrame(location_dict)  #Converting the dictinary into a pd.dataframe\n",
    "\n",
    "wanted_cols = ['latitude', 'longitude', 'shopname']\n",
    "kra_location_df = location_df.copy()[wanted_cols] #Subsetting long, lat and name of the TSO\n",
    "kra_location_df['latitude'] = kra_location_df['latitude'].astype(float) \n",
    "kra_location_df['longitude'] = kra_location_df['longitude'].astype(float)\n",
    "\n"
   ]
  },
  {
   "cell_type": "code",
   "execution_count": 15,
   "metadata": {},
   "outputs": [],
   "source": [
    "import pandas as pd\n",
    "\n",
    "# Load the JSON file into a DataFrame\n",
    "locs = pd.read_json('C:\\\\Users\\\\USER\\\\OneDrive\\\\KRA WORK\\\\2024 WS\\\\SLA EDA\\\\SLA_ETL\\\\KRA Stations.json')\n",
    "\n",
    "# Extract relevant columns and convert data types\n",
    "wanted_cols = ['latitude', 'longitude', 'shopname']\n",
    "kra_location_df = locs['markers'].apply(pd.Series)[wanted_cols]\n",
    "\n",
    "\n",
    "kra_location_df['latitude'] = kra_location_df['latitude'].astype(float)\n",
    "kra_location_df['longitude'] = kra_location_df['longitude'].astype(float)\n",
    "\n",
    "\n",
    "\n",
    "# Now kra_location_df contains only the desired columns with correct data types\n",
    "kra_location_df.head()\n",
    "kra_location_df.rename(columns = {'shopname': 'TSO Name', 'latitude': 'lat', 'longitude': 'lon'}, inplace = True)"
   ]
  },
  {
   "cell_type": "code",
   "execution_count": 27,
   "metadata": {},
   "outputs": [
    {
     "data": {
      "text/plain": [
       "TSO Name\n",
       "Nairobi - Sameer Park                                 2\n",
       "Nakuru - Generation House                             2\n",
       "Nairobi - Times Tower Building                        1\n",
       "Mombasa - Customs House                               1\n",
       "Busia OSBP                                            1\n",
       "Malaba OSBP                                           1\n",
       "Kisii - Umoja Plaza                                   1\n",
       "Kakamega - Posta House                                1\n",
       "Kisumu - Lake Basin Mall                              1\n",
       "Ukunda - Holding Meridian                             1\n",
       "Lamu - Mkunguni Square                                1\n",
       "Voi - Potter's House                                  1\n",
       "Malindi - Malindi Complex                             1\n",
       "Murang'a - Ngeka Centre                               1\n",
       "Kiambu Mall                                           1\n",
       "Nanyuki - Ubii Plaza                                  1\n",
       "Kerugoya - Machere Plaza                              1\n",
       "KRA Central Region Headquarters - Nyeri               1\n",
       "Thika - Thika House                                   1\n",
       "Machakos, Sartaj Building, 3rd Floor, off Kangundo    1\n",
       "Kitale - Trans - Nzoia Women Plaza                    1\n",
       "Lodwar - Customs House                                1\n",
       "Eldoret                                               1\n",
       "Nairobi - Ushuru Pension Towers                       1\n",
       "Isebania OSBP                                         1\n",
       "Name: count, dtype: int64"
      ]
     },
     "execution_count": 27,
     "metadata": {},
     "output_type": "execute_result"
    }
   ],
   "source": [
    "kra_location_df.head()\n",
    "kra_location_df['TSO Name'].value_counts()"
   ]
  },
  {
   "cell_type": "code",
   "execution_count": 8,
   "metadata": {},
   "outputs": [],
   "source": [
    "combined_sla['Location'].replace('KRA', '', inplace= True)"
   ]
  },
  {
   "cell_type": "code",
   "execution_count": 37,
   "metadata": {},
   "outputs": [
    {
     "data": {
      "text/html": [
       "<div>\n",
       "<style scoped>\n",
       "    .dataframe tbody tr th:only-of-type {\n",
       "        vertical-align: middle;\n",
       "    }\n",
       "\n",
       "    .dataframe tbody tr th {\n",
       "        vertical-align: top;\n",
       "    }\n",
       "\n",
       "    .dataframe thead th {\n",
       "        text-align: right;\n",
       "    }\n",
       "</style>\n",
       "<table border=\"1\" class=\"dataframe\">\n",
       "  <thead>\n",
       "    <tr style=\"text-align: right;\">\n",
       "      <th></th>\n",
       "      <th>lat</th>\n",
       "      <th>lon</th>\n",
       "      <th>TSO Name</th>\n",
       "    </tr>\n",
       "  </thead>\n",
       "  <tbody>\n",
       "    <tr>\n",
       "      <th>0</th>\n",
       "      <td>-1.290278</td>\n",
       "      <td>36.821700</td>\n",
       "      <td>Nairobi - Times Tower Building</td>\n",
       "    </tr>\n",
       "    <tr>\n",
       "      <th>1</th>\n",
       "      <td>-0.285359</td>\n",
       "      <td>36.064905</td>\n",
       "      <td>Nakuru - Generation House</td>\n",
       "    </tr>\n",
       "    <tr>\n",
       "      <th>2</th>\n",
       "      <td>-1.329875</td>\n",
       "      <td>36.865326</td>\n",
       "      <td>Nairobi - Sameer Park</td>\n",
       "    </tr>\n",
       "    <tr>\n",
       "      <th>3</th>\n",
       "      <td>-1.258983</td>\n",
       "      <td>36.795028</td>\n",
       "      <td>Nairobi - Ushuru Pension Towers</td>\n",
       "    </tr>\n",
       "    <tr>\n",
       "      <th>4</th>\n",
       "      <td>0.521120</td>\n",
       "      <td>35.268203</td>\n",
       "      <td>Eldoret</td>\n",
       "    </tr>\n",
       "    <tr>\n",
       "      <th>5</th>\n",
       "      <td>3.124411</td>\n",
       "      <td>35.611669</td>\n",
       "      <td>Lodwar - Customs House</td>\n",
       "    </tr>\n",
       "    <tr>\n",
       "      <th>6</th>\n",
       "      <td>1.015530</td>\n",
       "      <td>35.001108</td>\n",
       "      <td>Kitale - Trans - Nzoia Women Plaza</td>\n",
       "    </tr>\n",
       "    <tr>\n",
       "      <th>7</th>\n",
       "      <td>-1.516239</td>\n",
       "      <td>37.261634</td>\n",
       "      <td>Machakos, Sartaj Building, 3rd Floor, off Kang...</td>\n",
       "    </tr>\n",
       "    <tr>\n",
       "      <th>8</th>\n",
       "      <td>-0.285120</td>\n",
       "      <td>36.063309</td>\n",
       "      <td>Nakuru - Generation House</td>\n",
       "    </tr>\n",
       "    <tr>\n",
       "      <th>9</th>\n",
       "      <td>-1.033925</td>\n",
       "      <td>37.073021</td>\n",
       "      <td>Thika - Thika House</td>\n",
       "    </tr>\n",
       "    <tr>\n",
       "      <th>10</th>\n",
       "      <td>-0.427786</td>\n",
       "      <td>36.952621</td>\n",
       "      <td>KRA Central Region Headquarters - Nyeri</td>\n",
       "    </tr>\n",
       "    <tr>\n",
       "      <th>11</th>\n",
       "      <td>-0.503365</td>\n",
       "      <td>37.274968</td>\n",
       "      <td>Kerugoya - Machere Plaza</td>\n",
       "    </tr>\n",
       "    <tr>\n",
       "      <th>12</th>\n",
       "      <td>0.007147</td>\n",
       "      <td>37.071429</td>\n",
       "      <td>Nanyuki - Ubii Plaza</td>\n",
       "    </tr>\n",
       "    <tr>\n",
       "      <th>13</th>\n",
       "      <td>-0.752162</td>\n",
       "      <td>37.064128</td>\n",
       "      <td>Murang'a - Ngeka Centre</td>\n",
       "    </tr>\n",
       "    <tr>\n",
       "      <th>14</th>\n",
       "      <td>1.165100</td>\n",
       "      <td>36.824100</td>\n",
       "      <td>Kiambu Mall</td>\n",
       "    </tr>\n",
       "    <tr>\n",
       "      <th>15</th>\n",
       "      <td>-4.063334</td>\n",
       "      <td>39.668208</td>\n",
       "      <td>Mombasa - Customs House</td>\n",
       "    </tr>\n",
       "    <tr>\n",
       "      <th>16</th>\n",
       "      <td>-3.206917</td>\n",
       "      <td>40.116022</td>\n",
       "      <td>Malindi - Malindi Complex</td>\n",
       "    </tr>\n",
       "    <tr>\n",
       "      <th>17</th>\n",
       "      <td>-3.393726</td>\n",
       "      <td>38.560999</td>\n",
       "      <td>Voi - Potter's House</td>\n",
       "    </tr>\n",
       "    <tr>\n",
       "      <th>18</th>\n",
       "      <td>-4.065511</td>\n",
       "      <td>39.616796</td>\n",
       "      <td>Lamu - Mkunguni Square</td>\n",
       "    </tr>\n",
       "    <tr>\n",
       "      <th>19</th>\n",
       "      <td>-4.286564</td>\n",
       "      <td>39.556468</td>\n",
       "      <td>Ukunda - Holding Meridian</td>\n",
       "    </tr>\n",
       "    <tr>\n",
       "      <th>20</th>\n",
       "      <td>-0.065645</td>\n",
       "      <td>34.772472</td>\n",
       "      <td>Kisumu - Lake Basin Mall</td>\n",
       "    </tr>\n",
       "    <tr>\n",
       "      <th>21</th>\n",
       "      <td>0.279154</td>\n",
       "      <td>34.750914</td>\n",
       "      <td>Kakamega - Posta House</td>\n",
       "    </tr>\n",
       "    <tr>\n",
       "      <th>22</th>\n",
       "      <td>-0.674539</td>\n",
       "      <td>34.770162</td>\n",
       "      <td>Kisii - Umoja Plaza</td>\n",
       "    </tr>\n",
       "    <tr>\n",
       "      <th>23</th>\n",
       "      <td>0.635165</td>\n",
       "      <td>34.267972</td>\n",
       "      <td>Malaba OSBP</td>\n",
       "    </tr>\n",
       "    <tr>\n",
       "      <th>24</th>\n",
       "      <td>0.465112</td>\n",
       "      <td>34.097874</td>\n",
       "      <td>Busia OSBP</td>\n",
       "    </tr>\n",
       "    <tr>\n",
       "      <th>25</th>\n",
       "      <td>-1.244018</td>\n",
       "      <td>34.466987</td>\n",
       "      <td>Isebania OSBP</td>\n",
       "    </tr>\n",
       "  </tbody>\n",
       "</table>\n",
       "</div>"
      ],
      "text/plain": [
       "         lat        lon                                           TSO Name\n",
       "0  -1.290278  36.821700                     Nairobi - Times Tower Building\n",
       "1  -0.285359  36.064905                          Nakuru - Generation House\n",
       "2  -1.329875  36.865326                              Nairobi - Sameer Park\n",
       "3  -1.258983  36.795028                    Nairobi - Ushuru Pension Towers\n",
       "4   0.521120  35.268203                                           Eldoret \n",
       "5   3.124411  35.611669                             Lodwar - Customs House\n",
       "6   1.015530  35.001108                 Kitale - Trans - Nzoia Women Plaza\n",
       "7  -1.516239  37.261634  Machakos, Sartaj Building, 3rd Floor, off Kang...\n",
       "8  -0.285120  36.063309                          Nakuru - Generation House\n",
       "9  -1.033925  37.073021                               Thika - Thika House \n",
       "10 -0.427786  36.952621            KRA Central Region Headquarters - Nyeri\n",
       "11 -0.503365  37.274968                           Kerugoya - Machere Plaza\n",
       "12  0.007147  37.071429                               Nanyuki - Ubii Plaza\n",
       "13 -0.752162  37.064128                            Murang'a - Ngeka Centre\n",
       "14  1.165100  36.824100                                        Kiambu Mall\n",
       "15 -4.063334  39.668208                            Mombasa - Customs House\n",
       "16 -3.206917  40.116022                          Malindi - Malindi Complex\n",
       "17 -3.393726  38.560999                               Voi - Potter's House\n",
       "18 -4.065511  39.616796                             Lamu - Mkunguni Square\n",
       "19 -4.286564  39.556468                          Ukunda - Holding Meridian\n",
       "20 -0.065645  34.772472                           Kisumu - Lake Basin Mall\n",
       "21  0.279154  34.750914                             Kakamega - Posta House\n",
       "22 -0.674539  34.770162                                Kisii - Umoja Plaza\n",
       "23  0.635165  34.267972                                        Malaba OSBP\n",
       "24  0.465112  34.097874                                         Busia OSBP\n",
       "25 -1.244018  34.466987                                      Isebania OSBP"
      ]
     },
     "execution_count": 37,
     "metadata": {},
     "output_type": "execute_result"
    }
   ],
   "source": []
  },
  {
   "cell_type": "code",
   "execution_count": 36,
   "metadata": {},
   "outputs": [
    {
     "data": {
      "text/html": [
       "<div>\n",
       "<style scoped>\n",
       "    .dataframe tbody tr th:only-of-type {\n",
       "        vertical-align: middle;\n",
       "    }\n",
       "\n",
       "    .dataframe tbody tr th {\n",
       "        vertical-align: top;\n",
       "    }\n",
       "\n",
       "    .dataframe thead th {\n",
       "        text-align: right;\n",
       "    }\n",
       "</style>\n",
       "<table border=\"1\" class=\"dataframe\">\n",
       "  <thead>\n",
       "    <tr style=\"text-align: right;\">\n",
       "      <th></th>\n",
       "      <th>Link_ID</th>\n",
       "      <th>SLA_Date</th>\n",
       "      <th>Last_Mile</th>\n",
       "      <th>Capacity_in_Mbps</th>\n",
       "      <th>Location</th>\n",
       "      <th>MRC_Excl</th>\n",
       "      <th>SLM_Comments</th>\n",
       "      <th>QRC_Incl</th>\n",
       "      <th>SLA_ID</th>\n",
       "      <th>Unique_Link_Identifier_SLA</th>\n",
       "      <th>Service_Provider</th>\n",
       "    </tr>\n",
       "  </thead>\n",
       "  <tbody>\n",
       "    <tr>\n",
       "      <th>0</th>\n",
       "      <td>1750</td>\n",
       "      <td>2020-10-01</td>\n",
       "      <td>Fibre</td>\n",
       "      <td>90</td>\n",
       "      <td>KIXP</td>\n",
       "      <td>270000.0</td>\n",
       "      <td>16/04/2022: Upgraded 90 Mbps @ KES 649,050  -&gt;...</td>\n",
       "      <td>939600.00</td>\n",
       "      <td>2020-10-LTK00</td>\n",
       "      <td>2020-10-LTK00_1750</td>\n",
       "      <td>LTK</td>\n",
       "    </tr>\n",
       "    <tr>\n",
       "      <th>1</th>\n",
       "      <td>5277</td>\n",
       "      <td>2020-10-01</td>\n",
       "      <td>Fibre</td>\n",
       "      <td>75</td>\n",
       "      <td>Customs Hse  Times Tower</td>\n",
       "      <td>179718.0</td>\n",
       "      <td>Not in Invoice/Renamed/Relocated</td>\n",
       "      <td>625418.64</td>\n",
       "      <td>2020-10-LTK00</td>\n",
       "      <td>2020-10-LTK00_5277</td>\n",
       "      <td>LTK</td>\n",
       "    </tr>\n",
       "    <tr>\n",
       "      <th>2</th>\n",
       "      <td>5611</td>\n",
       "      <td>2020-10-01</td>\n",
       "      <td>Fibre</td>\n",
       "      <td>8</td>\n",
       "      <td>AIRPORT CONTAINER DEPOT TO CUSTOMS HSE MSA</td>\n",
       "      <td>20642.5</td>\n",
       "      <td>Okay. No change</td>\n",
       "      <td>71835.90</td>\n",
       "      <td>2020-10-LTK00</td>\n",
       "      <td>2020-10-LTK00_5611</td>\n",
       "      <td>LTK</td>\n",
       "    </tr>\n",
       "    <tr>\n",
       "      <th>3</th>\n",
       "      <td>20103</td>\n",
       "      <td>2020-10-01</td>\n",
       "      <td>Fibre</td>\n",
       "      <td>9</td>\n",
       "      <td>Wilson Airport</td>\n",
       "      <td>22950.0</td>\n",
       "      <td>Okay. No change</td>\n",
       "      <td>79866.00</td>\n",
       "      <td>2020-10-LTK00</td>\n",
       "      <td>2020-10-LTK00_20103</td>\n",
       "      <td>LTK</td>\n",
       "    </tr>\n",
       "    <tr>\n",
       "      <th>4</th>\n",
       "      <td>20954</td>\n",
       "      <td>2020-10-01</td>\n",
       "      <td>Fibre</td>\n",
       "      <td>20</td>\n",
       "      <td>Egerton University Njoro</td>\n",
       "      <td>50000.0</td>\n",
       "      <td>Okay. No change</td>\n",
       "      <td>174000.00</td>\n",
       "      <td>2020-10-LTK00</td>\n",
       "      <td>2020-10-LTK00_20954</td>\n",
       "      <td>LTK</td>\n",
       "    </tr>\n",
       "    <tr>\n",
       "      <th>...</th>\n",
       "      <td>...</td>\n",
       "      <td>...</td>\n",
       "      <td>...</td>\n",
       "      <td>...</td>\n",
       "      <td>...</td>\n",
       "      <td>...</td>\n",
       "      <td>...</td>\n",
       "      <td>...</td>\n",
       "      <td>...</td>\n",
       "      <td>...</td>\n",
       "      <td>...</td>\n",
       "    </tr>\n",
       "    <tr>\n",
       "      <th>80</th>\n",
       "      <td>95096538</td>\n",
       "      <td>2023-10-01</td>\n",
       "      <td>Unknown</td>\n",
       "      <td>20</td>\n",
       "      <td>BUSIAFIBRE</td>\n",
       "      <td>NaN</td>\n",
       "      <td>NaN</td>\n",
       "      <td>NaN</td>\n",
       "      <td>2023-10-Saf01</td>\n",
       "      <td>2023-10-Saf01_95096538</td>\n",
       "      <td>Saf</td>\n",
       "    </tr>\n",
       "    <tr>\n",
       "      <th>81</th>\n",
       "      <td>95006961</td>\n",
       "      <td>2023-10-01</td>\n",
       "      <td>Unknown</td>\n",
       "      <td>15</td>\n",
       "      <td>FIXED 30th Floor 3001</td>\n",
       "      <td>NaN</td>\n",
       "      <td>NaN</td>\n",
       "      <td>NaN</td>\n",
       "      <td>2023-10-Saf01</td>\n",
       "      <td>2023-10-Saf01_95006961</td>\n",
       "      <td>Saf</td>\n",
       "    </tr>\n",
       "    <tr>\n",
       "      <th>82</th>\n",
       "      <td>95006963</td>\n",
       "      <td>2023-10-01</td>\n",
       "      <td>Unknown</td>\n",
       "      <td>15</td>\n",
       "      <td>FIXED 25th Floor 2575</td>\n",
       "      <td>NaN</td>\n",
       "      <td>NaN</td>\n",
       "      <td>NaN</td>\n",
       "      <td>2023-10-Saf01</td>\n",
       "      <td>2023-10-Saf01_95006963</td>\n",
       "      <td>Saf</td>\n",
       "    </tr>\n",
       "    <tr>\n",
       "      <th>83</th>\n",
       "      <td>95021939</td>\n",
       "      <td>2023-10-01</td>\n",
       "      <td>Unknown</td>\n",
       "      <td>15</td>\n",
       "      <td>KENYA SCHOOL OF REVENUE  FIBER</td>\n",
       "      <td>NaN</td>\n",
       "      <td>NaN</td>\n",
       "      <td>NaN</td>\n",
       "      <td>2023-10-Saf01</td>\n",
       "      <td>2023-10-Saf01_95021939</td>\n",
       "      <td>Saf</td>\n",
       "    </tr>\n",
       "    <tr>\n",
       "      <th>84</th>\n",
       "      <td>95018756</td>\n",
       "      <td>2023-10-01</td>\n",
       "      <td>Unknown</td>\n",
       "      <td>10</td>\n",
       "      <td>SIAYA</td>\n",
       "      <td>NaN</td>\n",
       "      <td>NaN</td>\n",
       "      <td>NaN</td>\n",
       "      <td>2023-10-Saf01</td>\n",
       "      <td>2023-10-Saf01_95018756</td>\n",
       "      <td>Saf</td>\n",
       "    </tr>\n",
       "  </tbody>\n",
       "</table>\n",
       "<p>85 rows × 11 columns</p>\n",
       "</div>"
      ],
      "text/plain": [
       "     Link_ID    SLA_Date Last_Mile  Capacity_in_Mbps  \\\n",
       "0       1750  2020-10-01     Fibre                90   \n",
       "1       5277  2020-10-01     Fibre                75   \n",
       "2       5611  2020-10-01     Fibre                 8   \n",
       "3      20103  2020-10-01     Fibre                 9   \n",
       "4      20954  2020-10-01     Fibre                20   \n",
       "..       ...         ...       ...               ...   \n",
       "80  95096538  2023-10-01   Unknown                20   \n",
       "81  95006961  2023-10-01   Unknown                15   \n",
       "82  95006963  2023-10-01   Unknown                15   \n",
       "83  95021939  2023-10-01   Unknown                15   \n",
       "84  95018756  2023-10-01   Unknown                10   \n",
       "\n",
       "                                      Location  MRC_Excl  \\\n",
       "0                                         KIXP  270000.0   \n",
       "1                     Customs Hse  Times Tower  179718.0   \n",
       "2   AIRPORT CONTAINER DEPOT TO CUSTOMS HSE MSA   20642.5   \n",
       "3                               Wilson Airport   22950.0   \n",
       "4                     Egerton University Njoro   50000.0   \n",
       "..                                         ...       ...   \n",
       "80                                  BUSIAFIBRE       NaN   \n",
       "81                       FIXED 30th Floor 3001       NaN   \n",
       "82                       FIXED 25th Floor 2575       NaN   \n",
       "83              KENYA SCHOOL OF REVENUE  FIBER       NaN   \n",
       "84                                       SIAYA       NaN   \n",
       "\n",
       "                                         SLM_Comments   QRC_Incl  \\\n",
       "0   16/04/2022: Upgraded 90 Mbps @ KES 649,050  ->...  939600.00   \n",
       "1                    Not in Invoice/Renamed/Relocated  625418.64   \n",
       "2                                     Okay. No change   71835.90   \n",
       "3                                     Okay. No change   79866.00   \n",
       "4                                     Okay. No change  174000.00   \n",
       "..                                                ...        ...   \n",
       "80                                                NaN        NaN   \n",
       "81                                                NaN        NaN   \n",
       "82                                                NaN        NaN   \n",
       "83                                                NaN        NaN   \n",
       "84                                                NaN        NaN   \n",
       "\n",
       "           SLA_ID Unique_Link_Identifier_SLA Service_Provider  \n",
       "0   2020-10-LTK00         2020-10-LTK00_1750              LTK  \n",
       "1   2020-10-LTK00         2020-10-LTK00_5277              LTK  \n",
       "2   2020-10-LTK00         2020-10-LTK00_5611              LTK  \n",
       "3   2020-10-LTK00        2020-10-LTK00_20103              LTK  \n",
       "4   2020-10-LTK00        2020-10-LTK00_20954              LTK  \n",
       "..            ...                        ...              ...  \n",
       "80  2023-10-Saf01     2023-10-Saf01_95096538              Saf  \n",
       "81  2023-10-Saf01     2023-10-Saf01_95006961              Saf  \n",
       "82  2023-10-Saf01     2023-10-Saf01_95006963              Saf  \n",
       "83  2023-10-Saf01     2023-10-Saf01_95021939              Saf  \n",
       "84  2023-10-Saf01     2023-10-Saf01_95018756              Saf  \n",
       "\n",
       "[85 rows x 11 columns]"
      ]
     },
     "execution_count": 36,
     "metadata": {},
     "output_type": "execute_result"
    }
   ],
   "source": [
    "combined_sla['Location'] = combined_sla['Location'].replace({'KRA': '',\n",
    "                                                                 '-': ''}, regex=True).str.strip()\n",
    "combined_sla"
   ]
  },
  {
   "cell_type": "code",
   "execution_count": 12,
   "metadata": {},
   "outputs": [
    {
     "ename": "NameError",
     "evalue": "name 'location_df' is not defined",
     "output_type": "error",
     "traceback": [
      "\u001b[1;31m---------------------------------------------------------------------------\u001b[0m",
      "\u001b[1;31mNameError\u001b[0m                                 Traceback (most recent call last)",
      "Cell \u001b[1;32mIn[12], line 1\u001b[0m\n\u001b[1;32m----> 1\u001b[0m \u001b[43mlocation_df\u001b[49m\u001b[38;5;241m.\u001b[39mhead()\n\u001b[0;32m      2\u001b[0m location_df\u001b[38;5;241m.\u001b[39minfo()\n",
      "\u001b[1;31mNameError\u001b[0m: name 'location_df' is not defined"
     ]
    }
   ],
   "source": [
    "location_df.head()\n",
    "location_df.info()"
   ]
  },
  {
   "cell_type": "code",
   "execution_count": 7,
   "metadata": {},
   "outputs": [
    {
     "data": {
      "application/vnd.plotly.v1+json": {
       "config": {
        "plotlyServerURL": "https://plot.ly"
       },
       "data": [
        {
         "hovertemplate": "<b>%{hovertext}</b><br><br>lat=%{lat}<br>lon=%{lon}<extra></extra>",
         "hovertext": [
          "Nairobi - Times Tower Building",
          "Nakuru - Generation House",
          "Nairobi - Sameer Park",
          "Nairobi - Ushuru Pension Towers",
          "Eldoret ",
          "Lodwar - Customs House",
          "Kitale - Trans - Nzoia Women Plaza",
          "Machakos, Sartaj Building, 3rd Floor, off Kangundo",
          "Nakuru - Generation House",
          "Thika - Thika House ",
          "KRA Central Region Headquarters - Nyeri",
          "Kerugoya - Machere Plaza",
          "Nanyuki - Ubii Plaza",
          "Murang'a - Ngeka Centre",
          "Kiambu Mall",
          "Mombasa - Customs House",
          "Malindi - Malindi Complex",
          "Voi - Potter's House",
          "Lamu - Mkunguni Square",
          "Ukunda - Holding Meridian",
          "Kisumu - Lake Basin Mall",
          "Kakamega - Posta House",
          "Kisii - Umoja Plaza",
          "Malaba OSBP",
          "Busia OSBP",
          "Isebania OSBP",
          "Nairobi - Sameer Park"
         ],
         "lat": [
          -1.290278,
          -0.285359,
          -1.3298749,
          -1.258983072,
          0.52112,
          3.124411,
          1.01553,
          -1.5162387,
          -0.2851198,
          -1.0339247,
          -0.4277859,
          -0.503365,
          0.0071471,
          -0.752162,
          1.1651,
          -4.0633338,
          -3.206917,
          -3.393726,
          -4.065511,
          -4.2865643,
          -0.0656451,
          0.2791543,
          -0.6745385,
          0.635165,
          0.465112,
          -1.2440181,
          -1.3298749
         ],
         "legendgroup": "",
         "lon": [
          36.8217003,
          36.064905,
          36.865326,
          36.79502824,
          35.268203,
          35.611669,
          35.0011083,
          37.2616345,
          36.0633087,
          37.0730209,
          36.9526206,
          37.2749683,
          37.071429,
          37.064128,
          36.8241,
          39.6682077,
          40.116022,
          38.560999,
          39.616796,
          39.5564676,
          34.7724719,
          34.7509143,
          34.7701621,
          34.2679716,
          34.0978743,
          34.4669867,
          36.865326
         ],
         "marker": {
          "color": "#636efa"
         },
         "mode": "markers",
         "name": "",
         "showlegend": false,
         "subplot": "mapbox",
         "type": "scattermapbox"
        }
       ],
       "layout": {
        "height": 500,
        "legend": {
         "tracegroupgap": 0
        },
        "mapbox": {
         "center": {
          "lat": -0.8814992730370369,
          "lon": 36.649012927407405
         },
         "domain": {
          "x": [
           0,
           1
          ],
          "y": [
           0,
           1
          ]
         },
         "style": "open-street-map",
         "zoom": 5
        },
        "margin": {
         "t": 60
        },
        "template": {
         "data": {
          "bar": [
           {
            "error_x": {
             "color": "#2a3f5f"
            },
            "error_y": {
             "color": "#2a3f5f"
            },
            "marker": {
             "line": {
              "color": "#E5ECF6",
              "width": 0.5
             },
             "pattern": {
              "fillmode": "overlay",
              "size": 10,
              "solidity": 0.2
             }
            },
            "type": "bar"
           }
          ],
          "barpolar": [
           {
            "marker": {
             "line": {
              "color": "#E5ECF6",
              "width": 0.5
             },
             "pattern": {
              "fillmode": "overlay",
              "size": 10,
              "solidity": 0.2
             }
            },
            "type": "barpolar"
           }
          ],
          "carpet": [
           {
            "aaxis": {
             "endlinecolor": "#2a3f5f",
             "gridcolor": "white",
             "linecolor": "white",
             "minorgridcolor": "white",
             "startlinecolor": "#2a3f5f"
            },
            "baxis": {
             "endlinecolor": "#2a3f5f",
             "gridcolor": "white",
             "linecolor": "white",
             "minorgridcolor": "white",
             "startlinecolor": "#2a3f5f"
            },
            "type": "carpet"
           }
          ],
          "choropleth": [
           {
            "colorbar": {
             "outlinewidth": 0,
             "ticks": ""
            },
            "type": "choropleth"
           }
          ],
          "contour": [
           {
            "colorbar": {
             "outlinewidth": 0,
             "ticks": ""
            },
            "colorscale": [
             [
              0,
              "#0d0887"
             ],
             [
              0.1111111111111111,
              "#46039f"
             ],
             [
              0.2222222222222222,
              "#7201a8"
             ],
             [
              0.3333333333333333,
              "#9c179e"
             ],
             [
              0.4444444444444444,
              "#bd3786"
             ],
             [
              0.5555555555555556,
              "#d8576b"
             ],
             [
              0.6666666666666666,
              "#ed7953"
             ],
             [
              0.7777777777777778,
              "#fb9f3a"
             ],
             [
              0.8888888888888888,
              "#fdca26"
             ],
             [
              1,
              "#f0f921"
             ]
            ],
            "type": "contour"
           }
          ],
          "contourcarpet": [
           {
            "colorbar": {
             "outlinewidth": 0,
             "ticks": ""
            },
            "type": "contourcarpet"
           }
          ],
          "heatmap": [
           {
            "colorbar": {
             "outlinewidth": 0,
             "ticks": ""
            },
            "colorscale": [
             [
              0,
              "#0d0887"
             ],
             [
              0.1111111111111111,
              "#46039f"
             ],
             [
              0.2222222222222222,
              "#7201a8"
             ],
             [
              0.3333333333333333,
              "#9c179e"
             ],
             [
              0.4444444444444444,
              "#bd3786"
             ],
             [
              0.5555555555555556,
              "#d8576b"
             ],
             [
              0.6666666666666666,
              "#ed7953"
             ],
             [
              0.7777777777777778,
              "#fb9f3a"
             ],
             [
              0.8888888888888888,
              "#fdca26"
             ],
             [
              1,
              "#f0f921"
             ]
            ],
            "type": "heatmap"
           }
          ],
          "heatmapgl": [
           {
            "colorbar": {
             "outlinewidth": 0,
             "ticks": ""
            },
            "colorscale": [
             [
              0,
              "#0d0887"
             ],
             [
              0.1111111111111111,
              "#46039f"
             ],
             [
              0.2222222222222222,
              "#7201a8"
             ],
             [
              0.3333333333333333,
              "#9c179e"
             ],
             [
              0.4444444444444444,
              "#bd3786"
             ],
             [
              0.5555555555555556,
              "#d8576b"
             ],
             [
              0.6666666666666666,
              "#ed7953"
             ],
             [
              0.7777777777777778,
              "#fb9f3a"
             ],
             [
              0.8888888888888888,
              "#fdca26"
             ],
             [
              1,
              "#f0f921"
             ]
            ],
            "type": "heatmapgl"
           }
          ],
          "histogram": [
           {
            "marker": {
             "pattern": {
              "fillmode": "overlay",
              "size": 10,
              "solidity": 0.2
             }
            },
            "type": "histogram"
           }
          ],
          "histogram2d": [
           {
            "colorbar": {
             "outlinewidth": 0,
             "ticks": ""
            },
            "colorscale": [
             [
              0,
              "#0d0887"
             ],
             [
              0.1111111111111111,
              "#46039f"
             ],
             [
              0.2222222222222222,
              "#7201a8"
             ],
             [
              0.3333333333333333,
              "#9c179e"
             ],
             [
              0.4444444444444444,
              "#bd3786"
             ],
             [
              0.5555555555555556,
              "#d8576b"
             ],
             [
              0.6666666666666666,
              "#ed7953"
             ],
             [
              0.7777777777777778,
              "#fb9f3a"
             ],
             [
              0.8888888888888888,
              "#fdca26"
             ],
             [
              1,
              "#f0f921"
             ]
            ],
            "type": "histogram2d"
           }
          ],
          "histogram2dcontour": [
           {
            "colorbar": {
             "outlinewidth": 0,
             "ticks": ""
            },
            "colorscale": [
             [
              0,
              "#0d0887"
             ],
             [
              0.1111111111111111,
              "#46039f"
             ],
             [
              0.2222222222222222,
              "#7201a8"
             ],
             [
              0.3333333333333333,
              "#9c179e"
             ],
             [
              0.4444444444444444,
              "#bd3786"
             ],
             [
              0.5555555555555556,
              "#d8576b"
             ],
             [
              0.6666666666666666,
              "#ed7953"
             ],
             [
              0.7777777777777778,
              "#fb9f3a"
             ],
             [
              0.8888888888888888,
              "#fdca26"
             ],
             [
              1,
              "#f0f921"
             ]
            ],
            "type": "histogram2dcontour"
           }
          ],
          "mesh3d": [
           {
            "colorbar": {
             "outlinewidth": 0,
             "ticks": ""
            },
            "type": "mesh3d"
           }
          ],
          "parcoords": [
           {
            "line": {
             "colorbar": {
              "outlinewidth": 0,
              "ticks": ""
             }
            },
            "type": "parcoords"
           }
          ],
          "pie": [
           {
            "automargin": true,
            "type": "pie"
           }
          ],
          "scatter": [
           {
            "fillpattern": {
             "fillmode": "overlay",
             "size": 10,
             "solidity": 0.2
            },
            "type": "scatter"
           }
          ],
          "scatter3d": [
           {
            "line": {
             "colorbar": {
              "outlinewidth": 0,
              "ticks": ""
             }
            },
            "marker": {
             "colorbar": {
              "outlinewidth": 0,
              "ticks": ""
             }
            },
            "type": "scatter3d"
           }
          ],
          "scattercarpet": [
           {
            "marker": {
             "colorbar": {
              "outlinewidth": 0,
              "ticks": ""
             }
            },
            "type": "scattercarpet"
           }
          ],
          "scattergeo": [
           {
            "marker": {
             "colorbar": {
              "outlinewidth": 0,
              "ticks": ""
             }
            },
            "type": "scattergeo"
           }
          ],
          "scattergl": [
           {
            "marker": {
             "colorbar": {
              "outlinewidth": 0,
              "ticks": ""
             }
            },
            "type": "scattergl"
           }
          ],
          "scattermapbox": [
           {
            "marker": {
             "colorbar": {
              "outlinewidth": 0,
              "ticks": ""
             }
            },
            "type": "scattermapbox"
           }
          ],
          "scatterpolar": [
           {
            "marker": {
             "colorbar": {
              "outlinewidth": 0,
              "ticks": ""
             }
            },
            "type": "scatterpolar"
           }
          ],
          "scatterpolargl": [
           {
            "marker": {
             "colorbar": {
              "outlinewidth": 0,
              "ticks": ""
             }
            },
            "type": "scatterpolargl"
           }
          ],
          "scatterternary": [
           {
            "marker": {
             "colorbar": {
              "outlinewidth": 0,
              "ticks": ""
             }
            },
            "type": "scatterternary"
           }
          ],
          "surface": [
           {
            "colorbar": {
             "outlinewidth": 0,
             "ticks": ""
            },
            "colorscale": [
             [
              0,
              "#0d0887"
             ],
             [
              0.1111111111111111,
              "#46039f"
             ],
             [
              0.2222222222222222,
              "#7201a8"
             ],
             [
              0.3333333333333333,
              "#9c179e"
             ],
             [
              0.4444444444444444,
              "#bd3786"
             ],
             [
              0.5555555555555556,
              "#d8576b"
             ],
             [
              0.6666666666666666,
              "#ed7953"
             ],
             [
              0.7777777777777778,
              "#fb9f3a"
             ],
             [
              0.8888888888888888,
              "#fdca26"
             ],
             [
              1,
              "#f0f921"
             ]
            ],
            "type": "surface"
           }
          ],
          "table": [
           {
            "cells": {
             "fill": {
              "color": "#EBF0F8"
             },
             "line": {
              "color": "white"
             }
            },
            "header": {
             "fill": {
              "color": "#C8D4E3"
             },
             "line": {
              "color": "white"
             }
            },
            "type": "table"
           }
          ]
         },
         "layout": {
          "annotationdefaults": {
           "arrowcolor": "#2a3f5f",
           "arrowhead": 0,
           "arrowwidth": 1
          },
          "autotypenumbers": "strict",
          "coloraxis": {
           "colorbar": {
            "outlinewidth": 0,
            "ticks": ""
           }
          },
          "colorscale": {
           "diverging": [
            [
             0,
             "#8e0152"
            ],
            [
             0.1,
             "#c51b7d"
            ],
            [
             0.2,
             "#de77ae"
            ],
            [
             0.3,
             "#f1b6da"
            ],
            [
             0.4,
             "#fde0ef"
            ],
            [
             0.5,
             "#f7f7f7"
            ],
            [
             0.6,
             "#e6f5d0"
            ],
            [
             0.7,
             "#b8e186"
            ],
            [
             0.8,
             "#7fbc41"
            ],
            [
             0.9,
             "#4d9221"
            ],
            [
             1,
             "#276419"
            ]
           ],
           "sequential": [
            [
             0,
             "#0d0887"
            ],
            [
             0.1111111111111111,
             "#46039f"
            ],
            [
             0.2222222222222222,
             "#7201a8"
            ],
            [
             0.3333333333333333,
             "#9c179e"
            ],
            [
             0.4444444444444444,
             "#bd3786"
            ],
            [
             0.5555555555555556,
             "#d8576b"
            ],
            [
             0.6666666666666666,
             "#ed7953"
            ],
            [
             0.7777777777777778,
             "#fb9f3a"
            ],
            [
             0.8888888888888888,
             "#fdca26"
            ],
            [
             1,
             "#f0f921"
            ]
           ],
           "sequentialminus": [
            [
             0,
             "#0d0887"
            ],
            [
             0.1111111111111111,
             "#46039f"
            ],
            [
             0.2222222222222222,
             "#7201a8"
            ],
            [
             0.3333333333333333,
             "#9c179e"
            ],
            [
             0.4444444444444444,
             "#bd3786"
            ],
            [
             0.5555555555555556,
             "#d8576b"
            ],
            [
             0.6666666666666666,
             "#ed7953"
            ],
            [
             0.7777777777777778,
             "#fb9f3a"
            ],
            [
             0.8888888888888888,
             "#fdca26"
            ],
            [
             1,
             "#f0f921"
            ]
           ]
          },
          "colorway": [
           "#636efa",
           "#EF553B",
           "#00cc96",
           "#ab63fa",
           "#FFA15A",
           "#19d3f3",
           "#FF6692",
           "#B6E880",
           "#FF97FF",
           "#FECB52"
          ],
          "font": {
           "color": "#2a3f5f"
          },
          "geo": {
           "bgcolor": "white",
           "lakecolor": "white",
           "landcolor": "#E5ECF6",
           "showlakes": true,
           "showland": true,
           "subunitcolor": "white"
          },
          "hoverlabel": {
           "align": "left"
          },
          "hovermode": "closest",
          "mapbox": {
           "style": "light"
          },
          "paper_bgcolor": "white",
          "plot_bgcolor": "#E5ECF6",
          "polar": {
           "angularaxis": {
            "gridcolor": "white",
            "linecolor": "white",
            "ticks": ""
           },
           "bgcolor": "#E5ECF6",
           "radialaxis": {
            "gridcolor": "white",
            "linecolor": "white",
            "ticks": ""
           }
          },
          "scene": {
           "xaxis": {
            "backgroundcolor": "#E5ECF6",
            "gridcolor": "white",
            "gridwidth": 2,
            "linecolor": "white",
            "showbackground": true,
            "ticks": "",
            "zerolinecolor": "white"
           },
           "yaxis": {
            "backgroundcolor": "#E5ECF6",
            "gridcolor": "white",
            "gridwidth": 2,
            "linecolor": "white",
            "showbackground": true,
            "ticks": "",
            "zerolinecolor": "white"
           },
           "zaxis": {
            "backgroundcolor": "#E5ECF6",
            "gridcolor": "white",
            "gridwidth": 2,
            "linecolor": "white",
            "showbackground": true,
            "ticks": "",
            "zerolinecolor": "white"
           }
          },
          "shapedefaults": {
           "line": {
            "color": "#2a3f5f"
           }
          },
          "ternary": {
           "aaxis": {
            "gridcolor": "white",
            "linecolor": "white",
            "ticks": ""
           },
           "baxis": {
            "gridcolor": "white",
            "linecolor": "white",
            "ticks": ""
           },
           "bgcolor": "#E5ECF6",
           "caxis": {
            "gridcolor": "white",
            "linecolor": "white",
            "ticks": ""
           }
          },
          "title": {
           "x": 0.05
          },
          "xaxis": {
           "automargin": true,
           "gridcolor": "white",
           "linecolor": "white",
           "ticks": "",
           "title": {
            "standoff": 15
           },
           "zerolinecolor": "white",
           "zerolinewidth": 2
          },
          "yaxis": {
           "automargin": true,
           "gridcolor": "white",
           "linecolor": "white",
           "ticks": "",
           "title": {
            "standoff": 15
           },
           "zerolinecolor": "white",
           "zerolinewidth": 2
          }
         }
        },
        "title": {
         "text": "Geographical Distribution of Shops"
        }
       }
      }
     },
     "metadata": {},
     "output_type": "display_data"
    }
   ],
   "source": [
    "import plotly.express as px\n",
    "\n",
    "# Create a scatter map using Plotly Express\n",
    "fig = px.scatter_mapbox(combined_sla, lat='lat', lon='lon', hover_name='TSO Name',\n",
    "                        zoom=5, height=500)\n",
    "\n",
    "# Customize map layout and style\n",
    "fig.update_layout(mapbox_style=\"open-street-map\")\n",
    "fig.update_layout(title='Geographical Distribution of Shops')\n",
    "fig.show()"
   ]
  },
  {
   "cell_type": "code",
   "execution_count": 10,
   "metadata": {},
   "outputs": [
    {
     "data": {
      "text/plain": [
       "array(['KRA KIXP', 'KRA Customs Hse - Times Tower',\n",
       "       'KRA AIRPORT CONTAINER DEPOT TO CUSTOMS HSE MSA',\n",
       "       'KRA Wilson Airport', 'KRA Egerton University Njoro',\n",
       "       'KRA Sameer Park', 'KRA -ICD Naivasha SGR', 'KRA City Hall',\n",
       "       'KRA Kajiado', 'KRA Narok', 'KRA Nairobi PPO',\n",
       "       'KRA JKIA Terminal 2', 'KRA Kisumu Pier', 'KRA Kitale',\n",
       "       'KRA Lamu Airport', 'KRA Kisumu Post Parcels (PPO)',\n",
       "       'KRA Kisumu Lake Basin Mall', 'KRA Kisumu Airport', 'KRA Maralal',\n",
       "       'KRA MIA Mombasa Baggage Hall', 'KRA Lodwar', 'CBC Upper Hill',\n",
       "       'WAN Backhaul', 'KRA Sameer Park MRI', 'JKIA Signon',\n",
       "       'JKIA Exports', 'BUNGOMA MICROWAVE', 'BUSIA-WIMAX',\n",
       "       'DR BACKHAUL FIBRE', 'ELDORET KIPTAGICH MPLS FIBER',\n",
       "       'ELDORET KPC LOOP MICROWAVE', 'HQ-INTERNET',\n",
       "       'FORODHA JKIA LOOP FIBER', 'FORTIS-WESTLANDS LOOP FIBER',\n",
       "       'GARISSA LOOP MICROWAVE', 'ISIOLO LOOP MICROWAVE',\n",
       "       'ISEBANIA-WIMAX', 'JKIA ACHIL SHED LOOP FIBER', 'JKIA SWISSPORT',\n",
       "       'KAKAMEGA LOOP CERAGON', 'KAJIADO-LOOP-FIBER', 'KERICHO FIBER',\n",
       "       'KILIFI MICROWAVE', 'KILINDINI 20  Mbps MPLS', 'KRA-LWAKHAKHA',\n",
       "       'KRA-KOPANGA', 'KRA-SIO PORT', 'KRA-MARALAL', 'KRA - KIAMBU',\n",
       "       'KISII LOOP CERAGON', 'KISUMU-LOOP-MICROWAVE', 'KITUI CERAGON',\n",
       "       'KRATI MOMBASA WIMAX', 'LOITOKTOK BORDER WIMAX',\n",
       "       'LUNGA LUNGA WIMAX', 'MACHAKOS LOOP FIBER', 'MALABA-WIMAX',\n",
       "       'MALINDI-WIMAX', 'MANDERA', 'MERU LOOP CERAGON',\n",
       "       'MOI AIRPORT MSA LOOP MICROWAVE', 'KRA - Moyale',\n",
       "       'MURANGA - 15  Mbps MPLS', 'NAIVASHA LOOP FIBER',\n",
       "       'NAIVASHA ICD-MICROWAVE MPLS', 'NAKURU GENERATION LOOP FIBER',\n",
       "       'NAKURU KPC MICROWAVE', 'NAMANGA WIMAX', 'NANYUKI LOOP FIBER',\n",
       "       'NAROK-LOOP-CERAGON', 'NYERI CERAGON', 'MBITA CERAGON',\n",
       "       'PODO PARK-KESRA LOOP FIBER', 'KRA-CITY SQUARE PPO',\n",
       "       'SHIMONI- WIMAX', 'TAVETA CERAGON', 'THIKA-WIMAX', 'VOI CERAGON',\n",
       "       'WAJIR TOWN', 'USENGE 10  Mbps MPLS', 'KRA - BUSIA-FIBRE',\n",
       "       'KRA - FIXED 30th Floor 3001', 'KRA - FIXED 25th Floor 2575',\n",
       "       'KENYA SCHOOL OF REVENUE  -FIBER', 'KRA -SIAYA'], dtype=object)"
      ]
     },
     "execution_count": 10,
     "metadata": {},
     "output_type": "execute_result"
    }
   ],
   "source": [
    "combined_sla['Location'].unique()"
   ]
  },
  {
   "cell_type": "code",
   "execution_count": 11,
   "metadata": {},
   "outputs": [
    {
     "name": "stdout",
     "output_type": "stream",
     "text": [
      "b'{\"help\": \"https://open.africa/api/3/action/help_show?name=datastore_search\", \"success\": true, \"result\": {\"include_total\": true, \"limit\": 5, \"q\": \"title:jones\", \"records_format\": \"objects\", \"resource_id\": \"25d2357f-d0b2-4ad9-8e8f-aa95cc149e42\", \"total_estimation_threshold\": null, \"records\": [], \"fields\": [{\"id\": \"_id\", \"type\": \"int\"}, {\"id\": \"sensor_id\", \"type\": \"numeric\"}, {\"id\": \"sensor_type\", \"type\": \"text\"}, {\"id\": \"location\", \"type\": \"numeric\"}, {\"id\": \"lat\", \"type\": \"numeric\"}, {\"id\": \"lon\", \"type\": \"numeric\"}, {\"id\": \"timestamp\", \"type\": \"timestamp\"}, {\"id\": \"value_type\", \"type\": \"text\"}, {\"id\": \"value\", \"type\": \"numeric\"}, {\"id\": \"rank\", \"type\": \"float\"}], \"_links\": {\"start\": \"/api/3/action/datastore_search?resource_id=25d2357f-d0b2-4ad9-8e8f-aa95cc149e42&limit=5&q=title%3Ajones\", \"next\": \"/api/3/action/datastore_search?resource_id=25d2357f-d0b2-4ad9-8e8f-aa95cc149e42&limit=5&q=title%3Ajones&offset=5\"}, \"total\": 0, \"total_was_estimated\": false}}'\n"
     ]
    }
   ],
   "source": [
    "import urllib.request\n",
    "url = 'https://open.africa/api/3/action/datastore_search?resource_id=25d2357f-d0b2-4ad9-8e8f-aa95cc149e42&limit=5&q=title:jones'  \n",
    "fileobj = urllib.request.urlopen(url)\n",
    "print(fileobj.read())\n",
    "https://open.africa/dataset/sensorsafrica-airquality-archive-nairobi"
   ]
  },
  {
   "cell_type": "code",
   "execution_count": 14,
   "metadata": {},
   "outputs": [
    {
     "name": "stdout",
     "output_type": "stream",
     "text": [
      "Collecting ucimlrepo\n",
      "  Downloading ucimlrepo-0.0.6-py3-none-any.whl.metadata (5.3 kB)\n",
      "Downloading ucimlrepo-0.0.6-py3-none-any.whl (8.0 kB)\n",
      "Installing collected packages: ucimlrepo\n",
      "Successfully installed ucimlrepo-0.0.6\n",
      "{'uci_id': 360, 'name': 'Air Quality', 'repository_url': 'https://archive.ics.uci.edu/dataset/360/air+quality', 'data_url': 'https://archive.ics.uci.edu/static/public/360/data.csv', 'abstract': 'Contains the responses of a gas multisensor device deployed on the field in an Italian city. Hourly responses averages are recorded along with gas concentrations references from a certified analyzer. ', 'area': 'Computer Science', 'tasks': ['Regression'], 'characteristics': ['Multivariate', 'Time-Series'], 'num_instances': 9358, 'num_features': 15, 'feature_types': ['Real'], 'demographics': [], 'target_col': None, 'index_col': None, 'has_missing_values': 'no', 'missing_values_symbol': None, 'year_of_dataset_creation': 2008, 'last_updated': 'Sun Mar 10 2024', 'dataset_doi': '10.24432/C59K5F', 'creators': ['Saverio Vito'], 'intro_paper': {'title': 'On field calibration of an electronic nose for benzene estimation in an urban pollution monitoring scenario', 'authors': 'S. D. Vito, E. Massera, M. Piga, L. Martinotto, G. Francia', 'published_in': 'Sensors and Actuators B: Chemical', 'year': 2008, 'url': 'https://www.semanticscholar.org/paper/a90a54a39ff934772df57771a0012981f355949d', 'doi': '10.1016/j.snb.2007.09.060'}, 'additional_info': {'summary': 'The dataset contains 9358 instances of hourly averaged responses from an array of 5 metal oxide chemical sensors embedded in an Air Quality Chemical Multisensor Device. The device was located on the field in a significantly polluted area, at road level,within an Italian city. Data were recorded from March 2004 to February 2005 (one year)representing the longest freely available recordings of on field deployed air quality chemical sensor devices responses. Ground Truth hourly averaged concentrations for CO, Non Metanic Hydrocarbons, Benzene, Total Nitrogen Oxides (NOx) and Nitrogen Dioxide (NO2)  and were provided by a co-located reference certified analyzer. Evidences of cross-sensitivities as well as both concept and sensor drifts are present as described in De Vito et al., Sens. And Act. B, Vol. 129,2,2008 (citation required) eventually affecting sensors concentration estimation capabilities. Missing values are tagged with -200 value.\\r\\nThis dataset can be used exclusively for research purposes. Commercial purposes are fully excluded.\\r\\n', 'purpose': None, 'funded_by': None, 'instances_represent': None, 'recommended_data_splits': None, 'sensitive_data': None, 'preprocessing_description': None, 'variable_info': '0 Date\\t(DD/MM/YYYY)\\r\\n1 Time\\t(HH.MM.SS)\\r\\n2 True hourly averaged concentration CO in mg/m^3  (reference analyzer)\\r\\n3 PT08.S1 (tin oxide)  hourly averaged sensor response (nominally  CO targeted)\\t\\r\\n4 True hourly averaged overall Non Metanic HydroCarbons concentration in microg/m^3 (reference analyzer)\\r\\n5 True hourly averaged Benzene concentration  in microg/m^3 (reference analyzer)\\r\\n6 PT08.S2 (titania) hourly averaged sensor response (nominally NMHC targeted)\\t\\r\\n7 True hourly averaged NOx concentration  in ppb (reference analyzer)\\r\\n8 PT08.S3 (tungsten oxide) hourly averaged sensor response (nominally NOx targeted) \\r\\n9 True hourly averaged NO2 concentration in microg/m^3 (reference analyzer)\\t\\r\\n10 PT08.S4 (tungsten oxide) hourly averaged sensor response (nominally NO2 targeted)\\t\\r\\n11 PT08.S5 (indium oxide) hourly averaged sensor response (nominally O3 targeted)\\r\\n12 Temperature in Â°C\\t\\r\\n13 Relative Humidity (%) \\t\\r\\n14 AH Absolute Humidity\\r\\n', 'citation': None}}\n",
      "             name     role         type demographic  \\\n",
      "0            Date  Feature         Date        None   \n",
      "1            Time  Feature  Categorical        None   \n",
      "2          CO(GT)  Feature      Integer        None   \n",
      "3     PT08.S1(CO)  Feature  Categorical        None   \n",
      "4        NMHC(GT)  Feature      Integer        None   \n",
      "5        C6H6(GT)  Feature   Continuous        None   \n",
      "6   PT08.S2(NMHC)  Feature  Categorical        None   \n",
      "7         NOx(GT)  Feature      Integer        None   \n",
      "8    PT08.S3(NOx)  Feature  Categorical        None   \n",
      "9         NO2(GT)  Feature      Integer        None   \n",
      "10   PT08.S4(NO2)  Feature  Categorical        None   \n",
      "11    PT08.S5(O3)  Feature  Categorical        None   \n",
      "12              T  Feature   Continuous        None   \n",
      "13             RH  Feature   Continuous        None   \n",
      "14             AH  Feature   Continuous        None   \n",
      "\n",
      "                                          description       units  \\\n",
      "0                                                None        None   \n",
      "1                                                None        None   \n",
      "2   True hourly averaged concentration CO in mg/m^...      mg/m^3   \n",
      "3   hourly averaged sensor response (nominally  CO...        None   \n",
      "4   True hourly averaged overall Non Metanic Hydro...  microg/m^3   \n",
      "5   True hourly averaged Benzene concentration  in...  microg/m^3   \n",
      "6   hourly averaged sensor response (nominally NMH...        None   \n",
      "7   True hourly averaged NOx concentration  in ppb...         ppb   \n",
      "8   hourly averaged sensor response (nominally NOx...        None   \n",
      "9   True hourly averaged NO2 concentration in micr...  microg/m^3   \n",
      "10  hourly averaged sensor response (nominally NO2...        None   \n",
      "11  hourly averaged sensor response (nominally O3 ...        None   \n",
      "12                                        Temperature          °C   \n",
      "13                                  Relative Humidity           %   \n",
      "14                                  Absolute Humidity        None   \n",
      "\n",
      "   missing_values  \n",
      "0              no  \n",
      "1              no  \n",
      "2              no  \n",
      "3              no  \n",
      "4              no  \n",
      "5              no  \n",
      "6              no  \n",
      "7              no  \n",
      "8              no  \n",
      "9              no  \n",
      "10             no  \n",
      "11             no  \n",
      "12             no  \n",
      "13             no  \n",
      "14             no  \n"
     ]
    }
   ],
   "source": [
    "!pip install ucimlrepo\n",
    "from ucimlrepo import fetch_ucirepo \n",
    "  \n",
    "# fetch dataset \n",
    "air_quality = fetch_ucirepo(id=360) \n",
    "  \n",
    "# data (as pandas dataframes) \n",
    "X = air_quality.data.features \n",
    "y = air_quality.data.targets \n",
    "  \n",
    "# metadata \n",
    "print(air_quality.metadata) \n",
    "  \n",
    "# variable information \n",
    "print(air_quality.variables) \n"
   ]
  },
  {
   "cell_type": "code",
   "execution_count": 15,
   "metadata": {},
   "outputs": [
    {
     "name": "stdout",
     "output_type": "stream",
     "text": [
      "{'uci_id': 360, 'name': 'Air Quality', 'repository_url': 'https://archive.ics.uci.edu/dataset/360/air+quality', 'data_url': 'https://archive.ics.uci.edu/static/public/360/data.csv', 'abstract': 'Contains the responses of a gas multisensor device deployed on the field in an Italian city. Hourly responses averages are recorded along with gas concentrations references from a certified analyzer. ', 'area': 'Computer Science', 'tasks': ['Regression'], 'characteristics': ['Multivariate', 'Time-Series'], 'num_instances': 9358, 'num_features': 15, 'feature_types': ['Real'], 'demographics': [], 'target_col': None, 'index_col': None, 'has_missing_values': 'no', 'missing_values_symbol': None, 'year_of_dataset_creation': 2008, 'last_updated': 'Sun Mar 10 2024', 'dataset_doi': '10.24432/C59K5F', 'creators': ['Saverio Vito'], 'intro_paper': {'title': 'On field calibration of an electronic nose for benzene estimation in an urban pollution monitoring scenario', 'authors': 'S. D. Vito, E. Massera, M. Piga, L. Martinotto, G. Francia', 'published_in': 'Sensors and Actuators B: Chemical', 'year': 2008, 'url': 'https://www.semanticscholar.org/paper/a90a54a39ff934772df57771a0012981f355949d', 'doi': '10.1016/j.snb.2007.09.060'}, 'additional_info': {'summary': 'The dataset contains 9358 instances of hourly averaged responses from an array of 5 metal oxide chemical sensors embedded in an Air Quality Chemical Multisensor Device. The device was located on the field in a significantly polluted area, at road level,within an Italian city. Data were recorded from March 2004 to February 2005 (one year)representing the longest freely available recordings of on field deployed air quality chemical sensor devices responses. Ground Truth hourly averaged concentrations for CO, Non Metanic Hydrocarbons, Benzene, Total Nitrogen Oxides (NOx) and Nitrogen Dioxide (NO2)  and were provided by a co-located reference certified analyzer. Evidences of cross-sensitivities as well as both concept and sensor drifts are present as described in De Vito et al., Sens. And Act. B, Vol. 129,2,2008 (citation required) eventually affecting sensors concentration estimation capabilities. Missing values are tagged with -200 value.\\r\\nThis dataset can be used exclusively for research purposes. Commercial purposes are fully excluded.\\r\\n', 'purpose': None, 'funded_by': None, 'instances_represent': None, 'recommended_data_splits': None, 'sensitive_data': None, 'preprocessing_description': None, 'variable_info': '0 Date\\t(DD/MM/YYYY)\\r\\n1 Time\\t(HH.MM.SS)\\r\\n2 True hourly averaged concentration CO in mg/m^3  (reference analyzer)\\r\\n3 PT08.S1 (tin oxide)  hourly averaged sensor response (nominally  CO targeted)\\t\\r\\n4 True hourly averaged overall Non Metanic HydroCarbons concentration in microg/m^3 (reference analyzer)\\r\\n5 True hourly averaged Benzene concentration  in microg/m^3 (reference analyzer)\\r\\n6 PT08.S2 (titania) hourly averaged sensor response (nominally NMHC targeted)\\t\\r\\n7 True hourly averaged NOx concentration  in ppb (reference analyzer)\\r\\n8 PT08.S3 (tungsten oxide) hourly averaged sensor response (nominally NOx targeted) \\r\\n9 True hourly averaged NO2 concentration in microg/m^3 (reference analyzer)\\t\\r\\n10 PT08.S4 (tungsten oxide) hourly averaged sensor response (nominally NO2 targeted)\\t\\r\\n11 PT08.S5 (indium oxide) hourly averaged sensor response (nominally O3 targeted)\\r\\n12 Temperature in Â°C\\t\\r\\n13 Relative Humidity (%) \\t\\r\\n14 AH Absolute Humidity\\r\\n', 'citation': None}}\n"
     ]
    }
   ],
   "source": [
    "print(air_quality.metadata) "
   ]
  },
  {
   "cell_type": "code",
   "execution_count": 53,
   "metadata": {},
   "outputs": [
    {
     "data": {
      "application/vnd.plotly.v1+json": {
       "config": {
        "plotlyServerURL": "https://plot.ly"
       },
       "data": [
        {
         "hoverinfo": "text",
         "hovertext": [
          "Nairobi-Times Tower",
          "Nairobi-Times Tower",
          "Mombasa - Customs House",
          "Wilson Airport",
          "Egerton University Njoro",
          "Nairobi-Sameer Park",
          "Icd Naivasha Sgr",
          "Nairobi - City Hall",
          "Kajiado",
          "Narok",
          "Nairobi",
          "Jkia Terminal 2",
          "Kisumu",
          "Kitale",
          "Lamu Airport",
          "Kisumu Post Parcels ()",
          "Kisumu Lake Basin Mall",
          "Kisumu Airport",
          "Maralal",
          "Mia Mombasa Baggage Hall",
          "Lodwar",
          "Upper Hill, Elgon Road - nairobi",
          "Nairobi-Times Tower",
          "Nairobi-Sameer Park",
          "Jkia Signon",
          "Jkia Exports",
          "Bungoma",
          "Busia",
          "Nairobi-Times Tower",
          "Eldoret Kiptagich Mpls",
          "Eldoret Kpc",
          "Nairobi-Times Tower",
          "Forodha Jkia",
          "Fortis westlands",
          "Garissa",
          "Isiolo",
          "Isebania",
          "Jkia Achil Shed",
          "Jkia Swissport",
          "Kakamega",
          "Kajiado",
          "Kericho",
          "Kilifi",
          "Kilindini 20  Mbps Mpls",
          "Lwakhakha",
          "kilindini",
          "Sio Port",
          "Maralal",
          "Kiambu",
          "Kisii",
          "Kisumu",
          "Kitui",
          "Ti Mombasa",
          "Loitoktok Border",
          "Lunga Lunga",
          "Machakos",
          "Malaba Kenya",
          "Malindi",
          "Mandera",
          "Meru",
          "Mombasa - Customs House",
          "Moyale",
          "Muranga  15  Mbps Mpls",
          "Naivasha",
          "Naivasha Icd Mpls",
          "Nakuru Generation",
          "Nakuru Kpc",
          "Namanga",
          "Nanyuki",
          "Narok",
          "Nyeri",
          "Mbita",
          "KESRA Nairobi",
          "Nairobi-City Square",
          "Shimoni",
          "Taveta",
          "Thika",
          "Voi",
          "Wajir Town",
          "Usenge 10  Mbps Mpls",
          "Busia",
          "Nairobi-Times Tower",
          "Nairobi-Times Tower",
          "KESRA Nairobi",
          "Siaya"
         ],
         "lat": [
          -1.2904051,
          -1.2904051,
          -4.05052,
          -1.32412125,
          -0.36856855,
          -1.3299496,
          -0.8870395,
          -1.28661395,
          -2.12171705,
          -1.2779365500000002,
          -1.2832533,
          -1.32953025,
          -0.1029109,
          1.018076,
          -2.25515925,
          -0.1029109,
          -0.06575485,
          -0.0869947,
          1.1,
          -4.05052,
          3.1165858,
          -1.3033037,
          -1.2904051,
          -1.3299496,
          -1.3169486,
          -1.3169486,
          0.78292445,
          0.3712048,
          -1.2904051,
          0.5198329,
          0.5198329,
          -1.2904051,
          -1.3371965,
          -1.2648843,
          -0.4567099,
          1.00606005,
          -1.2376692,
          -1.3169486,
          -1.3169486,
          0.4957104,
          -2.12171705,
          -0.3666,
          -3.15073925,
          -4.0586939,
          null,
          -4.0586939,
          0.2240966,
          1.1,
          -1.03639505,
          -0.73894255,
          -0.1029109,
          -1.56422195,
          -4.05052,
          -2.92079845,
          -4.3533981,
          -1.27900465,
          0.6289925999999999,
          -3.2165987,
          3.2285332,
          0.0499786,
          -4.05052,
          2.86885305,
          -0.83170875,
          -0.8870395,
          -0.8870395,
          -0.7276337,
          -0.2802724,
          -2.5480008,
          0.01403,
          -1.2779365500000002,
          -0.4192962,
          -0.4997824,
          -1.2832533,
          -1.2823792,
          -4.644991,
          -3.559095,
          -1.036648,
          -3.5592753000000004,
          1.7504651,
          -0.0670539,
          0.3712048,
          -1.2904051,
          -1.2904051,
          -1.2832533,
          -0.06040135
         ],
         "lon": [
          36.8242254,
          36.8242254,
          39.667169,
          36.81124971616441,
          35.932295500583024,
          36.86640774506255,
          36.36487730618629,
          36.822002571898906,
          36.78625503675998,
          35.47742284932569,
          36.8172449,
          36.93262655,
          34.7541761,
          35.000236,
          40.91468616649272,
          34.7541761,
          34.77502401527315,
          34.7383296,
          36.7,
          39.667169,
          35.6022943,
          36.81403230953238,
          36.8242254,
          36.86640774506255,
          36.92885691400423,
          36.92885691400423,
          34.71916810731902,
          34.26479520608315,
          36.8242254,
          35.2715481,
          35.2715481,
          36.8242254,
          36.9171283,
          36.803928,
          39.6404713,
          38.74789538540634,
          34.480132858535335,
          36.92885691400423,
          36.92885691400423,
          34.801548861634615,
          36.78625503675998,
          35.2833,
          39.67507159193717,
          39.6526603,
          null,
          39.6526603,
          34.0216329,
          36.7,
          36.843131163110776,
          34.75398551201732,
          34.7541761,
          38.372811618864006,
          39.667169,
          37.501405360077385,
          38.96226441996511,
          37.39526976452546,
          34.29813445774934,
          40.1165933,
          40.705615316515406,
          37.6500063,
          39.667169,
          38.83203237871054,
          37.00492162779861,
          36.36487730618629,
          36.36487730618629,
          36.4293473,
          36.0712048,
          36.7926632,
          37.074632,
          35.47742284932569,
          36.9517005,
          34.31430371628298,
          36.8172449,
          36.8222341,
          39.380882,
          37.94553598006146,
          37.077523,
          38.80360488752321,
          40.0594959,
          34.0565093,
          34.26479520608315,
          36.8242254,
          36.8242254,
          36.8172449,
          34.200135009996295
         ],
         "marker": {
          "size": 9
         },
         "mode": "markers+text",
         "text": [
          "Nairobi-Times Tower",
          "Nairobi-Times Tower",
          "Mombasa - Customs House",
          "Wilson Airport",
          "Egerton University Njoro",
          "Nairobi-Sameer Park",
          "Icd Naivasha Sgr",
          "Nairobi - City Hall",
          "Kajiado",
          "Narok",
          "Nairobi",
          "Jkia Terminal 2",
          "Kisumu",
          "Kitale",
          "Lamu Airport",
          "Kisumu Post Parcels ()",
          "Kisumu Lake Basin Mall",
          "Kisumu Airport",
          "Maralal",
          "Mia Mombasa Baggage Hall",
          "Lodwar",
          "Upper Hill, Elgon Road - nairobi",
          "Nairobi-Times Tower",
          "Nairobi-Sameer Park",
          "Jkia Signon",
          "Jkia Exports",
          "Bungoma",
          "Busia",
          "Nairobi-Times Tower",
          "Eldoret Kiptagich Mpls",
          "Eldoret Kpc",
          "Nairobi-Times Tower",
          "Forodha Jkia",
          "Fortis westlands",
          "Garissa",
          "Isiolo",
          "Isebania",
          "Jkia Achil Shed",
          "Jkia Swissport",
          "Kakamega",
          "Kajiado",
          "Kericho",
          "Kilifi",
          "Kilindini 20  Mbps Mpls",
          "Lwakhakha",
          "kilindini",
          "Sio Port",
          "Maralal",
          "Kiambu",
          "Kisii",
          "Kisumu",
          "Kitui",
          "Ti Mombasa",
          "Loitoktok Border",
          "Lunga Lunga",
          "Machakos",
          "Malaba Kenya",
          "Malindi",
          "Mandera",
          "Meru",
          "Mombasa - Customs House",
          "Moyale",
          "Muranga  15  Mbps Mpls",
          "Naivasha",
          "Naivasha Icd Mpls",
          "Nakuru Generation",
          "Nakuru Kpc",
          "Namanga",
          "Nanyuki",
          "Narok",
          "Nyeri",
          "Mbita",
          "KESRA Nairobi",
          "Nairobi-City Square",
          "Shimoni",
          "Taveta",
          "Thika",
          "Voi",
          "Wajir Town",
          "Usenge 10  Mbps Mpls",
          "Busia",
          "Nairobi-Times Tower",
          "Nairobi-Times Tower",
          "KESRA Nairobi",
          "Siaya"
         ],
         "textposition": "top right",
         "type": "scattermapbox"
        }
       ],
       "layout": {
        "height": 500,
        "mapbox": {
         "center": {
          "lat": 0,
          "lon": 37
         },
         "style": "open-street-map",
         "zoom": 5
        },
        "template": {
         "data": {
          "bar": [
           {
            "error_x": {
             "color": "#2a3f5f"
            },
            "error_y": {
             "color": "#2a3f5f"
            },
            "marker": {
             "line": {
              "color": "#E5ECF6",
              "width": 0.5
             },
             "pattern": {
              "fillmode": "overlay",
              "size": 10,
              "solidity": 0.2
             }
            },
            "type": "bar"
           }
          ],
          "barpolar": [
           {
            "marker": {
             "line": {
              "color": "#E5ECF6",
              "width": 0.5
             },
             "pattern": {
              "fillmode": "overlay",
              "size": 10,
              "solidity": 0.2
             }
            },
            "type": "barpolar"
           }
          ],
          "carpet": [
           {
            "aaxis": {
             "endlinecolor": "#2a3f5f",
             "gridcolor": "white",
             "linecolor": "white",
             "minorgridcolor": "white",
             "startlinecolor": "#2a3f5f"
            },
            "baxis": {
             "endlinecolor": "#2a3f5f",
             "gridcolor": "white",
             "linecolor": "white",
             "minorgridcolor": "white",
             "startlinecolor": "#2a3f5f"
            },
            "type": "carpet"
           }
          ],
          "choropleth": [
           {
            "colorbar": {
             "outlinewidth": 0,
             "ticks": ""
            },
            "type": "choropleth"
           }
          ],
          "contour": [
           {
            "colorbar": {
             "outlinewidth": 0,
             "ticks": ""
            },
            "colorscale": [
             [
              0,
              "#0d0887"
             ],
             [
              0.1111111111111111,
              "#46039f"
             ],
             [
              0.2222222222222222,
              "#7201a8"
             ],
             [
              0.3333333333333333,
              "#9c179e"
             ],
             [
              0.4444444444444444,
              "#bd3786"
             ],
             [
              0.5555555555555556,
              "#d8576b"
             ],
             [
              0.6666666666666666,
              "#ed7953"
             ],
             [
              0.7777777777777778,
              "#fb9f3a"
             ],
             [
              0.8888888888888888,
              "#fdca26"
             ],
             [
              1,
              "#f0f921"
             ]
            ],
            "type": "contour"
           }
          ],
          "contourcarpet": [
           {
            "colorbar": {
             "outlinewidth": 0,
             "ticks": ""
            },
            "type": "contourcarpet"
           }
          ],
          "heatmap": [
           {
            "colorbar": {
             "outlinewidth": 0,
             "ticks": ""
            },
            "colorscale": [
             [
              0,
              "#0d0887"
             ],
             [
              0.1111111111111111,
              "#46039f"
             ],
             [
              0.2222222222222222,
              "#7201a8"
             ],
             [
              0.3333333333333333,
              "#9c179e"
             ],
             [
              0.4444444444444444,
              "#bd3786"
             ],
             [
              0.5555555555555556,
              "#d8576b"
             ],
             [
              0.6666666666666666,
              "#ed7953"
             ],
             [
              0.7777777777777778,
              "#fb9f3a"
             ],
             [
              0.8888888888888888,
              "#fdca26"
             ],
             [
              1,
              "#f0f921"
             ]
            ],
            "type": "heatmap"
           }
          ],
          "heatmapgl": [
           {
            "colorbar": {
             "outlinewidth": 0,
             "ticks": ""
            },
            "colorscale": [
             [
              0,
              "#0d0887"
             ],
             [
              0.1111111111111111,
              "#46039f"
             ],
             [
              0.2222222222222222,
              "#7201a8"
             ],
             [
              0.3333333333333333,
              "#9c179e"
             ],
             [
              0.4444444444444444,
              "#bd3786"
             ],
             [
              0.5555555555555556,
              "#d8576b"
             ],
             [
              0.6666666666666666,
              "#ed7953"
             ],
             [
              0.7777777777777778,
              "#fb9f3a"
             ],
             [
              0.8888888888888888,
              "#fdca26"
             ],
             [
              1,
              "#f0f921"
             ]
            ],
            "type": "heatmapgl"
           }
          ],
          "histogram": [
           {
            "marker": {
             "pattern": {
              "fillmode": "overlay",
              "size": 10,
              "solidity": 0.2
             }
            },
            "type": "histogram"
           }
          ],
          "histogram2d": [
           {
            "colorbar": {
             "outlinewidth": 0,
             "ticks": ""
            },
            "colorscale": [
             [
              0,
              "#0d0887"
             ],
             [
              0.1111111111111111,
              "#46039f"
             ],
             [
              0.2222222222222222,
              "#7201a8"
             ],
             [
              0.3333333333333333,
              "#9c179e"
             ],
             [
              0.4444444444444444,
              "#bd3786"
             ],
             [
              0.5555555555555556,
              "#d8576b"
             ],
             [
              0.6666666666666666,
              "#ed7953"
             ],
             [
              0.7777777777777778,
              "#fb9f3a"
             ],
             [
              0.8888888888888888,
              "#fdca26"
             ],
             [
              1,
              "#f0f921"
             ]
            ],
            "type": "histogram2d"
           }
          ],
          "histogram2dcontour": [
           {
            "colorbar": {
             "outlinewidth": 0,
             "ticks": ""
            },
            "colorscale": [
             [
              0,
              "#0d0887"
             ],
             [
              0.1111111111111111,
              "#46039f"
             ],
             [
              0.2222222222222222,
              "#7201a8"
             ],
             [
              0.3333333333333333,
              "#9c179e"
             ],
             [
              0.4444444444444444,
              "#bd3786"
             ],
             [
              0.5555555555555556,
              "#d8576b"
             ],
             [
              0.6666666666666666,
              "#ed7953"
             ],
             [
              0.7777777777777778,
              "#fb9f3a"
             ],
             [
              0.8888888888888888,
              "#fdca26"
             ],
             [
              1,
              "#f0f921"
             ]
            ],
            "type": "histogram2dcontour"
           }
          ],
          "mesh3d": [
           {
            "colorbar": {
             "outlinewidth": 0,
             "ticks": ""
            },
            "type": "mesh3d"
           }
          ],
          "parcoords": [
           {
            "line": {
             "colorbar": {
              "outlinewidth": 0,
              "ticks": ""
             }
            },
            "type": "parcoords"
           }
          ],
          "pie": [
           {
            "automargin": true,
            "type": "pie"
           }
          ],
          "scatter": [
           {
            "fillpattern": {
             "fillmode": "overlay",
             "size": 10,
             "solidity": 0.2
            },
            "type": "scatter"
           }
          ],
          "scatter3d": [
           {
            "line": {
             "colorbar": {
              "outlinewidth": 0,
              "ticks": ""
             }
            },
            "marker": {
             "colorbar": {
              "outlinewidth": 0,
              "ticks": ""
             }
            },
            "type": "scatter3d"
           }
          ],
          "scattercarpet": [
           {
            "marker": {
             "colorbar": {
              "outlinewidth": 0,
              "ticks": ""
             }
            },
            "type": "scattercarpet"
           }
          ],
          "scattergeo": [
           {
            "marker": {
             "colorbar": {
              "outlinewidth": 0,
              "ticks": ""
             }
            },
            "type": "scattergeo"
           }
          ],
          "scattergl": [
           {
            "marker": {
             "colorbar": {
              "outlinewidth": 0,
              "ticks": ""
             }
            },
            "type": "scattergl"
           }
          ],
          "scattermapbox": [
           {
            "marker": {
             "colorbar": {
              "outlinewidth": 0,
              "ticks": ""
             }
            },
            "type": "scattermapbox"
           }
          ],
          "scatterpolar": [
           {
            "marker": {
             "colorbar": {
              "outlinewidth": 0,
              "ticks": ""
             }
            },
            "type": "scatterpolar"
           }
          ],
          "scatterpolargl": [
           {
            "marker": {
             "colorbar": {
              "outlinewidth": 0,
              "ticks": ""
             }
            },
            "type": "scatterpolargl"
           }
          ],
          "scatterternary": [
           {
            "marker": {
             "colorbar": {
              "outlinewidth": 0,
              "ticks": ""
             }
            },
            "type": "scatterternary"
           }
          ],
          "surface": [
           {
            "colorbar": {
             "outlinewidth": 0,
             "ticks": ""
            },
            "colorscale": [
             [
              0,
              "#0d0887"
             ],
             [
              0.1111111111111111,
              "#46039f"
             ],
             [
              0.2222222222222222,
              "#7201a8"
             ],
             [
              0.3333333333333333,
              "#9c179e"
             ],
             [
              0.4444444444444444,
              "#bd3786"
             ],
             [
              0.5555555555555556,
              "#d8576b"
             ],
             [
              0.6666666666666666,
              "#ed7953"
             ],
             [
              0.7777777777777778,
              "#fb9f3a"
             ],
             [
              0.8888888888888888,
              "#fdca26"
             ],
             [
              1,
              "#f0f921"
             ]
            ],
            "type": "surface"
           }
          ],
          "table": [
           {
            "cells": {
             "fill": {
              "color": "#EBF0F8"
             },
             "line": {
              "color": "white"
             }
            },
            "header": {
             "fill": {
              "color": "#C8D4E3"
             },
             "line": {
              "color": "white"
             }
            },
            "type": "table"
           }
          ]
         },
         "layout": {
          "annotationdefaults": {
           "arrowcolor": "#2a3f5f",
           "arrowhead": 0,
           "arrowwidth": 1
          },
          "autotypenumbers": "strict",
          "coloraxis": {
           "colorbar": {
            "outlinewidth": 0,
            "ticks": ""
           }
          },
          "colorscale": {
           "diverging": [
            [
             0,
             "#8e0152"
            ],
            [
             0.1,
             "#c51b7d"
            ],
            [
             0.2,
             "#de77ae"
            ],
            [
             0.3,
             "#f1b6da"
            ],
            [
             0.4,
             "#fde0ef"
            ],
            [
             0.5,
             "#f7f7f7"
            ],
            [
             0.6,
             "#e6f5d0"
            ],
            [
             0.7,
             "#b8e186"
            ],
            [
             0.8,
             "#7fbc41"
            ],
            [
             0.9,
             "#4d9221"
            ],
            [
             1,
             "#276419"
            ]
           ],
           "sequential": [
            [
             0,
             "#0d0887"
            ],
            [
             0.1111111111111111,
             "#46039f"
            ],
            [
             0.2222222222222222,
             "#7201a8"
            ],
            [
             0.3333333333333333,
             "#9c179e"
            ],
            [
             0.4444444444444444,
             "#bd3786"
            ],
            [
             0.5555555555555556,
             "#d8576b"
            ],
            [
             0.6666666666666666,
             "#ed7953"
            ],
            [
             0.7777777777777778,
             "#fb9f3a"
            ],
            [
             0.8888888888888888,
             "#fdca26"
            ],
            [
             1,
             "#f0f921"
            ]
           ],
           "sequentialminus": [
            [
             0,
             "#0d0887"
            ],
            [
             0.1111111111111111,
             "#46039f"
            ],
            [
             0.2222222222222222,
             "#7201a8"
            ],
            [
             0.3333333333333333,
             "#9c179e"
            ],
            [
             0.4444444444444444,
             "#bd3786"
            ],
            [
             0.5555555555555556,
             "#d8576b"
            ],
            [
             0.6666666666666666,
             "#ed7953"
            ],
            [
             0.7777777777777778,
             "#fb9f3a"
            ],
            [
             0.8888888888888888,
             "#fdca26"
            ],
            [
             1,
             "#f0f921"
            ]
           ]
          },
          "colorway": [
           "#636efa",
           "#EF553B",
           "#00cc96",
           "#ab63fa",
           "#FFA15A",
           "#19d3f3",
           "#FF6692",
           "#B6E880",
           "#FF97FF",
           "#FECB52"
          ],
          "font": {
           "color": "#2a3f5f"
          },
          "geo": {
           "bgcolor": "white",
           "lakecolor": "white",
           "landcolor": "#E5ECF6",
           "showlakes": true,
           "showland": true,
           "subunitcolor": "white"
          },
          "hoverlabel": {
           "align": "left"
          },
          "hovermode": "closest",
          "mapbox": {
           "style": "light"
          },
          "paper_bgcolor": "white",
          "plot_bgcolor": "#E5ECF6",
          "polar": {
           "angularaxis": {
            "gridcolor": "white",
            "linecolor": "white",
            "ticks": ""
           },
           "bgcolor": "#E5ECF6",
           "radialaxis": {
            "gridcolor": "white",
            "linecolor": "white",
            "ticks": ""
           }
          },
          "scene": {
           "xaxis": {
            "backgroundcolor": "#E5ECF6",
            "gridcolor": "white",
            "gridwidth": 2,
            "linecolor": "white",
            "showbackground": true,
            "ticks": "",
            "zerolinecolor": "white"
           },
           "yaxis": {
            "backgroundcolor": "#E5ECF6",
            "gridcolor": "white",
            "gridwidth": 2,
            "linecolor": "white",
            "showbackground": true,
            "ticks": "",
            "zerolinecolor": "white"
           },
           "zaxis": {
            "backgroundcolor": "#E5ECF6",
            "gridcolor": "white",
            "gridwidth": 2,
            "linecolor": "white",
            "showbackground": true,
            "ticks": "",
            "zerolinecolor": "white"
           }
          },
          "shapedefaults": {
           "line": {
            "color": "#2a3f5f"
           }
          },
          "ternary": {
           "aaxis": {
            "gridcolor": "white",
            "linecolor": "white",
            "ticks": ""
           },
           "baxis": {
            "gridcolor": "white",
            "linecolor": "white",
            "ticks": ""
           },
           "bgcolor": "#E5ECF6",
           "caxis": {
            "gridcolor": "white",
            "linecolor": "white",
            "ticks": ""
           }
          },
          "title": {
           "x": 0.05
          },
          "xaxis": {
           "automargin": true,
           "gridcolor": "white",
           "linecolor": "white",
           "ticks": "",
           "title": {
            "standoff": 15
           },
           "zerolinecolor": "white",
           "zerolinewidth": 2
          },
          "yaxis": {
           "automargin": true,
           "gridcolor": "white",
           "linecolor": "white",
           "ticks": "",
           "title": {
            "standoff": 15
           },
           "zerolinecolor": "white",
           "zerolinewidth": 2
          }
         }
        },
        "title": {
         "text": "Geographical Distribution of Shops"
        }
       }
      }
     },
     "metadata": {},
     "output_type": "display_data"
    }
   ],
   "source": [
    "import plotly.graph_objects as go\n",
    "import pandas as pd\n",
    "\n",
    "# Example DataFrame\n",
    "\n",
    "# Create map\n",
    "fig = go.Figure()\n",
    "\n",
    "# Add scatter mapbox layer with markers and text\n",
    "fig.add_trace(go.Scattermapbox(\n",
    "    lat=combined_sla['lat'],\n",
    "    lon=combined_sla['lon'],\n",
    "    mode='markers+text',  # Ensures markers and text are shown\n",
    "    marker=go.scattermapbox.Marker(size=9),\n",
    "    text=combined_sla['Location'],  # Text labels to be shown\n",
    "    textposition='top right',  # Adjust text position as needed\n",
    "    hoverinfo='text',\n",
    "    hovertext=combined_sla['Location']  # This will show the TSO Name on hover\n",
    "))\n",
    "\n",
    "# Customize map layout\n",
    "fig.update_layout(\n",
    "    mapbox=dict(\n",
    "        style='open-street-map',\n",
    "        zoom=5,\n",
    "        center=dict(lat=0, lon=37)\n",
    "    ),\n",
    "    title='Geographical Distribution of Shops',\n",
    "    height=500\n",
    ")\n",
    "\n",
    "# Show map\n",
    "fig.show()\n"
   ]
  },
  {
   "cell_type": "markdown",
   "metadata": {},
   "source": [
    "##### Combining the Cordinates and TSO Name "
   ]
  },
  {
   "cell_type": "code",
   "execution_count": 2,
   "metadata": {},
   "outputs": [],
   "source": [
    "import pandas as pd\n",
    "ltk_sla_df = pd.read_csv('C:\\\\Users\\\\USER\\\\OneDrive\\\\KRA WORK\\\\2024 WS\\SLA EDA\\\\SLA_ETL\\\\Processsed_Data\\\\LTK_SLA.csv')\n",
    "saf_sla_df = pd.read_csv('C:\\\\Users\\\\USER\\\\OneDrive\\\\KRA WORK\\\\2024 WS\\SLA EDA\\\\SLA_ETL\\\\Processsed_Data\\\\Saf_SLA.csv')\n",
    "combined_sla = pd.read_csv('C:\\\\Users\\\\USER\\\\OneDrive\\\\KRA WORK\\\\2024 WS\\SLA EDA\\\\SLA_ETL\\\\Processsed_Data\\\\SLA_Combined.csv')\n",
    "\n",
    "ltk_invoice_df = pd.read_csv('C:\\\\Users\\\\USER\\\\OneDrive\\\\KRA WORK\\\\2024 WS\\SLA EDA\\\\SLA_ETL\\\\Processsed_Data\\\\LTK_Invoice.csv')\n",
    "saf_invoice_df = pd.read_csv('C:\\\\Users\\\\USER\\\\OneDrive\\\\KRA WORK\\\\2024 WS\\SLA EDA\\\\SLA_ETL\\\\Processsed_Data\\\\Saf_Invoice.csv')\n",
    "combined_Invoice = pd.read_csv('C:\\\\Users\\\\USER\\\\OneDrive\\\\KRA WORK\\\\2024 WS\\SLA EDA\\\\SLA_ETL\\\\Processsed_Data\\\\Invoice_Combined.csv')"
   ]
  },
  {
   "cell_type": "code",
   "execution_count": 57,
   "metadata": {},
   "outputs": [],
   "source": [
    "import pandas as pd\n",
    "\n",
    "# Load the JSON file into a DataFrame\n",
    "locs = pd.read_json('C:\\\\Users\\\\USER\\\\OneDrive\\\\KRA WORK\\\\2024 WS\\\\SLA EDA\\\\SLA_ETL\\\\KRA Stations.json')\n",
    "\n",
    "# Extract relevant columns and convert data types\n",
    "wanted_cols = ['latitude', 'longitude', 'shopname']\n",
    "kra_location_df = locs['markers'].apply(pd.Series)[wanted_cols]\n",
    "\n",
    "\n",
    "kra_location_df['latitude'] = kra_location_df['latitude'].astype(float)\n",
    "kra_location_df['longitude'] = kra_location_df['longitude'].astype(float)\n",
    "\n",
    "\n",
    "\n",
    "# Now kra_location_df contains only the desired columns with correct data types\n",
    "kra_location_df.head()\n",
    "kra_location_df.rename(columns = {'shopname': 'TSO Name', 'latitude': 'lat', 'longitude': 'lon'}, inplace = True)"
   ]
  },
  {
   "cell_type": "code",
   "execution_count": 62,
   "metadata": {},
   "outputs": [
    {
     "data": {
      "text/html": [
       "<div>\n",
       "<style scoped>\n",
       "    .dataframe tbody tr th:only-of-type {\n",
       "        vertical-align: middle;\n",
       "    }\n",
       "\n",
       "    .dataframe tbody tr th {\n",
       "        vertical-align: top;\n",
       "    }\n",
       "\n",
       "    .dataframe thead th {\n",
       "        text-align: right;\n",
       "    }\n",
       "</style>\n",
       "<table border=\"1\" class=\"dataframe\">\n",
       "  <thead>\n",
       "    <tr style=\"text-align: right;\">\n",
       "      <th></th>\n",
       "      <th>TSO_name</th>\n",
       "      <th>Search Key</th>\n",
       "    </tr>\n",
       "  </thead>\n",
       "  <tbody>\n",
       "    <tr>\n",
       "      <th>0</th>\n",
       "      <td>Kixp</td>\n",
       "      <td>None</td>\n",
       "    </tr>\n",
       "    <tr>\n",
       "      <th>1</th>\n",
       "      <td>Customs Hse  Times Tower</td>\n",
       "      <td>None</td>\n",
       "    </tr>\n",
       "    <tr>\n",
       "      <th>2</th>\n",
       "      <td>Airport Container Depot To Customs Hse Msa</td>\n",
       "      <td>None</td>\n",
       "    </tr>\n",
       "    <tr>\n",
       "      <th>3</th>\n",
       "      <td>Wilson Airport</td>\n",
       "      <td>None</td>\n",
       "    </tr>\n",
       "    <tr>\n",
       "      <th>4</th>\n",
       "      <td>Egerton University Njoro</td>\n",
       "      <td>None</td>\n",
       "    </tr>\n",
       "    <tr>\n",
       "      <th>...</th>\n",
       "      <td>...</td>\n",
       "      <td>...</td>\n",
       "    </tr>\n",
       "    <tr>\n",
       "      <th>80</th>\n",
       "      <td>Busiafibre</td>\n",
       "      <td>Busia OSBP</td>\n",
       "    </tr>\n",
       "    <tr>\n",
       "      <th>81</th>\n",
       "      <td>Fixed 30Th Floor 3001</td>\n",
       "      <td>Nairobi - Times Tower Building</td>\n",
       "    </tr>\n",
       "    <tr>\n",
       "      <th>82</th>\n",
       "      <td>Fixed 25Th Floor 2575</td>\n",
       "      <td>Nairobi - Times Tower Building</td>\n",
       "    </tr>\n",
       "    <tr>\n",
       "      <th>83</th>\n",
       "      <td>Kenya School Of Revenue  Fiber</td>\n",
       "      <td>None</td>\n",
       "    </tr>\n",
       "    <tr>\n",
       "      <th>84</th>\n",
       "      <td>Siaya</td>\n",
       "      <td>None</td>\n",
       "    </tr>\n",
       "  </tbody>\n",
       "</table>\n",
       "<p>85 rows × 2 columns</p>\n",
       "</div>"
      ],
      "text/plain": [
       "                                      TSO_name                      Search Key\n",
       "0                                         Kixp                            None\n",
       "1                     Customs Hse  Times Tower                            None\n",
       "2   Airport Container Depot To Customs Hse Msa                            None\n",
       "3                               Wilson Airport                            None\n",
       "4                     Egerton University Njoro                            None\n",
       "..                                         ...                             ...\n",
       "80                                  Busiafibre                      Busia OSBP\n",
       "81                       Fixed 30Th Floor 3001  Nairobi - Times Tower Building\n",
       "82                       Fixed 25Th Floor 2575  Nairobi - Times Tower Building\n",
       "83              Kenya School Of Revenue  Fiber                            None\n",
       "84                                       Siaya                            None\n",
       "\n",
       "[85 rows x 2 columns]"
      ]
     },
     "execution_count": 62,
     "metadata": {},
     "output_type": "execute_result"
    }
   ],
   "source": [
    "# adding Location not found in table table\n",
    "kra_location_df.drop_duplicates()\n",
    "\n",
    "\n",
    "#Creating the Location Table and adding the TSO in Our Dataset\n",
    "locations_cor_df = pd.DataFrame(\n",
    "    {\n",
    "        'TSO_name' : combined_sla['Location'].replace({'KRA': '',\n",
    "                                                        '-': '',\n",
    "                                                        'INTERNET': ''}, regex=True).str.strip().str.title()\n",
    "    }\n",
    ")\n",
    "\n",
    "\n",
    "def find_coordinates(tso_name, kra_location_df):\n",
    "    for _, row in kra_location_df.iterrows():\n",
    "        if row['TSO Name'].split('-')[0].strip().lower() in tso_name.lower():\n",
    "            return row['TSO Name']\n",
    "        elif row['TSO Name'].split(' ')[0].strip().lower() in tso_name.lower():\n",
    "            return row['TSO Name']\n",
    "        elif row['TSO Name'].split(',')[0].strip().lower() in tso_name.lower():\n",
    "            return row['TSO Name']\n",
    "    if tso_name.split(' ')[0].lower() in ['fixed', 'city', 'hq', 'kixp']:\n",
    "        return 'Nairobi - Times Tower Building'    \n",
    "    elif tso_name.split(' ')[0].lower() in ['jkia', 'forodha']:\n",
    "        return 'JKIA'\n",
    "    return 'None'\n",
    "\n",
    "# Apply the function to the 'TSO_name' column to create 'Coordinates' column\n",
    "locations_cor_df['Search Key'] = locations_cor_df['TSO_name'].apply(lambda x: find_coordinates(x, kra_location_df))\n",
    "\n",
    "\n",
    "locations_cor_df\n"
   ]
  },
  {
   "cell_type": "code",
   "execution_count": 48,
   "metadata": {},
   "outputs": [
    {
     "name": "stdout",
     "output_type": "stream",
     "text": [
      "  TSO_name Coordinates\n",
      "0  Abc 123        None\n",
      "1  Def 456        None\n",
      "2  Ghi 789        None\n"
     ]
    }
   ],
   "source": [
    "import pandas as pd\n",
    "\n",
    "# Sample data for illustration\n",
    "combined_sla = pd.DataFrame({\n",
    "    'Location': ['KRA-ABC-123', 'KRA-DEF-456', 'KRA-GHI-789']\n",
    "})\n",
    "\n",
    "kra_location_df = pd.DataFrame({\n",
    "    'TSO Name': ['ABC', 'DEF', 'GHI'],\n",
    "    'Coordinates': ['123,456', '789,012', '345,678']  # Example coordinates\n",
    "})\n",
    "\n",
    "# Creating the Location Table and adding the TSO in Our Dataset\n",
    "locations_cor_df = pd.DataFrame({\n",
    "    'TSO_name': combined_sla['Location'].replace({'KRA': '', '-': ' '}, regex=True).str.strip().str.title()\n",
    "})\n",
    "\n",
    "# Function to find the matching TSO Name and return the corresponding coordinates\n",
    "def find_coordinates(tso_name, kra_location_df):\n",
    "    for _, row in kra_location_df.iterrows():\n",
    "        if row['TSO Name'] in tso_name:\n",
    "            return row['Coordinates']\n",
    "    return 'None'\n",
    "\n",
    "# Apply the function to the 'TSO_name' column to create 'Coordinates' column\n",
    "locations_cor_df['Coordinates'] = locations_cor_df['TSO_name'].apply(lambda x: find_coordinates(x, kra_location_df))\n",
    "\n",
    "print(locations_cor_df)\n"
   ]
  },
  {
   "cell_type": "markdown",
   "metadata": {},
   "source": [
    "##### Nominatim API Approach"
   ]
  },
  {
   "cell_type": "code",
   "execution_count": 162,
   "metadata": {},
   "outputs": [
    {
     "name": "stdout",
     "output_type": "stream",
     "text": [
      "Collecting python-Levenshtein\n",
      "  Downloading python_Levenshtein-0.25.1-py3-none-any.whl.metadata (3.7 kB)\n",
      "Collecting Levenshtein==0.25.1 (from python-Levenshtein)\n",
      "  Downloading Levenshtein-0.25.1-cp310-cp310-win_amd64.whl.metadata (3.4 kB)\n",
      "Collecting rapidfuzz<4.0.0,>=3.8.0 (from Levenshtein==0.25.1->python-Levenshtein)\n",
      "  Downloading rapidfuzz-3.9.1-cp310-cp310-win_amd64.whl.metadata (11 kB)\n",
      "Downloading python_Levenshtein-0.25.1-py3-none-any.whl (9.4 kB)\n",
      "Downloading Levenshtein-0.25.1-cp310-cp310-win_amd64.whl (98 kB)\n",
      "   ---------------------------------------- 0.0/98.3 kB ? eta -:--:--\n",
      "   ---- ----------------------------------- 10.2/98.3 kB ? eta -:--:--\n",
      "   ------------ --------------------------- 30.7/98.3 kB 435.7 kB/s eta 0:00:01\n",
      "   ------------ --------------------------- 30.7/98.3 kB 435.7 kB/s eta 0:00:01\n",
      "   ------------------------ --------------- 61.4/98.3 kB 297.7 kB/s eta 0:00:01\n",
      "   ---------------------------------------- 98.3/98.3 kB 431.8 kB/s eta 0:00:00\n",
      "Downloading rapidfuzz-3.9.1-cp310-cp310-win_amd64.whl (1.7 MB)\n",
      "   ---------------------------------------- 0.0/1.7 MB ? eta -:--:--\n",
      "   - -------------------------------------- 0.1/1.7 MB ? eta -:--:--\n",
      "   -- ------------------------------------- 0.1/1.7 MB 6.4 MB/s eta 0:00:01\n",
      "   -- ------------------------------------- 0.1/1.7 MB 6.4 MB/s eta 0:00:01\n",
      "   --- ------------------------------------ 0.1/1.7 MB 944.1 kB/s eta 0:00:02\n",
      "   ---- ----------------------------------- 0.2/1.7 MB 958.4 kB/s eta 0:00:02\n",
      "   ------ --------------------------------- 0.3/1.7 MB 1.0 MB/s eta 0:00:02\n",
      "   ------ --------------------------------- 0.3/1.7 MB 896.4 kB/s eta 0:00:02\n",
      "   ------- -------------------------------- 0.3/1.7 MB 967.8 kB/s eta 0:00:02\n",
      "   --------- ------------------------------ 0.4/1.7 MB 1.0 MB/s eta 0:00:02\n",
      "   ---------- ----------------------------- 0.5/1.7 MB 1.0 MB/s eta 0:00:02\n",
      "   ---------------- ----------------------- 0.7/1.7 MB 1.0 MB/s eta 0:00:01\n",
      "   ------------------- -------------------- 0.8/1.7 MB 1.1 MB/s eta 0:00:01\n",
      "   -------------------- ------------------- 0.8/1.7 MB 1.0 MB/s eta 0:00:01\n",
      "   --------------------- ------------------ 0.9/1.7 MB 1.1 MB/s eta 0:00:01\n",
      "   ------------------------ --------------- 1.0/1.7 MB 1.1 MB/s eta 0:00:01\n",
      "   ------------------------ --------------- 1.0/1.7 MB 1.1 MB/s eta 0:00:01\n",
      "   -------------------------- ------------- 1.1/1.7 MB 1.1 MB/s eta 0:00:01\n",
      "   --------------------------- ------------ 1.1/1.7 MB 1.1 MB/s eta 0:00:01\n",
      "   ----------------------------- ---------- 1.2/1.7 MB 1.1 MB/s eta 0:00:01\n",
      "   ------------------------------ --------- 1.3/1.7 MB 1.1 MB/s eta 0:00:01\n",
      "   -------------------------------- ------- 1.3/1.7 MB 1.1 MB/s eta 0:00:01\n",
      "   ---------------------------------- ----- 1.4/1.7 MB 1.1 MB/s eta 0:00:01\n",
      "   ----------------------------------- ---- 1.5/1.7 MB 1.2 MB/s eta 0:00:01\n",
      "   ------------------------------------- -- 1.6/1.7 MB 1.2 MB/s eta 0:00:01\n",
      "   ---------------------------------------  1.6/1.7 MB 1.2 MB/s eta 0:00:01\n",
      "   ---------------------------------------- 1.7/1.7 MB 1.2 MB/s eta 0:00:00\n",
      "Installing collected packages: rapidfuzz, Levenshtein, python-Levenshtein\n",
      "Successfully installed Levenshtein-0.25.1 python-Levenshtein-0.25.1 rapidfuzz-3.9.1\n"
     ]
    }
   ],
   "source": [
    "!pip install  python-Levenshtein\n",
    "#import fuzz"
   ]
  },
  {
   "cell_type": "code",
   "execution_count": 8,
   "metadata": {},
   "outputs": [],
   "source": [
    "import requests\n",
    "import pandas as pd\n",
    "import numpy as np\n",
    "from fuzzywuzzy import fuzz\n",
    "\n",
    "def get_coordinates(location_name, depth=0):\n",
    "    base_url = 'https://nominatim.openstreetmap.org/search'\n",
    "    params = {'q': location_name, 'format': 'json', 'limit': 5}\n",
    "    headers = {'User-Agent': 'Mozilla/5.0'}\n",
    "    response = requests.get(base_url, params=params, headers=headers)\n",
    "    data = response.json()\n",
    "\n",
    "    if data:\n",
    "        best_match = None\n",
    "        max_ratio = 0\n",
    "        for result in data:\n",
    "            if any(country in result.get('display_name', '') for country in ['Kenya', 'Uganda', 'Tanzania', 'Rwanda', 'Burundi']):\n",
    "                ratio = fuzz.partial_ratio(location_name.lower(), result.get('display_name', '').lower())\n",
    "                if ratio > max_ratio:\n",
    "                    max_ratio = ratio\n",
    "                    best_match = result\n",
    "        \n",
    "        if best_match:\n",
    "            latitude = best_match['lat']\n",
    "            longitude = best_match['lon']\n",
    "            return latitude, longitude\n",
    "\n",
    "    if depth == 0:\n",
    "        parts = location_name.split()\n",
    "        if len(parts) > 1:\n",
    "            first_part = parts[0]\n",
    "            second_part = parts[1]\n",
    "            if first_part != location_name:\n",
    "                first_part_result = get_coordinates(first_part, depth + 1)\n",
    "                if first_part_result != (None, None):\n",
    "                    return first_part_result\n",
    "\n",
    "            if second_part != location_name:\n",
    "                second_part_result = get_coordinates(second_part, depth + 1)\n",
    "                if second_part_result != (None, None):\n",
    "                    return second_part_result\n",
    "\n",
    "    return None, None\n",
    "\n",
    "\n",
    "\n",
    "#applying the function into our data\n",
    "#combined_sla[['lat', 'lon']] = combined_sla['Location'].apply(lambda x: pd.Series(get_coordinates(x)))"
   ]
  },
  {
   "cell_type": "code",
   "execution_count": null,
   "metadata": {},
   "outputs": [],
   "source": []
  },
  {
   "cell_type": "code",
   "execution_count": 22,
   "metadata": {},
   "outputs": [],
   "source": [
    "#Cleaning up the locations col\n",
    "combined_sla = pd.read_csv('C:\\\\Users\\\\USER\\\\OneDrive\\\\KRA WORK\\\\2024 WS\\SLA EDA\\\\SLA_ETL\\\\Processsed_Data\\\\SLA_Combined.csv')\n",
    "\n",
    "#defining a function to clean the location col\n",
    "def clean_location(location):\n",
    "    #Defining Partial Replacements\n",
    "    partial_replacements = {\n",
    "        'kra': '',\n",
    "        '-': '',\n",
    "        'internet': '',\n",
    "        'ceragon': '',\n",
    "        'wimax': '',\n",
    "        'fiber': '',\n",
    "        'loop': '',\n",
    "        'microwave':'',\n",
    "        'ppo': '',\n",
    "        'pier': '',\n",
    "        'fibre': ''\n",
    "\n",
    "    }\n",
    "\n",
    "    #Defining replacements for entire cellls\n",
    "    full_replacement = {\n",
    "        'sameer': 'Nairobi-Sameer Park',\n",
    "        'hq' : 'Nairobi-Times Tower',\n",
    "        'fixed' : 'Nairobi-Times Tower',\n",
    "        'kixp' : 'Nairobi-Times Tower',\n",
    "        'backhaul': 'Nairobi-Times Tower',\n",
    "        'times tower' : 'Nairobi-Times Tower',\n",
    "        'msa': 'Mombasa - Customs House',\n",
    "        'city hall': 'Nairobi - City Hall',\n",
    "        'kenya school': 'KESRA Nairobi',\n",
    "        'kesra':'KESRA Nairobi',\n",
    "        'fortiswestlands': 'Fortis westlands',\n",
    "        'kopanga': 'kilindini'\n",
    "        \n",
    "\n",
    "    } \n",
    "\n",
    "    #Performing the partial replacements\n",
    "    for key,value in partial_replacements.items():\n",
    "        location = location.lower().replace(key, value)\n",
    "\n",
    "    #Perform full replacements\n",
    "    for key, value in full_replacement.items():\n",
    "        if key in location.lower():\n",
    "            return value\n",
    "        \n",
    "    # strip and title case the final string\n",
    "    location = location.strip().title()\n",
    "\n",
    "    return location\n",
    "\n",
    "combined_sla['Location'] = combined_sla['Location'].apply(clean_location)"
   ]
  },
  {
   "cell_type": "code",
   "execution_count": 52,
   "metadata": {},
   "outputs": [],
   "source": [
    "combined_sla = pd.read_csv('C:\\\\Users\\\\USER\\\\OneDrive\\\\KRA WORK\\\\2024 WS\\SLA EDA\\\\SLA_ETL\\\\Processsed_Data\\\\SLA_Combined.csv')"
   ]
  },
  {
   "cell_type": "code",
   "execution_count": 24,
   "metadata": {},
   "outputs": [],
   "source": [
    "#applying the function into our data\n",
    "combined_sla[['lat', 'lon']] = combined_sla['Location'].apply(lambda x: pd.Series(get_coordinates(x))).astype(float)"
   ]
  },
  {
   "cell_type": "code",
   "execution_count": 25,
   "metadata": {},
   "outputs": [
    {
     "data": {
      "text/html": [
       "<div>\n",
       "<style scoped>\n",
       "    .dataframe tbody tr th:only-of-type {\n",
       "        vertical-align: middle;\n",
       "    }\n",
       "\n",
       "    .dataframe tbody tr th {\n",
       "        vertical-align: top;\n",
       "    }\n",
       "\n",
       "    .dataframe thead th {\n",
       "        text-align: right;\n",
       "    }\n",
       "</style>\n",
       "<table border=\"1\" class=\"dataframe\">\n",
       "  <thead>\n",
       "    <tr style=\"text-align: right;\">\n",
       "      <th></th>\n",
       "      <th>Link_ID</th>\n",
       "      <th>SLA_Date</th>\n",
       "      <th>Last_Mile</th>\n",
       "      <th>Capacity_in_Mbps</th>\n",
       "      <th>Location</th>\n",
       "      <th>MRC_Excl</th>\n",
       "      <th>SLM_Comments</th>\n",
       "      <th>QRC_Incl</th>\n",
       "      <th>SLA_ID</th>\n",
       "      <th>Unique_Link_Identifier_SLA</th>\n",
       "      <th>Service_Provider</th>\n",
       "      <th>lat</th>\n",
       "      <th>lon</th>\n",
       "    </tr>\n",
       "  </thead>\n",
       "  <tbody>\n",
       "    <tr>\n",
       "      <th>0</th>\n",
       "      <td>1750</td>\n",
       "      <td>2020-10-01</td>\n",
       "      <td>Fibre</td>\n",
       "      <td>90</td>\n",
       "      <td>Nairobi-Times Tower</td>\n",
       "      <td>270000.0</td>\n",
       "      <td>16/04/2022: Upgraded 90 Mbps @ KES 649,050  -&gt;...</td>\n",
       "      <td>939600.00</td>\n",
       "      <td>2020-10-LTK00</td>\n",
       "      <td>2020-10-LTK00_1750</td>\n",
       "      <td>LTK</td>\n",
       "      <td>-1.290405</td>\n",
       "      <td>36.824225</td>\n",
       "    </tr>\n",
       "    <tr>\n",
       "      <th>1</th>\n",
       "      <td>5277</td>\n",
       "      <td>2020-10-01</td>\n",
       "      <td>Fibre</td>\n",
       "      <td>75</td>\n",
       "      <td>Nairobi-Times Tower</td>\n",
       "      <td>179718.0</td>\n",
       "      <td>Not in Invoice/Renamed/Relocated</td>\n",
       "      <td>625418.64</td>\n",
       "      <td>2020-10-LTK00</td>\n",
       "      <td>2020-10-LTK00_5277</td>\n",
       "      <td>LTK</td>\n",
       "      <td>-1.290405</td>\n",
       "      <td>36.824225</td>\n",
       "    </tr>\n",
       "    <tr>\n",
       "      <th>2</th>\n",
       "      <td>5611</td>\n",
       "      <td>2020-10-01</td>\n",
       "      <td>Fibre</td>\n",
       "      <td>8</td>\n",
       "      <td>Mombasa - Customs House</td>\n",
       "      <td>20642.5</td>\n",
       "      <td>Okay. No change</td>\n",
       "      <td>71835.90</td>\n",
       "      <td>2020-10-LTK00</td>\n",
       "      <td>2020-10-LTK00_5611</td>\n",
       "      <td>LTK</td>\n",
       "      <td>-4.050520</td>\n",
       "      <td>39.667169</td>\n",
       "    </tr>\n",
       "    <tr>\n",
       "      <th>3</th>\n",
       "      <td>20103</td>\n",
       "      <td>2020-10-01</td>\n",
       "      <td>Fibre</td>\n",
       "      <td>9</td>\n",
       "      <td>Wilson Airport</td>\n",
       "      <td>22950.0</td>\n",
       "      <td>Okay. No change</td>\n",
       "      <td>79866.00</td>\n",
       "      <td>2020-10-LTK00</td>\n",
       "      <td>2020-10-LTK00_20103</td>\n",
       "      <td>LTK</td>\n",
       "      <td>-1.324121</td>\n",
       "      <td>36.811250</td>\n",
       "    </tr>\n",
       "    <tr>\n",
       "      <th>4</th>\n",
       "      <td>20954</td>\n",
       "      <td>2020-10-01</td>\n",
       "      <td>Fibre</td>\n",
       "      <td>20</td>\n",
       "      <td>Egerton University Njoro</td>\n",
       "      <td>50000.0</td>\n",
       "      <td>Okay. No change</td>\n",
       "      <td>174000.00</td>\n",
       "      <td>2020-10-LTK00</td>\n",
       "      <td>2020-10-LTK00_20954</td>\n",
       "      <td>LTK</td>\n",
       "      <td>-0.368569</td>\n",
       "      <td>35.932296</td>\n",
       "    </tr>\n",
       "  </tbody>\n",
       "</table>\n",
       "</div>"
      ],
      "text/plain": [
       "  Link_ID    SLA_Date Last_Mile  Capacity_in_Mbps                  Location  \\\n",
       "0    1750  2020-10-01     Fibre                90       Nairobi-Times Tower   \n",
       "1    5277  2020-10-01     Fibre                75       Nairobi-Times Tower   \n",
       "2    5611  2020-10-01     Fibre                 8   Mombasa - Customs House   \n",
       "3   20103  2020-10-01     Fibre                 9            Wilson Airport   \n",
       "4   20954  2020-10-01     Fibre                20  Egerton University Njoro   \n",
       "\n",
       "   MRC_Excl                                       SLM_Comments   QRC_Incl  \\\n",
       "0  270000.0  16/04/2022: Upgraded 90 Mbps @ KES 649,050  ->...  939600.00   \n",
       "1  179718.0                   Not in Invoice/Renamed/Relocated  625418.64   \n",
       "2   20642.5                                    Okay. No change   71835.90   \n",
       "3   22950.0                                    Okay. No change   79866.00   \n",
       "4   50000.0                                    Okay. No change  174000.00   \n",
       "\n",
       "          SLA_ID Unique_Link_Identifier_SLA Service_Provider       lat  \\\n",
       "0  2020-10-LTK00         2020-10-LTK00_1750              LTK -1.290405   \n",
       "1  2020-10-LTK00         2020-10-LTK00_5277              LTK -1.290405   \n",
       "2  2020-10-LTK00         2020-10-LTK00_5611              LTK -4.050520   \n",
       "3  2020-10-LTK00        2020-10-LTK00_20103              LTK -1.324121   \n",
       "4  2020-10-LTK00        2020-10-LTK00_20954              LTK -0.368569   \n",
       "\n",
       "         lon  \n",
       "0  36.824225  \n",
       "1  36.824225  \n",
       "2  39.667169  \n",
       "3  36.811250  \n",
       "4  35.932296  "
      ]
     },
     "execution_count": 25,
     "metadata": {},
     "output_type": "execute_result"
    }
   ],
   "source": [
    "combined_sla.head()"
   ]
  },
  {
   "cell_type": "code",
   "execution_count": 6,
   "metadata": {},
   "outputs": [
    {
     "data": {
      "text/html": [
       "<div>\n",
       "<style scoped>\n",
       "    .dataframe tbody tr th:only-of-type {\n",
       "        vertical-align: middle;\n",
       "    }\n",
       "\n",
       "    .dataframe tbody tr th {\n",
       "        vertical-align: top;\n",
       "    }\n",
       "\n",
       "    .dataframe thead th {\n",
       "        text-align: right;\n",
       "    }\n",
       "</style>\n",
       "<table border=\"1\" class=\"dataframe\">\n",
       "  <thead>\n",
       "    <tr style=\"text-align: right;\">\n",
       "      <th></th>\n",
       "      <th>Link_ID</th>\n",
       "      <th>SLA_Date</th>\n",
       "      <th>Last_Mile</th>\n",
       "      <th>Capacity_in_Mbps</th>\n",
       "      <th>Location</th>\n",
       "      <th>MRC_Excl</th>\n",
       "      <th>SLM_Comments</th>\n",
       "      <th>QRC_Incl</th>\n",
       "      <th>SLA_ID</th>\n",
       "      <th>Unique_Link_Identifier_SLA</th>\n",
       "      <th>Service_Provider</th>\n",
       "      <th>lat</th>\n",
       "      <th>lon</th>\n",
       "    </tr>\n",
       "  </thead>\n",
       "  <tbody>\n",
       "    <tr>\n",
       "      <th>21</th>\n",
       "      <td>SVC-000001477</td>\n",
       "      <td>2020-10-01</td>\n",
       "      <td>Internet</td>\n",
       "      <td>30</td>\n",
       "      <td>Cbc Upper Hill</td>\n",
       "      <td>66700.0</td>\n",
       "      <td>Upgraded to 300 MBPS @ KES 1,080,000 EX VAT, b...</td>\n",
       "      <td>266933.4</td>\n",
       "      <td>2020-10-LTK00</td>\n",
       "      <td>2020-10-LTK00_SVC-000001477</td>\n",
       "      <td>LTK</td>\n",
       "      <td>NaN</td>\n",
       "      <td>NaN</td>\n",
       "    </tr>\n",
       "    <tr>\n",
       "      <th>44</th>\n",
       "      <td>95044903</td>\n",
       "      <td>2020-12-16</td>\n",
       "      <td>MPLS</td>\n",
       "      <td>5</td>\n",
       "      <td>Lwakhakha</td>\n",
       "      <td>22500.0</td>\n",
       "      <td>Former Kilindini Gate 9</td>\n",
       "      <td>78300.0</td>\n",
       "      <td>2020-12-Saf00</td>\n",
       "      <td>2020-12-Saf00_95044903</td>\n",
       "      <td>Saf</td>\n",
       "      <td>NaN</td>\n",
       "      <td>NaN</td>\n",
       "    </tr>\n",
       "    <tr>\n",
       "      <th>56</th>\n",
       "      <td>95096536</td>\n",
       "      <td>2020-12-16</td>\n",
       "      <td>MPLS</td>\n",
       "      <td>12</td>\n",
       "      <td>Malaba</td>\n",
       "      <td>69997.5</td>\n",
       "      <td>NaN</td>\n",
       "      <td>243591.3</td>\n",
       "      <td>2020-12-Saf00</td>\n",
       "      <td>2020-12-Saf00_95096536</td>\n",
       "      <td>Saf</td>\n",
       "      <td>NaN</td>\n",
       "      <td>NaN</td>\n",
       "    </tr>\n",
       "  </tbody>\n",
       "</table>\n",
       "</div>"
      ],
      "text/plain": [
       "          Link_ID    SLA_Date Last_Mile  Capacity_in_Mbps        Location  \\\n",
       "21  SVC-000001477  2020-10-01  Internet                30  Cbc Upper Hill   \n",
       "44       95044903  2020-12-16      MPLS                 5       Lwakhakha   \n",
       "56       95096536  2020-12-16      MPLS                12          Malaba   \n",
       "\n",
       "    MRC_Excl                                       SLM_Comments  QRC_Incl  \\\n",
       "21   66700.0  Upgraded to 300 MBPS @ KES 1,080,000 EX VAT, b...  266933.4   \n",
       "44   22500.0                           Former Kilindini Gate 9    78300.0   \n",
       "56   69997.5                                                NaN  243591.3   \n",
       "\n",
       "           SLA_ID   Unique_Link_Identifier_SLA Service_Provider  lat  lon  \n",
       "21  2020-10-LTK00  2020-10-LTK00_SVC-000001477              LTK  NaN  NaN  \n",
       "44  2020-12-Saf00       2020-12-Saf00_95044903              Saf  NaN  NaN  \n",
       "56  2020-12-Saf00       2020-12-Saf00_95096536              Saf  NaN  NaN  "
      ]
     },
     "execution_count": 6,
     "metadata": {},
     "output_type": "execute_result"
    }
   ],
   "source": [
    "combined_sla = combined_sla[combined_sla['lat'].isna()]\n",
    "combined_sla.head()"
   ]
  },
  {
   "cell_type": "code",
   "execution_count": 27,
   "metadata": {},
   "outputs": [
    {
     "name": "stdout",
     "output_type": "stream",
     "text": [
      "<class 'pandas.core.frame.DataFrame'>\n",
      "Index: 0 entries\n",
      "Data columns (total 13 columns):\n",
      " #   Column                      Non-Null Count  Dtype  \n",
      "---  ------                      --------------  -----  \n",
      " 0   Link_ID                     0 non-null      object \n",
      " 1   SLA_Date                    0 non-null      object \n",
      " 2   Last_Mile                   0 non-null      object \n",
      " 3   Capacity_in_Mbps            0 non-null      int64  \n",
      " 4   Location                    0 non-null      object \n",
      " 5   MRC_Excl                    0 non-null      float64\n",
      " 6   SLM_Comments                0 non-null      object \n",
      " 7   QRC_Incl                    0 non-null      float64\n",
      " 8   SLA_ID                      0 non-null      object \n",
      " 9   Unique_Link_Identifier_SLA  0 non-null      object \n",
      " 10  Service_Provider            0 non-null      object \n",
      " 11  lat                         0 non-null      float64\n",
      " 12  lon                         0 non-null      float64\n",
      "dtypes: float64(4), int64(1), object(8)\n",
      "memory usage: 0.0+ bytes\n"
     ]
    }
   ],
   "source": [
    "combined_sla.info()\n",
    "\n"
   ]
  },
  {
   "cell_type": "code",
   "execution_count": 47,
   "metadata": {},
   "outputs": [
    {
     "data": {
      "text/plain": [
       "('-1.2859147', '36.8208075')"
      ]
     },
     "execution_count": 47,
     "metadata": {},
     "output_type": "execute_result"
    }
   ],
   "source": [
    "def get_coordinates(location_name):\n",
    "    base_url = 'https://nominatim.openstreetmap.org/search'\n",
    "    params = {'q': location_name, 'format': 'json', 'limit': 1}\n",
    "    headers = {'User-Agent': 'Mozilla/5.0'}\n",
    "    response = requests.get(base_url, params = params, headers = headers)\n",
    "    data = response.json()\n",
    "\n",
    "    if data:\n",
    "        for result in data:\n",
    "            # Check if the result is within East Africa (Kenya, Uganda, Tanzania, Rwanda, Burundi)\n",
    "            if any(country in result.get('display_name', '') for country in ['Kenya', 'Uganda']):\n",
    "                latitude = result['lat']\n",
    "                longitude = result['lon']\n",
    "                return latitude, longitude\n",
    "    \n",
    "    return None, None\n",
    "\n",
    "loc = 'Nairobi-City Square'\n",
    "get_coordinates(loc)\n"
   ]
  },
  {
   "cell_type": "code",
   "execution_count": 51,
   "metadata": {},
   "outputs": [
    {
     "data": {
      "text/plain": [
       "('1.0728347', '34.1772262')"
      ]
     },
     "execution_count": 51,
     "metadata": {},
     "output_type": "execute_result"
    }
   ],
   "source": [
    "loc = 'Lwakhakha'\n",
    "get_coordinates(loc)"
   ]
  },
  {
   "cell_type": "code",
   "execution_count": 44,
   "metadata": {},
   "outputs": [
    {
     "name": "stdout",
     "output_type": "stream",
     "text": [
      "Hello W\n"
     ]
    }
   ],
   "source": [
    "words = []\n",
    "word = ''\n",
    "\n",
    "while word !=  'end':\n",
    "    word = input(\"Enter a word: \")\n",
    "    words.append(word)\n",
    "story = ' '.join(words[:-1])\n",
    "print(story)"
   ]
  },
  {
   "cell_type": "code",
   "execution_count": 48,
   "metadata": {},
   "outputs": [],
   "source": [
    "story = story + ' end'"
   ]
  },
  {
   "cell_type": "code",
   "execution_count": 49,
   "metadata": {},
   "outputs": [
    {
     "data": {
      "text/plain": [
       "'Hello W end end'"
      ]
     },
     "execution_count": 49,
     "metadata": {},
     "output_type": "execute_result"
    }
   ],
   "source": [
    "story"
   ]
  },
  {
   "cell_type": "code",
   "execution_count": 50,
   "metadata": {},
   "outputs": [
    {
     "data": {
      "text/plain": [
       "'Hello W end '"
      ]
     },
     "execution_count": 50,
     "metadata": {},
     "output_type": "execute_result"
    }
   ],
   "source": [
    "story[:-3]"
   ]
  }
 ],
 "metadata": {
  "kernelspec": {
   "display_name": "Python_Dev",
   "language": "python",
   "name": "python3"
  },
  "language_info": {
   "codemirror_mode": {
    "name": "ipython",
    "version": 3
   },
   "file_extension": ".py",
   "mimetype": "text/x-python",
   "name": "python",
   "nbconvert_exporter": "python",
   "pygments_lexer": "ipython3",
   "version": "3.10.13"
  }
 },
 "nbformat": 4,
 "nbformat_minor": 2
}
