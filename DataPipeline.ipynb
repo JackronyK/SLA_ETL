{
 "cells": [
  {
   "cell_type": "markdown",
   "metadata": {},
   "source": [
    "## Links Charges Data Pipeline"
   ]
  },
  {
   "cell_type": "code",
   "execution_count": 1,
   "metadata": {},
   "outputs": [
    {
     "name": "stdout",
     "output_type": "stream",
     "text": [
      "Processed and Saved: C:\\Users\\USER\\OneDrive\\KRA WORK\\2024 WS\\SLA EDA\\SLA_ETL\\Processsed_Data\\LTK_SLA.csv\n",
      "Processed and Saved: C:\\Users\\USER\\OneDrive\\KRA WORK\\2024 WS\\SLA EDA\\SLA_ETL\\Processsed_Data\\LTK_Invoice.csv\n",
      "Processed and Saved: C:\\Users\\USER\\OneDrive\\KRA WORK\\2024 WS\\SLA EDA\\SLA_ETL\\Processsed_Data\\SAFARICOM_SLA.csv\n",
      "Processed and Saved: C:\\Users\\USER\\OneDrive\\KRA WORK\\2024 WS\\SLA EDA\\SLA_ETL\\Processsed_Data\\SAFARICOM_Invoice.csv\n"
     ]
    }
   ],
   "source": [
    "import os\n",
    "import pandas as pd\n",
    "import numpy as np\n",
    "import glob\n",
    "from data_cleaner import InvoiceCleaner,SLACleaner\n",
    "\n",
    "raw_data_folder_path = 'C:\\\\Users\\\\USER\\\\OneDrive\\\\KRA WORK\\\\2024 WS\\\\SLA EDA\\\\SLA_ETL\\\\Data'\n",
    "processed_data_folder_path = 'C:\\\\Users\\\\USER\\\\OneDrive\\\\KRA WORK\\\\2024 WS\\\\SLA EDA\\\\SLA_ETL\\\\Processsed_Data'\n",
    "\n",
    "# Ensuring the processed folder exist\n",
    "os.makedirs(processed_data_folder_path, exist_ok=True)\n",
    "\n",
    "excel_files = glob.glob(f\"{raw_data_folder_path}/*.xlsx\")\n",
    "\n",
    "def sla_invoice(sn):\n",
    "    if \"sla\" in sn.lower():\n",
    "        return \"SLA\"\n",
    "    elif \"invoice\" in sn.lower():\n",
    "        return \"Invoice\"\n",
    "    else:\n",
    "        return f\"Unknown\"\n",
    "\n",
    "for excel_file in excel_files:\n",
    "    xls = pd.ExcelFile(excel_file)\n",
    "    workbook_name = os.path.splitext(os.path.basename(excel_file))[0]\n",
    "\n",
    "    for sheet_name in xls.sheet_names:\n",
    "        df = pd.read_excel(excel_file, sheet_name=sheet_name)\n",
    "\n",
    "        # Determine the type of sheet for processing\n",
    "        sheet_type = sla_invoice(sheet_name)\n",
    "\n",
    "        # New files Name\n",
    "        w_b = workbook_name.split(\" \")[0]\n",
    "        new_file_name = f\"{w_b}_{sheet_type}.csv\"\n",
    "        new_file_path = os.path.join(processed_data_folder_path, new_file_name)\n",
    "\n",
    "        # Apply different processing based on sheet type\n",
    "        if sheet_type == \"SLA\":\n",
    "            # Specific processing for SLA sheets\n",
    "            # Example: df_processed = process_sla(df)\n",
    "            df_processed = SLACleaner(df).clean_data()  # Placeholder for SLA-specific processing\n",
    "        elif sheet_type == \"Invoice\":\n",
    "            # Specific processing for Invoice sheets\n",
    "            # Example: df_processed = process_invoice(df)\n",
    "            df_processed = InvoiceCleaner(df).clean_data()  # Placeholder for Invoice-specific processing\n",
    "        else:\n",
    "            # Default processing or skip\n",
    "            df_processed = df  # Placeholder for default processing or skipping unknown types\n",
    "\n",
    "        #Adding the Service Provider Col\n",
    "        df_processed['Service_Provider'] = w_b\n",
    "\n",
    "        # Save the processed DataFrame to a new CSV file\n",
    "        df_processed.to_csv(new_file_path, index=False)\n",
    "        print(f\"Processed and Saved: {new_file_path}\")"
   ]
  },
  {
   "cell_type": "markdown",
   "metadata": {},
   "source": [
    "### Testing "
   ]
  },
  {
   "cell_type": "code",
   "execution_count": 4,
   "metadata": {},
   "outputs": [],
   "source": [
    "ltk_sla_df = pd.read_csv('C:\\\\Users\\\\USER\\\\OneDrive\\\\KRA WORK\\\\2024 WS\\SLA EDA\\\\SLA_ETL\\\\Processsed_Data\\\\LTK_SLA.csv')\n",
    "saf_sla_df = pd.read_csv('C:\\\\Users\\\\USER\\\\OneDrive\\\\KRA WORK\\\\2024 WS\\SLA EDA\\\\SLA_ETL\\\\Processsed_Data\\\\SAFARICOM_SLA.csv')\n",
    "\n",
    "ltk_invoice_df = pd.read_csv('C:\\\\Users\\\\USER\\\\OneDrive\\\\KRA WORK\\\\2024 WS\\SLA EDA\\\\SLA_ETL\\\\Processsed_Data\\\\LTK_Invoice.csv')\n",
    "saf_invoice_df = pd.read_csv('C:\\\\Users\\\\USER\\\\OneDrive\\\\KRA WORK\\\\2024 WS\\SLA EDA\\\\SLA_ETL\\\\Processsed_Data\\\\SAFARICOM_Invoice.csv')"
   ]
  },
  {
   "cell_type": "code",
   "execution_count": 5,
   "metadata": {},
   "outputs": [
    {
     "data": {
      "text/html": [
       "<div>\n",
       "<style scoped>\n",
       "    .dataframe tbody tr th:only-of-type {\n",
       "        vertical-align: middle;\n",
       "    }\n",
       "\n",
       "    .dataframe tbody tr th {\n",
       "        vertical-align: top;\n",
       "    }\n",
       "\n",
       "    .dataframe thead th {\n",
       "        text-align: right;\n",
       "    }\n",
       "</style>\n",
       "<table border=\"1\" class=\"dataframe\">\n",
       "  <thead>\n",
       "    <tr style=\"text-align: right;\">\n",
       "      <th></th>\n",
       "      <th>Invoice_Data</th>\n",
       "      <th>Link_ID</th>\n",
       "      <th>Invoice_Period</th>\n",
       "      <th>Invoice_Description</th>\n",
       "      <th>Invoice_Reference</th>\n",
       "      <th>Total_QRC</th>\n",
       "      <th>Service_Provider</th>\n",
       "    </tr>\n",
       "  </thead>\n",
       "  <tbody>\n",
       "    <tr>\n",
       "      <th>0</th>\n",
       "      <td>2023-10-13</td>\n",
       "      <td>26046</td>\n",
       "      <td>01-Oct-2023 to 31-Dec-2023</td>\n",
       "      <td>26046 National MPLS KRA MBITA TO VRF (INS-57)</td>\n",
       "      <td>CRN-15473</td>\n",
       "      <td>-55986.24</td>\n",
       "      <td>LTK</td>\n",
       "    </tr>\n",
       "    <tr>\n",
       "      <th>1</th>\n",
       "      <td>2023-10-06</td>\n",
       "      <td>C-00159-0087</td>\n",
       "      <td>01-Oct-2023 to 31-Dec-2023</td>\n",
       "      <td>C-00159-0087 EPL Connection charge 80MBPS-&gt;SAM...</td>\n",
       "      <td>116426</td>\n",
       "      <td>417600.00</td>\n",
       "      <td>LTK</td>\n",
       "    </tr>\n",
       "    <tr>\n",
       "      <th>2</th>\n",
       "      <td>2023-10-06</td>\n",
       "      <td>1750</td>\n",
       "      <td>01-Oct-2023 to 31-Dec-2023</td>\n",
       "      <td>01750 National MPLS KRA - TIMES TOWERS TO VRF</td>\n",
       "      <td>116426</td>\n",
       "      <td>939600.00</td>\n",
       "      <td>LTK</td>\n",
       "    </tr>\n",
       "    <tr>\n",
       "      <th>3</th>\n",
       "      <td>2023-10-06</td>\n",
       "      <td>5611</td>\n",
       "      <td>01-Oct-2023 to 31-Dec-2023</td>\n",
       "      <td>05611 National MPLS Msa link vlan 460 customs</td>\n",
       "      <td>116426</td>\n",
       "      <td>71835.90</td>\n",
       "      <td>LTK</td>\n",
       "    </tr>\n",
       "    <tr>\n",
       "      <th>4</th>\n",
       "      <td>2023-10-06</td>\n",
       "      <td>20103</td>\n",
       "      <td>01-Oct-2023 to 31-Dec-2023</td>\n",
       "      <td>20103 Leased_Circuits_Naticnal KRA WILSON AIRP...</td>\n",
       "      <td>116426</td>\n",
       "      <td>79866.00</td>\n",
       "      <td>LTK</td>\n",
       "    </tr>\n",
       "  </tbody>\n",
       "</table>\n",
       "</div>"
      ],
      "text/plain": [
       "  Invoice_Data       Link_ID              Invoice_Period  \\\n",
       "0   2023-10-13         26046  01-Oct-2023 to 31-Dec-2023   \n",
       "1   2023-10-06  C-00159-0087  01-Oct-2023 to 31-Dec-2023   \n",
       "2   2023-10-06          1750  01-Oct-2023 to 31-Dec-2023   \n",
       "3   2023-10-06          5611  01-Oct-2023 to 31-Dec-2023   \n",
       "4   2023-10-06         20103  01-Oct-2023 to 31-Dec-2023   \n",
       "\n",
       "                                 Invoice_Description Invoice_Reference  \\\n",
       "0      26046 National MPLS KRA MBITA TO VRF (INS-57)         CRN-15473   \n",
       "1  C-00159-0087 EPL Connection charge 80MBPS->SAM...            116426   \n",
       "2      01750 National MPLS KRA - TIMES TOWERS TO VRF            116426   \n",
       "3      05611 National MPLS Msa link vlan 460 customs            116426   \n",
       "4  20103 Leased_Circuits_Naticnal KRA WILSON AIRP...            116426   \n",
       "\n",
       "   Total_QRC Service_Provider  \n",
       "0  -55986.24              LTK  \n",
       "1  417600.00              LTK  \n",
       "2  939600.00              LTK  \n",
       "3   71835.90              LTK  \n",
       "4   79866.00              LTK  "
      ]
     },
     "execution_count": 5,
     "metadata": {},
     "output_type": "execute_result"
    }
   ],
   "source": [
    "ltk_invoice_df.head()"
   ]
  },
  {
   "cell_type": "code",
   "execution_count": null,
   "metadata": {},
   "outputs": [],
   "source": []
  }
 ],
 "metadata": {
  "kernelspec": {
   "display_name": "Python_Dev",
   "language": "python",
   "name": "python3"
  },
  "language_info": {
   "codemirror_mode": {
    "name": "ipython",
    "version": 3
   },
   "file_extension": ".py",
   "mimetype": "text/x-python",
   "name": "python",
   "nbconvert_exporter": "python",
   "pygments_lexer": "ipython3",
   "version": "3.10.13"
  }
 },
 "nbformat": 4,
 "nbformat_minor": 2
}
